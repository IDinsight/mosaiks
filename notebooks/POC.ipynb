{
 "cells": [
  {
   "cell_type": "code",
   "execution_count": null,
   "metadata": {},
   "outputs": [],
   "source": [
    "import geopandas as gpd\n",
    "import pandas as pd\n",
    "\n",
    "from sklearn.model_selection import train_test_split, RepeatedKFold\n",
    "from sklearn.metrics import mean_squared_error, mean_absolute_error, r2_score\n",
    "\n",
    "from sklearn.linear_model import Ridge, RidgeCV\n",
    "from sklearn.ensemble import RandomForestRegressor\n",
    "from xgboost import XGBRegressor\n",
    "\n",
    "import matplotlib.pyplot as plt\n",
    "import matplotlib.cm\n",
    "import seaborn as sns"
   ]
  },
  {
   "cell_type": "code",
   "execution_count": null,
   "metadata": {},
   "outputs": [],
   "source": [
    "from custom.utils import import_shapefiles, get_bounds, create_coords_list, coords_list_to_gdf"
   ]
  },
  {
   "cell_type": "markdown",
   "metadata": {},
   "source": [
    "There are no shapefiles for SHRUG...\n",
    "\n",
    "\"The SHRUG does not include geographic data in the form of polygons or shapefiles because\n",
    "we have not yet found a sufficiently accurate data source with open sharing privileges. We are\n",
    "continuing to investigate sources of geographic data and may include shapefiles in a future version\n",
    "of the SHRUG. Users interested in obtaining geocodes or polygons for SHRUG units are advised\n",
    "to examine the open village maps offered by NASA-SEDAC at Columbia University. These can\n",
    "be directly merged to the 2001 Population Census SHRUG keys in shrug pc01r key.dta and\n",
    "shrug pc01u key.dta. Our own aggregate data was based on 2011 village polygons which we\n",
    "believe are slightly more accurate but are not made available with an open data license.\""
   ]
  },
  {
   "cell_type": "markdown",
   "metadata": {},
   "source": [
    "## Load shapefiles (NASA-SEDAC)"
   ]
  },
  {
   "cell_type": "code",
   "execution_count": null,
   "metadata": {},
   "outputs": [],
   "source": [
    "dbf = import_shapefiles()"
   ]
  },
  {
   "cell_type": "code",
   "execution_count": null,
   "metadata": {},
   "outputs": [],
   "source": [
    "dbf.plot(figsize=(5, 5))"
   ]
  },
  {
   "cell_type": "markdown",
   "metadata": {},
   "source": [
    "### Create unique ID columns to match SHRUG keys"
   ]
  },
  {
   "cell_type": "code",
   "execution_count": null,
   "metadata": {},
   "outputs": [],
   "source": [
    "dbf[\"VILL_CODE\"].shape"
   ]
  },
  {
   "cell_type": "code",
   "execution_count": null,
   "metadata": {},
   "outputs": [],
   "source": [
    "# NOTE: Number of towns with no village code\n",
    "dbf.dropna(subset=[\"TOWN_VILL\"])[\"VILL_CODE\"].isna().sum()"
   ]
  },
  {
   "cell_type": "code",
   "execution_count": null,
   "metadata": {},
   "outputs": [],
   "source": [
    "# drop rows that are missing any identifiers \n",
    "dbf_clean = dbf.dropna(subset=[\"SID\", \"DID\", \"TID\", \"VILL_CODE\"]).copy()\n",
    "\n",
    "# remove the leading 0s\n",
    "for var in [\"SID\", \"DID\", \"TID\", \"VILL_CODE\"]:\n",
    "    dbf_clean[var] = dbf_clean[var].str.lstrip(\"0\")\n",
    "\n",
    "# create combined ID column\n",
    "dbf_clean[\"ID\"] = (\n",
    "    dbf_clean[\"SID\"] + \"-\"\n",
    "    + dbf_clean[\"DID\"] + \"-\"\n",
    "    + dbf_clean[\"TID\"] + \"-\"\n",
    "    + dbf_clean[\"VILL_CODE\"]\n",
    ")\n",
    "dbf_clean.sort_values(by=[\"ID\"], inplace=True)\n",
    "\n",
    "print(\"Number of unique IDs: \", dbf_clean[\"ID\"].nunique())"
   ]
  },
  {
   "cell_type": "code",
   "execution_count": null,
   "metadata": {},
   "outputs": [],
   "source": [
    "dbf_clean.plot(figsize=(5, 5))"
   ]
  },
  {
   "cell_type": "markdown",
   "metadata": {},
   "source": [
    "## Import SHRUG keys"
   ]
  },
  {
   "cell_type": "code",
   "execution_count": null,
   "metadata": {},
   "outputs": [],
   "source": [
    "### RURAL\n",
    "shrug_pc01r_key = pd.read_csv(\n",
    "    \"../data/SHRUG/shrug-v1.5.samosa-keys-csv/shrug_pc01r_key.csv\"\n",
    ")\n",
    "shrug_pc01r_key.head()\n",
    "\n",
    "### URBAN\n",
    "# shrug_pc01u_key = pd.read_csv(\n",
    "#     \"../data/SHRUG/shrug-v1.5.samosa-keys-csv/shrug_pc01u_key.csv\"\n",
    "# )\n",
    "# shrug_pc01u_key.head()"
   ]
  },
  {
   "cell_type": "markdown",
   "metadata": {},
   "source": [
    "### Create ID column to match IDs in NASA-SEDAC"
   ]
  },
  {
   "cell_type": "code",
   "execution_count": null,
   "metadata": {},
   "outputs": [],
   "source": [
    "shrug_pc01r_key_clean = shrug_pc01r_key.dropna(subset=[\"pc01_state_id\", \"pc01_district_id\", \"pc01_subdistrict_id\", \"pc01_village_id\"]).copy()\n",
    "\n",
    "shrug_pc01r_key_clean[\"ID\"] = (\n",
    "    shrug_pc01r_key_clean[\"pc01_state_id\"].astype(int).astype(str) + \"-\"\n",
    "    + shrug_pc01r_key_clean[\"pc01_district_id\"].astype(int).astype(str) + \"-\"\n",
    "    + shrug_pc01r_key_clean[\"pc01_subdistrict_id\"].astype(int).astype(str) + \"-\"\n",
    "    + shrug_pc01r_key_clean[\"pc01_village_id\"].astype(str)\n",
    ")"
   ]
  },
  {
   "cell_type": "markdown",
   "metadata": {},
   "source": [
    "## Match shapes to SHRUG"
   ]
  },
  {
   "cell_type": "code",
   "execution_count": null,
   "metadata": {},
   "outputs": [],
   "source": [
    "shrid_geom_df = pd.merge(dbf_clean[[\"geometry\", \"ID\"]], shrug_pc01r_key_clean, on=\"ID\", how=\"inner\")\n",
    "shrid_geom_df"
   ]
  },
  {
   "cell_type": "markdown",
   "metadata": {},
   "source": [
    "Note: multiple villages can be inside the same shrid ID - we can merge the shape of these villages."
   ]
  },
  {
   "cell_type": "code",
   "execution_count": null,
   "metadata": {},
   "outputs": [],
   "source": [
    "# example\n",
    "shrid_geom_df[shrid_geom_df[\"shrid\"]==\"11-28-803020\"]"
   ]
  },
  {
   "cell_type": "code",
   "execution_count": null,
   "metadata": {},
   "outputs": [],
   "source": [
    "shrid_geom_df = shrid_geom_df.dissolve(by='shrid', aggfunc='sum').reset_index()\n",
    "# Note: \"ID\" columns gets dropped here"
   ]
  },
  {
   "cell_type": "code",
   "execution_count": null,
   "metadata": {},
   "outputs": [],
   "source": [
    "shrid_geom_df.plot(figsize=(5, 5))"
   ]
  },
  {
   "cell_type": "markdown",
   "metadata": {},
   "source": [
    "## Create list of coords to fetch from MOSAIKS"
   ]
  },
  {
   "cell_type": "code",
   "execution_count": null,
   "metadata": {},
   "outputs": [],
   "source": [
    "min_long, min_lat, max_long, max_lat = get_bounds(dbf).values()\n",
    "coords_list = create_coords_list(min_long, min_lat, max_long, max_lat, step=0.05)\n",
    "coords_gdf = coords_list_to_gdf(coords_list)\n",
    "print(\"Number of coord pairs in grid:\", len(coords_gdf))"
   ]
  },
  {
   "cell_type": "code",
   "execution_count": null,
   "metadata": {},
   "outputs": [],
   "source": [
    "# Filter coords list to only include points that land within the areas of the shapefile\n",
    "selected_coords_gdf = coords_gdf.sjoin(shrid_geom_df, how=\"inner\")\n",
    "selected_coords_gdf = selected_coords_gdf.drop(\"index_right\", axis=1).sort_values(by=[\"shrid\"])\n",
    "selected_coords_gdf.head()"
   ]
  },
  {
   "cell_type": "code",
   "execution_count": null,
   "metadata": {},
   "outputs": [],
   "source": [
    "selected_coords_gdf.shape"
   ]
  },
  {
   "cell_type": "code",
   "execution_count": null,
   "metadata": {},
   "outputs": [],
   "source": [
    "selected_coords_gdf.plot(column=selected_coords_gdf[\"pc01_state_id\"].astype(str), figsize=(10, 10), markersize=1)"
   ]
  },
  {
   "cell_type": "markdown",
   "metadata": {},
   "source": [
    "### Export list of coordinates...\n",
    "\n",
    "...to download MOSAIKS features for through File Query"
   ]
  },
  {
   "cell_type": "code",
   "execution_count": null,
   "metadata": {},
   "outputs": [],
   "source": [
    "selected_coords = pd.DataFrame({\"Latitude\":selected_coords_gdf.geometry.y, \"Longitude\":selected_coords_gdf.geometry.x})\n",
    "selected_coords.to_csv(\"../data/MOSAIKS/ALL_coords_request.csv\", index=False)"
   ]
  },
  {
   "cell_type": "markdown",
   "metadata": {},
   "source": [
    "## Load MOSAIKS (features)"
   ]
  },
  {
   "cell_type": "markdown",
   "metadata": {},
   "source": [
    "Load resulting MOSAIKS features download..."
   ]
  },
  {
   "cell_type": "code",
   "execution_count": null,
   "metadata": {},
   "outputs": [],
   "source": [
    "mosaiks_features = pd.read_csv(\"../data/MOSAIKS/ALL_Mosaiks_features.csv\")\n",
    "mosaiks_features"
   ]
  },
  {
   "cell_type": "code",
   "execution_count": null,
   "metadata": {},
   "outputs": [],
   "source": [
    "# Make into a GeoDataFrame\n",
    "mosaiks_coords_points = gpd.points_from_xy(x=mosaiks_features[\"Lon\"], y=mosaiks_features[\"Lat\"])\n",
    "mosaiks_features_gdf = gpd.GeoDataFrame(mosaiks_features, geometry=mosaiks_coords_points, crs=\"EPSG:4326\")\n",
    "\n",
    "mosaiks_features_gdf.plot(figsize=(10, 10), markersize=1)"
   ]
  },
  {
   "cell_type": "code",
   "execution_count": null,
   "metadata": {},
   "outputs": [],
   "source": [
    "# add shrid column to mosaiks features, based on whether the the MOSAIKS coordinate is within the shrid area\n",
    "mosaiks_features_df = mosaiks_features_gdf.sjoin(shrid_geom_df)\n",
    "mosaiks_features_df.drop(columns=[\"index_right\"], inplace=True)\n",
    "mosaiks_features_df"
   ]
  },
  {
   "cell_type": "markdown",
   "metadata": {},
   "source": [
    "## Import SHRUG SECC (target)"
   ]
  },
  {
   "cell_type": "code",
   "execution_count": null,
   "metadata": {},
   "outputs": [],
   "source": [
    "shrug_secc = pd.read_csv(\n",
    "    \"../data/SHRUG/shrug-v1.5.samosa-secc-csv/shrug_secc.csv\"\n",
    ")\n",
    "shrug_secc"
   ]
  },
  {
   "cell_type": "code",
   "execution_count": null,
   "metadata": {},
   "outputs": [],
   "source": [
    "# drop entries with no rural pov rate\n",
    "shrug_secc_pov_r = shrug_secc[[\"shrid\", \"secc_pov_rate_rural\"]].copy()\n",
    "shrug_secc_pov_r.dropna(inplace=True)\n",
    "shrug_secc_pov_r"
   ]
  },
  {
   "cell_type": "markdown",
   "metadata": {},
   "source": [
    "## Match target to features"
   ]
  },
  {
   "cell_type": "code",
   "execution_count": null,
   "metadata": {},
   "outputs": [],
   "source": [
    "# add MOSAIKS features to the SECC data\n",
    "df = pd.merge(shrug_secc_pov_r, mosaiks_features_df, on=\"shrid\")\n",
    "df"
   ]
  },
  {
   "cell_type": "markdown",
   "metadata": {},
   "source": [
    "### Select X and y"
   ]
  },
  {
   "cell_type": "code",
   "execution_count": null,
   "metadata": {},
   "outputs": [],
   "source": [
    "X = df.iloc[:, 4:-6]\n",
    "# X = X.sample(1000, axis=1, random_state=42)\n",
    "X.insert(0, \"Lat\", df[\"Lat\"])\n",
    "X.insert(0, \"Lon\", df[\"Lon\"])"
   ]
  },
  {
   "cell_type": "code",
   "execution_count": null,
   "metadata": {},
   "outputs": [],
   "source": [
    "y = df[\"secc_pov_rate_rural\"]"
   ]
  },
  {
   "cell_type": "markdown",
   "metadata": {},
   "source": [
    "# Modelling borrowed from MOSAIKS Demo"
   ]
  },
  {
   "cell_type": "markdown",
   "metadata": {},
   "source": [
    "## 3. Run a ridge regression of label on the MOSAIKS features"
   ]
  },
  {
   "cell_type": "markdown",
   "metadata": {},
   "source": [
    "This step learns how the visual information in the imagery, as captured by the features, relates to the labels. \n",
    "\n",
    "Before performing a ridge regression, we first split our data into train (80%) and test (20%). We will estimate the models on the train set and then evaluate predictions in the test set. This separation of train and test set is important to address issues related to overfitting. "
   ]
  },
  {
   "cell_type": "code",
   "execution_count": null,
   "metadata": {},
   "outputs": [],
   "source": [
    "# Split data into training and test sets\n",
    "X_train, X_test, y_train, y_test = train_test_split(X, y, train_size=0.8, random_state=1,)\n",
    "\n",
    "#save test set lat/lons for later\n",
    "plotting_coords = X_test.loc[:, [\"Lat\", \"Lon\"]]\n",
    "\n",
    "#remove lat/lons columns\n",
    "X_train = X_train.drop(columns=[\"Lat\", \"Lon\"])\n",
    "X_test = X_test.drop(columns=[\"Lat\", \"Lon\"])"
   ]
  },
  {
   "cell_type": "code",
   "execution_count": null,
   "metadata": {},
   "outputs": [],
   "source": [
    "# define model evaluation method\n",
    "cv = RepeatedKFold(n_splits=2, n_repeats=1, random_state=1)\n",
    "# define model\n",
    "model = RidgeCV(alphas=[1, 10], cv=cv) # alphas here refer to lambda values to try #0.001, 0.01, \n",
    "\n",
    "# fit model\n",
    "model.fit(X_train, y_train)\n",
    "# summarize chosen configuration\n",
    "print('alpha: %f' % model.alpha_)"
   ]
  },
  {
   "cell_type": "code",
   "execution_count": null,
   "metadata": {},
   "outputs": [],
   "source": [
    "# # or\n",
    "# model = XGBRegressor(n_estimators=1000, max_depth=7, eta=0.1, subsample=0.7, colsample_bytree=0.8, n_jobs=-1)\n",
    "# # fit model\n",
    "# model.fit(X_train, y_train)"
   ]
  },
  {
   "cell_type": "markdown",
   "metadata": {},
   "source": [
    "## 4. Make predictions and evaluate performance"
   ]
  },
  {
   "cell_type": "markdown",
   "metadata": {},
   "source": [
    "Next, we use the trained model to make predictions in the test set."
   ]
  },
  {
   "cell_type": "code",
   "execution_count": null,
   "metadata": {},
   "outputs": [],
   "source": [
    "#predict model\n",
    "y_pred = model.predict(X_test)"
   ]
  },
  {
   "cell_type": "markdown",
   "metadata": {},
   "source": [
    "We can then evaluate performance in the test set by comparing predictions to the label data.We can then evaluate performance in the test set by comparing predictions to the label data."
   ]
  },
  {
   "cell_type": "code",
   "execution_count": null,
   "metadata": {},
   "outputs": [],
   "source": [
    "#get R^2 from true and predicted values\n",
    "print('r2: %f' % r2_score(y_test,y_pred))"
   ]
  },
  {
   "cell_type": "markdown",
   "metadata": {},
   "source": [
    "We can also make a scatter plot of labeled data against predictions."
   ]
  },
  {
   "cell_type": "code",
   "execution_count": null,
   "metadata": {},
   "outputs": [],
   "source": [
    "#scatterplot\n",
    "ax = sns.scatterplot(x = y_pred, y = y_test)\n",
    "ax.set(xlabel='Predicted', ylabel='Observed')\n",
    "ax.set_ylim(0,1.05)\n",
    "ax.set_xlim(0,1.05)"
   ]
  },
  {
   "cell_type": "markdown",
   "metadata": {},
   "source": [
    "Finally, we can compare the spatial distribution of label (i.e. observed) values with predicted values."
   ]
  },
  {
   "cell_type": "code",
   "execution_count": null,
   "metadata": {},
   "outputs": [],
   "source": [
    "#merge lat/lons with test and predicted values\n",
    "map_plot = pd.DataFrame(plotting_coords)\n",
    "map_plot['predicted'] = y_pred\n",
    "map_plot['observed'] = y_test\n",
    "map_plot.head()"
   ]
  },
  {
   "cell_type": "code",
   "execution_count": null,
   "metadata": {},
   "outputs": [],
   "source": [
    "f, axes = plt.subplots(1, 2, sharey=True, figsize=(10, 5))\n",
    "\n",
    "vmax = max(y_test.max(), y_pred.max())\n",
    "vmin = min(y_test.min(), y_pred.min())\n",
    "\n",
    "# plot observed\n",
    "map_plot.plot(\n",
    "    kind=\"scatter\",\n",
    "    x=\"Lon\",\n",
    "    y=\"Lat\",\n",
    "    c=\"observed\",\n",
    "    colorbar=False,\n",
    "    alpha=0.5,\n",
    "    vmin=vmin,\n",
    "    vmax=vmax,\n",
    "    ax=axes[0],\n",
    ")\n",
    "axes[0].set_title(\"Observed\")\n",
    "\n",
    "# plot predicted\n",
    "map_plot.plot(\n",
    "    kind=\"scatter\",\n",
    "    x=\"Lon\",\n",
    "    y=\"Lat\",\n",
    "    c=\"predicted\",\n",
    "    colorbar=False,\n",
    "    alpha=0.5,\n",
    "    vmin=vmin,\n",
    "    vmax=vmax,\n",
    "    ax=axes[1],\n",
    ")\n",
    "axes[1].set_title(\"Predicted\")\n",
    "\n",
    "plt.tight_layout()"
   ]
  }
 ],
 "metadata": {
  "kernelspec": {
   "display_name": "Python 3.9.0 ('nudge_up')",
   "language": "python",
   "name": "python3"
  },
  "language_info": {
   "codemirror_mode": {
    "name": "ipython",
    "version": 3
   },
   "file_extension": ".py",
   "mimetype": "text/x-python",
   "name": "python",
   "nbconvert_exporter": "python",
   "pygments_lexer": "ipython3",
   "version": "3.9.0"
  },
  "orig_nbformat": 4,
  "vscode": {
   "interpreter": {
    "hash": "142c193bf060635deeb675579e1db6ca9d9f29c8a237f64acc594fb64723fb97"
   }
  }
 },
 "nbformat": 4,
 "nbformat_minor": 2
}
