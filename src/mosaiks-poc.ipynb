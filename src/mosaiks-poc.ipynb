{
 "cells": [
  {
   "cell_type": "markdown",
   "id": "b3ce8f65-e436-490a-83af-8e18cf9dea46",
   "metadata": {},
   "source": [
    "For MPC authentication (if not on MPC jupyterhub), get your subscription key from [here](https://planetarycomputer.developer.azure-api.net/profile) and follow the instructions on [this link](https://planetarycomputer.microsoft.com/docs/concepts/sas/#:~:text=data%20catalog.-,planetary%2Dcomputer%20Python%20package,-The%20planetary%2Dcomputer). Then use the python `planetary_computer` package to sign each image request."
   ]
  },
  {
   "cell_type": "markdown",
   "id": "e1248bf1-6051-480d-a64b-1576fc346b1a",
   "metadata": {},
   "source": [
    "If you don't have `dask-geopandas` installed, run `pip install dask-geopandas`."
   ]
  },
  {
   "cell_type": "markdown",
   "id": "ef9b9317-f3f8-48e2-a66b-6daa1dd9ff96",
   "metadata": {},
   "source": [
    "#### To Do:\n",
    "- Clean up the window-taking code\n",
    "- Figure out sizing of images\n",
    "- Can we go older than 2013?"
   ]
  },
  {
   "cell_type": "code",
   "execution_count": 1,
   "id": "e81f5f02-16ca-4208-87b4-2dde50c38ac7",
   "metadata": {
    "gather": {
     "logged": 1651174535306
    },
    "vscode": {
     "languageId": "python"
    }
   },
   "outputs": [],
   "source": [
    "import warnings\n",
    "import time\n",
    "import os\n",
    "import gc\n",
    "import re\n",
    "\n",
    "from tqdm.notebook import tqdm\n",
    "\n",
    "import torch\n",
    "from torch.utils.data import DataLoader\n",
    "\n",
    "import numpy as np\n",
    "import pandas as pd\n",
    "import geopandas as gpd\n",
    "import dask_geopandas as dask_gpd\n",
    "from dask.distributed import Client\n",
    "\n",
    "import matplotlib.pyplot as plt"
   ]
  },
  {
   "cell_type": "code",
   "execution_count": 2,
   "id": "9680b1a9-c78a-4f61-8470-d95e12407de1",
   "metadata": {},
   "outputs": [],
   "source": [
    "from custom.mpc_imagery import sort_by_hilbert_distance, fetch_least_cloudy_stac_items, CustomDataset\n",
    "from custom.models import featurize, RCF"
   ]
  },
  {
   "cell_type": "code",
   "execution_count": 3,
   "id": "1914d6d0-ea45-4976-b086-c2ed1e2652de",
   "metadata": {
    "vscode": {
     "languageId": "python"
    }
   },
   "outputs": [],
   "source": [
    "RASTERIO_BEST_PRACTICES = dict(  # See https://github.com/pangeo-data/cog-best-practices\n",
    "    CURL_CA_BUNDLE=\"/etc/ssl/certs/ca-certificates.crt\",\n",
    "    GDAL_DISABLE_READDIR_ON_OPEN=\"EMPTY_DIR\",\n",
    "    AWS_NO_SIGN_REQUEST=\"YES\",\n",
    "    GDAL_MAX_RAW_BLOCK_CACHE_SIZE=\"200000000\",\n",
    "    GDAL_SWATH_SIZE=\"200000000\",\n",
    "    VSI_CURL_CACHE_SIZE=\"200000000\",\n",
    ")\n",
    "os.environ.update(RASTERIO_BEST_PRACTICES)"
   ]
  },
  {
   "cell_type": "markdown",
   "id": "1ae9b0ec-c334-4751-91c4-91dabff6a44a",
   "metadata": {
    "tags": []
   },
   "source": [
    "## Load point coordinates to fetch images for"
   ]
  },
  {
   "cell_type": "code",
   "execution_count": 4,
   "id": "93d0b889-5c8b-47f4-89f6-079f2b04a958",
   "metadata": {
    "vscode": {
     "languageId": "python"
    }
   },
   "outputs": [],
   "source": [
    "data_dir = \"/home/jovyan/ds_nudge_up/data/01_preprocessed/mosaiks_request_points\"\n",
    "points_df = pd.read_csv(f\"{data_dir}/INDIA_SHRUG_request_points.csv\")\n",
    "\n",
    "points_gdf = gpd.GeoDataFrame(\n",
    "    points_df, \n",
    "    geometry=gpd.points_from_xy(\n",
    "        points_df['lon'], \n",
    "        points_df['lat']\n",
    "    )\n",
    ")"
   ]
  },
  {
   "cell_type": "code",
   "execution_count": 5,
   "id": "2eb414b8-5c13-466d-9221-fe3bc9d079b2",
   "metadata": {
    "vscode": {
     "languageId": "python"
    }
   },
   "outputs": [],
   "source": [
    "# # This buffer ensures that no points are take at the border\n",
    "# # which would lead to duplication with neighboring countries\n",
    "# BUFFER_DISTANCE = 0.01 # shared with dataset building code\n",
    "\n",
    "# ## Get country shape\n",
    "# data_dir = \"/home/jovyan/ds_nudge_up/data/00_raw/SHRUG\"\n",
    "# states = gpd.read_file(f\"{data_dir}/geometries_shrug-v1.5.samosa-open-polygons-shp/state.shp\")\n",
    "# states['zero_column'] = 0\n",
    "# country = states.dissolve(by='zero_column')\n",
    "\n",
    "# # filter points (takes a long time)\n",
    "# points_gdf = points_gdf[points_gdf.within(country.unary_union.buffer(BUFFER_DISTANCE))]"
   ]
  },
  {
   "cell_type": "code",
   "execution_count": 6,
   "id": "cfbe92f3-2bcd-4016-8da3-40aa9665aea6",
   "metadata": {
    "vscode": {
     "languageId": "python"
    }
   },
   "outputs": [],
   "source": [
    "points_gdf = sort_by_hilbert_distance(points_gdf)"
   ]
  },
  {
   "cell_type": "code",
   "execution_count": 8,
   "id": "87f386f1-d45c-4615-945e-2aa5c6fec755",
   "metadata": {},
   "outputs": [
    {
     "data": {
      "text/plain": [
       "96167"
      ]
     },
     "execution_count": 8,
     "metadata": {},
     "output_type": "execute_result"
    }
   ],
   "source": [
    "points_gdf.shape[0]"
   ]
  },
  {
   "cell_type": "code",
   "execution_count": 7,
   "id": "a7ae01de-465e-40a2-8924-5e60046940da",
   "metadata": {},
   "outputs": [
    {
     "data": {
      "text/plain": [
       "<AxesSubplot:>"
      ]
     },
     "execution_count": 7,
     "metadata": {},
     "output_type": "execute_result"
    },
    {
     "data": {
      "image/png": "[encoded data removed]",
      "text/plain": [
       "<Figure size 640x480 with 1 Axes>"
      ]
     },
     "metadata": {},
     "output_type": "display_data"
    }
   ],
   "source": [
    "points_gdf.plot()"
   ]
  },
  {
   "cell_type": "markdown",
   "id": "4ef68b83-ce2e-4e70-908f-3e909337af04",
   "metadata": {
    "tags": []
   },
   "source": [
    "## Get the imagery around each point"
   ]
  },
  {
   "cell_type": "markdown",
   "id": "bdce2698-744c-4b85-829b-28fa16bc2902",
   "metadata": {},
   "source": [
    "Convert to dask geodataframe"
   ]
  },
  {
   "cell_type": "code",
   "execution_count": 9,
   "id": "ebfd0c2e-78fe-45a9-99a4-13112f0da841",
   "metadata": {
    "gather": {
     "logged": 1651174537641
    },
    "vscode": {
     "languageId": "python"
    }
   },
   "outputs": [
    {
     "data": {
      "text/plain": [
       "133"
      ]
     },
     "execution_count": 9,
     "metadata": {},
     "output_type": "execute_result"
    }
   ],
   "source": [
    "NPARTITIONS = 250\n",
    "points_dgdf = dask_gpd.from_geopandas(points_gdf, npartitions=NPARTITIONS, sort=False)\n",
    "\n",
    "del points_gdf\n",
    "gc.collect()"
   ]
  },
  {
   "cell_type": "code",
   "execution_count": 10,
   "id": "9e15da99-790c-49dc-8bd3-c8f67565675b",
   "metadata": {
    "vscode": {
     "languageId": "python"
    }
   },
   "outputs": [
    {
     "name": "stdout",
     "output_type": "stream",
     "text": [
      "/user/amirali1376@gmail.com/proxy/8787/status\n"
     ]
    },
    {
     "name": "stderr",
     "output_type": "stream",
     "text": [
      "2022-12-01 04:15:44,704 - distributed.nanny - WARNING - Worker process still alive after 3.9999990463256836 seconds, killing\n",
      "2022-12-01 04:15:44,705 - distributed.nanny - WARNING - Worker process still alive after 3.9999996185302735 seconds, killing\n",
      "2022-12-01 04:15:44,706 - distributed.nanny - WARNING - Worker process still alive after 3.999999237060547 seconds, killing\n",
      "2022-12-01 04:15:44,710 - distributed.nanny - WARNING - Worker process still alive after 3.9999994277954105 seconds, killing\n",
      "2022-12-01 04:15:44,712 - distributed.nanny - WARNING - Worker process still alive after 3.9999994277954105 seconds, killing\n",
      "2022-12-01 04:15:44,713 - distributed.nanny - WARNING - Worker process still alive after 3.9999994277954105 seconds, killing\n",
      "2022-12-01 04:15:44,714 - distributed.nanny - WARNING - Worker process still alive after 3.999999237060547 seconds, killing\n",
      "2022-12-01 04:15:44,715 - distributed.nanny - WARNING - Worker process still alive after 3.9999994277954105 seconds, killing\n",
      "2022-12-01 04:15:44,722 - distributed.nanny - WARNING - Worker process still alive after 3.9999996185302735 seconds, killing\n",
      "2022-12-01 04:15:44,723 - distributed.nanny - WARNING - Worker process still alive after 3.9999994277954105 seconds, killing\n",
      "2022-12-01 04:15:44,740 - distributed.nanny - WARNING - Worker process still alive after 3.9999994277954105 seconds, killing\n",
      "2022-12-01 04:15:44,761 - distributed.nanny - WARNING - Worker process still alive after 3.9999996185302735 seconds, killing\n",
      "2022-12-01 04:15:44,762 - distributed.nanny - WARNING - Worker process still alive after 3.9999994277954105 seconds, killing\n",
      "2022-12-01 04:15:44,772 - distributed.nanny - WARNING - Worker process still alive after 3.9999994277954105 seconds, killing\n",
      "2022-12-01 04:15:44,773 - distributed.nanny - WARNING - Worker process still alive after 3.9999996185302735 seconds, killing\n",
      "2022-12-01 04:15:44,775 - distributed.nanny - WARNING - Worker process still alive after 3.9999994277954105 seconds, killing\n"
     ]
    }
   ],
   "source": [
    "client = Client(n_workers=16)\n",
    "print(client.dashboard_link)\n",
    "\n",
    "# `meta` is the expected output format:\n",
    "# an empty df with correct column types\n",
    "meta = points_dgdf._meta\n",
    "meta = meta.assign(stac_item=pd.Series([], dtype=\"object\"))\n",
    "\n",
    "points_gdf_with_stac = points_dgdf.map_partitions(\n",
    "    fetch_least_cloudy_stac_items, \n",
    "    satellite=\"landsat-8-c2-l2\",\n",
    "    search_start=\"2013-01-01\",\n",
    "    search_end=\"2013-12-31\",\n",
    "    meta=meta)\n",
    "\n",
    "points_gdf_with_stac = points_gdf_with_stac.compute()\n",
    "\n",
    "client.close()"
   ]
  },
  {
   "cell_type": "code",
   "execution_count": 11,
   "id": "7a03c9ed-f0aa-48e8-9ce2-6dbea22743cd",
   "metadata": {},
   "outputs": [],
   "source": [
    "points_gdf_with_stac_clean = points_gdf_with_stac.dropna(subset=[\"stac_item\"])\n",
    "matched_stac_items = points_gdf_with_stac_clean.stac_item.tolist()\n",
    "matched_points_list = points_gdf_with_stac_clean[[\"lon\", \"lat\"]].to_numpy()"
   ]
  },
  {
   "cell_type": "code",
   "execution_count": 12,
   "id": "02239721-58fa-422c-8436-9503f6218c61",
   "metadata": {
    "vscode": {
     "languageId": "python"
    }
   },
   "outputs": [],
   "source": [
    "BUFFER_DISTANCE = 0.005\n",
    "bands = [\n",
    "    # \"SR_B1\", # Coastal/Aerosol Band (B1)\n",
    "    \"SR_B2\",  # Blue Band (B2)\n",
    "    \"SR_B3\",  # Green Band (B3)\n",
    "    \"SR_B4\",  # Red Band (B4)\n",
    "    \"SR_B5\",  # Near Infrared Band 0.8 (B5)\n",
    "    \"SR_B6\",  # Short-wave Infrared Band 1.6 (B6)\n",
    "    \"SR_B7\",  # Short-wave Infrared Band 2.2 (B7)\n",
    "]\n",
    "resolution = 30\n",
    "\n",
    "dataset = CustomDataset(\n",
    "    matched_points_list, \n",
    "    matched_stac_items, \n",
    "    buffer=BUFFER_DISTANCE,\n",
    "    bands=bands,\n",
    "    resolution=resolution\n",
    ")"
   ]
  },
  {
   "cell_type": "code",
   "execution_count": 13,
   "id": "6d10d353-8c5f-4f04-81c7-2f2674b85e52",
   "metadata": {
    "vscode": {
     "languageId": "python"
    }
   },
   "outputs": [],
   "source": [
    "batch_size = 1\n",
    "\n",
    "dataloader = DataLoader(\n",
    "    dataset,\n",
    "    batch_size=batch_size,\n",
    "    shuffle=False,\n",
    "    num_workers=os.cpu_count(),\n",
    "    collate_fn=lambda x: x,\n",
    "    pin_memory=False,\n",
    "    # persistent_workers=True,\n",
    ")"
   ]
  },
  {
   "cell_type": "code",
   "execution_count": 14,
   "id": "bf28b4c4-643d-4270-b3f7-0579a1a3e60c",
   "metadata": {
    "vscode": {
     "languageId": "python"
    }
   },
   "outputs": [],
   "source": [
    "# for images in dataloader:\n",
    "#     for image in images:\n",
    "#         array = np.array(image[0][:3])\n",
    "#         reshaped_array = np.swapaxes(array, 0, 2)\n",
    "#         plt.imshow(reshaped_array)\n",
    "#         plt.show()"
   ]
  },
  {
   "cell_type": "markdown",
   "id": "f4240994-4820-4a1b-a13c-836c2e592174",
   "metadata": {
    "tags": []
   },
   "source": [
    "## Define featurization model and apply to images"
   ]
  },
  {
   "cell_type": "markdown",
   "id": "d771a2b1-db5a-4df8-b037-822e235c7963",
   "metadata": {},
   "source": [
    "First we define the pytorch model that we will use to extract the features and a helper method. The **MOSAIKS** methodology describes several ways to do this and we use the simplest."
   ]
  },
  {
   "cell_type": "markdown",
   "id": "d69e33f3-c3cd-4a22-8df2-06706f88dc3a",
   "metadata": {},
   "source": [
    "Next, we initialize the model and pytorch components"
   ]
  },
  {
   "cell_type": "code",
   "execution_count": 15,
   "id": "0b50f145-53cd-4ab1-999d-9d3015cea01e",
   "metadata": {},
   "outputs": [],
   "source": [
    "num_features = 1024"
   ]
  },
  {
   "cell_type": "code",
   "execution_count": 16,
   "id": "b244448f-9b79-4c58-b779-5e8a4957c84e",
   "metadata": {
    "gather": {
     "logged": 1651174537496
    },
    "vscode": {
     "languageId": "python"
    }
   },
   "outputs": [],
   "source": [
    "DEVICE = torch.device(\"cuda\")\n",
    "MODEL = RCF(num_features).eval().to(DEVICE)"
   ]
  },
  {
   "cell_type": "markdown",
   "id": "329e03ed-cbfd-4dde-aaa7-2be27f19ffef",
   "metadata": {},
   "source": [
    "### Apply featurization to images"
   ]
  },
  {
   "cell_type": "code",
   "execution_count": 17,
   "id": "a9b1a7d7-4fbb-4938-a78d-313784d8a04b",
   "metadata": {},
   "outputs": [],
   "source": [
    "min_image_edge = 6"
   ]
  },
  {
   "cell_type": "code",
   "execution_count": null,
   "id": "44946923-f402-48da-aadb-edca9c7bec87",
   "metadata": {
    "vscode": {
     "languageId": "python"
    }
   },
   "outputs": [
    {
     "data": {
      "application/vnd.jupyter.widget-view+json": {
       "model_id": "3bb01fc8b5644d58a9f83be995266d42",
       "version_major": 2,
       "version_minor": 0
      },
      "text/plain": [
       "  0%|          | 0/94392 [00:00<?, ?it/s]"
      ]
     },
     "metadata": {},
     "output_type": "display_data"
    }
   ],
   "source": [
    "num_points = len(matched_points_list)\n",
    "x_all = np.zeros((num_points, num_features), dtype=float)\n",
    "\n",
    "tic = time.time()\n",
    "i = 0\n",
    "for images in tqdm(dataloader):\n",
    "    for image in images:\n",
    "\n",
    "        if image is not None:\n",
    "            # A full image should be ~101x101 pixels (i.e. ~1km^2 at a 10m/px spatial\n",
    "            # resolution), however we can receive smaller images if an input point\n",
    "            # happens to be at the edge of a S2 scene (a literal edge case). To deal\n",
    "            # with these (edge) cases we crudely drop all images where the spatial\n",
    "            # dimensions aren't both greater than 20 pixels.\n",
    "            if image.shape[2] >= min_image_edge and image.shape[3] >= min_image_edge:\n",
    "                mosaiks_features = featurize(image, MODEL, DEVICE)\n",
    "                x_all[i] = mosaiks_features\n",
    "            else:\n",
    "                # this happens if the point is close to the edge of a scene\n",
    "                # (one or both of the spatial dimensions of the image are very small)\n",
    "                pass\n",
    "        else:\n",
    "            pass  # this happens if we do not find an image for some point"
   ]
  },
  {
   "cell_type": "code",
   "execution_count": null,
   "id": "3df0748c-3744-4985-81e2-fb345342c869",
   "metadata": {
    "vscode": {
     "languageId": "python"
    }
   },
   "outputs": [],
   "source": [
    "x_all.shape"
   ]
  },
  {
   "cell_type": "code",
   "execution_count": null,
   "id": "04ebc5be-9e85-49c8-9e48-2a023700d3d6",
   "metadata": {
    "vscode": {
     "languageId": "python"
    }
   },
   "outputs": [],
   "source": [
    "np.savetxt(\"x_all_2013.csv\", x_all, delimiter=\",\")"
   ]
  },
  {
   "cell_type": "code",
   "execution_count": null,
   "id": "60fdc075-cf74-4545-8648-9bb23bb71969",
   "metadata": {},
   "outputs": [],
   "source": []
  }
 ],
 "metadata": {
  "kernel_info": {
   "name": "python3"
  },
  "kernelspec": {
   "display_name": "Python 3 (ipykernel)",
   "language": "python",
   "name": "python3"
  },
  "language_info": {
   "codemirror_mode": {
    "name": "ipython",
    "version": 3
   },
   "file_extension": ".py",
   "mimetype": "text/x-python",
   "name": "python",
   "nbconvert_exporter": "python",
   "pygments_lexer": "ipython3",
   "version": "3.9.13"
  },
  "microsoft": {
   "host": {
    "AzureML": {
     "notebookHasBeenCompleted": true
    }
   }
  },
  "nteract": {
   "version": "nteract-front-end@1.0.0"
  }
 },
 "nbformat": 4,
 "nbformat_minor": 5
}
