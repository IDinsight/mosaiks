{
 "cells": [
  {
   "cell_type": "markdown",
   "id": "18e37669-a1f3-41ec-bf8c-eba5cd81d762",
   "metadata": {
    "tags": []
   },
   "source": [
    "## Setup"
   ]
  },
  {
   "cell_type": "code",
   "execution_count": 38,
   "id": "e81f5f02-16ca-4208-87b4-2dde50c38ac7",
   "metadata": {
    "gather": {
     "logged": 1651174535306
    },
    "vscode": {
     "languageId": "python"
    }
   },
   "outputs": [],
   "source": [
    "#!pip install -q git+https://github.com/geopandas/dask-geopandas\n",
    "\n",
    "import warnings\n",
    "import time\n",
    "import os\n",
    "import gc\n",
    "import re\n",
    "\n",
    "import numpy as np\n",
    "\n",
    "import torch\n",
    "from torch.utils.data import DataLoader\n",
    "\n",
    "import geopandas\n",
    "import dask_geopandas\n",
    "from dask.distributed import Client"
   ]
  },
  {
   "cell_type": "code",
   "execution_count": null,
   "id": "07028510",
   "metadata": {
    "vscode": {
     "languageId": "python"
    }
   },
   "outputs": [],
   "source": [
    "from custom import mosaiks_points\n",
    "from custom.mpc_imagery import query, CustomDataset, match_images_and_points\n",
    "from custom.models import featurize, RCF"
   ]
  },
  {
   "cell_type": "code",
   "execution_count": 2,
   "id": "40e9635e-b71b-498b-a81b-af0f7647848e",
   "metadata": {
    "vscode": {
     "languageId": "python"
    }
   },
   "outputs": [],
   "source": [
    "warnings.filterwarnings(action=\"ignore\", category=UserWarning, module=\"torch\")\n",
    "warnings.filterwarnings(action=\"ignore\", category=FutureWarning)\n",
    "warnings.filterwarnings(action=\"ignore\", category=RuntimeWarning)\n",
    "warnings.filterwarnings(action=\"ignore\", category=UserWarning)"
   ]
  },
  {
   "cell_type": "code",
   "execution_count": 3,
   "id": "1914d6d0-ea45-4976-b086-c2ed1e2652de",
   "metadata": {
    "vscode": {
     "languageId": "python"
    }
   },
   "outputs": [],
   "source": [
    "RASTERIO_BEST_PRACTICES = dict(  # See https://github.com/pangeo-data/cog-best-practices\n",
    "    CURL_CA_BUNDLE=\"/etc/ssl/certs/ca-certificates.crt\",\n",
    "    GDAL_DISABLE_READDIR_ON_OPEN=\"EMPTY_DIR\",\n",
    "    AWS_NO_SIGN_REQUEST=\"YES\",\n",
    "    GDAL_MAX_RAW_BLOCK_CACHE_SIZE=\"200000000\",\n",
    "    GDAL_SWATH_SIZE=\"200000000\",\n",
    "    VSI_CURL_CACHE_SIZE=\"200000000\",\n",
    ")\n",
    "os.environ.update(RASTERIO_BEST_PRACTICES)"
   ]
  },
  {
   "cell_type": "markdown",
   "id": "3cefa598-0653-4fd4-b7ce-14fb7c4e59e2",
   "metadata": {
    "tags": []
   },
   "source": [
    "## Set parameters"
   ]
  },
  {
   "cell_type": "code",
   "execution_count": 4,
   "id": "e28b414c-1d02-491a-9518-1b777898950d",
   "metadata": {
    "collapsed": false,
    "gather": {
     "logged": 1651174535433
    },
    "jupyter": {
     "outputs_hidden": false,
     "source_hidden": false
    },
    "nteract": {
     "transient": {
      "deleting": false
     }
    },
    "vscode": {
     "languageId": "python"
    }
   },
   "outputs": [],
   "source": [
    "num_features = 1024"
   ]
  },
  {
   "cell_type": "code",
   "execution_count": null,
   "id": "2ad4b469-91e5-4d62-a197-9958ff9f4c8d",
   "metadata": {
    "vscode": {
     "languageId": "python"
    }
   },
   "outputs": [],
   "source": [
    "## TEMP: Parameters for CustomDataset\n",
    "satellite = \"landsat-8-c2-l2\"\n",
    "bands = [\n",
    "    # \"SR_B1\", # Coastal/Aerosol Band (B1)\n",
    "    \"SR_B2\", # Blue Band (B2)\n",
    "    \"SR_B3\", # Green Band (B3)\n",
    "    \"SR_B4\", # Red Band (B4)\n",
    "    \"SR_B5\", # Near Infrared Band 0.8 (B5)\n",
    "    \"SR_B6\", # Short-wave Infrared Band 1.6 (B6)\n",
    "    \"SR_B7\" # Short-wave Infrared Band 2.2 (B7)\n",
    "]\n",
    "\n",
    "resolution = 30\n",
    "min_image_edge = 6"
   ]
  },
  {
   "cell_type": "code",
   "execution_count": 6,
   "id": "f281e17c-054d-4b0e-a3c3-432dc69be304",
   "metadata": {
    "collapsed": false,
    "gather": {
     "logged": 1651174535542
    },
    "jupyter": {
     "outputs_hidden": false,
     "source_hidden": false
    },
    "nteract": {
     "transient": {
      "deleting": false
     }
    },
    "vscode": {
     "languageId": "python"
    }
   },
   "outputs": [],
   "source": [
    "channels = len(bands)\n",
    "dat_re = re.compile(r'\\d+') \n",
    "l = [str(int(dat_re.search(x).group())) for x in bands if dat_re.search(x)]\n",
    "bands_short = '-'.join(l)"
   ]
  },
  {
   "cell_type": "markdown",
   "id": "1ae9b0ec-c334-4751-91c4-91dabff6a44a",
   "metadata": {
    "tags": []
   },
   "source": [
    "## Create grid and sample points to featurize\n",
    "This section will be merged with the section in the modelling pipeline that serves the same purpose."
   ]
  },
  {
   "cell_type": "code",
   "execution_count": 7,
   "id": "93d0b889-5c8b-47f4-89f6-079f2b04a958",
   "metadata": {
    "vscode": {
     "languageId": "python"
    }
   },
   "outputs": [],
   "source": [
    "data_dir = \"/home/jovyan/mosaiks-poc/data\""
   ]
  },
  {
   "cell_type": "code",
   "execution_count": 8,
   "id": "30deaf34-b846-4fcc-8bd5-8f9459ef4106",
   "metadata": {
    "vscode": {
     "languageId": "python"
    }
   },
   "outputs": [],
   "source": [
    "states = geopandas.read_file(f\"{data_dir}/geometries_shrug-v1.5.samosa-open-polygons-shp/state.shp\")"
   ]
  },
  {
   "cell_type": "code",
   "execution_count": 9,
   "id": "cfeb3ffc-b5c6-44a1-acce-41cb213d84e9",
   "metadata": {
    "vscode": {
     "languageId": "python"
    }
   },
   "outputs": [],
   "source": [
    "# states['zero_column'] = 0\n",
    "# country = states.dissolve(by='zero_column')"
   ]
  },
  {
   "cell_type": "code",
   "execution_count": 10,
   "id": "07a23c04-5db5-4266-90a3-0d42161fa0ea",
   "metadata": {
    "vscode": {
     "languageId": "python"
    }
   },
   "outputs": [
    {
     "data": {
      "text/plain": [
       "<AxesSubplot:>"
      ]
     },
     "execution_count": 10,
     "metadata": {},
     "output_type": "execute_result"
    },
    {
     "data": {
      "image/png": "[encoded data removed]",
      "text/plain": [
       "<Figure size 640x480 with 1 Axes>"
      ]
     },
     "metadata": {},
     "output_type": "display_data"
    }
   ],
   "source": [
    "state_shape = states[states[\"s_name\"] == \"Chhattisgarh\"]\n",
    "state_shape.plot()"
   ]
  },
  {
   "cell_type": "code",
   "execution_count": 12,
   "id": "ad5ff1c7-e12f-4600-8ef7-979faba4aa59",
   "metadata": {
    "vscode": {
     "languageId": "python"
    }
   },
   "outputs": [
    {
     "name": "stdout",
     "output_type": "stream",
     "text": [
      "Number of point coords in grid: 2688\n",
      "Number of point coords selected: 1177\n"
     ]
    }
   ],
   "source": [
    "# step = 0.01\n",
    "points_gdf = mosaiks_points.create_gdf_of_enclosed_points(state_shape, step=0.1, pre_calc_bounds=None)\n",
    "\n",
    "points_gdf['lon'], points_gdf['lat'] = points_gdf.geometry.x, points_gdf.geometry.y\n",
    "points_gdf = points_gdf[['lon', 'lat', 'geometry']].reset_index(drop = True)"
   ]
  },
  {
   "cell_type": "code",
   "execution_count": 13,
   "id": "913d1674-e79e-43b6-8a29-757d9a73ef5f",
   "metadata": {
    "vscode": {
     "languageId": "python"
    }
   },
   "outputs": [],
   "source": [
    "# temp\n",
    "points_gdf = points_gdf.sample(10, random_state=0)"
   ]
  },
  {
   "cell_type": "code",
   "execution_count": 14,
   "id": "69351a72-87e0-4d19-8efc-6f2680855dfd",
   "metadata": {
    "vscode": {
     "languageId": "python"
    }
   },
   "outputs": [],
   "source": [
    "# This buffer ensures that no points are take at the border\n",
    "# which would lead to duplication with neighboring countries\n",
    "points_gdf = points_gdf[points_gdf.within(state_shape.unary_union.buffer(-0.005))]"
   ]
  },
  {
   "cell_type": "code",
   "execution_count": 15,
   "id": "cfbe92f3-2bcd-4016-8da3-40aa9665aea6",
   "metadata": {
    "vscode": {
     "languageId": "python"
    }
   },
   "outputs": [],
   "source": [
    "points_gdf = mosaiks_points.sort_by_hilbert_distance(points_gdf)"
   ]
  },
  {
   "cell_type": "code",
   "execution_count": 16,
   "id": "1740b408-9aea-42f9-8128-11e9679b37ad",
   "metadata": {
    "vscode": {
     "languageId": "python"
    }
   },
   "outputs": [],
   "source": [
    "# points_gdf.plot()"
   ]
  },
  {
   "cell_type": "markdown",
   "id": "4ef68b83-ce2e-4e70-908f-3e909337af04",
   "metadata": {
    "tags": []
   },
   "source": [
    "## Get the imagery around each point"
   ]
  },
  {
   "cell_type": "code",
   "execution_count": 26,
   "id": "ebfd0c2e-78fe-45a9-99a4-13112f0da841",
   "metadata": {
    "gather": {
     "logged": 1651174537641
    },
    "vscode": {
     "languageId": "python"
    }
   },
   "outputs": [
    {
     "data": {
      "text/plain": [
       "3917"
      ]
     },
     "execution_count": 26,
     "metadata": {},
     "output_type": "execute_result"
    }
   ],
   "source": [
    "NPARTITIONS = 250\n",
    "points_dgdf = dask_geopandas.from_geopandas(points_gdf, npartitions=NPARTITIONS, sort=False)\n",
    "\n",
    "# del points_gdf\n",
    "gc.collect()"
   ]
  },
  {
   "cell_type": "code",
   "execution_count": 27,
   "id": "9e15da99-790c-49dc-8bd3-c8f67565675b",
   "metadata": {
    "vscode": {
     "languageId": "python"
    }
   },
   "outputs": [
    {
     "name": "stdout",
     "output_type": "stream",
     "text": [
      "/user/amirali1376@gmail.com/proxy/8787/status\n"
     ]
    }
   ],
   "source": [
    "with Client(n_workers=16) as client:\n",
    "    print(client.dashboard_link)\n",
    "    meta = points_dgdf._meta.assign(stac_item=[])\n",
    "    points_gdf_with_stac = points_dgdf.map_partitions(query, meta=meta).compute()"
   ]
  },
  {
   "cell_type": "code",
   "execution_count": 28,
   "id": "482d9287-b0f5-4a88-895c-4796b4d31ea5",
   "metadata": {
    "vscode": {
     "languageId": "python"
    }
   },
   "outputs": [],
   "source": [
    "matched_image_items, matched_points_list = match_images_and_points(points_gdf_with_stac)"
   ]
  },
  {
   "cell_type": "code",
   "execution_count": 29,
   "id": "02239721-58fa-422c-8436-9503f6218c61",
   "metadata": {
    "vscode": {
     "languageId": "python"
    }
   },
   "outputs": [],
   "source": [
    "dataset = CustomDataset(matched_points_list, matched_image_items)"
   ]
  },
  {
   "cell_type": "code",
   "execution_count": 30,
   "id": "6d10d353-8c5f-4f04-81c7-2f2674b85e52",
   "metadata": {
    "vscode": {
     "languageId": "python"
    }
   },
   "outputs": [],
   "source": [
    "dataloader = DataLoader(\n",
    "    dataset,\n",
    "    batch_size=1,\n",
    "    shuffle=False,\n",
    "    num_workers=os.cpu_count()*2,\n",
    "    collate_fn=lambda x: x,\n",
    "    pin_memory=False,\n",
    "    # persistent_workers=True,\n",
    ")"
   ]
  },
  {
   "cell_type": "code",
   "execution_count": 33,
   "id": "bf28b4c4-643d-4270-b3f7-0579a1a3e60c",
   "metadata": {
    "vscode": {
     "languageId": "python"
    }
   },
   "outputs": [],
   "source": [
    "# for images in dataloader:\n",
    "#     for image in images:\n",
    "#         array = np.array(image[0][:3])\n",
    "#         reshaped_array = np.swapaxes(array, 0, 2)\n",
    "#         # print(reshaped_array)\n",
    "#         plt.imshow(reshaped_array)\n",
    "#         plt.show()"
   ]
  },
  {
   "cell_type": "markdown",
   "id": "f4240994-4820-4a1b-a13c-836c2e592174",
   "metadata": {
    "tags": []
   },
   "source": [
    "## Define featurization model and apply to images"
   ]
  },
  {
   "cell_type": "markdown",
   "id": "d771a2b1-db5a-4df8-b037-822e235c7963",
   "metadata": {},
   "source": [
    "First we define the pytorch model that we will use to extract the features and a helper method. The **MOSAIKS** methodology describes several ways to do this and we use the simplest."
   ]
  },
  {
   "cell_type": "markdown",
   "id": "d69e33f3-c3cd-4a22-8df2-06706f88dc3a",
   "metadata": {},
   "source": [
    "Next, we initialize the model and pytorch components"
   ]
  },
  {
   "cell_type": "code",
   "execution_count": 50,
   "id": "b244448f-9b79-4c58-b779-5e8a4957c84e",
   "metadata": {
    "gather": {
     "logged": 1651174537496
    },
    "vscode": {
     "languageId": "python"
    }
   },
   "outputs": [],
   "source": [
    "DEVICE = torch.device(\"cuda\")\n",
    "MODEL = RCF(num_features).eval().to(DEVICE)"
   ]
  },
  {
   "cell_type": "markdown",
   "id": "329e03ed-cbfd-4dde-aaa7-2be27f19ffef",
   "metadata": {},
   "source": [
    "### Apply featurization to images"
   ]
  },
  {
   "cell_type": "code",
   "execution_count": 51,
   "id": "44946923-f402-48da-aadb-edca9c7bec87",
   "metadata": {
    "vscode": {
     "languageId": "python"
    }
   },
   "outputs": [
    {
     "name": "stdout",
     "output_type": "stream",
     "text": [
      "0/10 -- 0.00% -- 2.69 seconds\n",
      "1/10 -- 10.00% -- 0.00 seconds\n",
      "2/10 -- 20.00% -- 0.00 seconds\n",
      "3/10 -- 30.00% -- 0.00 seconds\n",
      "4/10 -- 40.00% -- 0.00 seconds\n",
      "5/10 -- 50.00% -- 0.00 seconds\n",
      "6/10 -- 60.00% -- 0.00 seconds\n",
      "7/10 -- 70.00% -- 0.00 seconds\n",
      "8/10 -- 80.00% -- 0.00 seconds\n",
      "9/10 -- 90.00% -- 0.00 seconds\n"
     ]
    }
   ],
   "source": [
    "num_points = len(matched_points_list)\n",
    "x_all = np.zeros((num_points, num_features), dtype=float)\n",
    "\n",
    "tic = time.time()\n",
    "i = 0\n",
    "for images in dataloader:\n",
    "    for image in images:\n",
    "\n",
    "        if image is not None:\n",
    "            # A full image should be ~101x101 pixels (i.e. ~1km^2 at a 10m/px spatial\n",
    "            # resolution), however we can receive smaller images if an input point\n",
    "            # happens to be at the edge of a S2 scene (a literal edge case). To deal\n",
    "            # with these (edge) cases we crudely drop all images where the spatial\n",
    "            # dimensions aren't both greater than 20 pixels.\n",
    "            # condition: image.shape[1] >= 20 and image.shape[2] >= 20\n",
    "            if True: # temp True\n",
    "                mosaiks_features = featurize(image, MODEL, DEVICE)\n",
    "                x_all[i] = mosaiks_features\n",
    "            else:\n",
    "                # this happens if the point is close to the edge of a scene\n",
    "                # (one or both of the spatial dimensions of the image are very small)\n",
    "                pass\n",
    "        else:\n",
    "            pass  # this happens if we do not find a S2 scene for some point\n",
    "\n",
    "        # if i % 100 == 0:\n",
    "        print(\n",
    "            f\"{i}/{num_points} -- {i / num_points * 100:0.2f}%\"\n",
    "            + f\" -- {time.time()-tic:0.2f} seconds\"\n",
    "        )\n",
    "        tic = time.time()\n",
    "        i += 1"
   ]
  },
  {
   "cell_type": "code",
   "execution_count": 52,
   "id": "3df0748c-3744-4985-81e2-fb345342c869",
   "metadata": {
    "vscode": {
     "languageId": "python"
    }
   },
   "outputs": [
    {
     "data": {
      "text/plain": [
       "array([[1.51303813e-01, 0.00000000e+00, 8.42119679e-02, ...,\n",
       "        6.42196596e-01, 2.49952865e+00, 8.27894211e-02],\n",
       "       [1.28017497e+00, 0.00000000e+00, 6.56100035e-01, ...,\n",
       "        4.12465960e-01, 4.14854097e+00, 1.37890242e-02],\n",
       "       [5.33856750e-01, 1.52935844e-03, 3.25741917e-01, ...,\n",
       "        5.76654077e-01, 3.18631244e+00, 2.56237276e-02],\n",
       "       ...,\n",
       "       [2.34843060e-01, 0.00000000e+00, 1.11207932e-01, ...,\n",
       "        2.16003418e-01, 2.64549065e+00, 5.09575494e-02],\n",
       "       [6.97549760e-01, 8.85273367e-02, 2.61654228e-01, ...,\n",
       "        3.21363509e-01, 2.83622456e+00, 5.35845011e-02],\n",
       "       [9.65939760e-01, 9.89024341e-03, 4.49844688e-01, ...,\n",
       "        5.49686193e-01, 3.77117014e+00, 9.26913042e-03]])"
      ]
     },
     "execution_count": 52,
     "metadata": {},
     "output_type": "execute_result"
    }
   ],
   "source": [
    "x_all"
   ]
  },
  {
   "cell_type": "code",
   "execution_count": 53,
   "id": "04ebc5be-9e85-49c8-9e48-2a023700d3d6",
   "metadata": {
    "vscode": {
     "languageId": "python"
    }
   },
   "outputs": [],
   "source": [
    "np.savetxt(\"x_all.csv\", x_all, delimiter=\",\")"
   ]
  }
 ],
 "metadata": {
  "kernel_info": {
   "name": "python3"
  },
  "kernelspec": {
   "display_name": "Python 3 (ipykernel)",
   "language": "python",
   "name": "python3"
  },
  "microsoft": {
   "host": {
    "AzureML": {
     "notebookHasBeenCompleted": true
    }
   }
  },
  "nteract": {
   "version": "nteract-front-end@1.0.0"
  }
 },
 "nbformat": 4,
 "nbformat_minor": 5
}
