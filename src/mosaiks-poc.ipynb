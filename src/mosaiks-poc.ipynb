{
 "cells": [
  {
   "cell_type": "markdown",
   "id": "b3ce8f65-e436-490a-83af-8e18cf9dea46",
   "metadata": {},
   "source": [
    "For MPC authentication (if not on MPC jupyterhub), get your subscription key from [here](https://planetarycomputer.developer.azure-api.net/profile) and follow the instructions on [this link](https://planetarycomputer.microsoft.com/docs/concepts/sas/#:~:text=data%20catalog.-,planetary%2Dcomputer%20Python%20package,-The%20planetary%2Dcomputer). Then use the python `planetary_computer` package to sign each image request."
   ]
  },
  {
   "cell_type": "markdown",
   "id": "e1248bf1-6051-480d-a64b-1576fc346b1a",
   "metadata": {},
   "source": [
    "If you don't have `dask-geopandas` installed, run `pip install dask-geopandas`."
   ]
  },
  {
   "cell_type": "markdown",
   "id": "ef9b9317-f3f8-48e2-a66b-6daa1dd9ff96",
   "metadata": {},
   "source": [
    "#### To Do:\n",
    "- Figure out sizing of images\n",
    "- Can we go older than 2013?"
   ]
  },
  {
   "cell_type": "code",
   "execution_count": 1,
   "id": "e81f5f02-16ca-4208-87b4-2dde50c38ac7",
   "metadata": {
    "gather": {
     "logged": 1651174535306
    },
    "vscode": {
     "languageId": "python"
    }
   },
   "outputs": [],
   "source": [
    "import warnings\n",
    "import time\n",
    "import os\n",
    "import gc\n",
    "\n",
    "from tqdm.notebook import tqdm\n",
    "\n",
    "import torch\n",
    "from torch.utils.data import DataLoader\n",
    "\n",
    "import numpy as np\n",
    "import pandas as pd\n",
    "import geopandas as gpd\n",
    "import dask_geopandas as dask_gpd\n",
    "from dask.distributed import Client\n",
    "\n",
    "import matplotlib.pyplot as plt"
   ]
  },
  {
   "cell_type": "code",
   "execution_count": 2,
   "id": "9680b1a9-c78a-4f61-8470-d95e12407de1",
   "metadata": {},
   "outputs": [],
   "source": [
    "from custom.mpc_imagery import (\n",
    "    sort_by_hilbert_distance, \n",
    "    filter_points_with_buffer,\n",
    "    fetch_least_cloudy_stac_items, \n",
    "    CustomDataset\n",
    ")\n",
    "from custom.models import featurize, RCF"
   ]
  },
  {
   "cell_type": "code",
   "execution_count": 3,
   "id": "1c9b4e1d-eabd-4456-b1ee-53a287b578eb",
   "metadata": {},
   "outputs": [],
   "source": [
    "warnings.filterwarnings(action=\"ignore\", category=RuntimeWarning)\n",
    "warnings.filterwarnings(action=\"ignore\", category=UserWarning)"
   ]
  },
  {
   "cell_type": "code",
   "execution_count": 4,
   "id": "1914d6d0-ea45-4976-b086-c2ed1e2652de",
   "metadata": {
    "vscode": {
     "languageId": "python"
    }
   },
   "outputs": [],
   "source": [
    "RASTERIO_BEST_PRACTICES = dict(  # See https://github.com/pangeo-data/cog-best-practices\n",
    "    CURL_CA_BUNDLE=\"/etc/ssl/certs/ca-certificates.crt\",\n",
    "    GDAL_DISABLE_READDIR_ON_OPEN=\"EMPTY_DIR\",\n",
    "    AWS_NO_SIGN_REQUEST=\"YES\",\n",
    "    GDAL_MAX_RAW_BLOCK_CACHE_SIZE=\"200000000\",\n",
    "    GDAL_SWATH_SIZE=\"200000000\",\n",
    "    VSI_CURL_CACHE_SIZE=\"200000000\",\n",
    ")\n",
    "os.environ.update(RASTERIO_BEST_PRACTICES)"
   ]
  },
  {
   "cell_type": "markdown",
   "id": "1ae9b0ec-c334-4751-91c4-91dabff6a44a",
   "metadata": {
    "tags": []
   },
   "source": [
    "## Load point coordinates to fetch images for"
   ]
  },
  {
   "cell_type": "code",
   "execution_count": 5,
   "id": "93d0b889-5c8b-47f4-89f6-079f2b04a958",
   "metadata": {
    "vscode": {
     "languageId": "python"
    }
   },
   "outputs": [],
   "source": [
    "data_dir = \"/home/jovyan/ds_nudge_up/data/01_preprocessed/mosaiks_request_points\"\n",
    "points_df = pd.read_csv(f\"{data_dir}/INDIA_SHRUG_request_points.csv\")\n",
    "\n",
    "points_gdf = gpd.GeoDataFrame(\n",
    "    points_df, \n",
    "    geometry=gpd.points_from_xy(\n",
    "        points_df['lon'], \n",
    "        points_df['lat']\n",
    "    )\n",
    ")\n",
    "\n",
    "del points_df"
   ]
  },
  {
   "cell_type": "code",
   "execution_count": 6,
   "id": "2eb414b8-5c13-466d-9221-fe3bc9d079b2",
   "metadata": {
    "vscode": {
     "languageId": "python"
    }
   },
   "outputs": [],
   "source": [
    "# # Filer points at the edge of the shape to within a buffer\n",
    "# states = gpd.read_file(\"/home/jovyan/ds_nudge_up/data/00_raw/SHRUG/geometries_shrug-v1.5.samosa-open-polygons-shp/state.shp\")\n",
    "# states['zero_column'] = 0\n",
    "# country = states.dissolve(by='zero_column')\n",
    "# BUFFER_DISTANCE = 0.005\n",
    "# points_gdf = filter_points_with_buffer(points_gdf, country, BUFFER_DISTANCE)"
   ]
  },
  {
   "cell_type": "code",
   "execution_count": 7,
   "id": "cfbe92f3-2bcd-4016-8da3-40aa9665aea6",
   "metadata": {
    "vscode": {
     "languageId": "python"
    }
   },
   "outputs": [],
   "source": [
    "points_gdf = sort_by_hilbert_distance(points_gdf)"
   ]
  },
  {
   "cell_type": "code",
   "execution_count": 8,
   "id": "87f386f1-d45c-4615-945e-2aa5c6fec755",
   "metadata": {},
   "outputs": [
    {
     "data": {
      "text/plain": [
       "96167"
      ]
     },
     "execution_count": 8,
     "metadata": {},
     "output_type": "execute_result"
    }
   ],
   "source": [
    "points_gdf.shape[0]"
   ]
  },
  {
   "cell_type": "code",
   "execution_count": 9,
   "id": "3682b4f9-8808-4a02-80fe-a63b46fdbd0e",
   "metadata": {},
   "outputs": [],
   "source": [
    "points_gdf = points_gdf.sample(1000, random_state=0)"
   ]
  },
  {
   "cell_type": "code",
   "execution_count": 10,
   "id": "a7ae01de-465e-40a2-8924-5e60046940da",
   "metadata": {},
   "outputs": [],
   "source": [
    "# points_gdf.plot()"
   ]
  },
  {
   "cell_type": "markdown",
   "id": "4ef68b83-ce2e-4e70-908f-3e909337af04",
   "metadata": {
    "tags": []
   },
   "source": [
    "## Get the imagery around each point"
   ]
  },
  {
   "cell_type": "markdown",
   "id": "bdce2698-744c-4b85-829b-28fa16bc2902",
   "metadata": {},
   "source": [
    "Convert to dask geodataframe"
   ]
  },
  {
   "cell_type": "code",
   "execution_count": 11,
   "id": "ebfd0c2e-78fe-45a9-99a4-13112f0da841",
   "metadata": {
    "gather": {
     "logged": 1651174537641
    },
    "vscode": {
     "languageId": "python"
    }
   },
   "outputs": [
    {
     "data": {
      "text/plain": [
       "110"
      ]
     },
     "execution_count": 11,
     "metadata": {},
     "output_type": "execute_result"
    }
   ],
   "source": [
    "NPARTITIONS = 250\n",
    "points_dgdf = dask_gpd.from_geopandas(points_gdf, npartitions=NPARTITIONS, sort=False)\n",
    "\n",
    "del points_gdf\n",
    "gc.collect()"
   ]
  },
  {
   "cell_type": "markdown",
   "id": "dbab9c3f-7c4b-4960-a034-15fd4d135c48",
   "metadata": {},
   "source": [
    "Get stac_item references to the least cloudy image that corresponds to each point"
   ]
  },
  {
   "cell_type": "code",
   "execution_count": 12,
   "id": "9e15da99-790c-49dc-8bd3-c8f67565675b",
   "metadata": {
    "vscode": {
     "languageId": "python"
    }
   },
   "outputs": [
    {
     "name": "stdout",
     "output_type": "stream",
     "text": [
      "/user/amirali1376@gmail.com/proxy/8787/status\n"
     ]
    },
    {
     "name": "stderr",
     "output_type": "stream",
     "text": [
      "2022-12-01 13:33:39,761 - distributed.worker - WARNING - Compute Failed\n",
      "Key:       ('fetch_least_cloudy_stac_items-928d3ce5ba4910e6d8ea4ff3e931cda0', 193)\n",
      "Function:  subgraph_callable-27f95ddb-62ce-4197-8949-0d173598\n",
      "args:      (             lat        lon                   geometry          hd\n",
      "92170  31.954878  78.234486  POINT (78.23449 31.95488)  1740509227\n",
      "39907  22.254878  74.334486  POINT (74.33449 22.25488)  1172045905\n",
      "54103  24.204878  85.384486  POINT (85.38449 24.20488)  2188416215\n",
      "34309  21.354878  83.434486  POINT (83.43449 21.35488)  2151148514)\n",
      "kwargs:    {}\n",
      "Exception: \"APIError('<html>\\\\r\\\\n<head><title>502 Bad Gateway</title></head>\\\\r\\\\n<body>\\\\r\\\\n<center><h1>502 Bad Gateway</h1></center>\\\\r\\\\n<hr><center>nginx</center>\\\\r\\\\n</body>\\\\r\\\\n</html>\\\\r\\\\n')\"\n",
      "\n",
      "2022-12-01 13:33:42,375 - distributed.nanny - WARNING - Worker process still alive after 3.999999237060547 seconds, killing\n",
      "2022-12-01 13:33:42,376 - distributed.nanny - WARNING - Worker process still alive after 3.999999237060547 seconds, killing\n",
      "2022-12-01 13:33:42,376 - distributed.nanny - WARNING - Worker process still alive after 3.9999990463256836 seconds, killing\n",
      "2022-12-01 13:33:42,379 - distributed.nanny - WARNING - Worker process still alive after 3.9999990463256836 seconds, killing\n",
      "2022-12-01 13:33:42,430 - distributed.nanny - WARNING - Worker process still alive after 3.999999237060547 seconds, killing\n",
      "2022-12-01 13:33:42,431 - distributed.nanny - WARNING - Worker process still alive after 3.9999988555908206 seconds, killing\n",
      "2022-12-01 13:33:42,432 - distributed.nanny - WARNING - Worker process still alive after 3.9999990463256836 seconds, killing\n",
      "2022-12-01 13:33:42,439 - distributed.nanny - WARNING - Worker process still alive after 3.999999237060547 seconds, killing\n",
      "2022-12-01 13:33:42,498 - distributed.nanny - WARNING - Worker process still alive after 3.999999237060547 seconds, killing\n",
      "2022-12-01 13:33:42,499 - distributed.nanny - WARNING - Worker process still alive after 3.999999237060547 seconds, killing\n",
      "2022-12-01 13:33:42,500 - distributed.nanny - WARNING - Worker process still alive after 3.9999990463256836 seconds, killing\n",
      "2022-12-01 13:33:42,503 - distributed.nanny - WARNING - Worker process still alive after 3.9999994277954105 seconds, killing\n",
      "2022-12-01 13:33:42,504 - distributed.nanny - WARNING - Worker process still alive after 3.999999237060547 seconds, killing\n",
      "2022-12-01 13:33:42,506 - distributed.nanny - WARNING - Worker process still alive after 3.999999237060547 seconds, killing\n",
      "2022-12-01 13:33:42,506 - distributed.nanny - WARNING - Worker process still alive after 3.999999237060547 seconds, killing\n"
     ]
    },
    {
     "ename": "KeyboardInterrupt",
     "evalue": "",
     "output_type": "error",
     "traceback": [
      "\u001b[0;31m---------------------------------------------------------------------------\u001b[0m",
      "\u001b[0;31mKeyboardInterrupt\u001b[0m                         Traceback (most recent call last)",
      "Cell \u001b[0;32mIn [12], line 16\u001b[0m\n\u001b[1;32m      7\u001b[0m meta \u001b[38;5;241m=\u001b[39m meta\u001b[38;5;241m.\u001b[39massign(stac_item\u001b[38;5;241m=\u001b[39mpd\u001b[38;5;241m.\u001b[39mSeries([], dtype\u001b[38;5;241m=\u001b[39m\u001b[38;5;124m\"\u001b[39m\u001b[38;5;124mobject\u001b[39m\u001b[38;5;124m\"\u001b[39m))\n\u001b[1;32m      9\u001b[0m points_gdf_with_stac \u001b[38;5;241m=\u001b[39m points_dgdf\u001b[38;5;241m.\u001b[39mmap_partitions(\n\u001b[1;32m     10\u001b[0m     fetch_least_cloudy_stac_items, \n\u001b[1;32m     11\u001b[0m     satellite\u001b[38;5;241m=\u001b[39m\u001b[38;5;124m\"\u001b[39m\u001b[38;5;124mlandsat-8-c2-l2\u001b[39m\u001b[38;5;124m\"\u001b[39m,\n\u001b[1;32m     12\u001b[0m     search_start\u001b[38;5;241m=\u001b[39m\u001b[38;5;124m\"\u001b[39m\u001b[38;5;124m2013-01-01\u001b[39m\u001b[38;5;124m\"\u001b[39m,\n\u001b[1;32m     13\u001b[0m     search_end\u001b[38;5;241m=\u001b[39m\u001b[38;5;124m\"\u001b[39m\u001b[38;5;124m2013-12-31\u001b[39m\u001b[38;5;124m\"\u001b[39m,\n\u001b[1;32m     14\u001b[0m     meta\u001b[38;5;241m=\u001b[39mmeta)\n\u001b[0;32m---> 16\u001b[0m points_gdf_with_stac \u001b[38;5;241m=\u001b[39m \u001b[43mpoints_gdf_with_stac\u001b[49m\u001b[38;5;241;43m.\u001b[39;49m\u001b[43mcompute\u001b[49m\u001b[43m(\u001b[49m\u001b[43m)\u001b[49m\n",
      "File \u001b[0;32m/srv/conda/envs/notebook/lib/python3.9/site-packages/dask/base.py:292\u001b[0m, in \u001b[0;36mDaskMethodsMixin.compute\u001b[0;34m(self, **kwargs)\u001b[0m\n\u001b[1;32m    268\u001b[0m \u001b[38;5;28;01mdef\u001b[39;00m \u001b[38;5;21mcompute\u001b[39m(\u001b[38;5;28mself\u001b[39m, \u001b[38;5;241m*\u001b[39m\u001b[38;5;241m*\u001b[39mkwargs):\n\u001b[1;32m    269\u001b[0m     \u001b[38;5;124;03m\"\"\"Compute this dask collection\u001b[39;00m\n\u001b[1;32m    270\u001b[0m \n\u001b[1;32m    271\u001b[0m \u001b[38;5;124;03m    This turns a lazy Dask collection into its in-memory equivalent.\u001b[39;00m\n\u001b[0;32m   (...)\u001b[0m\n\u001b[1;32m    290\u001b[0m \u001b[38;5;124;03m    dask.base.compute\u001b[39;00m\n\u001b[1;32m    291\u001b[0m \u001b[38;5;124;03m    \"\"\"\u001b[39;00m\n\u001b[0;32m--> 292\u001b[0m     (result,) \u001b[38;5;241m=\u001b[39m \u001b[43mcompute\u001b[49m\u001b[43m(\u001b[49m\u001b[38;5;28;43mself\u001b[39;49m\u001b[43m,\u001b[49m\u001b[43m \u001b[49m\u001b[43mtraverse\u001b[49m\u001b[38;5;241;43m=\u001b[39;49m\u001b[38;5;28;43;01mFalse\u001b[39;49;00m\u001b[43m,\u001b[49m\u001b[43m \u001b[49m\u001b[38;5;241;43m*\u001b[39;49m\u001b[38;5;241;43m*\u001b[39;49m\u001b[43mkwargs\u001b[49m\u001b[43m)\u001b[49m\n\u001b[1;32m    293\u001b[0m     \u001b[38;5;28;01mreturn\u001b[39;00m result\n",
      "File \u001b[0;32m/srv/conda/envs/notebook/lib/python3.9/site-packages/dask/base.py:575\u001b[0m, in \u001b[0;36mcompute\u001b[0;34m(traverse, optimize_graph, scheduler, get, *args, **kwargs)\u001b[0m\n\u001b[1;32m    572\u001b[0m     keys\u001b[38;5;241m.\u001b[39mappend(x\u001b[38;5;241m.\u001b[39m__dask_keys__())\n\u001b[1;32m    573\u001b[0m     postcomputes\u001b[38;5;241m.\u001b[39mappend(x\u001b[38;5;241m.\u001b[39m__dask_postcompute__())\n\u001b[0;32m--> 575\u001b[0m results \u001b[38;5;241m=\u001b[39m \u001b[43mschedule\u001b[49m\u001b[43m(\u001b[49m\u001b[43mdsk\u001b[49m\u001b[43m,\u001b[49m\u001b[43m \u001b[49m\u001b[43mkeys\u001b[49m\u001b[43m,\u001b[49m\u001b[43m \u001b[49m\u001b[38;5;241;43m*\u001b[39;49m\u001b[38;5;241;43m*\u001b[39;49m\u001b[43mkwargs\u001b[49m\u001b[43m)\u001b[49m\n\u001b[1;32m    576\u001b[0m \u001b[38;5;28;01mreturn\u001b[39;00m repack([f(r, \u001b[38;5;241m*\u001b[39ma) \u001b[38;5;28;01mfor\u001b[39;00m r, (f, a) \u001b[38;5;129;01min\u001b[39;00m \u001b[38;5;28mzip\u001b[39m(results, postcomputes)])\n",
      "File \u001b[0;32m/srv/conda/envs/notebook/lib/python3.9/site-packages/distributed/client.py:3015\u001b[0m, in \u001b[0;36mClient.get\u001b[0;34m(self, dsk, keys, workers, allow_other_workers, resources, sync, asynchronous, direct, retries, priority, fifo_timeout, actors, **kwargs)\u001b[0m\n\u001b[1;32m   3013\u001b[0m         should_rejoin \u001b[38;5;241m=\u001b[39m \u001b[38;5;28;01mFalse\u001b[39;00m\n\u001b[1;32m   3014\u001b[0m \u001b[38;5;28;01mtry\u001b[39;00m:\n\u001b[0;32m-> 3015\u001b[0m     results \u001b[38;5;241m=\u001b[39m \u001b[38;5;28;43mself\u001b[39;49m\u001b[38;5;241;43m.\u001b[39;49m\u001b[43mgather\u001b[49m\u001b[43m(\u001b[49m\u001b[43mpacked\u001b[49m\u001b[43m,\u001b[49m\u001b[43m \u001b[49m\u001b[43masynchronous\u001b[49m\u001b[38;5;241;43m=\u001b[39;49m\u001b[43masynchronous\u001b[49m\u001b[43m,\u001b[49m\u001b[43m \u001b[49m\u001b[43mdirect\u001b[49m\u001b[38;5;241;43m=\u001b[39;49m\u001b[43mdirect\u001b[49m\u001b[43m)\u001b[49m\n\u001b[1;32m   3016\u001b[0m \u001b[38;5;28;01mfinally\u001b[39;00m:\n\u001b[1;32m   3017\u001b[0m     \u001b[38;5;28;01mfor\u001b[39;00m f \u001b[38;5;129;01min\u001b[39;00m futures\u001b[38;5;241m.\u001b[39mvalues():\n",
      "File \u001b[0;32m/srv/conda/envs/notebook/lib/python3.9/site-packages/distributed/client.py:2167\u001b[0m, in \u001b[0;36mClient.gather\u001b[0;34m(self, futures, errors, direct, asynchronous)\u001b[0m\n\u001b[1;32m   2165\u001b[0m \u001b[38;5;28;01melse\u001b[39;00m:\n\u001b[1;32m   2166\u001b[0m     local_worker \u001b[38;5;241m=\u001b[39m \u001b[38;5;28;01mNone\u001b[39;00m\n\u001b[0;32m-> 2167\u001b[0m \u001b[38;5;28;01mreturn\u001b[39;00m \u001b[38;5;28;43mself\u001b[39;49m\u001b[38;5;241;43m.\u001b[39;49m\u001b[43msync\u001b[49m\u001b[43m(\u001b[49m\n\u001b[1;32m   2168\u001b[0m \u001b[43m    \u001b[49m\u001b[38;5;28;43mself\u001b[39;49m\u001b[38;5;241;43m.\u001b[39;49m\u001b[43m_gather\u001b[49m\u001b[43m,\u001b[49m\n\u001b[1;32m   2169\u001b[0m \u001b[43m    \u001b[49m\u001b[43mfutures\u001b[49m\u001b[43m,\u001b[49m\n\u001b[1;32m   2170\u001b[0m \u001b[43m    \u001b[49m\u001b[43merrors\u001b[49m\u001b[38;5;241;43m=\u001b[39;49m\u001b[43merrors\u001b[49m\u001b[43m,\u001b[49m\n\u001b[1;32m   2171\u001b[0m \u001b[43m    \u001b[49m\u001b[43mdirect\u001b[49m\u001b[38;5;241;43m=\u001b[39;49m\u001b[43mdirect\u001b[49m\u001b[43m,\u001b[49m\n\u001b[1;32m   2172\u001b[0m \u001b[43m    \u001b[49m\u001b[43mlocal_worker\u001b[49m\u001b[38;5;241;43m=\u001b[39;49m\u001b[43mlocal_worker\u001b[49m\u001b[43m,\u001b[49m\n\u001b[1;32m   2173\u001b[0m \u001b[43m    \u001b[49m\u001b[43masynchronous\u001b[49m\u001b[38;5;241;43m=\u001b[39;49m\u001b[43masynchronous\u001b[49m\u001b[43m,\u001b[49m\n\u001b[1;32m   2174\u001b[0m \u001b[43m\u001b[49m\u001b[43m)\u001b[49m\n",
      "File \u001b[0;32m/srv/conda/envs/notebook/lib/python3.9/site-packages/distributed/utils.py:309\u001b[0m, in \u001b[0;36mSyncMethodMixin.sync\u001b[0;34m(self, func, asynchronous, callback_timeout, *args, **kwargs)\u001b[0m\n\u001b[1;32m    307\u001b[0m     \u001b[38;5;28;01mreturn\u001b[39;00m future\n\u001b[1;32m    308\u001b[0m \u001b[38;5;28;01melse\u001b[39;00m:\n\u001b[0;32m--> 309\u001b[0m     \u001b[38;5;28;01mreturn\u001b[39;00m \u001b[43msync\u001b[49m\u001b[43m(\u001b[49m\n\u001b[1;32m    310\u001b[0m \u001b[43m        \u001b[49m\u001b[38;5;28;43mself\u001b[39;49m\u001b[38;5;241;43m.\u001b[39;49m\u001b[43mloop\u001b[49m\u001b[43m,\u001b[49m\u001b[43m \u001b[49m\u001b[43mfunc\u001b[49m\u001b[43m,\u001b[49m\u001b[43m \u001b[49m\u001b[38;5;241;43m*\u001b[39;49m\u001b[43margs\u001b[49m\u001b[43m,\u001b[49m\u001b[43m \u001b[49m\u001b[43mcallback_timeout\u001b[49m\u001b[38;5;241;43m=\u001b[39;49m\u001b[43mcallback_timeout\u001b[49m\u001b[43m,\u001b[49m\u001b[43m \u001b[49m\u001b[38;5;241;43m*\u001b[39;49m\u001b[38;5;241;43m*\u001b[39;49m\u001b[43mkwargs\u001b[49m\n\u001b[1;32m    311\u001b[0m \u001b[43m    \u001b[49m\u001b[43m)\u001b[49m\n",
      "File \u001b[0;32m/srv/conda/envs/notebook/lib/python3.9/site-packages/distributed/utils.py:372\u001b[0m, in \u001b[0;36msync\u001b[0;34m(loop, func, callback_timeout, *args, **kwargs)\u001b[0m\n\u001b[1;32m    370\u001b[0m \u001b[38;5;28;01melse\u001b[39;00m:\n\u001b[1;32m    371\u001b[0m     \u001b[38;5;28;01mwhile\u001b[39;00m \u001b[38;5;129;01mnot\u001b[39;00m e\u001b[38;5;241m.\u001b[39mis_set():\n\u001b[0;32m--> 372\u001b[0m         \u001b[43mwait\u001b[49m\u001b[43m(\u001b[49m\u001b[38;5;241;43m10\u001b[39;49m\u001b[43m)\u001b[49m\n\u001b[1;32m    374\u001b[0m \u001b[38;5;28;01mif\u001b[39;00m error:\n\u001b[1;32m    375\u001b[0m     typ, exc, tb \u001b[38;5;241m=\u001b[39m error\n",
      "File \u001b[0;32m/srv/conda/envs/notebook/lib/python3.9/site-packages/distributed/utils.py:361\u001b[0m, in \u001b[0;36msync.<locals>.wait\u001b[0;34m(timeout)\u001b[0m\n\u001b[1;32m    359\u001b[0m \u001b[38;5;28;01mdef\u001b[39;00m \u001b[38;5;21mwait\u001b[39m(timeout):\n\u001b[1;32m    360\u001b[0m     \u001b[38;5;28;01mtry\u001b[39;00m:\n\u001b[0;32m--> 361\u001b[0m         \u001b[38;5;28;01mreturn\u001b[39;00m \u001b[43me\u001b[49m\u001b[38;5;241;43m.\u001b[39;49m\u001b[43mwait\u001b[49m\u001b[43m(\u001b[49m\u001b[43mtimeout\u001b[49m\u001b[43m)\u001b[49m\n\u001b[1;32m    362\u001b[0m     \u001b[38;5;28;01mexcept\u001b[39;00m \u001b[38;5;167;01mKeyboardInterrupt\u001b[39;00m:\n\u001b[1;32m    363\u001b[0m         loop\u001b[38;5;241m.\u001b[39madd_callback(cancel)\n",
      "File \u001b[0;32m/srv/conda/envs/notebook/lib/python3.9/threading.py:581\u001b[0m, in \u001b[0;36mEvent.wait\u001b[0;34m(self, timeout)\u001b[0m\n\u001b[1;32m    579\u001b[0m signaled \u001b[38;5;241m=\u001b[39m \u001b[38;5;28mself\u001b[39m\u001b[38;5;241m.\u001b[39m_flag\n\u001b[1;32m    580\u001b[0m \u001b[38;5;28;01mif\u001b[39;00m \u001b[38;5;129;01mnot\u001b[39;00m signaled:\n\u001b[0;32m--> 581\u001b[0m     signaled \u001b[38;5;241m=\u001b[39m \u001b[38;5;28;43mself\u001b[39;49m\u001b[38;5;241;43m.\u001b[39;49m\u001b[43m_cond\u001b[49m\u001b[38;5;241;43m.\u001b[39;49m\u001b[43mwait\u001b[49m\u001b[43m(\u001b[49m\u001b[43mtimeout\u001b[49m\u001b[43m)\u001b[49m\n\u001b[1;32m    582\u001b[0m \u001b[38;5;28;01mreturn\u001b[39;00m signaled\n",
      "File \u001b[0;32m/srv/conda/envs/notebook/lib/python3.9/threading.py:316\u001b[0m, in \u001b[0;36mCondition.wait\u001b[0;34m(self, timeout)\u001b[0m\n\u001b[1;32m    314\u001b[0m \u001b[38;5;28;01melse\u001b[39;00m:\n\u001b[1;32m    315\u001b[0m     \u001b[38;5;28;01mif\u001b[39;00m timeout \u001b[38;5;241m>\u001b[39m \u001b[38;5;241m0\u001b[39m:\n\u001b[0;32m--> 316\u001b[0m         gotit \u001b[38;5;241m=\u001b[39m \u001b[43mwaiter\u001b[49m\u001b[38;5;241;43m.\u001b[39;49m\u001b[43macquire\u001b[49m\u001b[43m(\u001b[49m\u001b[38;5;28;43;01mTrue\u001b[39;49;00m\u001b[43m,\u001b[49m\u001b[43m \u001b[49m\u001b[43mtimeout\u001b[49m\u001b[43m)\u001b[49m\n\u001b[1;32m    317\u001b[0m     \u001b[38;5;28;01melse\u001b[39;00m:\n\u001b[1;32m    318\u001b[0m         gotit \u001b[38;5;241m=\u001b[39m waiter\u001b[38;5;241m.\u001b[39macquire(\u001b[38;5;28;01mFalse\u001b[39;00m)\n",
      "\u001b[0;31mKeyboardInterrupt\u001b[0m: "
     ]
    }
   ],
   "source": [
    "with Client(n_workers=16) as client:\n",
    "    print(client.dashboard_link)\n",
    "\n",
    "    # `meta` is the expected output format:\n",
    "    # an empty df with correct column types\n",
    "    meta = points_dgdf._meta\n",
    "    meta = meta.assign(stac_item=pd.Series([], dtype=\"object\"))\n",
    "\n",
    "    points_gdf_with_stac = points_dgdf.map_partitions(\n",
    "        fetch_least_cloudy_stac_items, \n",
    "        satellite=\"landsat-8-c2-l2\",\n",
    "        search_start=\"2013-01-01\",\n",
    "        search_end=\"2013-12-31\",\n",
    "        meta=meta)\n",
    "\n",
    "    points_gdf_with_stac = points_gdf_with_stac.compute()"
   ]
  },
  {
   "cell_type": "markdown",
   "id": "6192a668-4df8-40f6-a9fa-db9f8a7f2315",
   "metadata": {},
   "source": [
    "Filter out points with no image found"
   ]
  },
  {
   "cell_type": "code",
   "execution_count": null,
   "id": "7a03c9ed-f0aa-48e8-9ce2-6dbea22743cd",
   "metadata": {},
   "outputs": [],
   "source": [
    "points_gdf_with_stac_clean = points_gdf_with_stac.dropna(subset=[\"stac_item\"])\n",
    "matched_stac_items = points_gdf_with_stac_clean.stac_item.tolist()\n",
    "matched_points_list = points_gdf_with_stac_clean[[\"lon\", \"lat\"]].to_numpy()"
   ]
  },
  {
   "cell_type": "code",
   "execution_count": 13,
   "id": "c565a03d-423e-4564-8115-06da2399e01c",
   "metadata": {},
   "outputs": [],
   "source": [
    "NUM_POINTS = len(matched_points_list)"
   ]
  },
  {
   "cell_type": "markdown",
   "id": "3a816cb7-0c3c-4ab2-b1e4-84f6b8167a85",
   "metadata": {},
   "source": [
    "Setup Dataset object"
   ]
  },
  {
   "cell_type": "code",
   "execution_count": 14,
   "id": "02239721-58fa-422c-8436-9503f6218c61",
   "metadata": {
    "vscode": {
     "languageId": "python"
    }
   },
   "outputs": [],
   "source": [
    "BUFFER_DISTANCE = 0.005\n",
    "bands = [\n",
    "    # \"SR_B1\", # Coastal/Aerosol Band (B1)\n",
    "    \"SR_B2\",  # Blue Band (B2)\n",
    "    \"SR_B3\",  # Green Band (B3)\n",
    "    \"SR_B4\",  # Red Band (B4)\n",
    "    \"SR_B5\",  # Near Infrared Band 0.8 (B5)\n",
    "    \"SR_B6\",  # Short-wave Infrared Band 1.6 (B6)\n",
    "    \"SR_B7\",  # Short-wave Infrared Band 2.2 (B7)\n",
    "]\n",
    "resolution = 30\n",
    "\n",
    "dataset = CustomDataset(\n",
    "    matched_points_list, \n",
    "    matched_stac_items, \n",
    "    buffer=BUFFER_DISTANCE,\n",
    "    bands=bands,\n",
    "    resolution=resolution\n",
    ")"
   ]
  },
  {
   "cell_type": "markdown",
   "id": "aa6cf8fa-df37-4ce8-8906-64aae377b28e",
   "metadata": {},
   "source": [
    "Setup PyTorch DataLoader"
   ]
  },
  {
   "cell_type": "code",
   "execution_count": 15,
   "id": "6d10d353-8c5f-4f04-81c7-2f2674b85e52",
   "metadata": {
    "vscode": {
     "languageId": "python"
    }
   },
   "outputs": [],
   "source": [
    "batch_size = 1\n",
    "\n",
    "dataloader = DataLoader(\n",
    "    dataset,\n",
    "    batch_size=batch_size,\n",
    "    shuffle=False,\n",
    "    num_workers=os.cpu_count(),\n",
    "    collate_fn=lambda x: x,\n",
    "    pin_memory=False,\n",
    "    persistent_workers=True,\n",
    ")"
   ]
  },
  {
   "cell_type": "markdown",
   "id": "937ac041-c732-4ca5-a233-ce4a066a8c21",
   "metadata": {},
   "source": [
    "Inspect images"
   ]
  },
  {
   "cell_type": "code",
   "execution_count": 16,
   "id": "bf28b4c4-643d-4270-b3f7-0579a1a3e60c",
   "metadata": {
    "vscode": {
     "languageId": "python"
    }
   },
   "outputs": [],
   "source": [
    "# for images in dataloader:\n",
    "#     for image in images:\n",
    "#         # print(image)\n",
    "#         array = np.array(image[0][:3])\n",
    "#         reshaped_array = np.swapaxes(array, 0, 2)\n",
    "#         plt.imshow(reshaped_array)\n",
    "#         plt.show()"
   ]
  },
  {
   "cell_type": "markdown",
   "id": "89f096c0-990c-49af-9367-f09c8d998269",
   "metadata": {},
   "source": [
    "Clear memory"
   ]
  },
  {
   "cell_type": "code",
   "execution_count": 17,
   "id": "90655bb2-54fc-4355-b9a1-9f26b35bc0ab",
   "metadata": {},
   "outputs": [],
   "source": [
    "del points_gdf_with_stac\n",
    "del points_gdf_with_stac_clean\n",
    "del matched_stac_items\n",
    "# del matched_points_list"
   ]
  },
  {
   "cell_type": "markdown",
   "id": "f4240994-4820-4a1b-a13c-836c2e592174",
   "metadata": {
    "tags": []
   },
   "source": [
    "## Define featurization model and apply to images"
   ]
  },
  {
   "cell_type": "code",
   "execution_count": 18,
   "id": "0b50f145-53cd-4ab1-999d-9d3015cea01e",
   "metadata": {},
   "outputs": [],
   "source": [
    "NUM_FEATURES = 1024"
   ]
  },
  {
   "cell_type": "code",
   "execution_count": 19,
   "id": "b244448f-9b79-4c58-b779-5e8a4957c84e",
   "metadata": {
    "gather": {
     "logged": 1651174537496
    },
    "vscode": {
     "languageId": "python"
    }
   },
   "outputs": [],
   "source": [
    "DEVICE = torch.device(\"cuda\")\n",
    "MODEL = RCF(NUM_FEATURES).eval().to(DEVICE)"
   ]
  },
  {
   "cell_type": "markdown",
   "id": "329e03ed-cbfd-4dde-aaa7-2be27f19ffef",
   "metadata": {},
   "source": [
    "### Apply featurization to images"
   ]
  },
  {
   "cell_type": "code",
   "execution_count": 20,
   "id": "a9b1a7d7-4fbb-4938-a78d-313784d8a04b",
   "metadata": {},
   "outputs": [],
   "source": [
    "min_image_edge = 6"
   ]
  },
  {
   "cell_type": "code",
   "execution_count": 15,
   "id": "44946923-f402-48da-aadb-edca9c7bec87",
   "metadata": {
    "vscode": {
     "languageId": "python"
    }
   },
   "outputs": [],
   "source": [
    "x_all = np.zeros((NUM_POINTS, NUM_FEATURES), dtype=float)\n",
    "\n",
    "i = 0\n",
    "for images in tqdm(dataloader):\n",
    "    for image in images:\n",
    "\n",
    "        if image is not None:\n",
    "            # A full image should be 36x36(?) pixels (i.e. ~1km^2 at a 30m/px spatial\n",
    "            # resolution), however we can receive smaller images if an input point\n",
    "            # happens to be at the edge of a scene. To deal with these we crudely \n",
    "            # drop all images where the spatial dimensions aren't both greater than 6 pixels.\n",
    "            if image.shape[2] >= min_image_edge and image.shape[3] >= min_image_edge:\n",
    "                mosaiks_features = featurize(image, MODEL, DEVICE)\n",
    "                x_all[i] = mosaiks_features\n",
    "            else:\n",
    "                pass\n",
    "        else:\n",
    "            pass  # this happens if we do have not found an image for some point\n",
    "        i += 1"
   ]
  },
  {
   "cell_type": "code",
   "execution_count": null,
   "id": "3df0748c-3744-4985-81e2-fb345342c869",
   "metadata": {
    "vscode": {
     "languageId": "python"
    }
   },
   "outputs": [],
   "source": [
    "x_all.shape"
   ]
  },
  {
   "cell_type": "markdown",
   "id": "42109715-ab05-4396-b82c-ab1a47fc6362",
   "metadata": {},
   "source": [
    "### Save to file"
   ]
  },
  {
   "cell_type": "code",
   "execution_count": 20,
   "id": "b1086991-d2a6-46d8-b03e-76f0b3364f35",
   "metadata": {},
   "outputs": [],
   "source": [
    "x_all_df = pd.DataFrame(x_all, columns=range(4))"
   ]
  },
  {
   "cell_type": "code",
   "execution_count": 21,
   "id": "8671ad36-0176-4458-8e21-77f986c82be4",
   "metadata": {},
   "outputs": [
    {
     "data": {
      "text/html": [
       "<div>\n",
       "<style scoped>\n",
       "    .dataframe tbody tr th:only-of-type {\n",
       "        vertical-align: middle;\n",
       "    }\n",
       "\n",
       "    .dataframe tbody tr th {\n",
       "        vertical-align: top;\n",
       "    }\n",
       "\n",
       "    .dataframe thead th {\n",
       "        text-align: right;\n",
       "    }\n",
       "</style>\n",
       "<table border=\"1\" class=\"dataframe\">\n",
       "  <thead>\n",
       "    <tr style=\"text-align: right;\">\n",
       "      <th></th>\n",
       "      <th>0</th>\n",
       "      <th>1</th>\n",
       "      <th>2</th>\n",
       "      <th>3</th>\n",
       "    </tr>\n",
       "  </thead>\n",
       "  <tbody>\n",
       "    <tr>\n",
       "      <th>0</th>\n",
       "      <td>1</td>\n",
       "      <td>2</td>\n",
       "      <td>3</td>\n",
       "      <td>4</td>\n",
       "    </tr>\n",
       "    <tr>\n",
       "      <th>1</th>\n",
       "      <td>1</td>\n",
       "      <td>2</td>\n",
       "      <td>3</td>\n",
       "      <td>4</td>\n",
       "    </tr>\n",
       "  </tbody>\n",
       "</table>\n",
       "</div>"
      ],
      "text/plain": [
       "   0  1  2  3\n",
       "0  1  2  3  4\n",
       "1  1  2  3  4"
      ]
     },
     "execution_count": 21,
     "metadata": {},
     "output_type": "execute_result"
    }
   ],
   "source": [
    "x_all_df.insert(0, \"lat\", matched_points_list[:,0])\n",
    "x_all_df.insert(1, \"lon\", matched_points_list[:,1])"
   ]
  },
  {
   "cell_type": "code",
   "execution_count": null,
   "id": "92adf104-bbda-4d8a-8925-c28bac23e957",
   "metadata": {},
   "outputs": [],
   "source": [
    "x_all_df.to_csv(\"/home/jovyan/ds_nudge_up/data/01_preprocessed/mosaiks_features/df_x_all_2013.csv\")"
   ]
  },
  {
   "cell_type": "code",
   "execution_count": null,
   "id": "04ebc5be-9e85-49c8-9e48-2a023700d3d6",
   "metadata": {
    "vscode": {
     "languageId": "python"
    }
   },
   "outputs": [],
   "source": [
    "# np.savetxt(\"/home/jovyan/ds_nudge_up/data/01_preprocessed/mosaiks_features/x_all_2013_latlons.csv\", matched_points_list, delimiter=\",\")\n",
    "# np.savetxt(\"/home/jovyan/ds_nudge_up/data/01_preprocessed/mosaiks_features/x_all_2013.csv\", x_all, delimiter=\",\")"
   ]
  }
 ],
 "metadata": {
  "kernel_info": {
   "name": "python3"
  },
  "kernelspec": {
   "display_name": "Python 3 (ipykernel)",
   "language": "python",
   "name": "python3"
  },
  "language_info": {
   "codemirror_mode": {
    "name": "ipython",
    "version": 3
   },
   "file_extension": ".py",
   "mimetype": "text/x-python",
   "name": "python",
   "nbconvert_exporter": "python",
   "pygments_lexer": "ipython3",
   "version": "3.9.13"
  },
  "microsoft": {
   "host": {
    "AzureML": {
     "notebookHasBeenCompleted": true
    }
   }
  },
  "nteract": {
   "version": "nteract-front-end@1.0.0"
  }
 },
 "nbformat": 4,
 "nbformat_minor": 5
}
