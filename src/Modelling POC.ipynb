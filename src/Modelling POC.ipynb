{
 "cells": [
  {
   "cell_type": "code",
   "execution_count": null,
   "metadata": {},
   "outputs": [],
   "source": [
    "%load_ext pyinstrument\n",
    "\n",
    "from pathlib import Path\n",
    "\n",
    "import geopandas as gpd\n",
    "import pandas as pd\n",
    "\n",
    "from sklearn.model_selection import train_test_split, RepeatedKFold\n",
    "from sklearn.linear_model import Ridge, RidgeCV\n",
    "from sklearn.ensemble import RandomForestRegressor\n",
    "from xgboost import XGBRegressor\n",
    "\n",
    "from custom.mosaiks_data import load_mosaiks_data\n",
    "from custom.shrug_data import lengthen_shapefile_ID_names\n",
    "from custom.utils import load_gdf\n",
    "from custom.evaluation import show_results"
   ]
  },
  {
   "cell_type": "markdown",
   "metadata": {},
   "source": [
    "## Load MOSAIKS features"
   ]
  },
  {
   "cell_type": "code",
   "execution_count": null,
   "metadata": {},
   "outputs": [],
   "source": [
    "mosaiks_features_gdf = load_mosaiks_data(\"INDIA_SHRUG_Mosaiks_features.csv\")\n",
    "mosaiks_features_gdf.head()"
   ]
  },
  {
   "cell_type": "code",
   "execution_count": null,
   "metadata": {},
   "outputs": [],
   "source": [
    "mosaiks_features_gdf.shape"
   ]
  },
  {
   "cell_type": "markdown",
   "metadata": {},
   "source": [
    "## Load preprocessed SHRUG keys with shapes"
   ]
  },
  {
   "cell_type": "code",
   "execution_count": null,
   "metadata": {},
   "outputs": [],
   "source": [
    "shrug_key_geoms = load_gdf(\"01_preprocessed/SHRUG/shrug_pc11r_key_with_shapes\", \"shrug_pc11r_key_with_shapes.shp\")\n",
    "shrug_key_geoms = lengthen_shapefile_ID_names(shrug_key_geoms)\n",
    "shrug_key_geoms.head()"
   ]
  },
  {
   "cell_type": "markdown",
   "metadata": {},
   "source": [
    "## Use SHRUG shapes to add `shrid`s to MOSAIKS features"
   ]
  },
  {
   "cell_type": "code",
   "execution_count": null,
   "metadata": {},
   "outputs": [],
   "source": [
    "# add shrid column to mosaiks features, based on whether the the MOSAIKS coordinate is within the shrid area\n",
    "shrug_key_geoms['shrug_key_geoms'] = shrug_key_geoms['geometry'].copy()\n",
    "mosaiks_features_df = mosaiks_features_gdf.sjoin(shrug_key_geoms).drop(columns=[\"index_right\"])\n",
    "mosaiks_features_df.head()"
   ]
  },
  {
   "cell_type": "markdown",
   "metadata": {},
   "source": [
    "## Import SHRUG SECC (target)"
   ]
  },
  {
   "cell_type": "code",
   "execution_count": null,
   "metadata": {},
   "outputs": [],
   "source": [
    "file_path = Path.cwd().parent / \"data\" / \"00_raw\" / \"SHRUG\" / \"shrug-v1.5.samosa-secc-csv\" / \"shrug_secc.csv\"\n",
    "shrug_secc = pd.read_csv(file_path)\n",
    "shrug_secc.head()"
   ]
  },
  {
   "cell_type": "code",
   "execution_count": null,
   "metadata": {},
   "outputs": [],
   "source": [
    "shrug_secc.shape"
   ]
  },
  {
   "cell_type": "code",
   "execution_count": null,
   "metadata": {},
   "outputs": [],
   "source": [
    "y_name = \"secc_pov_rate_rural\"\n",
    "shrug_y = shrug_secc[[\"shrid\", y_name]].copy()\n",
    "# drop entries with missing shrid or y values\n",
    "shrug_y.dropna(inplace=True)\n",
    "shrug_y"
   ]
  },
  {
   "cell_type": "markdown",
   "metadata": {},
   "source": [
    "## Match target to features using `shrid`s"
   ]
  },
  {
   "cell_type": "code",
   "execution_count": null,
   "metadata": {},
   "outputs": [],
   "source": [
    "# add MOSAIKS features to the SECC data\n",
    "df = pd.merge(shrug_y, mosaiks_features_df, on=\"shrid\")\n",
    "df.head()"
   ]
  },
  {
   "cell_type": "markdown",
   "metadata": {},
   "source": [
    "### Select X and y"
   ]
  },
  {
   "cell_type": "code",
   "execution_count": null,
   "metadata": {},
   "outputs": [],
   "source": [
    "geo_cols = [\n",
    "    \"shrid\",\n",
    "    \"Lat\",\n",
    "    \"Lon\",\n",
    "    \"geometry\",\n",
    "    \"pc11_state_id\",\n",
    "    \"pc11_district_id\",\n",
    "    \"pc11_subdistrict_id\",\n",
    "    \"pc11_village_id\",\n",
    "    \"tv_name\",\n",
    "    \"shrug_key_geoms\",\n",
    "]"
   ]
  },
  {
   "cell_type": "code",
   "execution_count": null,
   "metadata": {},
   "outputs": [],
   "source": [
    "X = df.drop(geo_cols + [y_name], axis=1)"
   ]
  },
  {
   "cell_type": "code",
   "execution_count": null,
   "metadata": {},
   "outputs": [],
   "source": [
    "y = df[y_name]"
   ]
  },
  {
   "cell_type": "markdown",
   "metadata": {},
   "source": [
    "## Model A\n",
    "Datapoints = latlong points"
   ]
  },
  {
   "cell_type": "markdown",
   "metadata": {},
   "source": [
    "### Train"
   ]
  },
  {
   "cell_type": "code",
   "execution_count": null,
   "metadata": {},
   "outputs": [],
   "source": [
    "X_train, X_test, y_train, y_test = train_test_split(X, y, train_size=0.8, random_state=1,)"
   ]
  },
  {
   "cell_type": "code",
   "execution_count": null,
   "metadata": {},
   "outputs": [],
   "source": [
    "# define model evaluation method\n",
    "cv = RepeatedKFold(n_splits=2, n_repeats=1, random_state=1)\n",
    "# define model\n",
    "model = RidgeCV(alphas=[1, 10], cv=cv) # alphas here refer to lambda values to try #0.001, 0.01, \n",
    "\n",
    "# fit model\n",
    "model.fit(X_train, y_train)\n",
    "# summarize chosen configuration\n",
    "print('alpha: %f' % model.alpha_)"
   ]
  },
  {
   "cell_type": "code",
   "execution_count": null,
   "metadata": {},
   "outputs": [],
   "source": [
    "# # or\n",
    "# model = XGBRegressor(n_estimators=1000, max_depth=7, eta=0.1, subsample=0.7, colsample_bytree=0.8, n_jobs=-1)\n",
    "# # fit model\n",
    "# model.fit(X_train, y_train)"
   ]
  },
  {
   "cell_type": "markdown",
   "metadata": {},
   "source": [
    "### Make predictions and evaluate performance"
   ]
  },
  {
   "cell_type": "markdown",
   "metadata": {},
   "source": [
    "Next, we use the trained model to make predictions in the test set."
   ]
  },
  {
   "cell_type": "code",
   "execution_count": null,
   "metadata": {},
   "outputs": [],
   "source": [
    "#predict model\n",
    "y_pred = model.predict(X_test)"
   ]
  },
  {
   "cell_type": "code",
   "execution_count": null,
   "metadata": {},
   "outputs": [],
   "source": [
    "show_results(y_test, y_pred)"
   ]
  },
  {
   "cell_type": "markdown",
   "metadata": {},
   "source": [
    "### Spatial visualization"
   ]
  },
  {
   "cell_type": "code",
   "execution_count": null,
   "metadata": {},
   "outputs": [],
   "source": [
    "# get geometries by subsetting original df to only test datapoints\n",
    "y_gdf = df.loc[list(y_test.index), geo_cols]\n",
    "# add true and predicted values\n",
    "y_gdf['observed'] = y_test\n",
    "y_gdf['predicted'] = y_pred\n",
    "# y_gdf.head()"
   ]
  },
  {
   "cell_type": "code",
   "execution_count": null,
   "metadata": {},
   "outputs": [],
   "source": [
    "f, axes = plt.subplots(1, 2, sharey=True, figsize=(10, 5))\n",
    "\n",
    "vmax = max(y_test.max(), y_pred.max())\n",
    "vmin = min(y_test.min(), y_pred.min())\n",
    "\n",
    "# plot observed\n",
    "y_gdf.plot(\n",
    "    kind=\"scatter\",\n",
    "    x=\"Lon\",\n",
    "    y=\"Lat\",\n",
    "    c=\"observed\",\n",
    "    colorbar=False,\n",
    "    alpha=0.5,\n",
    "    vmin=vmin,\n",
    "    vmax=vmax,\n",
    "    ax=axes[0],\n",
    ")\n",
    "axes[0].set_title(\"Observed\")\n",
    "\n",
    "# plot predicted\n",
    "y_gdf.plot(\n",
    "    kind=\"scatter\",\n",
    "    x=\"Lon\",\n",
    "    y=\"Lat\",\n",
    "    c=\"predicted\",\n",
    "    colorbar=False,\n",
    "    alpha=0.5,\n",
    "    vmin=vmin,\n",
    "    vmax=vmax,\n",
    "    ax=axes[1],\n",
    ")\n",
    "axes[1].set_title(\"Predicted\")\n",
    "\n",
    "plt.tight_layout()"
   ]
  },
  {
   "cell_type": "markdown",
   "metadata": {},
   "source": [
    "### Evaluate predictions at the aggregated levels"
   ]
  },
  {
   "cell_type": "code",
   "execution_count": null,
   "metadata": {},
   "outputs": [],
   "source": [
    "print(\"Total test datapoints: \", y_gdf.shape[0])"
   ]
  },
  {
   "cell_type": "markdown",
   "metadata": {},
   "source": [
    "#### shrid"
   ]
  },
  {
   "cell_type": "code",
   "execution_count": null,
   "metadata": {},
   "outputs": [],
   "source": [
    "shrid_ys = y_gdf.groupby([\"shrid\"])[[\"observed\", \"predicted\"]].mean()\n",
    "print(\"Datapoints with unique shrids: \", shrid_ys.shape[0])\n",
    "\n",
    "show_results(shrid_ys[\"observed\"], shrid_ys[\"predicted\"])"
   ]
  },
  {
   "cell_type": "markdown",
   "metadata": {},
   "source": [
    "#### village"
   ]
  },
  {
   "cell_type": "code",
   "execution_count": null,
   "metadata": {},
   "outputs": [],
   "source": [
    "village_ys = y_gdf.groupby(\n",
    "    [\n",
    "        \"pc11_state_id\",\n",
    "        \"pc11_district_id\",\n",
    "        \"pc11_subdistrict_id\",\n",
    "        \"pc11_village_id\",\n",
    "    ],\n",
    "    as_index=False,\n",
    ")[[\"observed\", \"predicted\"]].mean()\n",
    "print(\"Datapoints with unique villages: \", village_ys.shape[0])\n",
    "\n",
    "show_results(village_ys[\"observed\"], village_ys[\"predicted\"])"
   ]
  },
  {
   "cell_type": "markdown",
   "metadata": {},
   "source": [
    "#### subdistrict"
   ]
  },
  {
   "cell_type": "code",
   "execution_count": null,
   "metadata": {},
   "outputs": [],
   "source": [
    "subdistrict_ys = y_gdf.groupby(\n",
    "    [\n",
    "        \"pc11_state_id\",\n",
    "        \"pc11_district_id\",\n",
    "        \"pc11_subdistrict_id\"\n",
    "    ],\n",
    "    as_index=False,\n",
    ")[[\"observed\", \"predicted\"]].mean()\n",
    "print(\"Datapoints with unique subdistricts: \", subdistrict_ys.shape[0])\n",
    "\n",
    "show_results(subdistrict_ys[\"observed\"], subdistrict_ys[\"predicted\"])"
   ]
  },
  {
   "cell_type": "code",
   "execution_count": null,
   "metadata": {},
   "outputs": [],
   "source": [
    "subdistrict_ys = y_gdf.groupby(\n",
    "    [\n",
    "        \"pc11_state_id\",\n",
    "        \"pc11_district_id\",\n",
    "        \"pc11_subdistrict_id\"\n",
    "    ],\n",
    "    as_index=False,\n",
    ")[[\"observed\", \"predicted\"]].max()\n",
    "print(\"Datapoints with unique subdistricts: \", subdistrict_ys.shape[0])\n",
    "\n",
    "show_results(subdistrict_ys[\"observed\"], subdistrict_ys[\"predicted\"])"
   ]
  },
  {
   "cell_type": "markdown",
   "metadata": {},
   "source": [
    "Map of subdistricts"
   ]
  },
  {
   "cell_type": "code",
   "execution_count": null,
   "metadata": {},
   "outputs": [],
   "source": []
  },
  {
   "cell_type": "markdown",
   "metadata": {},
   "source": [
    "4 quadrant evaluation stats"
   ]
  },
  {
   "cell_type": "code",
   "execution_count": null,
   "metadata": {},
   "outputs": [],
   "source": []
  }
 ],
 "metadata": {
  "kernelspec": {
   "display_name": "Python 3.9.0 ('nudge_up')",
   "language": "python",
   "name": "python3"
  },
  "language_info": {
   "codemirror_mode": {
    "name": "ipython",
    "version": 3
   },
   "file_extension": ".py",
   "mimetype": "text/x-python",
   "name": "python",
   "nbconvert_exporter": "python",
   "pygments_lexer": "ipython3",
   "version": "3.9.0"
  },
  "orig_nbformat": 4,
  "vscode": {
   "interpreter": {
    "hash": "142c193bf060635deeb675579e1db6ca9d9f29c8a237f64acc594fb64723fb97"
   }
  }
 },
 "nbformat": 4,
 "nbformat_minor": 2
}
