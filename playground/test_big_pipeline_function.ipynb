{
 "cells": [
  {
   "attachments": {},
   "cell_type": "markdown",
   "id": "cb8b2e2a-8dd2-49e4-a894-27a3a4794276",
   "metadata": {
    "tags": []
   },
   "source": [
    "# Notebook prep"
   ]
  },
  {
   "cell_type": "code",
   "execution_count": 1,
   "id": "8a082089-9f4a-486e-a3a5-4b41cb161c5d",
   "metadata": {
    "tags": []
   },
   "outputs": [],
   "source": [
    "%load_ext autoreload\n",
    "%autoreload 2"
   ]
  },
  {
   "attachments": {},
   "cell_type": "markdown",
   "id": "7ac2b0d2",
   "metadata": {
    "tags": []
   },
   "source": [
    "## Import packages"
   ]
  },
  {
   "cell_type": "code",
   "execution_count": 2,
   "id": "34e01b17",
   "metadata": {},
   "outputs": [],
   "source": [
    "# Set the below env var so that GeoPandas only uses Shapely.\n",
    "# This is to avoid a conflict between Shapely and PyGEOS. \n",
    "# NOTE: Must happen before geopandas import\n",
    "import os\n",
    "os.environ[\"USE_PYGEOS\"] = \"0\""
   ]
  },
  {
   "attachments": {},
   "cell_type": "markdown",
   "id": "34df2287-cc11-43b0-b20b-feef6f4d15ba",
   "metadata": {
    "tags": []
   },
   "source": [
    "# Load Data"
   ]
  },
  {
   "cell_type": "code",
   "execution_count": 3,
   "id": "6a4b510b-ad70-4af3-89d7-64f0899ed88b",
   "metadata": {
    "tags": []
   },
   "outputs": [],
   "source": [
    "import pandas as pd"
   ]
  },
  {
   "cell_type": "code",
   "execution_count": 4,
   "id": "7bb02df6-3c70-496c-bcff-364957b6e4d3",
   "metadata": {
    "tags": []
   },
   "outputs": [],
   "source": [
    "# Select random 1000 points (for testing)\n",
    "points_gdf = pd.read_csv(\"../tests/data/test_points.csv\")\n",
    "test_points_gdf = points_gdf.iloc[:2]"
   ]
  },
  {
   "cell_type": "code",
   "execution_count": 5,
   "id": "f31240fb",
   "metadata": {},
   "outputs": [
    {
     "data": {
      "text/html": [
       "<div>\n",
       "<style scoped>\n",
       "    .dataframe tbody tr th:only-of-type {\n",
       "        vertical-align: middle;\n",
       "    }\n",
       "\n",
       "    .dataframe tbody tr th {\n",
       "        vertical-align: top;\n",
       "    }\n",
       "\n",
       "    .dataframe thead th {\n",
       "        text-align: right;\n",
       "    }\n",
       "</style>\n",
       "<table border=\"1\" class=\"dataframe\">\n",
       "  <thead>\n",
       "    <tr style=\"text-align: right;\">\n",
       "      <th></th>\n",
       "      <th>Lon</th>\n",
       "      <th>Lat</th>\n",
       "      <th>geometry</th>\n",
       "    </tr>\n",
       "  </thead>\n",
       "  <tbody>\n",
       "    <tr>\n",
       "      <th>0</th>\n",
       "      <td>80.992667</td>\n",
       "      <td>20.696270</td>\n",
       "      <td>POINT (80.99266676800818 20.69626983451712)</td>\n",
       "    </tr>\n",
       "    <tr>\n",
       "      <th>1</th>\n",
       "      <td>87.669835</td>\n",
       "      <td>22.444757</td>\n",
       "      <td>POINT (87.66983526590248 22.4447569343096)</td>\n",
       "    </tr>\n",
       "  </tbody>\n",
       "</table>\n",
       "</div>"
      ],
      "text/plain": [
       "         Lon        Lat                                     geometry\n",
       "0  80.992667  20.696270  POINT (80.99266676800818 20.69626983451712)\n",
       "1  87.669835  22.444757   POINT (87.66983526590248 22.4447569343096)"
      ]
     },
     "execution_count": 5,
     "metadata": {},
     "output_type": "execute_result"
    }
   ],
   "source": [
    "test_points_gdf"
   ]
  },
  {
   "attachments": {},
   "cell_type": "markdown",
   "id": "9860caef",
   "metadata": {
    "tags": []
   },
   "source": [
    "## Check pipeline run"
   ]
  },
  {
   "cell_type": "code",
   "execution_count": 10,
   "id": "31433030",
   "metadata": {},
   "outputs": [
    {
     "ename": "ModuleNotFoundError",
     "evalue": "No module named 'mosaiks.checks'",
     "output_type": "error",
     "traceback": [
      "\u001b[0;31m---------------------------------------------------------------------------\u001b[0m",
      "\u001b[0;31mModuleNotFoundError\u001b[0m                       Traceback (most recent call last)",
      "Cell \u001b[0;32mIn[10], line 1\u001b[0m\n\u001b[0;32m----> 1\u001b[0m \u001b[39mfrom\u001b[39;00m \u001b[39mmosaiks\u001b[39;00m\u001b[39m.\u001b[39;00m\u001b[39mpipeline\u001b[39;00m \u001b[39mimport\u001b[39;00m get_features\n",
      "File \u001b[0;32m~/IDinsight/MOSAIKS/mosaiks/src/mosaiks/__init__.py:1\u001b[0m\n\u001b[0;32m----> 1\u001b[0m \u001b[39mfrom\u001b[39;00m \u001b[39m.\u001b[39;00m\u001b[39mpipeline\u001b[39;00m \u001b[39mimport\u001b[39;00m get_features\n\u001b[1;32m      2\u001b[0m \u001b[39mfrom\u001b[39;00m \u001b[39m.\u001b[39;00m\u001b[39mextras\u001b[39;00m \u001b[39mimport\u001b[39;00m load_and_save_features\n\u001b[1;32m      4\u001b[0m __version__ \u001b[39m=\u001b[39m \u001b[39m\"\u001b[39m\u001b[39m0.0.1rc\u001b[39m\u001b[39m\"\u001b[39m\n",
      "File \u001b[0;32m~/IDinsight/MOSAIKS/mosaiks/src/mosaiks/pipeline.py:15\u001b[0m\n\u001b[1;32m      9\u001b[0m \u001b[39mfrom\u001b[39;00m \u001b[39mmosaiks\u001b[39;00m\u001b[39m.\u001b[39;00m\u001b[39mdask\u001b[39;00m \u001b[39mimport\u001b[39;00m (\n\u001b[1;32m     10\u001b[0m     get_dask_client,\n\u001b[1;32m     11\u001b[0m     get_features_without_parallelization,\n\u001b[1;32m     12\u001b[0m     run_batched_delayed_pipeline,\n\u001b[1;32m     13\u001b[0m )\n\u001b[1;32m     14\u001b[0m \u001b[39mfrom\u001b[39;00m \u001b[39mmosaiks\u001b[39;00m\u001b[39m.\u001b[39;00m\u001b[39mfeaturize\u001b[39;00m \u001b[39mimport\u001b[39;00m RCF\n\u001b[0;32m---> 15\u001b[0m \u001b[39mimport\u001b[39;00m \u001b[39mmosaiks\u001b[39;00m\u001b[39m.\u001b[39;00m\u001b[39mchecks\u001b[39;00m \u001b[39mas\u001b[39;00m \u001b[39mchecks\u001b[39;00m\n\u001b[1;32m     18\u001b[0m \u001b[39m# Rasterio variables\u001b[39;00m\n\u001b[1;32m     19\u001b[0m \u001b[39m# See https://github.com/pangeo-data/cog-best-practices\u001b[39;00m\n\u001b[1;32m     20\u001b[0m RASTERIO_CONFIG \u001b[39m=\u001b[39m {\n\u001b[1;32m     21\u001b[0m     \u001b[39m\"\u001b[39m\u001b[39mGDAL_DISABLE_READDIR_ON_OPEN\u001b[39m\u001b[39m\"\u001b[39m : \u001b[39m\"\u001b[39m\u001b[39mEMPTY_DIR\u001b[39m\u001b[39m\"\u001b[39m,\n\u001b[1;32m     22\u001b[0m     \u001b[39m\"\u001b[39m\u001b[39mGDAL_MAX_RAW_BLOCK_CACHE_SIZE\u001b[39m\u001b[39m\"\u001b[39m : \u001b[39m\"\u001b[39m\u001b[39m200000000\u001b[39m\u001b[39m\"\u001b[39m,\n\u001b[0;32m   (...)\u001b[0m\n\u001b[1;32m     25\u001b[0m     \u001b[39m\"\u001b[39m\u001b[39mAWS_REQUEST_PAYER\u001b[39m\u001b[39m\"\u001b[39m : \u001b[39m\"\u001b[39m\u001b[39mrequester\u001b[39m\u001b[39m\"\u001b[39m,\n\u001b[1;32m     26\u001b[0m }\n",
      "\u001b[0;31mModuleNotFoundError\u001b[0m: No module named 'mosaiks.checks'"
     ]
    }
   ],
   "source": [
    "from mosaiks.pipeline import get_features"
   ]
  },
  {
   "cell_type": "code",
   "execution_count": null,
   "id": "00262b58",
   "metadata": {},
   "outputs": [],
   "source": [
    "# Run without parallelisation\n",
    "df = get_features(test_points_gdf[\"Lat\"].values,\n",
    "                  test_points_gdf[\"Lon\"].values,\n",
    "                  parallelize=False)\n",
    "df"
   ]
  },
  {
   "cell_type": "code",
   "execution_count": null,
   "id": "57760c56",
   "metadata": {},
   "outputs": [],
   "source": [
    "# Run with parallelisation\n",
    "df = get_features(test_points_gdf[\"Lat\"].values,\n",
    "                  test_points_gdf[\"Lon\"].values,\n",
    "                  parallelize=True)\n",
    "df"
   ]
  },
  {
   "cell_type": "code",
   "execution_count": null,
   "id": "a74b672f",
   "metadata": {},
   "outputs": [],
   "source": [
    "# Check wrapper function\n",
    "from mosaiks.extras import load_and_save_features\n",
    "load_and_save_features(input_file_path=\"../tests/data/test_points.csv\",\n",
    "                       path_to_save_data=\"../tests/data/test_features.csv\",\n",
    "                       context_cols_to_keep_from_input=[\"Lat\", \"Lon\"],)"
   ]
  },
  {
   "cell_type": "code",
   "execution_count": null,
   "id": "16821103",
   "metadata": {},
   "outputs": [],
   "source": []
  }
 ],
 "metadata": {
  "kernelspec": {
   "display_name": "Python 3 (ipykernel)",
   "language": "python",
   "name": "python3"
  },
  "language_info": {
   "codemirror_mode": {
    "name": "ipython",
    "version": 3
   },
   "file_extension": ".py",
   "mimetype": "text/x-python",
   "name": "python",
   "nbconvert_exporter": "python",
   "pygments_lexer": "ipython3",
   "version": "3.10.11"
  }
 },
 "nbformat": 4,
 "nbformat_minor": 5
}
