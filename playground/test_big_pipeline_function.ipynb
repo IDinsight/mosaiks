{
 "cells": [
  {
   "attachments": {},
   "cell_type": "markdown",
   "id": "cb8b2e2a-8dd2-49e4-a894-27a3a4794276",
   "metadata": {
    "tags": []
   },
   "source": [
    "# Notebook prep"
   ]
  },
  {
   "cell_type": "code",
   "execution_count": 1,
   "id": "8a082089-9f4a-486e-a3a5-4b41cb161c5d",
   "metadata": {
    "tags": []
   },
   "outputs": [],
   "source": [
    "%load_ext autoreload\n",
    "%autoreload 2"
   ]
  },
  {
   "attachments": {},
   "cell_type": "markdown",
   "id": "7ac2b0d2",
   "metadata": {
    "tags": []
   },
   "source": [
    "## Import packages"
   ]
  },
  {
   "cell_type": "code",
   "execution_count": 2,
   "id": "e02c0627",
   "metadata": {},
   "outputs": [],
   "source": [
    "# Set the below env var so that GeoPandas only uses Shapely.\n",
    "# This is to avoid a conflict between Shapely and PyGEOS. \n",
    "# NOTE: Must happen before geopandas import\n",
    "import os\n",
    "os.environ[\"USE_PYGEOS\"] = \"0\""
   ]
  },
  {
   "attachments": {},
   "cell_type": "markdown",
   "id": "34df2287-cc11-43b0-b20b-feef6f4d15ba",
   "metadata": {
    "tags": []
   },
   "source": [
    "# Load Data"
   ]
  },
  {
   "cell_type": "code",
   "execution_count": 3,
   "id": "6a4b510b-ad70-4af3-89d7-64f0899ed88b",
   "metadata": {
    "tags": []
   },
   "outputs": [],
   "source": [
    "import pandas as pd"
   ]
  },
  {
   "cell_type": "code",
   "execution_count": 4,
   "id": "7bb02df6-3c70-496c-bcff-364957b6e4d3",
   "metadata": {
    "tags": []
   },
   "outputs": [],
   "source": [
    "# Select random 1000 points (for testing)\n",
    "points_gdf = pd.read_csv(\"../tests/data/test_points.csv\")\n",
    "test_points_gdf = points_gdf.iloc[:2]"
   ]
  },
  {
   "attachments": {},
   "cell_type": "markdown",
   "id": "9860caef",
   "metadata": {
    "tags": []
   },
   "source": [
    "## Check pipeline run"
   ]
  },
  {
   "cell_type": "code",
   "execution_count": 5,
   "id": "31433030",
   "metadata": {},
   "outputs": [],
   "source": [
    "from mosaiks.pipeline import get_features"
   ]
  },
  {
   "cell_type": "code",
   "execution_count": 6,
   "id": "00262b58",
   "metadata": {},
   "outputs": [
    {
     "name": "stderr",
     "output_type": "stream",
     "text": [
      "/Users/amiremami/miniconda3/envs/mosaiks/lib/python3.11/site-packages/stackstac/prepare.py:364: UserWarning: The argument 'infer_datetime_format' is deprecated and will be removed in a future version. A strict version of it is now the default, see https://pandas.pydata.org/pdeps/0004-consistent-to-datetime-parsing.html. You can safely remove this argument.\n",
      "  times = pd.to_datetime(\n",
      "/Users/amiremami/miniconda3/envs/mosaiks/lib/python3.11/site-packages/stackstac/prepare.py:364: UserWarning: The argument 'infer_datetime_format' is deprecated and will be removed in a future version. A strict version of it is now the default, see https://pandas.pydata.org/pdeps/0004-consistent-to-datetime-parsing.html. You can safely remove this argument.\n",
      "  times = pd.to_datetime(\n"
     ]
    },
    {
     "data": {
      "text/html": [
       "<div>\n",
       "<style scoped>\n",
       "    .dataframe tbody tr th:only-of-type {\n",
       "        vertical-align: middle;\n",
       "    }\n",
       "\n",
       "    .dataframe tbody tr th {\n",
       "        vertical-align: top;\n",
       "    }\n",
       "\n",
       "    .dataframe thead th {\n",
       "        text-align: right;\n",
       "    }\n",
       "</style>\n",
       "<table border=\"1\" class=\"dataframe\">\n",
       "  <thead>\n",
       "    <tr style=\"text-align: right;\">\n",
       "      <th></th>\n",
       "      <th>mosaiks_0</th>\n",
       "      <th>mosaiks_1</th>\n",
       "      <th>mosaiks_2</th>\n",
       "      <th>mosaiks_3</th>\n",
       "      <th>mosaiks_4</th>\n",
       "      <th>mosaiks_5</th>\n",
       "      <th>mosaiks_6</th>\n",
       "      <th>mosaiks_7</th>\n",
       "      <th>mosaiks_8</th>\n",
       "      <th>mosaiks_9</th>\n",
       "      <th>...</th>\n",
       "      <th>mosaiks_3991</th>\n",
       "      <th>mosaiks_3992</th>\n",
       "      <th>mosaiks_3993</th>\n",
       "      <th>mosaiks_3994</th>\n",
       "      <th>mosaiks_3995</th>\n",
       "      <th>mosaiks_3996</th>\n",
       "      <th>mosaiks_3997</th>\n",
       "      <th>mosaiks_3998</th>\n",
       "      <th>mosaiks_3999</th>\n",
       "      <th>stac_id</th>\n",
       "    </tr>\n",
       "  </thead>\n",
       "  <tbody>\n",
       "    <tr>\n",
       "      <th>0</th>\n",
       "      <td>0.0</td>\n",
       "      <td>1.132096</td>\n",
       "      <td>0.0</td>\n",
       "      <td>0.0</td>\n",
       "      <td>1.768837</td>\n",
       "      <td>0.002013</td>\n",
       "      <td>1.064429</td>\n",
       "      <td>0.000000</td>\n",
       "      <td>0.305191</td>\n",
       "      <td>1.459872</td>\n",
       "      <td>...</td>\n",
       "      <td>0.0</td>\n",
       "      <td>3.174064</td>\n",
       "      <td>0.0</td>\n",
       "      <td>6.016478</td>\n",
       "      <td>1.258379</td>\n",
       "      <td>0.031358</td>\n",
       "      <td>2.757475</td>\n",
       "      <td>3.929605</td>\n",
       "      <td>0.000000</td>\n",
       "      <td>LC08_L2SP_143046_20131218_02_T1</td>\n",
       "    </tr>\n",
       "    <tr>\n",
       "      <th>1</th>\n",
       "      <td>0.0</td>\n",
       "      <td>1.470793</td>\n",
       "      <td>0.0</td>\n",
       "      <td>0.0</td>\n",
       "      <td>1.922833</td>\n",
       "      <td>0.001041</td>\n",
       "      <td>1.401689</td>\n",
       "      <td>0.000008</td>\n",
       "      <td>0.169382</td>\n",
       "      <td>1.917281</td>\n",
       "      <td>...</td>\n",
       "      <td>0.0</td>\n",
       "      <td>3.267633</td>\n",
       "      <td>0.0</td>\n",
       "      <td>6.580562</td>\n",
       "      <td>1.111372</td>\n",
       "      <td>0.010048</td>\n",
       "      <td>2.529326</td>\n",
       "      <td>4.186213</td>\n",
       "      <td>0.000072</td>\n",
       "      <td>LC08_L2SP_139044_20130426_02_T1</td>\n",
       "    </tr>\n",
       "  </tbody>\n",
       "</table>\n",
       "<p>2 rows × 4001 columns</p>\n",
       "</div>"
      ],
      "text/plain": [
       "   mosaiks_0  mosaiks_1  mosaiks_2  mosaiks_3  mosaiks_4  mosaiks_5  \\\n",
       "0        0.0   1.132096        0.0        0.0   1.768837   0.002013   \n",
       "1        0.0   1.470793        0.0        0.0   1.922833   0.001041   \n",
       "\n",
       "   mosaiks_6  mosaiks_7  mosaiks_8  mosaiks_9  ...  mosaiks_3991  \\\n",
       "0   1.064429   0.000000   0.305191   1.459872  ...           0.0   \n",
       "1   1.401689   0.000008   0.169382   1.917281  ...           0.0   \n",
       "\n",
       "   mosaiks_3992  mosaiks_3993  mosaiks_3994  mosaiks_3995  mosaiks_3996  \\\n",
       "0      3.174064           0.0      6.016478      1.258379      0.031358   \n",
       "1      3.267633           0.0      6.580562      1.111372      0.010048   \n",
       "\n",
       "   mosaiks_3997  mosaiks_3998  mosaiks_3999                          stac_id  \n",
       "0      2.757475      3.929605      0.000000  LC08_L2SP_143046_20131218_02_T1  \n",
       "1      2.529326      4.186213      0.000072  LC08_L2SP_139044_20130426_02_T1  \n",
       "\n",
       "[2 rows x 4001 columns]"
      ]
     },
     "execution_count": 6,
     "metadata": {},
     "output_type": "execute_result"
    }
   ],
   "source": [
    "# Run without parallelisation\n",
    "df = get_features(\n",
    "    test_points_gdf[\"Lat\"].values, test_points_gdf[\"Lon\"].values, parallelize=False\n",
    ")\n",
    "df"
   ]
  },
  {
   "cell_type": "code",
   "execution_count": 7,
   "id": "57760c56",
   "metadata": {},
   "outputs": [
    {
     "name": "stderr",
     "output_type": "stream",
     "text": [
      "/Users/amiremami/miniconda3/envs/mosaiks/lib/python3.11/site-packages/stackstac/prepare.py:364: UserWarning: The argument 'infer_datetime_format' is deprecated and will be removed in a future version. A strict version of it is now the default, see https://pandas.pydata.org/pdeps/0004-consistent-to-datetime-parsing.html. You can safely remove this argument.\n",
      "  times = pd.to_datetime(\n",
      "/Users/amiremami/miniconda3/envs/mosaiks/lib/python3.11/site-packages/stackstac/prepare.py:364: UserWarning: The argument 'infer_datetime_format' is deprecated and will be removed in a future version. A strict version of it is now the default, see https://pandas.pydata.org/pdeps/0004-consistent-to-datetime-parsing.html. You can safely remove this argument.\n",
      "  times = pd.to_datetime(\n"
     ]
    },
    {
     "data": {
      "text/html": [
       "<div>\n",
       "<style scoped>\n",
       "    .dataframe tbody tr th:only-of-type {\n",
       "        vertical-align: middle;\n",
       "    }\n",
       "\n",
       "    .dataframe tbody tr th {\n",
       "        vertical-align: top;\n",
       "    }\n",
       "\n",
       "    .dataframe thead th {\n",
       "        text-align: right;\n",
       "    }\n",
       "</style>\n",
       "<table border=\"1\" class=\"dataframe\">\n",
       "  <thead>\n",
       "    <tr style=\"text-align: right;\">\n",
       "      <th></th>\n",
       "      <th>mosaiks_0</th>\n",
       "      <th>mosaiks_1</th>\n",
       "      <th>mosaiks_2</th>\n",
       "      <th>mosaiks_3</th>\n",
       "      <th>mosaiks_4</th>\n",
       "      <th>mosaiks_5</th>\n",
       "      <th>mosaiks_6</th>\n",
       "      <th>mosaiks_7</th>\n",
       "      <th>mosaiks_8</th>\n",
       "      <th>mosaiks_9</th>\n",
       "      <th>...</th>\n",
       "      <th>mosaiks_3991</th>\n",
       "      <th>mosaiks_3992</th>\n",
       "      <th>mosaiks_3993</th>\n",
       "      <th>mosaiks_3994</th>\n",
       "      <th>mosaiks_3995</th>\n",
       "      <th>mosaiks_3996</th>\n",
       "      <th>mosaiks_3997</th>\n",
       "      <th>mosaiks_3998</th>\n",
       "      <th>mosaiks_3999</th>\n",
       "      <th>stac_id</th>\n",
       "    </tr>\n",
       "  </thead>\n",
       "  <tbody>\n",
       "    <tr>\n",
       "      <th>0</th>\n",
       "      <td>0.0</td>\n",
       "      <td>0.000022</td>\n",
       "      <td>0.047038</td>\n",
       "      <td>0.005967</td>\n",
       "      <td>1.187035</td>\n",
       "      <td>0.534514</td>\n",
       "      <td>0.000047</td>\n",
       "      <td>0.0</td>\n",
       "      <td>0.000416</td>\n",
       "      <td>0.148761</td>\n",
       "      <td>...</td>\n",
       "      <td>1.543176</td>\n",
       "      <td>0.022591</td>\n",
       "      <td>1.918419</td>\n",
       "      <td>0.704557</td>\n",
       "      <td>3.814126</td>\n",
       "      <td>4.014810</td>\n",
       "      <td>0.002636</td>\n",
       "      <td>1.858008</td>\n",
       "      <td>2.054663</td>\n",
       "      <td>LC08_L2SP_143046_20131218_02_T1</td>\n",
       "    </tr>\n",
       "    <tr>\n",
       "      <th>1</th>\n",
       "      <td>0.0</td>\n",
       "      <td>0.000000</td>\n",
       "      <td>0.078822</td>\n",
       "      <td>0.007401</td>\n",
       "      <td>0.860793</td>\n",
       "      <td>0.484649</td>\n",
       "      <td>0.000323</td>\n",
       "      <td>0.0</td>\n",
       "      <td>0.001259</td>\n",
       "      <td>0.062258</td>\n",
       "      <td>...</td>\n",
       "      <td>1.432658</td>\n",
       "      <td>0.031735</td>\n",
       "      <td>1.661277</td>\n",
       "      <td>0.635065</td>\n",
       "      <td>4.082455</td>\n",
       "      <td>4.361365</td>\n",
       "      <td>0.005298</td>\n",
       "      <td>2.106720</td>\n",
       "      <td>2.285124</td>\n",
       "      <td>LC08_L2SP_139044_20130426_02_T1</td>\n",
       "    </tr>\n",
       "  </tbody>\n",
       "</table>\n",
       "<p>2 rows × 4001 columns</p>\n",
       "</div>"
      ],
      "text/plain": [
       "   mosaiks_0  mosaiks_1  mosaiks_2  mosaiks_3  mosaiks_4  mosaiks_5  \\\n",
       "0        0.0   0.000022   0.047038   0.005967   1.187035   0.534514   \n",
       "1        0.0   0.000000   0.078822   0.007401   0.860793   0.484649   \n",
       "\n",
       "   mosaiks_6  mosaiks_7  mosaiks_8  mosaiks_9  ...  mosaiks_3991  \\\n",
       "0   0.000047        0.0   0.000416   0.148761  ...      1.543176   \n",
       "1   0.000323        0.0   0.001259   0.062258  ...      1.432658   \n",
       "\n",
       "   mosaiks_3992  mosaiks_3993  mosaiks_3994  mosaiks_3995  mosaiks_3996  \\\n",
       "0      0.022591      1.918419      0.704557      3.814126      4.014810   \n",
       "1      0.031735      1.661277      0.635065      4.082455      4.361365   \n",
       "\n",
       "   mosaiks_3997  mosaiks_3998  mosaiks_3999                          stac_id  \n",
       "0      0.002636      1.858008      2.054663  LC08_L2SP_143046_20131218_02_T1  \n",
       "1      0.005298      2.106720      2.285124  LC08_L2SP_139044_20130426_02_T1  \n",
       "\n",
       "[2 rows x 4001 columns]"
      ]
     },
     "execution_count": 7,
     "metadata": {},
     "output_type": "execute_result"
    }
   ],
   "source": [
    "# Run with parallelisation\n",
    "df = get_features(\n",
    "    test_points_gdf[\"Lat\"].values, test_points_gdf[\"Lon\"].values, parallelize=True\n",
    ")\n",
    "df"
   ]
  },
  {
   "cell_type": "code",
   "execution_count": 8,
   "id": "a74b672f",
   "metadata": {},
   "outputs": [
    {
     "name": "stderr",
     "output_type": "stream",
     "text": [
      "/Users/amiremami/miniconda3/envs/mosaiks/lib/python3.11/site-packages/distributed/node.py:182: UserWarning: Port 8787 is already in use.\n",
      "Perhaps you already have a cluster running?\n",
      "Hosting the HTTP server on port 58402 instead\n",
      "  warnings.warn(\n",
      "/Users/amiremami/miniconda3/envs/mosaiks/lib/python3.11/site-packages/stackstac/prepare.py:364: UserWarning: The argument 'infer_datetime_format' is deprecated and will be removed in a future version. A strict version of it is now the default, see https://pandas.pydata.org/pdeps/0004-consistent-to-datetime-parsing.html. You can safely remove this argument.\n",
      "  times = pd.to_datetime(\n",
      "/Users/amiremami/miniconda3/envs/mosaiks/lib/python3.11/site-packages/stackstac/prepare.py:364: UserWarning: The argument 'infer_datetime_format' is deprecated and will be removed in a future version. A strict version of it is now the default, see https://pandas.pydata.org/pdeps/0004-consistent-to-datetime-parsing.html. You can safely remove this argument.\n",
      "  times = pd.to_datetime(\n",
      "/Users/amiremami/miniconda3/envs/mosaiks/lib/python3.11/site-packages/stackstac/prepare.py:364: UserWarning: The argument 'infer_datetime_format' is deprecated and will be removed in a future version. A strict version of it is now the default, see https://pandas.pydata.org/pdeps/0004-consistent-to-datetime-parsing.html. You can safely remove this argument.\n",
      "  times = pd.to_datetime(\n",
      "/Users/amiremami/IDinsight Repos/mosaiks/src/mosaiks/fetch/images.py:104: RuntimeWarning: overflow encountered in scalar subtract\n",
      "  return (image - img_min) / (img_max - img_min)\n",
      "/Users/amiremami/miniconda3/envs/mosaiks/lib/python3.11/site-packages/stackstac/prepare.py:364: UserWarning: The argument 'infer_datetime_format' is deprecated and will be removed in a future version. A strict version of it is now the default, see https://pandas.pydata.org/pdeps/0004-consistent-to-datetime-parsing.html. You can safely remove this argument.\n",
      "  times = pd.to_datetime(\n",
      "/Users/amiremami/miniconda3/envs/mosaiks/lib/python3.11/site-packages/stackstac/prepare.py:364: UserWarning: The argument 'infer_datetime_format' is deprecated and will be removed in a future version. A strict version of it is now the default, see https://pandas.pydata.org/pdeps/0004-consistent-to-datetime-parsing.html. You can safely remove this argument.\n",
      "  times = pd.to_datetime(\n",
      "/Users/amiremami/IDinsight Repos/mosaiks/src/mosaiks/fetch/images.py:104: RuntimeWarning: invalid value encountered in divide\n",
      "  return (image - img_min) / (img_max - img_min)\n",
      "/Users/amiremami/miniconda3/envs/mosaiks/lib/python3.11/site-packages/stackstac/prepare.py:364: UserWarning: The argument 'infer_datetime_format' is deprecated and will be removed in a future version. A strict version of it is now the default, see https://pandas.pydata.org/pdeps/0004-consistent-to-datetime-parsing.html. You can safely remove this argument.\n",
      "  times = pd.to_datetime(\n",
      "/Users/amiremami/miniconda3/envs/mosaiks/lib/python3.11/site-packages/stackstac/prepare.py:364: UserWarning: The argument 'infer_datetime_format' is deprecated and will be removed in a future version. A strict version of it is now the default, see https://pandas.pydata.org/pdeps/0004-consistent-to-datetime-parsing.html. You can safely remove this argument.\n",
      "  times = pd.to_datetime(\n",
      "/Users/amiremami/miniconda3/envs/mosaiks/lib/python3.11/site-packages/stackstac/prepare.py:364: UserWarning: The argument 'infer_datetime_format' is deprecated and will be removed in a future version. A strict version of it is now the default, see https://pandas.pydata.org/pdeps/0004-consistent-to-datetime-parsing.html. You can safely remove this argument.\n",
      "  times = pd.to_datetime(\n",
      "/Users/amiremami/miniconda3/envs/mosaiks/lib/python3.11/site-packages/stackstac/prepare.py:364: UserWarning: The argument 'infer_datetime_format' is deprecated and will be removed in a future version. A strict version of it is now the default, see https://pandas.pydata.org/pdeps/0004-consistent-to-datetime-parsing.html. You can safely remove this argument.\n",
      "  times = pd.to_datetime(\n",
      "/Users/amiremami/miniconda3/envs/mosaiks/lib/python3.11/site-packages/stackstac/prepare.py:364: UserWarning: The argument 'infer_datetime_format' is deprecated and will be removed in a future version. A strict version of it is now the default, see https://pandas.pydata.org/pdeps/0004-consistent-to-datetime-parsing.html. You can safely remove this argument.\n",
      "  times = pd.to_datetime(\n"
     ]
    }
   ],
   "source": [
    "# Check wrapper function\n",
    "from mosaiks.extras import load_and_save_features\n",
    "\n",
    "load_and_save_features(\n",
    "    input_file_path=\"../tests/data/test_points.csv\",\n",
    "    path_to_save_data=\"../tests/data/test_features.csv\",\n",
    "    context_cols_to_keep_from_input=[\"Lat\", \"Lon\"],\n",
    ")"
   ]
  },
  {
   "cell_type": "code",
   "execution_count": null,
   "id": "07ca0437",
   "metadata": {},
   "outputs": [],
   "source": []
  }
 ],
 "metadata": {
  "kernelspec": {
   "display_name": "mosaiks",
   "language": "python",
   "name": "python3"
  },
  "language_info": {
   "codemirror_mode": {
    "name": "ipython",
    "version": 3
   },
   "file_extension": ".py",
   "mimetype": "text/x-python",
   "name": "python",
   "nbconvert_exporter": "python",
   "pygments_lexer": "ipython3",
   "version": "3.11.0"
  }
 },
 "nbformat": 4,
 "nbformat_minor": 5
}
