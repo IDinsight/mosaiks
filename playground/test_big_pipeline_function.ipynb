{
 "cells": [
  {
   "attachments": {},
   "cell_type": "markdown",
   "id": "cb8b2e2a-8dd2-49e4-a894-27a3a4794276",
   "metadata": {
    "tags": []
   },
   "source": [
    "# Notebook prep"
   ]
  },
  {
   "cell_type": "code",
   "execution_count": null,
   "id": "8a082089-9f4a-486e-a3a5-4b41cb161c5d",
   "metadata": {
    "tags": []
   },
   "outputs": [],
   "source": [
    "%load_ext autoreload\n",
    "%autoreload 2"
   ]
  },
  {
   "attachments": {},
   "cell_type": "markdown",
   "id": "7ac2b0d2",
   "metadata": {
    "tags": []
   },
   "source": [
    "## Import packages"
   ]
  },
  {
   "cell_type": "code",
   "execution_count": null,
   "id": "34e01b17",
   "metadata": {},
   "outputs": [],
   "source": [
    "# Set the below env var so that GeoPandas only uses Shapely.\n",
    "# This is to avoid a conflict between Shapely and PyGEOS. \n",
    "# NOTE: Must happen before geopandas import\n",
    "import os\n",
    "os.environ[\"USE_PYGEOS\"] = \"0\""
   ]
  },
  {
   "cell_type": "code",
   "execution_count": null,
   "id": "3af5c18c-37d8-4a2b-9038-2987ed07a1d7",
   "metadata": {
    "tags": []
   },
   "outputs": [],
   "source": [
    "import logging\n",
    "import sys\n",
    "import warnings"
   ]
  },
  {
   "cell_type": "code",
   "execution_count": null,
   "id": "2a170fe7-063d-4f09-b01a-4aee0cf2ab77",
   "metadata": {
    "tags": []
   },
   "outputs": [],
   "source": [
    "logger = logging.getLogger()\n",
    "logger.setLevel(logging.INFO)\n",
    "\n",
    "sys.path += [\"../\"]\n",
    "warnings.filterwarnings(\"ignore\")"
   ]
  },
  {
   "cell_type": "code",
   "execution_count": null,
   "id": "c6a6f126",
   "metadata": {
    "tags": []
   },
   "outputs": [],
   "source": [
    "from pathlib import Path\n",
    "import mosaiks.utils as utl\n",
    "# from mosaiks.featurize import RCF\n",
    "from mosaiks import get_features"
   ]
  },
  {
   "attachments": {},
   "cell_type": "markdown",
   "id": "5a32e2ec",
   "metadata": {
    "tags": []
   },
   "source": [
    "## Setup Rasterio"
   ]
  },
  {
   "cell_type": "code",
   "execution_count": null,
   "id": "ed1c9adb",
   "metadata": {
    "tags": []
   },
   "outputs": [],
   "source": [
    "rasterio_config = utl.load_yaml_config(\"rasterioc_config.yaml\")\n",
    "os.environ.update(rasterio_config)"
   ]
  },
  {
   "attachments": {},
   "cell_type": "markdown",
   "id": "34df2287-cc11-43b0-b20b-feef6f4d15ba",
   "metadata": {
    "tags": []
   },
   "source": [
    "# Load Data"
   ]
  },
  {
   "cell_type": "code",
   "execution_count": null,
   "id": "6a4b510b-ad70-4af3-89d7-64f0899ed88b",
   "metadata": {
    "tags": []
   },
   "outputs": [],
   "source": [
    "import pandas as pd"
   ]
  },
  {
   "cell_type": "code",
   "execution_count": null,
   "id": "7bb02df6-3c70-496c-bcff-364957b6e4d3",
   "metadata": {
    "tags": []
   },
   "outputs": [],
   "source": [
    "# Select random 1000 points (for testing)\n",
    "points_gdf = pd.read_csv(\"../tests/data/test_points.csv\")"
   ]
  },
  {
   "cell_type": "code",
   "execution_count": null,
   "id": "fb667064-8caa-496d-938f-737498bf71ca",
   "metadata": {
    "tags": []
   },
   "outputs": [],
   "source": [
    "test_points_gdf = points_gdf.iloc[:]"
   ]
  },
  {
   "cell_type": "code",
   "execution_count": null,
   "id": "f31240fb",
   "metadata": {},
   "outputs": [],
   "source": [
    "type(test_points_gdf.index)"
   ]
  },
  {
   "attachments": {},
   "cell_type": "markdown",
   "id": "9860caef",
   "metadata": {
    "tags": []
   },
   "source": [
    "## Check pipeline run"
   ]
  },
  {
   "cell_type": "code",
   "execution_count": null,
   "id": "00262b58",
   "metadata": {},
   "outputs": [],
   "source": [
    "# Run without parallelisation\n",
    "df = get_features(test_points_gdf,\n",
    "             featurize_with_parallelization=False)"
   ]
  },
  {
   "cell_type": "code",
   "execution_count": null,
   "id": "4381104c",
   "metadata": {},
   "outputs": [],
   "source": [
    "df"
   ]
  },
  {
   "cell_type": "code",
   "execution_count": null,
   "id": "12ea092d",
   "metadata": {},
   "outputs": [],
   "source": [
    "# Run with parallelisation\n",
    "df = get_features(test_points_gdf,\n",
    "             featurize_with_parallelization=True)\n",
    "df"
   ]
  },
  {
   "attachments": {},
   "cell_type": "markdown",
   "id": "0e0c9a9d",
   "metadata": {},
   "source": [
    "## Check wrapper pipeline functions"
   ]
  },
  {
   "cell_type": "code",
   "execution_count": null,
   "id": "172eaf03",
   "metadata": {},
   "outputs": [],
   "source": [
    "from mosaiks.extras.wrapper_pipeline_functions import load_data_and_save_created_features\n",
    "dataset = {\"dataset_name\": \"test_dataset\",\n",
    "            \"context_col_names_to_keep\": [\"Lat\", \"Lon\"],\n",
    "            \"input\": {\"folder\": \"../tests/data\",\n",
    "                        \"filename\": \"test_points.csv\",\n",
    "                        \"relative_path_is_root_folder\": False},\n",
    "            \"output\": {\"folder\": \"../tests/data\",\n",
    "                        \"filename\": \"test_points_with_features.csv\",\n",
    "                        \"relative_path_is_root_folder\": False}\n",
    "            }\n",
    "\n",
    "# load_data_and_save_created_features(dataset,\n",
    "# featurize_with_parallelization=True,\n",
    "# )"
   ]
  },
  {
   "cell_type": "code",
   "execution_count": null,
   "id": "0cf5cb23",
   "metadata": {},
   "outputs": [],
   "source": [
    "from mosaiks import utils as utl\n",
    "\n",
    "# Test with changed featurisation / satellite configs\n",
    "featurisation_config = utl.load_yaml_config(\"featurisation_config.yaml\")\n",
    "satellite_config = utl.load_yaml_config(\"satellite_config.yaml\")\n",
    "# satellite_config.pop(\"landsat-8-c2-l2\")\n",
    "# featurisation_config[\"satellite_search_params\"][\"satellite_name\"] = \"\""
   ]
  },
  {
   "cell_type": "code",
   "execution_count": null,
   "id": "5b83fa68",
   "metadata": {},
   "outputs": [],
   "source": [
    "\n",
    "load_data_and_save_created_features(dataset,\n",
    "featurisation_config=featurisation_config,\n",
    "# satellite_config=satellite_config,\n",
    "featurize_with_parallelization=False)\n",
    "\n"
   ]
  },
  {
   "cell_type": "code",
   "execution_count": null,
   "id": "7e975023",
   "metadata": {},
   "outputs": [],
   "source": []
  }
 ],
 "metadata": {
  "kernelspec": {
   "display_name": "Python 3 (ipykernel)",
   "language": "python",
   "name": "python3"
  },
  "language_info": {
   "codemirror_mode": {
    "name": "ipython",
    "version": 3
   },
   "file_extension": ".py",
   "mimetype": "text/x-python",
   "name": "python",
   "nbconvert_exporter": "python",
   "pygments_lexer": "ipython3",
   "version": "3.10.11"
  }
 },
 "nbformat": 4,
 "nbformat_minor": 5
}
