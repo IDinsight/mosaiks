{
 "cells": [
  {
   "attachments": {},
   "cell_type": "markdown",
   "id": "cb8b2e2a-8dd2-49e4-a894-27a3a4794276",
   "metadata": {
    "tags": []
   },
   "source": [
    "# Notebook prep"
   ]
  },
  {
   "cell_type": "code",

   "execution_count": null,
   "execution_count": null,
   "id": "8a082089-9f4a-486e-a3a5-4b41cb161c5d",
   "metadata": {
    "tags": []
   },
   "outputs": [],
   "source": [
    "%load_ext autoreload\n",
    "%autoreload 2"
   ]
  },
  {
   "attachments": {},
   "cell_type": "markdown",
   "id": "7ac2b0d2",
   "metadata": {
    "tags": []
   },
   "source": [
    "## Import packages"
   ]
  },
  {
   "cell_type": "code",
   "execution_count": null,
   "id": "34e01b17",
   "metadata": {},
   "outputs": [],
   "source": [
    "# Set the below env var so that GeoPandas only uses Shapely.\n",
    "# This is to avoid a conflict between Shapely and PyGEOS. \n",
    "# NOTE: Must happen before geopandas import\n",
    "import os\n",
    "os.environ[\"USE_PYGEOS\"] = \"0\""
   ]
  },
  {
   "cell_type": "code",
   "execution_count": null,
   "id": "3af5c18c-37d8-4a2b-9038-2987ed07a1d7",
   "metadata": {
    "tags": []
   },
   "outputs": [],
   "source": [
    "import logging\n",
    "import sys\n",
    "import warnings"
   ]
  },
  {
   "cell_type": "code",
   "execution_count": null,
   "id": "2a170fe7-063d-4f09-b01a-4aee0cf2ab77",
   "metadata": {
    "tags": []
   },
   "outputs": [],
   "source": [
    "logger = logging.getLogger()\n",
    "logger.setLevel(logging.INFO)\n",
    "\n",
    "sys.path += [\"../\"]\n",
    "warnings.filterwarnings(\"ignore\")"
   ]
  },
  {
   "cell_type": "code",
   "execution_count": null,
   "id": "c6a6f126",
   "metadata": {
    "tags": []
   },
   "outputs": [],
   "source": [
    "from pathlib import Path\n",
    "import mosaiks.utils as utl\n",
    "# from mosaiks.featurize import RCF\n",
    "from mosaiks import get_features"
   ]
  },
  {
   "attachments": {},
   "cell_type": "markdown",
   "id": "5a32e2ec",
   "metadata": {
    "tags": []
   },
   "source": [
    "## Setup Rasterio"
   ]
  },
  {
   "cell_type": "code",
   "execution_count": null,
   "id": "ed1c9adb",
   "metadata": {
    "tags": []
   },
   "outputs": [],
   "source": [
    "rasterio_config = utl.load_yaml_config(\"rasterioc_config.yaml\")\n",
    "os.environ.update(rasterio_config)"
   ]
  },
  {
   "attachments": {},
   "cell_type": "markdown",
   "id": "3eeb924c-7f6c-429f-93fb-2a1eabe394e4",
   "metadata": {
    "tags": []
   },
   "source": [
    "# Load params + defaults"
   ]
  },
  {
   "cell_type": "code",
   "execution_count": 9,
   "id": "0fb14555-bbba-4e63-a157-4a247e1af77a",
   "metadata": {
    "tags": []
   },
   "outputs": [],
   "source": [
    "featurization_config = utl.load_yaml_config(\"featurisation.yaml\")\n",
    "satellite_config = utl.load_yaml_config(\"satellite_config.yaml\")\n",
    "satellite_config = satellite_config[\n",
    "    featurization_config[\"satellite_search_params\"][\"satellite_name\"]\n",
    "]"
   ]
  },
  {
>>>>>>> 2d039ff (big pipeline function and test notebook for big pipeline function)
   "attachments": {},
   "cell_type": "markdown",
=======
>>>>>>> 1f91930 (test notebook for big pipeline and wrapper functions)
   "id": "34df2287-cc11-43b0-b20b-feef6f4d15ba",
   "metadata": {
    "tags": []
   },
   "source": [
    "# Load Data"
   ]
  },
  {
   "cell_type": "code",
<<<<<<< HEAD
<<<<<<< HEAD
   "execution_count": null,
=======
   "execution_count": 10,
>>>>>>> 2d039ff (big pipeline function and test notebook for big pipeline function)
=======
   "execution_count": null,
>>>>>>> 1f91930 (test notebook for big pipeline and wrapper functions)
   "id": "6a4b510b-ad70-4af3-89d7-64f0899ed88b",
   "metadata": {
    "tags": []
   },
   "outputs": [],
   "source": [
<<<<<<< HEAD
<<<<<<< HEAD
    "import pandas as pd"
=======
    "request_points_gdf = utl.load_dataframe(\n",
    "    dataset_name=featurization_config[\"coord_set\"][\"coord_set_name\"]\n",
    ")"
>>>>>>> 2d039ff (big pipeline function and test notebook for big pipeline function)
=======
    "import pandas as pd"
>>>>>>> 1f91930 (test notebook for big pipeline and wrapper functions)
   ]
  },
  {
   "cell_type": "code",
<<<<<<< HEAD
<<<<<<< HEAD
   "execution_count": null,
=======
   "execution_count": 11,
>>>>>>> 2d039ff (big pipeline function and test notebook for big pipeline function)
=======
   "execution_count": null,
>>>>>>> 1f91930 (test notebook for big pipeline and wrapper functions)
   "id": "7bb02df6-3c70-496c-bcff-364957b6e4d3",
   "metadata": {
    "tags": []
   },
   "outputs": [],
   "source": [
    "# Select random 1000 points (for testing)\n",
<<<<<<< HEAD
<<<<<<< HEAD
    "points_gdf = pd.read_csv(\"../tests/data/test_points.csv\")\n",
    "test_points_gdf = points_gdf.iloc[:2]"
=======
    "points_gdf = request_points_gdf.iloc[:1000]"
>>>>>>> 2d039ff (big pipeline function and test notebook for big pipeline function)
=======
    "points_gdf = pd.read_csv(\"../tests/data/test_points.csv\")"
>>>>>>> 1f91930 (test notebook for big pipeline and wrapper functions)
   ]
  },
  {
   "cell_type": "code",
<<<<<<< HEAD
<<<<<<< HEAD
   "execution_count": null,
   "id": "f31240fb",
   "metadata": {},
   "outputs": [],
   "source": [
    "test_points_gdf"
=======
   "execution_count": 12,
=======
   "execution_count": null,
>>>>>>> 1f91930 (test notebook for big pipeline and wrapper functions)
   "id": "fb667064-8caa-496d-938f-737498bf71ca",
   "metadata": {
    "tags": []
   },
   "outputs": [],
   "source": [
<<<<<<< HEAD
    "test_points_gdf = points_gdf.iloc[1:3]"
>>>>>>> 2d039ff (big pipeline function and test notebook for big pipeline function)
=======
    "test_points_gdf = points_gdf.iloc[:]"
   ]
  },
  {
   "cell_type": "code",
   "execution_count": null,
   "id": "f31240fb",
   "metadata": {},
   "outputs": [],
   "source": [
    "type(test_points_gdf.index)"
>>>>>>> 1f91930 (test notebook for big pipeline and wrapper functions)
   ]
  },
  {
   "attachments": {},
   "cell_type": "markdown",
   "id": "9860caef",
   "metadata": {
    "tags": []
   },
   "source": [
    "## Check pipeline run"
   ]
  },
  {
   "cell_type": "code",
<<<<<<< HEAD
<<<<<<< HEAD
   "execution_count": null,
   "id": "31433030",
   "metadata": {},
   "outputs": [],
   "source": [
    "from mosaiks.pipeline import get_features"
   ]
  },
  {
   "cell_type": "code",
   "execution_count": null,
   "id": "00262b58",
   "metadata": {},
   "outputs": [],
   "source": [
    "# Run without parallelisation\n",
    "df = get_features(test_points_gdf[\"Lat\"].values,\n",
    "                  test_points_gdf[\"Lon\"].values,\n",
    "                  parallelize=False)\n",
=======
   "execution_count": 14,
=======
   "execution_count": null,
>>>>>>> 1f91930 (test notebook for big pipeline and wrapper functions)
   "id": "00262b58",
   "metadata": {},
   "outputs": [],
   "source": [
    "# Run without parallelisation\n",
    "df = get_features(test_points_gdf,\n",
    "             featurize_with_parallelization=False)"
   ]
  },
  {
   "cell_type": "code",
   "execution_count": null,
   "id": "4381104c",
   "metadata": {},
   "outputs": [],
   "source": [
>>>>>>> 2d039ff (big pipeline function and test notebook for big pipeline function)
    "df"
   ]
  },
  {
   "cell_type": "code",
<<<<<<< HEAD
<<<<<<< HEAD
   "execution_count": null,
   "id": "57760c56",
   "metadata": {},
   "outputs": [],
   "source": [
    "# Run with parallelisation\n",
    "df = get_features(test_points_gdf[\"Lat\"].values,\n",
    "                  test_points_gdf[\"Lon\"].values,\n",
    "                  parallelize=True)\n",
=======
   "execution_count": 16,
   "id": "12ea092d",
   "metadata": {},
   "outputs": [
    {
     "name": "stderr",
     "output_type": "stream",
     "text": [
      "2023-06-30 16:23:44,995 - distributed.diskutils - INFO - Found stale lock file and directory '/home/poornima/IDinsight/MOSAIKS/mosaiks/playground/dask-worker-space/worker-z4dc7f3n', purging\n",
      "2023-06-30 16:23:44,996 - distributed.diskutils - INFO - Found stale lock file and directory '/home/poornima/IDinsight/MOSAIKS/mosaiks/playground/dask-worker-space/worker-tsng3ksg', purging\n",
      "2023-06-30 16:23:44,996 - distributed.diskutils - INFO - Found stale lock file and directory '/home/poornima/IDinsight/MOSAIKS/mosaiks/playground/dask-worker-space/worker-q0dif0i9', purging\n",
      "2023-06-30 16:23:44,996 - distributed.diskutils - INFO - Found stale lock file and directory '/home/poornima/IDinsight/MOSAIKS/mosaiks/playground/dask-worker-space/worker-18oz67nm', purging\n",
      "2023-06-30 16:23:44,997 - distributed.diskutils - INFO - Found stale lock file and directory '/home/poornima/IDinsight/MOSAIKS/mosaiks/playground/dask-worker-space/worker-sd9afcnb', purging\n",
      "2023-06-30 16:23:44,997 - distributed.diskutils - INFO - Found stale lock file and directory '/home/poornima/IDinsight/MOSAIKS/mosaiks/playground/dask-worker-space/worker-1kmur9xe', purging\n",
      "2023-06-30 16:23:44,997 - distributed.diskutils - INFO - Found stale lock file and directory '/home/poornima/IDinsight/MOSAIKS/mosaiks/playground/dask-worker-space/worker-6ao_vrps', purging\n",
      "2023-06-30 16:23:44,997 - distributed.diskutils - INFO - Found stale lock file and directory '/home/poornima/IDinsight/MOSAIKS/mosaiks/playground/dask-worker-space/worker-9x495lox', purging\n",
      "INFO:root:http://127.0.0.1:8787/status\n",
      "INFO:root:Dask client created.\n",
      "/home/poornima/miniconda3/envs/mosaiks/lib/python3.10/site-packages/dask_geopandas/hilbert_distance.py:110: RuntimeWarning: divide by zero encountered in double_scalars\n",
      "  res = (vals - val_range[0]) * (n / width)\n",
      "/home/poornima/miniconda3/envs/mosaiks/lib/python3.10/site-packages/dask_geopandas/hilbert_distance.py:110: RuntimeWarning: invalid value encountered in multiply\n",
      "  res = (vals - val_range[0]) * (n / width)\n",
      "INFO:root:Distributing 2 points across 500-point partitions results in 1 partitions.\n",
      "INFO:root:n_partitions is smaller than n_concurrent. Running all 1 partitions.\n",
      "INFO:root:30-Jun 16:23:45 Running batch: 0 to 0\n",
      "INFO:root:Loading and combining checkpoint files...\n",
      "INFO:root:Dataset size in memory (MB): 0.06408\n"
     ]
    },
    {
     "data": {
      "text/html": [
       "<div>\n",
       "<style scoped>\n",
       "    .dataframe tbody tr th:only-of-type {\n",
       "        vertical-align: middle;\n",
       "    }\n",
       "\n",
       "    .dataframe tbody tr th {\n",
       "        vertical-align: top;\n",
       "    }\n",
       "\n",
       "    .dataframe thead th {\n",
       "        text-align: right;\n",
       "    }\n",
       "</style>\n",
       "<table border=\"1\" class=\"dataframe\">\n",
       "  <thead>\n",
       "    <tr style=\"text-align: right;\">\n",
       "      <th></th>\n",
       "      <th>shrid</th>\n",
       "      <th>Lat</th>\n",
       "      <th>Lon</th>\n",
       "      <th>stac_id</th>\n",
       "      <th>mosaiks_0</th>\n",
       "      <th>mosaiks_1</th>\n",
       "      <th>mosaiks_2</th>\n",
       "      <th>mosaiks_3</th>\n",
       "      <th>mosaiks_4</th>\n",
       "      <th>mosaiks_5</th>\n",
       "      <th>...</th>\n",
       "      <th>mosaiks_3990</th>\n",
       "      <th>mosaiks_3991</th>\n",
       "      <th>mosaiks_3992</th>\n",
       "      <th>mosaiks_3993</th>\n",
       "      <th>mosaiks_3994</th>\n",
       "      <th>mosaiks_3995</th>\n",
       "      <th>mosaiks_3996</th>\n",
       "      <th>mosaiks_3997</th>\n",
       "      <th>mosaiks_3998</th>\n",
       "      <th>mosaiks_3999</th>\n",
       "    </tr>\n",
       "  </thead>\n",
       "  <tbody>\n",
       "    <tr>\n",
       "      <th>318669</th>\n",
       "      <td>11-01-000027</td>\n",
       "      <td>34.454878</td>\n",
       "      <td>74.434486</td>\n",
       "      <td>LC08_L2SP_149036_20130518_02_T1</td>\n",
       "      <td>0.124499</td>\n",
       "      <td>0.0</td>\n",
       "      <td>1.197313</td>\n",
       "      <td>0.324030</td>\n",
       "      <td>0.0</td>\n",
       "      <td>0.0</td>\n",
       "      <td>...</td>\n",
       "      <td>1.527517</td>\n",
       "      <td>0.001513</td>\n",
       "      <td>3.541399</td>\n",
       "      <td>3.915357</td>\n",
       "      <td>1.55329</td>\n",
       "      <td>0.161065</td>\n",
       "      <td>0.015471</td>\n",
       "      <td>0.494030</td>\n",
       "      <td>0.561831</td>\n",
       "      <td>0.153227</td>\n",
       "    </tr>\n",
       "    <tr>\n",
       "      <th>319819</th>\n",
       "      <td>11-01-000016</td>\n",
       "      <td>34.554878</td>\n",
       "      <td>74.434486</td>\n",
       "      <td>LC08_L2SP_149036_20130518_02_T1</td>\n",
       "      <td>0.309566</td>\n",
       "      <td>0.0</td>\n",
       "      <td>1.724156</td>\n",
       "      <td>0.570917</td>\n",
       "      <td>0.0</td>\n",
       "      <td>0.0</td>\n",
       "      <td>...</td>\n",
       "      <td>1.229506</td>\n",
       "      <td>0.000000</td>\n",
       "      <td>4.685640</td>\n",
       "      <td>4.525408</td>\n",
       "      <td>2.05160</td>\n",
       "      <td>0.032356</td>\n",
       "      <td>0.000090</td>\n",
       "      <td>0.212537</td>\n",
       "      <td>0.466521</td>\n",
       "      <td>0.065304</td>\n",
       "    </tr>\n",
       "  </tbody>\n",
       "</table>\n",
       "<p>2 rows × 4004 columns</p>\n",
       "</div>"
      ],
      "text/plain": [
       "               shrid        Lat        Lon                          stac_id  \\\n",
       "318669  11-01-000027  34.454878  74.434486  LC08_L2SP_149036_20130518_02_T1   \n",
       "319819  11-01-000016  34.554878  74.434486  LC08_L2SP_149036_20130518_02_T1   \n",
       "\n",
       "        mosaiks_0  mosaiks_1  mosaiks_2  mosaiks_3  mosaiks_4  mosaiks_5  ...  \\\n",
       "318669   0.124499        0.0   1.197313   0.324030        0.0        0.0  ...   \n",
       "319819   0.309566        0.0   1.724156   0.570917        0.0        0.0  ...   \n",
       "\n",
       "        mosaiks_3990  mosaiks_3991  mosaiks_3992  mosaiks_3993  mosaiks_3994  \\\n",
       "318669      1.527517      0.001513      3.541399      3.915357       1.55329   \n",
       "319819      1.229506      0.000000      4.685640      4.525408       2.05160   \n",
       "\n",
       "        mosaiks_3995  mosaiks_3996  mosaiks_3997  mosaiks_3998  mosaiks_3999  \n",
       "318669      0.161065      0.015471      0.494030      0.561831      0.153227  \n",
       "319819      0.032356      0.000090      0.212537      0.466521      0.065304  \n",
       "\n",
       "[2 rows x 4004 columns]"
      ]
     },
     "execution_count": 16,
     "metadata": {},
     "output_type": "execute_result"
    }
   ],
   "source": [
    "# Run with parallelisation\n",
    "df = get_features(test_points_gdf, featurization_config, satellite_config,\n",
    "             featurize_with_parallelization=True,\n",
    "             dask_cluster_config={\"client_type\": \"local\"})\n",
>>>>>>> 2d039ff (big pipeline function and test notebook for big pipeline function)
    "df"
   ]
  },
  {
   "cell_type": "code",
   "execution_count": null,
<<<<<<< HEAD
   "id": "a74b672f",
   "metadata": {},
   "outputs": [],
   "source": [
    "# Check wrapper function\n",
    "from mosaiks.extras import load_and_save_features\n",
    "load_and_save_features(input_file_path=\"../tests/data/test_points.csv\",\n",
    "                       path_to_save_data=\"../tests/data/test_features.csv\",\n",
    "                       context_cols_to_keep_from_input=[\"Lat\", \"Lon\"],)"
=======
   "execution_count": null,
   "id": "12ea092d",
   "metadata": {},
   "outputs": [],
   "source": [
    "# Run with parallelisation\n",
    "df = get_features(test_points_gdf,\n",
    "             featurize_with_parallelization=True)\n",
    "df"
   ]
  },
  {
   "attachments": {},
   "cell_type": "markdown",
   "id": "0e0c9a9d",
   "metadata": {},
   "source": [
    "## Check wrapper pipeline functions"
>>>>>>> 1f91930 (test notebook for big pipeline and wrapper functions)
   ]
  },
  {
   "cell_type": "code",
   "execution_count": null,
<<<<<<< HEAD
   "id": "bb0d7f8e",
=======
   "id": "972ab2fb",
>>>>>>> 2d039ff (big pipeline function and test notebook for big pipeline function)
=======
   "id": "172eaf03",
   "metadata": {},
   "outputs": [],
   "source": [
    "from mosaiks.extras.wrapper_pipeline_functions import load_data_and_save_created_features\n",
    "dataset = {\"dataset_name\": \"test_dataset\",\n",
    "            \"context_col_names_to_keep\": [\"Lat\", \"Lon\"],\n",
    "            \"input\": {\"folder\": \"../tests/data\",\n",
    "                        \"filename\": \"test_points.csv\",\n",
    "                        \"relative_path_is_root_folder\": False},\n",
    "            \"output\": {\"folder\": \"../tests/data\",\n",
    "                        \"filename\": \"test_points_with_features.csv\",\n",
    "                        \"relative_path_is_root_folder\": False}\n",
    "            }\n",
    "\n",
    "load_data_and_save_created_features(dataset,\n",
    "featurize_with_parallelization=False,\n",
    ")"
   ]
  },
  {
   "cell_type": "code",
   "execution_count": null,
   "id": "0cf5cb23",
>>>>>>> 1f91930 (test notebook for big pipeline and wrapper functions)
   "metadata": {},
   "outputs": [],
   "source": [
    "from mosaiks import utils as utl\n",
    "\n",
    "# Test with changed featurisation / satellite configs\n",
    "featurisation_config = utl.load_yaml_config(\"featurisation_config.yaml\")\n",
    "satellite_config = utl.load_yaml_config(\"satellite_config.yaml\")\n",
    "# satellite_config.pop(\"landsat-8-c2-l2\")\n",
    "# featurisation_config[\"satellite_search_params\"][\"satellite_name\"] = \"\""
   ]
  },
  {
   "cell_type": "code",
   "execution_count": null,
   "id": "5b83fa68",
   "metadata": {},
   "outputs": [],
   "source": [
    "\n",
    "load_data_and_save_created_features(dataset,\n",
    "featurisation_config=featurisation_config,\n",
    "# satellite_config=satellite_config,\n",
    "featurize_with_parallelization=False)\n",
    "\n"
   ]
  },
  {
   "cell_type": "code",
   "execution_count": null,
   "id": "7e975023",
   "metadata": {},
   "outputs": [],
   "source": []
  }
 ],
 "metadata": {
  "kernelspec": {
   "display_name": "Python 3 (ipykernel)",
   "language": "python",
   "name": "python3"
  },
  "language_info": {
   "codemirror_mode": {
    "name": "ipython",
    "version": 3
   },
   "file_extension": ".py",
   "mimetype": "text/x-python",
   "name": "python",
   "nbconvert_exporter": "python",
   "pygments_lexer": "ipython3",
   "version": "3.10.11"
  }
 },
 "nbformat": 4,
 "nbformat_minor": 5
}
