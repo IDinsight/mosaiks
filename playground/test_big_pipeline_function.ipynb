{
 "cells": [
  {
   "attachments": {},
   "cell_type": "markdown",
   "id": "cb8b2e2a-8dd2-49e4-a894-27a3a4794276",
   "metadata": {
    "tags": []
   },
   "source": [
    "# Notebook prep"
   ]
  },
  {
   "cell_type": "code",

   "execution_count": null,
   "execution_count": null,
   "id": "8a082089-9f4a-486e-a3a5-4b41cb161c5d",
   "metadata": {
    "tags": []
   },
   "outputs": [],
   "source": [
    "%load_ext autoreload\n",
    "%autoreload 2"
   ]
  },
  {
   "attachments": {},
   "cell_type": "markdown",
   "id": "7ac2b0d2",
   "metadata": {
    "tags": []
   },
   "source": [
    "## Import packages"
   ]
  },
  {
   "cell_type": "code",
   "execution_count": 2,
   "id": "34e01b17",
   "metadata": {},
   "outputs": [],
   "source": [
    "# Set the below env var so that GeoPandas only uses Shapely.\n",
    "# This is to avoid a conflict between Shapely and PyGEOS. \n",
    "# NOTE: Must happen before geopandas import\n",
    "import os\n",
    "os.environ[\"USE_PYGEOS\"] = \"0\""
   ]
  },
  {
   "attachments": {},
   "cell_type": "markdown",
   "id": "3eeb924c-7f6c-429f-93fb-2a1eabe394e4",
   "metadata": {
    "tags": []
   },
   "source": [
    "# Load params + defaults"
   ]
  },
  {
   "cell_type": "code",
   "execution_count": 9,
   "id": "0fb14555-bbba-4e63-a157-4a247e1af77a",
   "metadata": {
    "tags": []
   },
   "outputs": [],
   "source": [
    "featurization_config = utl.load_yaml_config(\"featurisation.yaml\")\n",
    "satellite_config = utl.load_yaml_config(\"satellite_config.yaml\")\n",
    "satellite_config = satellite_config[\n",
    "    featurization_config[\"satellite_search_params\"][\"satellite_name\"]\n",
    "]"
   ]
  },
  {
>>>>>>> 2d039ff (big pipeline function and test notebook for big pipeline function)
   "attachments": {},
   "cell_type": "markdown",
=======
>>>>>>> 1f91930 (test notebook for big pipeline and wrapper functions)
   "id": "34df2287-cc11-43b0-b20b-feef6f4d15ba",
   "metadata": {
    "tags": []
   },
   "source": [
    "# Load Data"
   ]
  },
  {
   "cell_type": "code",
<<<<<<< HEAD
<<<<<<< HEAD
<<<<<<< HEAD
<<<<<<< HEAD
<<<<<<< HEAD
   "execution_count": null,
=======
   "execution_count": 10,
>>>>>>> 2d039ff (big pipeline function and test notebook for big pipeline function)
=======
   "execution_count": null,
>>>>>>> 1f91930 (test notebook for big pipeline and wrapper functions)
=======
   "execution_count": 2,
>>>>>>> e72d707 (fixing tests to run without config dicts)
=======
   "execution_count": 2,
>>>>>>> a531595 (fixing tests to run without config dicts)
=======
   "execution_count": 3,
>>>>>>> 61db2e3 (remove extras)
   "id": "6a4b510b-ad70-4af3-89d7-64f0899ed88b",
   "metadata": {
    "tags": []
   },
   "outputs": [],
   "source": [
<<<<<<< HEAD
<<<<<<< HEAD
    "import pandas as pd"
=======
    "request_points_gdf = utl.load_dataframe(\n",
    "    dataset_name=featurization_config[\"coord_set\"][\"coord_set_name\"]\n",
    ")"
>>>>>>> 2d039ff (big pipeline function and test notebook for big pipeline function)
=======
    "import pandas as pd"
>>>>>>> 1f91930 (test notebook for big pipeline and wrapper functions)
   ]
  },
  {
   "cell_type": "code",
<<<<<<< HEAD
<<<<<<< HEAD
<<<<<<< HEAD
<<<<<<< HEAD
<<<<<<< HEAD
   "execution_count": null,
=======
   "execution_count": 11,
>>>>>>> 2d039ff (big pipeline function and test notebook for big pipeline function)
=======
   "execution_count": null,
>>>>>>> 1f91930 (test notebook for big pipeline and wrapper functions)
=======
   "execution_count": 3,
>>>>>>> e72d707 (fixing tests to run without config dicts)
=======
   "execution_count": 3,
>>>>>>> a531595 (fixing tests to run without config dicts)
=======
   "execution_count": 4,
>>>>>>> 61db2e3 (remove extras)
   "id": "7bb02df6-3c70-496c-bcff-364957b6e4d3",
   "metadata": {
    "tags": []
   },
   "outputs": [],
   "source": [
    "# Select random 1000 points (for testing)\n",
<<<<<<< HEAD
<<<<<<< HEAD
<<<<<<< HEAD
    "points_gdf = pd.read_csv(\"../tests/data/test_points.csv\")\n",
    "test_points_gdf = points_gdf.iloc[:2]"
=======
    "points_gdf = request_points_gdf.iloc[:1000]"
>>>>>>> 2d039ff (big pipeline function and test notebook for big pipeline function)
=======
    "points_gdf = pd.read_csv(\"../tests/data/test_points.csv\")"
>>>>>>> 1f91930 (test notebook for big pipeline and wrapper functions)
   ]
  },
  {
   "cell_type": "code",
<<<<<<< HEAD
<<<<<<< HEAD
<<<<<<< HEAD
<<<<<<< HEAD
   "execution_count": null,
   "id": "f31240fb",
   "metadata": {},
   "outputs": [],
   "source": [
    "test_points_gdf"
=======
   "execution_count": 12,
=======
   "execution_count": null,
>>>>>>> 1f91930 (test notebook for big pipeline and wrapper functions)
=======
   "execution_count": 4,
>>>>>>> e72d707 (fixing tests to run without config dicts)
=======
   "execution_count": 4,
>>>>>>> a531595 (fixing tests to run without config dicts)
   "id": "fb667064-8caa-496d-938f-737498bf71ca",
   "metadata": {
    "tags": []
   },
   "outputs": [],
   "source": [
<<<<<<< HEAD
<<<<<<< HEAD
    "test_points_gdf = points_gdf.iloc[1:3]"
>>>>>>> 2d039ff (big pipeline function and test notebook for big pipeline function)
=======
    "test_points_gdf = points_gdf.iloc[:]"
=======
=======
    "points_gdf = pd.read_csv(\"../tests/data/test_points.csv\")\n",
>>>>>>> 61db2e3 (remove extras)
    "test_points_gdf = points_gdf.iloc[:2]"
>>>>>>> e72d707 (fixing tests to run without config dicts)
   ]
  },
  {
   "cell_type": "code",
   "execution_count": 5,
   "id": "f31240fb",
   "metadata": {},
   "outputs": [
    {
     "data": {
      "text/html": [
       "<div>\n",
       "<style scoped>\n",
       "    .dataframe tbody tr th:only-of-type {\n",
       "        vertical-align: middle;\n",
       "    }\n",
       "\n",
       "    .dataframe tbody tr th {\n",
       "        vertical-align: top;\n",
       "    }\n",
       "\n",
       "    .dataframe thead th {\n",
       "        text-align: right;\n",
       "    }\n",
       "</style>\n",
       "<table border=\"1\" class=\"dataframe\">\n",
       "  <thead>\n",
       "    <tr style=\"text-align: right;\">\n",
       "      <th></th>\n",
       "      <th>Lon</th>\n",
       "      <th>Lat</th>\n",
       "      <th>geometry</th>\n",
       "    </tr>\n",
       "  </thead>\n",
       "  <tbody>\n",
       "    <tr>\n",
       "      <th>0</th>\n",
       "      <td>80.992667</td>\n",
       "      <td>20.696270</td>\n",
       "      <td>POINT (80.99266676800818 20.69626983451712)</td>\n",
       "    </tr>\n",
       "    <tr>\n",
       "      <th>1</th>\n",
       "      <td>87.669835</td>\n",
       "      <td>22.444757</td>\n",
       "      <td>POINT (87.66983526590248 22.4447569343096)</td>\n",
       "    </tr>\n",
       "  </tbody>\n",
       "</table>\n",
       "</div>"
      ],
      "text/plain": [
       "         Lon        Lat                                     geometry\n",
       "0  80.992667  20.696270  POINT (80.99266676800818 20.69626983451712)\n",
       "1  87.669835  22.444757   POINT (87.66983526590248 22.4447569343096)"
      ]
     },
     "execution_count": 5,
     "metadata": {},
     "output_type": "execute_result"
    }
   ],
   "source": [
<<<<<<< HEAD
    "type(test_points_gdf.index)"
>>>>>>> 1f91930 (test notebook for big pipeline and wrapper functions)
=======
    "test_points_gdf"
>>>>>>> e72d707 (fixing tests to run without config dicts)
   ]
  },
  {
   "attachments": {},
   "cell_type": "markdown",
   "id": "9860caef",
   "metadata": {
    "tags": []
   },
   "source": [
    "## Check pipeline run"
   ]
  },
  {
   "cell_type": "code",
<<<<<<< HEAD
<<<<<<< HEAD
<<<<<<< HEAD
<<<<<<< HEAD
   "execution_count": null,
   "id": "31433030",
   "metadata": {},
   "outputs": [],
=======
   "execution_count": 10,
   "id": "31433030",
   "metadata": {},
   "outputs": [
    {
     "ename": "ModuleNotFoundError",
     "evalue": "No module named 'mosaiks.checks'",
     "output_type": "error",
     "traceback": [
      "\u001b[0;31m---------------------------------------------------------------------------\u001b[0m",
      "\u001b[0;31mModuleNotFoundError\u001b[0m                       Traceback (most recent call last)",
      "Cell \u001b[0;32mIn[10], line 1\u001b[0m\n\u001b[0;32m----> 1\u001b[0m \u001b[39mfrom\u001b[39;00m \u001b[39mmosaiks\u001b[39;00m\u001b[39m.\u001b[39;00m\u001b[39mpipeline\u001b[39;00m \u001b[39mimport\u001b[39;00m get_features\n",
      "File \u001b[0;32m~/IDinsight/MOSAIKS/mosaiks/src/mosaiks/__init__.py:1\u001b[0m\n\u001b[0;32m----> 1\u001b[0m \u001b[39mfrom\u001b[39;00m \u001b[39m.\u001b[39;00m\u001b[39mpipeline\u001b[39;00m \u001b[39mimport\u001b[39;00m get_features\n\u001b[1;32m      2\u001b[0m \u001b[39mfrom\u001b[39;00m \u001b[39m.\u001b[39;00m\u001b[39mextras\u001b[39;00m \u001b[39mimport\u001b[39;00m load_and_save_features\n\u001b[1;32m      4\u001b[0m __version__ \u001b[39m=\u001b[39m \u001b[39m\"\u001b[39m\u001b[39m0.0.1rc\u001b[39m\u001b[39m\"\u001b[39m\n",
      "File \u001b[0;32m~/IDinsight/MOSAIKS/mosaiks/src/mosaiks/pipeline.py:15\u001b[0m\n\u001b[1;32m      9\u001b[0m \u001b[39mfrom\u001b[39;00m \u001b[39mmosaiks\u001b[39;00m\u001b[39m.\u001b[39;00m\u001b[39mdask\u001b[39;00m \u001b[39mimport\u001b[39;00m (\n\u001b[1;32m     10\u001b[0m     get_dask_client,\n\u001b[1;32m     11\u001b[0m     get_features_without_parallelization,\n\u001b[1;32m     12\u001b[0m     run_batched_delayed_pipeline,\n\u001b[1;32m     13\u001b[0m )\n\u001b[1;32m     14\u001b[0m \u001b[39mfrom\u001b[39;00m \u001b[39mmosaiks\u001b[39;00m\u001b[39m.\u001b[39;00m\u001b[39mfeaturize\u001b[39;00m \u001b[39mimport\u001b[39;00m RCF\n\u001b[0;32m---> 15\u001b[0m \u001b[39mimport\u001b[39;00m \u001b[39mmosaiks\u001b[39;00m\u001b[39m.\u001b[39;00m\u001b[39mchecks\u001b[39;00m \u001b[39mas\u001b[39;00m \u001b[39mchecks\u001b[39;00m\n\u001b[1;32m     18\u001b[0m \u001b[39m# Rasterio variables\u001b[39;00m\n\u001b[1;32m     19\u001b[0m \u001b[39m# See https://github.com/pangeo-data/cog-best-practices\u001b[39;00m\n\u001b[1;32m     20\u001b[0m RASTERIO_CONFIG \u001b[39m=\u001b[39m {\n\u001b[1;32m     21\u001b[0m     \u001b[39m\"\u001b[39m\u001b[39mGDAL_DISABLE_READDIR_ON_OPEN\u001b[39m\u001b[39m\"\u001b[39m : \u001b[39m\"\u001b[39m\u001b[39mEMPTY_DIR\u001b[39m\u001b[39m\"\u001b[39m,\n\u001b[1;32m     22\u001b[0m     \u001b[39m\"\u001b[39m\u001b[39mGDAL_MAX_RAW_BLOCK_CACHE_SIZE\u001b[39m\u001b[39m\"\u001b[39m : \u001b[39m\"\u001b[39m\u001b[39m200000000\u001b[39m\u001b[39m\"\u001b[39m,\n\u001b[0;32m   (...)\u001b[0m\n\u001b[1;32m     25\u001b[0m     \u001b[39m\"\u001b[39m\u001b[39mAWS_REQUEST_PAYER\u001b[39m\u001b[39m\"\u001b[39m : \u001b[39m\"\u001b[39m\u001b[39mrequester\u001b[39m\u001b[39m\"\u001b[39m,\n\u001b[1;32m     26\u001b[0m }\n",
      "\u001b[0;31mModuleNotFoundError\u001b[0m: No module named 'mosaiks.checks'"
     ]
    }
   ],
>>>>>>> 61db2e3 (remove extras)
=======
   "execution_count": 12,
   "id": "31433030",
   "metadata": {},
   "outputs": [],
>>>>>>> 81d439d (add checks to pipeline)
   "source": [
    "from mosaiks.pipeline import get_features"
   ]
  },
  {
   "cell_type": "code",
   "execution_count": 13,
   "id": "00262b58",
   "metadata": {},
   "outputs": [
    {
     "data": {
      "text/html": [
       "<div>\n",
       "<style scoped>\n",
       "    .dataframe tbody tr th:only-of-type {\n",
       "        vertical-align: middle;\n",
       "    }\n",
       "\n",
       "    .dataframe tbody tr th {\n",
       "        vertical-align: top;\n",
       "    }\n",
       "\n",
       "    .dataframe thead th {\n",
       "        text-align: right;\n",
       "    }\n",
       "</style>\n",
       "<table border=\"1\" class=\"dataframe\">\n",
       "  <thead>\n",
       "    <tr style=\"text-align: right;\">\n",
       "      <th></th>\n",
       "      <th>mosaiks_0</th>\n",
       "      <th>mosaiks_1</th>\n",
       "      <th>mosaiks_2</th>\n",
       "      <th>mosaiks_3</th>\n",
       "      <th>mosaiks_4</th>\n",
       "      <th>mosaiks_5</th>\n",
       "      <th>mosaiks_6</th>\n",
       "      <th>mosaiks_7</th>\n",
       "      <th>mosaiks_8</th>\n",
       "      <th>mosaiks_9</th>\n",
       "      <th>...</th>\n",
       "      <th>mosaiks_3991</th>\n",
       "      <th>mosaiks_3992</th>\n",
       "      <th>mosaiks_3993</th>\n",
       "      <th>mosaiks_3994</th>\n",
       "      <th>mosaiks_3995</th>\n",
       "      <th>mosaiks_3996</th>\n",
       "      <th>mosaiks_3997</th>\n",
       "      <th>mosaiks_3998</th>\n",
       "      <th>mosaiks_3999</th>\n",
       "      <th>stac_id</th>\n",
       "    </tr>\n",
       "  </thead>\n",
       "  <tbody>\n",
       "    <tr>\n",
       "      <th>0</th>\n",
       "      <td>0.0</td>\n",
       "      <td>1.132095</td>\n",
       "      <td>0.0</td>\n",
       "      <td>0.0</td>\n",
       "      <td>1.768838</td>\n",
       "      <td>0.002013</td>\n",
       "      <td>1.06443</td>\n",
       "      <td>0.000000</td>\n",
       "      <td>0.305191</td>\n",
       "      <td>1.459872</td>\n",
       "      <td>...</td>\n",
       "      <td>0.0</td>\n",
       "      <td>3.174064</td>\n",
       "      <td>0.0</td>\n",
       "      <td>6.016478</td>\n",
       "      <td>1.258378</td>\n",
       "      <td>0.031358</td>\n",
       "      <td>2.757475</td>\n",
       "      <td>3.929605</td>\n",
       "      <td>0.000000</td>\n",
       "      <td>LC08_L2SP_143046_20131218_02_T1</td>\n",
       "    </tr>\n",
       "    <tr>\n",
       "      <th>1</th>\n",
       "      <td>0.0</td>\n",
       "      <td>1.470792</td>\n",
       "      <td>0.0</td>\n",
       "      <td>0.0</td>\n",
       "      <td>1.922833</td>\n",
       "      <td>0.001041</td>\n",
       "      <td>1.40169</td>\n",
       "      <td>0.000008</td>\n",
       "      <td>0.169382</td>\n",
       "      <td>1.917281</td>\n",
       "      <td>...</td>\n",
       "      <td>0.0</td>\n",
       "      <td>3.267634</td>\n",
       "      <td>0.0</td>\n",
       "      <td>6.580562</td>\n",
       "      <td>1.111371</td>\n",
       "      <td>0.010048</td>\n",
       "      <td>2.529325</td>\n",
       "      <td>4.186214</td>\n",
       "      <td>0.000072</td>\n",
       "      <td>LC08_L2SP_139044_20130426_02_T1</td>\n",
       "    </tr>\n",
       "  </tbody>\n",
       "</table>\n",
       "<p>2 rows × 4001 columns</p>\n",
       "</div>"
      ],
      "text/plain": [
       "   mosaiks_0  mosaiks_1  mosaiks_2  mosaiks_3  mosaiks_4  mosaiks_5  \\\n",
       "0        0.0   1.132095        0.0        0.0   1.768838   0.002013   \n",
       "1        0.0   1.470792        0.0        0.0   1.922833   0.001041   \n",
       "\n",
       "   mosaiks_6  mosaiks_7  mosaiks_8  mosaiks_9  ...  mosaiks_3991  \\\n",
       "0    1.06443   0.000000   0.305191   1.459872  ...           0.0   \n",
       "1    1.40169   0.000008   0.169382   1.917281  ...           0.0   \n",
       "\n",
       "   mosaiks_3992  mosaiks_3993  mosaiks_3994  mosaiks_3995  mosaiks_3996  \\\n",
       "0      3.174064           0.0      6.016478      1.258378      0.031358   \n",
       "1      3.267634           0.0      6.580562      1.111371      0.010048   \n",
       "\n",
       "   mosaiks_3997  mosaiks_3998  mosaiks_3999                          stac_id  \n",
       "0      2.757475      3.929605      0.000000  LC08_L2SP_143046_20131218_02_T1  \n",
       "1      2.529325      4.186214      0.000072  LC08_L2SP_139044_20130426_02_T1  \n",
       "\n",
       "[2 rows x 4001 columns]"
      ]
     },
     "execution_count": 13,
     "metadata": {},
     "output_type": "execute_result"
    }
   ],
   "source": [
    "# Run without parallelisation\n",
    "df = get_features(test_points_gdf[\"Lat\"].values,\n",
    "                  test_points_gdf[\"Lon\"].values,\n",
    "                  parallelize=False)\n",
=======
   "execution_count": 14,
=======
   "execution_count": null,
>>>>>>> 1f91930 (test notebook for big pipeline and wrapper functions)
   "id": "00262b58",
   "metadata": {},
   "outputs": [],
   "source": [
    "# Run without parallelisation\n",
<<<<<<< HEAD
    "df = get_features(test_points_gdf,\n",
    "             featurize_with_parallelization=False)"
   ]
  },
  {
   "cell_type": "code",
   "execution_count": null,
   "id": "4381104c",
   "metadata": {},
   "outputs": [],
   "source": [
>>>>>>> 2d039ff (big pipeline function and test notebook for big pipeline function)
=======
    "df = get_features(test_points_gdf[\"Lat\"].values,\n",
    "                  test_points_gdf[\"Lon\"].values,\n",
    "                  parallelize=False)\n",
>>>>>>> e72d707 (fixing tests to run without config dicts)
    "df"
   ]
  },
  {
   "cell_type": "code",
<<<<<<< HEAD
<<<<<<< HEAD
<<<<<<< HEAD
   "execution_count": null,
   "id": "57760c56",
   "metadata": {},
   "outputs": [],
   "source": [
    "# Run with parallelisation\n",
    "df = get_features(test_points_gdf[\"Lat\"].values,\n",
    "                  test_points_gdf[\"Lon\"].values,\n",
    "                  parallelize=True)\n",
=======
   "execution_count": 16,
   "id": "12ea092d",
   "metadata": {},
   "outputs": [
    {
     "name": "stderr",
     "output_type": "stream",
     "text": [
      "2023-06-30 16:23:44,995 - distributed.diskutils - INFO - Found stale lock file and directory '/home/poornima/IDinsight/MOSAIKS/mosaiks/playground/dask-worker-space/worker-z4dc7f3n', purging\n",
      "2023-06-30 16:23:44,996 - distributed.diskutils - INFO - Found stale lock file and directory '/home/poornima/IDinsight/MOSAIKS/mosaiks/playground/dask-worker-space/worker-tsng3ksg', purging\n",
      "2023-06-30 16:23:44,996 - distributed.diskutils - INFO - Found stale lock file and directory '/home/poornima/IDinsight/MOSAIKS/mosaiks/playground/dask-worker-space/worker-q0dif0i9', purging\n",
      "2023-06-30 16:23:44,996 - distributed.diskutils - INFO - Found stale lock file and directory '/home/poornima/IDinsight/MOSAIKS/mosaiks/playground/dask-worker-space/worker-18oz67nm', purging\n",
      "2023-06-30 16:23:44,997 - distributed.diskutils - INFO - Found stale lock file and directory '/home/poornima/IDinsight/MOSAIKS/mosaiks/playground/dask-worker-space/worker-sd9afcnb', purging\n",
      "2023-06-30 16:23:44,997 - distributed.diskutils - INFO - Found stale lock file and directory '/home/poornima/IDinsight/MOSAIKS/mosaiks/playground/dask-worker-space/worker-1kmur9xe', purging\n",
      "2023-06-30 16:23:44,997 - distributed.diskutils - INFO - Found stale lock file and directory '/home/poornima/IDinsight/MOSAIKS/mosaiks/playground/dask-worker-space/worker-6ao_vrps', purging\n",
      "2023-06-30 16:23:44,997 - distributed.diskutils - INFO - Found stale lock file and directory '/home/poornima/IDinsight/MOSAIKS/mosaiks/playground/dask-worker-space/worker-9x495lox', purging\n",
      "INFO:root:http://127.0.0.1:8787/status\n",
      "INFO:root:Dask client created.\n",
      "/home/poornima/miniconda3/envs/mosaiks/lib/python3.10/site-packages/dask_geopandas/hilbert_distance.py:110: RuntimeWarning: divide by zero encountered in double_scalars\n",
      "  res = (vals - val_range[0]) * (n / width)\n",
      "/home/poornima/miniconda3/envs/mosaiks/lib/python3.10/site-packages/dask_geopandas/hilbert_distance.py:110: RuntimeWarning: invalid value encountered in multiply\n",
      "  res = (vals - val_range[0]) * (n / width)\n",
      "INFO:root:Distributing 2 points across 500-point partitions results in 1 partitions.\n",
      "INFO:root:n_partitions is smaller than n_concurrent. Running all 1 partitions.\n",
      "INFO:root:30-Jun 16:23:45 Running batch: 0 to 0\n",
      "INFO:root:Loading and combining checkpoint files...\n",
      "INFO:root:Dataset size in memory (MB): 0.06408\n"
     ]
    },
    {
     "data": {
      "text/html": [
       "<div>\n",
       "<style scoped>\n",
       "    .dataframe tbody tr th:only-of-type {\n",
       "        vertical-align: middle;\n",
       "    }\n",
       "\n",
       "    .dataframe tbody tr th {\n",
       "        vertical-align: top;\n",
       "    }\n",
       "\n",
       "    .dataframe thead th {\n",
       "        text-align: right;\n",
       "    }\n",
       "</style>\n",
       "<table border=\"1\" class=\"dataframe\">\n",
       "  <thead>\n",
       "    <tr style=\"text-align: right;\">\n",
       "      <th></th>\n",
       "      <th>shrid</th>\n",
       "      <th>Lat</th>\n",
       "      <th>Lon</th>\n",
       "      <th>stac_id</th>\n",
       "      <th>mosaiks_0</th>\n",
       "      <th>mosaiks_1</th>\n",
       "      <th>mosaiks_2</th>\n",
       "      <th>mosaiks_3</th>\n",
       "      <th>mosaiks_4</th>\n",
       "      <th>mosaiks_5</th>\n",
       "      <th>...</th>\n",
       "      <th>mosaiks_3990</th>\n",
       "      <th>mosaiks_3991</th>\n",
       "      <th>mosaiks_3992</th>\n",
       "      <th>mosaiks_3993</th>\n",
       "      <th>mosaiks_3994</th>\n",
       "      <th>mosaiks_3995</th>\n",
       "      <th>mosaiks_3996</th>\n",
       "      <th>mosaiks_3997</th>\n",
       "      <th>mosaiks_3998</th>\n",
       "      <th>mosaiks_3999</th>\n",
       "    </tr>\n",
       "  </thead>\n",
       "  <tbody>\n",
       "    <tr>\n",
       "      <th>318669</th>\n",
       "      <td>11-01-000027</td>\n",
       "      <td>34.454878</td>\n",
       "      <td>74.434486</td>\n",
       "      <td>LC08_L2SP_149036_20130518_02_T1</td>\n",
       "      <td>0.124499</td>\n",
       "      <td>0.0</td>\n",
       "      <td>1.197313</td>\n",
       "      <td>0.324030</td>\n",
       "      <td>0.0</td>\n",
       "      <td>0.0</td>\n",
       "      <td>...</td>\n",
       "      <td>1.527517</td>\n",
       "      <td>0.001513</td>\n",
       "      <td>3.541399</td>\n",
       "      <td>3.915357</td>\n",
       "      <td>1.55329</td>\n",
       "      <td>0.161065</td>\n",
       "      <td>0.015471</td>\n",
       "      <td>0.494030</td>\n",
       "      <td>0.561831</td>\n",
       "      <td>0.153227</td>\n",
       "    </tr>\n",
       "    <tr>\n",
       "      <th>319819</th>\n",
       "      <td>11-01-000016</td>\n",
       "      <td>34.554878</td>\n",
       "      <td>74.434486</td>\n",
       "      <td>LC08_L2SP_149036_20130518_02_T1</td>\n",
       "      <td>0.309566</td>\n",
       "      <td>0.0</td>\n",
       "      <td>1.724156</td>\n",
       "      <td>0.570917</td>\n",
       "      <td>0.0</td>\n",
       "      <td>0.0</td>\n",
       "      <td>...</td>\n",
       "      <td>1.229506</td>\n",
       "      <td>0.000000</td>\n",
       "      <td>4.685640</td>\n",
       "      <td>4.525408</td>\n",
       "      <td>2.05160</td>\n",
       "      <td>0.032356</td>\n",
       "      <td>0.000090</td>\n",
       "      <td>0.212537</td>\n",
       "      <td>0.466521</td>\n",
       "      <td>0.065304</td>\n",
       "    </tr>\n",
       "  </tbody>\n",
       "</table>\n",
       "<p>2 rows × 4004 columns</p>\n",
       "</div>"
      ],
      "text/plain": [
       "               shrid        Lat        Lon                          stac_id  \\\n",
       "318669  11-01-000027  34.454878  74.434486  LC08_L2SP_149036_20130518_02_T1   \n",
       "319819  11-01-000016  34.554878  74.434486  LC08_L2SP_149036_20130518_02_T1   \n",
       "\n",
       "        mosaiks_0  mosaiks_1  mosaiks_2  mosaiks_3  mosaiks_4  mosaiks_5  ...  \\\n",
       "318669   0.124499        0.0   1.197313   0.324030        0.0        0.0  ...   \n",
       "319819   0.309566        0.0   1.724156   0.570917        0.0        0.0  ...   \n",
       "\n",
       "        mosaiks_3990  mosaiks_3991  mosaiks_3992  mosaiks_3993  mosaiks_3994  \\\n",
       "318669      1.527517      0.001513      3.541399      3.915357       1.55329   \n",
       "319819      1.229506      0.000000      4.685640      4.525408       2.05160   \n",
       "\n",
       "        mosaiks_3995  mosaiks_3996  mosaiks_3997  mosaiks_3998  mosaiks_3999  \n",
       "318669      0.161065      0.015471      0.494030      0.561831      0.153227  \n",
       "319819      0.032356      0.000090      0.212537      0.466521      0.065304  \n",
       "\n",
       "[2 rows x 4004 columns]"
      ]
     },
     "execution_count": 16,
     "metadata": {},
     "output_type": "execute_result"
    }
   ],
   "source": [
    "# Run with parallelisation\n",
    "df = get_features(test_points_gdf, featurization_config, satellite_config,\n",
    "             featurize_with_parallelization=True,\n",
    "             dask_cluster_config={\"client_type\": \"local\"})\n",
>>>>>>> 2d039ff (big pipeline function and test notebook for big pipeline function)
    "df"
   ]
  },
  {
   "cell_type": "code",
   "execution_count": null,
<<<<<<< HEAD
   "id": "a74b672f",
   "metadata": {},
   "outputs": [],
   "source": [
    "# Check wrapper function\n",
    "from mosaiks.extras import load_and_save_features\n",
    "load_and_save_features(input_file_path=\"../tests/data/test_points.csv\",\n",
    "                       path_to_save_data=\"../tests/data/test_features.csv\",\n",
    "                       context_cols_to_keep_from_input=[\"Lat\", \"Lon\"],)"
=======
   "execution_count": null,
=======
   "execution_count": 14,
>>>>>>> 81d439d (add checks to pipeline)
   "id": "57760c56",
   "metadata": {},
   "outputs": [
    {
     "name": "stderr",
     "output_type": "stream",
     "text": [
      "2023-07-07 16:24:23,798 - distributed.diskutils - INFO - Found stale lock file and directory '/home/poornima/IDinsight/MOSAIKS/mosaiks/playground/dask-worker-space/worker-6br_hh7g', purging\n",
      "2023-07-07 16:24:23,799 - distributed.diskutils - INFO - Found stale lock file and directory '/home/poornima/IDinsight/MOSAIKS/mosaiks/playground/dask-worker-space/worker-s_q3qgjo', purging\n",
      "2023-07-07 16:24:23,800 - distributed.diskutils - INFO - Found stale lock file and directory '/home/poornima/IDinsight/MOSAIKS/mosaiks/playground/dask-worker-space/worker-y3myjrdi', purging\n",
      "2023-07-07 16:24:23,800 - distributed.diskutils - INFO - Found stale lock file and directory '/home/poornima/IDinsight/MOSAIKS/mosaiks/playground/dask-worker-space/worker-uzosiwtf', purging\n",
      "2023-07-07 16:24:23,800 - distributed.diskutils - INFO - Found stale lock file and directory '/home/poornima/IDinsight/MOSAIKS/mosaiks/playground/dask-worker-space/worker-nq6lrdyk', purging\n",
      "2023-07-07 16:24:23,801 - distributed.diskutils - INFO - Found stale lock file and directory '/home/poornima/IDinsight/MOSAIKS/mosaiks/playground/dask-worker-space/worker-en91uzaa', purging\n",
      "2023-07-07 16:24:23,802 - distributed.diskutils - INFO - Found stale lock file and directory '/home/poornima/IDinsight/MOSAIKS/mosaiks/playground/dask-worker-space/worker-hpuz6a7o', purging\n",
      "2023-07-07 16:24:23,802 - distributed.diskutils - INFO - Found stale lock file and directory '/home/poornima/IDinsight/MOSAIKS/mosaiks/playground/dask-worker-space/worker-0mp6xmvm', purging\n",
      "2023-07-07 16:24:23,802 - distributed.diskutils - INFO - Found stale lock file and directory '/home/poornima/IDinsight/MOSAIKS/mosaiks/playground/dask-worker-space/worker-uebjpwkk', purging\n",
      "2023-07-07 16:24:23,802 - distributed.diskutils - INFO - Found stale lock file and directory '/home/poornima/IDinsight/MOSAIKS/mosaiks/playground/dask-worker-space/worker-rcyivm7e', purging\n",
      "2023-07-07 16:24:23,802 - distributed.diskutils - INFO - Found stale lock file and directory '/home/poornima/IDinsight/MOSAIKS/mosaiks/playground/dask-worker-space/worker-16bi798g', purging\n",
      "2023-07-07 16:24:23,803 - distributed.diskutils - INFO - Found stale lock file and directory '/home/poornima/IDinsight/MOSAIKS/mosaiks/playground/dask-worker-space/worker-gsb7tv3s', purging\n"
     ]
    },
    {
     "data": {
      "text/html": [
       "<div>\n",
       "<style scoped>\n",
       "    .dataframe tbody tr th:only-of-type {\n",
       "        vertical-align: middle;\n",
       "    }\n",
       "\n",
       "    .dataframe tbody tr th {\n",
       "        vertical-align: top;\n",
       "    }\n",
       "\n",
       "    .dataframe thead th {\n",
       "        text-align: right;\n",
       "    }\n",
       "</style>\n",
       "<table border=\"1\" class=\"dataframe\">\n",
       "  <thead>\n",
       "    <tr style=\"text-align: right;\">\n",
       "      <th></th>\n",
       "      <th>mosaiks_0</th>\n",
       "      <th>mosaiks_1</th>\n",
       "      <th>mosaiks_2</th>\n",
       "      <th>mosaiks_3</th>\n",
       "      <th>mosaiks_4</th>\n",
       "      <th>mosaiks_5</th>\n",
       "      <th>mosaiks_6</th>\n",
       "      <th>mosaiks_7</th>\n",
       "      <th>mosaiks_8</th>\n",
       "      <th>mosaiks_9</th>\n",
       "      <th>...</th>\n",
       "      <th>mosaiks_3991</th>\n",
       "      <th>mosaiks_3992</th>\n",
       "      <th>mosaiks_3993</th>\n",
       "      <th>mosaiks_3994</th>\n",
       "      <th>mosaiks_3995</th>\n",
       "      <th>mosaiks_3996</th>\n",
       "      <th>mosaiks_3997</th>\n",
       "      <th>mosaiks_3998</th>\n",
       "      <th>mosaiks_3999</th>\n",
       "      <th>stac_id</th>\n",
       "    </tr>\n",
       "  </thead>\n",
       "  <tbody>\n",
       "    <tr>\n",
       "      <th>0</th>\n",
       "      <td>0.0</td>\n",
       "      <td>0.000022</td>\n",
       "      <td>0.047038</td>\n",
       "      <td>0.005967</td>\n",
       "      <td>1.187035</td>\n",
       "      <td>0.534513</td>\n",
       "      <td>0.000047</td>\n",
       "      <td>0.0</td>\n",
       "      <td>0.000416</td>\n",
       "      <td>0.148761</td>\n",
       "      <td>...</td>\n",
       "      <td>1.543175</td>\n",
       "      <td>0.022591</td>\n",
       "      <td>1.918419</td>\n",
       "      <td>0.704557</td>\n",
       "      <td>3.814126</td>\n",
       "      <td>4.014809</td>\n",
       "      <td>0.002636</td>\n",
       "      <td>1.858007</td>\n",
       "      <td>2.054663</td>\n",
       "      <td>LC08_L2SP_143046_20131218_02_T1</td>\n",
       "    </tr>\n",
       "    <tr>\n",
       "      <th>1</th>\n",
       "      <td>0.0</td>\n",
       "      <td>0.000000</td>\n",
       "      <td>0.078822</td>\n",
       "      <td>0.007401</td>\n",
       "      <td>0.860792</td>\n",
       "      <td>0.484649</td>\n",
       "      <td>0.000323</td>\n",
       "      <td>0.0</td>\n",
       "      <td>0.001259</td>\n",
       "      <td>0.062258</td>\n",
       "      <td>...</td>\n",
       "      <td>1.432658</td>\n",
       "      <td>0.031735</td>\n",
       "      <td>1.661277</td>\n",
       "      <td>0.635065</td>\n",
       "      <td>4.082455</td>\n",
       "      <td>4.361364</td>\n",
       "      <td>0.005298</td>\n",
       "      <td>2.106719</td>\n",
       "      <td>2.285124</td>\n",
       "      <td>LC08_L2SP_139044_20130426_02_T1</td>\n",
       "    </tr>\n",
       "  </tbody>\n",
       "</table>\n",
       "<p>2 rows × 4001 columns</p>\n",
       "</div>"
      ],
      "text/plain": [
       "   mosaiks_0  mosaiks_1  mosaiks_2  mosaiks_3  mosaiks_4  mosaiks_5  \\\n",
       "0        0.0   0.000022   0.047038   0.005967   1.187035   0.534513   \n",
       "1        0.0   0.000000   0.078822   0.007401   0.860792   0.484649   \n",
       "\n",
       "   mosaiks_6  mosaiks_7  mosaiks_8  mosaiks_9  ...  mosaiks_3991  \\\n",
       "0   0.000047        0.0   0.000416   0.148761  ...      1.543175   \n",
       "1   0.000323        0.0   0.001259   0.062258  ...      1.432658   \n",
       "\n",
       "   mosaiks_3992  mosaiks_3993  mosaiks_3994  mosaiks_3995  mosaiks_3996  \\\n",
       "0      0.022591      1.918419      0.704557      3.814126      4.014809   \n",
       "1      0.031735      1.661277      0.635065      4.082455      4.361364   \n",
       "\n",
       "   mosaiks_3997  mosaiks_3998  mosaiks_3999                          stac_id  \n",
       "0      0.002636      1.858007      2.054663  LC08_L2SP_143046_20131218_02_T1  \n",
       "1      0.005298      2.106719      2.285124  LC08_L2SP_139044_20130426_02_T1  \n",
       "\n",
       "[2 rows x 4001 columns]"
      ]
     },
     "execution_count": 14,
     "metadata": {},
     "output_type": "execute_result"
    }
   ],
   "source": [
    "# Run with parallelisation\n",
    "df = get_features(test_points_gdf[\"Lat\"].values,\n",
    "                  test_points_gdf[\"Lon\"].values,\n",
    "                  parallelize=True)\n",
    "df"
   ]
  },
  {
   "cell_type": "code",
   "execution_count": 15,
   "id": "a74b672f",
   "metadata": {},
   "outputs": [
    {
     "name": "stderr",
     "output_type": "stream",
     "text": [
      "/home/poornima/miniconda3/envs/mosaiks/lib/python3.10/site-packages/distributed/node.py:177: UserWarning: Port 8787 is already in use.\n",
      "Perhaps you already have a cluster running?\n",
      "Hosting the HTTP server on port 46319 instead\n",
      "  warnings.warn(\n",
      "/home/poornima/IDinsight/MOSAIKS/mosaiks/src/mosaiks/fetch/images.py:104: RuntimeWarning: overflow encountered in short_scalars\n",
      "  return (image - img_min) / (img_max - img_min)\n",
      "/home/poornima/IDinsight/MOSAIKS/mosaiks/src/mosaiks/fetch/images.py:104: RuntimeWarning: invalid value encountered in divide\n",
      "  return (image - img_min) / (img_max - img_min)\n"
     ]
    }
   ],
   "source": [
<<<<<<< HEAD
    "## Check wrapper pipeline functions"
>>>>>>> 1f91930 (test notebook for big pipeline and wrapper functions)
=======
    "# Check wrapper function\n",
    "from mosaiks.extras import load_and_save_features\n",
    "load_and_save_features(input_file_path=\"../tests/data/test_points.csv\",\n",
    "                       path_to_save_data=\"../tests/data/test_features.csv\",\n",
    "                       context_cols_to_keep_from_input=[\"Lat\", \"Lon\"],)"
>>>>>>> 61db2e3 (remove extras)
   ]
  },
  {
   "cell_type": "code",
<<<<<<< HEAD
<<<<<<< HEAD
<<<<<<< HEAD
   "execution_count": null,
<<<<<<< HEAD
   "id": "bb0d7f8e",
=======
   "id": "972ab2fb",
>>>>>>> 2d039ff (big pipeline function and test notebook for big pipeline function)
=======
=======
   "execution_count": 5,
>>>>>>> e72d707 (fixing tests to run without config dicts)
=======
   "execution_count": 5,
>>>>>>> a531595 (fixing tests to run without config dicts)
   "id": "172eaf03",
   "metadata": {},
   "outputs": [
    {
     "name": "stderr",
     "output_type": "stream",
     "text": [
      "/home/poornima/miniconda3/envs/mosaiks/lib/python3.10/site-packages/geopandas/_compat.py:124: UserWarning: The Shapely GEOS version (3.11.1-CAPI-1.17.1) is incompatible with the GEOS version PyGEOS was compiled with (3.10.4-CAPI-1.16.2). Conversions between both will be slow.\n",
      "  warnings.warn(\n"
     ]
    }
   ],
   "source": [
    "from mosaiks.extras.wrapper_pipeline_functions import load_data_and_save_created_features\n",
    "dataset = {\"dataset_name\": \"test_dataset\",\n",
    "            \"context_col_names_to_keep\": [\"Lat\", \"Lon\"],\n",
    "            \"input\": {\"folder\": \"../tests/data\",\n",
    "                        \"filename\": \"test_points.csv\",\n",
    "                        \"relative_path_is_root_folder\": False},\n",
    "            \"output\": {\"folder\": \"../tests/data\",\n",
    "                        \"filename\": \"test_points_with_features.csv\",\n",
    "                        \"relative_path_is_root_folder\": False}\n",
    "            }\n",
    "config_dict = {\n",
    "        \"satellite_name\": \"landsat-8-c2-l2\",\n",
    "         \"image_resolution\": 53,\n",
    "         \"image_dtype\": \"int16\",\n",
    "         \"image_bands\": [\"SR_B2\", \"SR_B3\", \"SR_B6\", \"SR_B7\"],\n",
    "         \"buffer_distance\": 1001,\n",
    "         \"min_image_edge\": 23,\n",
    "         \"sort_points_by_hilbert_distance\": True,\n",
    "         \"seasonal\": False,\n",
    "         \"year\": 2014,\n",
    "         \"search_start\": \"2013-04-01\",\n",
    "         \"search_end\": \"2014-03-31\",\n",
    "         \"mosaic_composite\": \"least_cloudy\",\n",
    "         \"stac_api\": \"planetary-compute\",\n",
    "         \"n_mosaiks_features\": 4,\n",
    "         \"mosaiks_kernel_size\": 3,\n",
    "         \"mosaiks_batch_size\": 1,\n",
    "         \"model_device\": \"cpu\",\n",
    "         \"dask_client_type\": \"local\",\n",
    "         \"dask_n_concurrent_tasks\": 1,\n",
    "         \"dask_chunksize\": 5,\n",
    "         \"dask_n_workers\": 1,\n",
    "         \"dask_threads_per_worker\": 1}\n",
    "# load_data_and_save_created_features(dataset,\n",
    "#                                     config_dict,\n",
    "# parallelize=False,\n",
    "# )"
   ]
  },
  {
   "cell_type": "code",
   "execution_count": null,
<<<<<<< HEAD
   "id": "0cf5cb23",
>>>>>>> 1f91930 (test notebook for big pipeline and wrapper functions)
=======
   "id": "c34a8737",
>>>>>>> e72d707 (fixing tests to run without config dicts)
   "metadata": {},
   "outputs": [],
   "source": [
    "print"
   ]
=======
   "execution_count": null,
   "id": "16821103",
   "metadata": {},
   "outputs": [],
   "source": []
>>>>>>> 61db2e3 (remove extras)
  }
 ],
 "metadata": {
  "kernelspec": {
   "display_name": "Python 3 (ipykernel)",
   "language": "python",
   "name": "python3"
  },
  "language_info": {
   "codemirror_mode": {
    "name": "ipython",
    "version": 3
   },
   "file_extension": ".py",
   "mimetype": "text/x-python",
   "name": "python",
   "nbconvert_exporter": "python",
   "pygments_lexer": "ipython3",
   "version": "3.10.11"
  }
 },
 "nbformat": 4,
 "nbformat_minor": 5
}
