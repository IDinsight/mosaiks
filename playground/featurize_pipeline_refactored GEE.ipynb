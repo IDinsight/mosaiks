{
 "cells": [
  {
   "cell_type": "code",
   "execution_count": 3,
   "id": "8a082089-9f4a-486e-a3a5-4b41cb161c5d",
   "metadata": {},
   "outputs": [],
   "source": [
    "%load_ext autoreload\n",
    "%autoreload 2"
   ]
  },
  {
   "cell_type": "code",
   "execution_count": 16,
   "id": "7755c0d5",
   "metadata": {},
   "outputs": [],
   "source": [
    "# Import the folium library.\n",
    "import folium\n",
    "\n",
    "# Define a method for displaying Earth Engine image tiles to a folium map.\n",
    "def add_ee_layer(self, ee_image_object, vis_params, name, show=True, opacity=1, min_zoom=0):\n",
    "    map_id_dict = ee.Image(ee_image_object).getMapId(vis_params)\n",
    "    folium.raster_layers.TileLayer(\n",
    "        tiles=map_id_dict['tile_fetcher'].url_format,\n",
    "        attr='Map Data &copy; <a href=\"https://earthengine.google.com/\">Google Earth Engine</a>',\n",
    "        name=name,\n",
    "        show=show,\n",
    "        opacity=opacity,\n",
    "        min_zoom=min_zoom,\n",
    "        overlay=True,\n",
    "        control=True\n",
    "        ).add_to(self)\n",
    "\n",
    "# Add the Earth Engine layer method to folium.\n",
    "folium.Map.add_ee_layer = add_ee_layer\n",
    "\n",
    "# USE CASE\n",
    "# map = folium.Map(location=[lat, lon], zoom_start=14)\n",
    "# map.add_ee_layer(least_cloudy_image, {}, 'Normalized image')\n",
    "# display(map)\n",
    "\n",
    "# OR\n",
    "# cropped_xarray.wx.rgb(bands=[\"SR_B4\", \"SR_B3\", \"SR_B2\"], stretch=0.85, col_wrap=4)"
   ]
  },
  {
   "cell_type": "code",
   "execution_count": 17,
   "id": "e9547f04",
   "metadata": {},
   "outputs": [
    {
     "data": {
      "text/html": [
       "<p>To authorize access needed by Earth Engine, open the following\n",
       "        URL in a web browser and follow the instructions:</p>\n",
       "        <p><a href=https://code.earthengine.google.com/client-auth?scopes=https%3A//www.googleapis.com/auth/earthengine%20https%3A//www.googleapis.com/auth/devstorage.full_control&request_id=ie0CQ5tyJYhcT_LULDAYaFn-GMppZoOT54gWTyaBLtE&tc=3dxCHyq3HvZBV5uo939b910mkE104egd3HmESnanfMQ&cc=SHVjYWWNSaBGve2S9EKZA9zc0-pyc9fTq92_-6B1vk4>https://code.earthengine.google.com/client-auth?scopes=https%3A//www.googleapis.com/auth/earthengine%20https%3A//www.googleapis.com/auth/devstorage.full_control&request_id=ie0CQ5tyJYhcT_LULDAYaFn-GMppZoOT54gWTyaBLtE&tc=3dxCHyq3HvZBV5uo939b910mkE104egd3HmESnanfMQ&cc=SHVjYWWNSaBGve2S9EKZA9zc0-pyc9fTq92_-6B1vk4</a></p>\n",
       "        <p>The authorization workflow will generate a code, which you should paste in the box below.</p>\n",
       "        "
      ],
      "text/plain": [
       "<IPython.core.display.HTML object>"
      ]
     },
     "metadata": {},
     "output_type": "display_data"
    },
    {
     "name": "stdout",
     "output_type": "stream",
     "text": [
      "\n",
      "Successfully saved authorization token.\n"
     ]
    }
   ],
   "source": [
    "import ee\n",
    "import wxee\n",
    "\n",
    "ee.Authenticate()\n",
    "\n",
    "ee.Initialize()"
   ]
  },
  {
   "cell_type": "markdown",
   "id": "ee23c072",
   "metadata": {},
   "source": [
    "## Install the mosaiks package"
   ]
  },
  {
   "cell_type": "code",
   "execution_count": 18,
   "id": "e3d53a68-63c7-468b-9832-989942106d40",
   "metadata": {},
   "outputs": [],
   "source": [
    "# Locally\n",
    "# !pip install -e .. --upgrade"
   ]
  },
  {
   "cell_type": "code",
   "execution_count": 19,
   "id": "dfacd35a",
   "metadata": {},
   "outputs": [],
   "source": [
    "# From github\n",
    "# 🚨 Make sure you update github token in the secrets file 🚨 \n",
    "# import src.mosaiks.utils as utl\n",
    "# mosaiks_package_link = utl.get_mosaiks_package_link\n",
    "# !pip install {mosaiks_package_link} --upgrade"
   ]
  },
  {
   "cell_type": "markdown",
   "id": "7ac2b0d2",
   "metadata": {},
   "source": [
    "## Import packages"
   ]
  },
  {
   "cell_type": "code",
   "execution_count": 20,
   "id": "3af5c18c-37d8-4a2b-9038-2987ed07a1d7",
   "metadata": {},
   "outputs": [],
   "source": [
    "import logging\n",
    "logger = logging.getLogger()\n",
    "logger.setLevel(logging.INFO)"
   ]
  },
  {
   "cell_type": "code",
   "execution_count": 21,
   "id": "2a170fe7-063d-4f09-b01a-4aee0cf2ab77",
   "metadata": {},
   "outputs": [],
   "source": [
    "import sys\n",
    "import os\n",
    "import warnings\n",
    "\n",
    "sys.path += [\"../\"]\n",
    "warnings.filterwarnings(\"ignore\")"
   ]
  },
  {
   "cell_type": "code",
   "execution_count": 22,
   "id": "c6a6f126",
   "metadata": {},
   "outputs": [],
   "source": [
    "import mosaiks.utils as utl\n",
    "from mosaiks.featurize import *\n",
    "from mosaiks.dask_run import *"
   ]
  },
  {
   "cell_type": "markdown",
   "id": "5a32e2ec",
   "metadata": {
    "tags": []
   },
   "source": [
    "# Setup Rasterio"
   ]
  },
  {
   "cell_type": "code",
   "execution_count": 23,
   "id": "ed1c9adb",
   "metadata": {},
   "outputs": [],
   "source": [
    "rasterio_config = utl.load_yaml_config(\"rasterioc_config.yaml\")\n",
    "os.environ.update(rasterio_config)"
   ]
  },
  {
   "cell_type": "markdown",
   "id": "3237a534-1c05-4455-8685-f1aef6686f95",
   "metadata": {
    "tags": []
   },
   "source": [
    "# Setup Dask Cluster and Client"
   ]
  },
  {
   "cell_type": "code",
   "execution_count": 24,
   "id": "bb3b6d90",
   "metadata": {},
   "outputs": [
    {
     "name": "stderr",
     "output_type": "stream",
     "text": [
      "INFO:root:http://127.0.0.1:65070/status\n"
     ]
    }
   ],
   "source": [
    "client = get_dask_client(kind=\"local\")"
   ]
  },
  {
   "cell_type": "markdown",
   "id": "3eeb924c-7f6c-429f-93fb-2a1eabe394e4",
   "metadata": {
    "tags": []
   },
   "source": [
    "# Load params"
   ]
  },
  {
   "cell_type": "code",
   "execution_count": 25,
   "id": "0fb14555-bbba-4e63-a157-4a247e1af77a",
   "metadata": {},
   "outputs": [],
   "source": [
    "featurization_config = utl.load_yaml_config(\"featurisation.yaml\")\n",
    "satellite_config = utl.load_yaml_config(\"satellite_config.yaml\")\n",
    "satellite_config = satellite_config[\n",
    "    featurization_config[\"satellite_search_params\"][\"satellite_name\"]\n",
    "]"
   ]
  },
  {
   "cell_type": "markdown",
   "id": "34df2287-cc11-43b0-b20b-feef6f4d15ba",
   "metadata": {
    "tags": []
   },
   "source": [
    "# Load point coords"
   ]
  },
  {
   "cell_type": "code",
   "execution_count": 26,
   "id": "6a4b510b-ad70-4af3-89d7-64f0899ed88b",
   "metadata": {},
   "outputs": [],
   "source": [
    "request_points_gdf = utl.load_df_w_latlons_to_gdf(dataset_name=featurization_config[\"coord_set_name\"])"
   ]
  },
  {
   "cell_type": "code",
   "execution_count": 27,
   "id": "7bb02df6-3c70-496c-bcff-364957b6e4d3",
   "metadata": {},
   "outputs": [],
   "source": [
    "points_gdf = request_points_gdf.sample(5, random_state=0) #.sample(200, random_state=0) # Select random 200 points (for testing)"
   ]
  },
  {
   "attachments": {},
   "cell_type": "markdown",
   "id": "d6e942b4",
   "metadata": {},
   "source": [
    "## GEE Proof-of-Concept"
   ]
  },
  {
   "cell_type": "code",
   "execution_count": 32,
   "id": "8810b67d",
   "metadata": {},
   "outputs": [
    {
     "name": "stderr",
     "output_type": "stream",
     "text": [
      "Downloading: 100%|██████████| 186k/186k [00:00<00:00, 547kiB/s] \n"
     ]
    }
   ],
   "source": [
    "# Set the location and buffer size\n",
    "lat, lon  = points_gdf.iloc[1, :2]\n",
    "buffer = 1200\n",
    "search_start = '2013-04-01'\n",
    "search_end = '2014-03-31'\n",
    "\n",
    "point = ee.Geometry.Point(lon, lat)\n",
    "crop = point.buffer(buffer).bounds()\n",
    "\n",
    "collection = (\n",
    "    ee.ImageCollection('LANDSAT/LC08/C02/T1_L2')\n",
    "    .filterBounds(crop)\n",
    "    .filterDate(search_start, search_end)\n",
    "    .sort('CLOUD_COVER')\n",
    ")\n",
    "least_cloudy_image = collection.first()\n",
    "\n",
    "xarray = least_cloudy_image.wx.to_xarray(region=crop, scale=30)\n",
    "bands = satellite_config[\"bands\"]\n",
    "xarray = xarray[bands].to_array()\n",
    "final_xarray = xarray.transpose(\"time\", \"variable\", \"y\", \"x\").squeeze()"
   ]
  },
  {
   "cell_type": "code",
   "execution_count": 33,
   "id": "eda70f86",
   "metadata": {},
   "outputs": [],
   "source": [
    "import torch\n",
    "from mosaiks.featurize.stacs import minmax_normalize_image\n",
    "\n",
    "image = final_xarray.values\n",
    "torch_image = torch.from_numpy(image).float()\n",
    "torch_image = minmax_normalize_image(torch_image)"
   ]
  },
  {
   "cell_type": "code",
   "execution_count": 34,
   "id": "4b8c8899",
   "metadata": {},
   "outputs": [
    {
     "data": {
      "text/plain": [
       "array([0.        , 0.38922045, 0.        , ..., 0.38826618, 4.077604  ,\n",
       "       0.01185514], dtype=float32)"
      ]
     },
     "execution_count": 34,
     "metadata": {},
     "output_type": "execute_result"
    }
   ],
   "source": [
    "from mosaiks.featurize.nn_forward_pass import featurize\n",
    "model = RCF(\n",
    "    featurization_config[\"num_features\"],\n",
    "    featurization_config[\"kernel_size\"],\n",
    "    len(satellite_config[\"bands\"]),\n",
    ")\n",
    "features = featurize(torch_image, model, \"cpu\")\n",
    "features[0]"
   ]
  },
  {
   "attachments": {},
   "cell_type": "markdown",
   "id": "a808f924",
   "metadata": {},
   "source": [
    "## Setup Dask pipeline"
   ]
  },
  {
   "cell_type": "code",
   "execution_count": 35,
   "id": "9eac9b25",
   "metadata": {},
   "outputs": [
    {
     "name": "stderr",
     "output_type": "stream",
     "text": [
      "INFO:root:500 points per partition results in 2 partitions.\n",
      "INFO:root:Distributing 5 points across 500-point partitions results in 1 partitions.\n"
     ]
    }
   ],
   "source": [
    "points_dgdf = get_dask_gdf(points_gdf, featurization_config[\"dask\"][\"chunksize\"])"
   ]
  },
  {
   "cell_type": "code",
   "execution_count": 36,
   "id": "06d4fd1b",
   "metadata": {},
   "outputs": [],
   "source": [
    "if featurization_config[\"imagery_source\"] == \"GEE\":\n",
    "    partitions = points_dgdf.to_delayed()\n",
    "elif featurization_config[\"imagery_source\"] == \"MPC\":\n",
    "    # need to fetch STACs for each point for MPC\n",
    "    points_gdf_with_stac = fetch_image_refs(\n",
    "        points_dgdf, featurization_config[\"satellite_search_params\"]\n",
    "    )\n",
    "    partitions = points_gdf_with_stac.to_delayed()\n"
   ]
  },
  {
   "cell_type": "code",
   "execution_count": 37,
   "id": "d856d586-8a84-4dde-b0ff-55ab39e11cbb",
   "metadata": {},
   "outputs": [],
   "source": [
    "model = RCF(\n",
    "    featurization_config[\"num_features\"],\n",
    "    featurization_config[\"kernel_size\"],\n",
    "    len(satellite_config[\"bands\"]),\n",
    ")"
   ]
  },
  {
   "cell_type": "markdown",
   "id": "71866155-9072-4f21-8d6a-781d378b6d29",
   "metadata": {
    "tags": []
   },
   "source": [
    "# Run in parallel"
   ]
  },
  {
   "cell_type": "markdown",
   "id": "9b3d470e-3bd8-4fdf-aa7f-cb1521f67b44",
   "metadata": {
    "tags": []
   },
   "source": [
    "## Trial run\n",
    "\n",
    "8 simultaneous partitions seems to be about how many we can do in parallel on a local cluster. We may be able to do more on a Gateway Cluster once that is working.\n",
    "\n",
    "TODO - CHANGE TO THIS SCHEME: There are also better schemes. For example, kick off another partitions whenever one finishes. That might be a better use of resources."
   ]
  },
  {
   "cell_type": "code",
   "execution_count": 38,
   "id": "94ed8c64-3d07-43c9-abda-9dd8ac653b01",
   "metadata": {
    "tags": []
   },
   "outputs": [
    {
     "name": "stderr",
     "output_type": "stream",
     "text": [
      "Downloading: 100%|██████████| 161k/161k [00:00<00:00, 393kiB/s] \n",
      "Downloading: 100%|██████████| 186k/186k [00:00<00:00, 444kiB/s] \n",
      "Downloading: 100%|██████████| 130k/130k [00:00<00:00, 359kiB/s] \n",
      "Downloading: 100%|██████████| 158k/158k [00:00<00:00, 387kiB/s] \n",
      "Downloading: 100%|██████████| 158k/158k [00:00<00:00, 389kiB/s] \n"
     ]
    },
    {
     "name": "stdout",
     "output_type": "stream",
     "text": [
      "CPU times: user 2.2 s, sys: 540 ms, total: 2.74 s\n",
      "Wall time: 27.5 s\n"
     ]
    }
   ],
   "source": [
    "%%time\n",
    "client.restart()\n",
    "df = run_single_partition(\n",
    "    partition=partitions[0], \n",
    "    satellite_config=satellite_config, \n",
    "    featurization_config=featurization_config, \n",
    "    model=model, \n",
    "    client=client\n",
    ")"
   ]
  },
  {
   "cell_type": "code",
   "execution_count": 39,
   "id": "fa2e4190",
   "metadata": {},
   "outputs": [
    {
     "name": "stdout",
     "output_type": "stream",
     "text": [
      "Average feature value: 1.3696065427589437\n"
     ]
    },
    {
     "data": {
      "image/png": "[encoded data removed]",
      "text/plain": [
       "<Figure size 640x480 with 1 Axes>"
      ]
     },
     "metadata": {},
     "output_type": "display_data"
    }
   ],
   "source": [
    "print(\"Average feature value:\", df.mean().mean())\n",
    "df.iloc[1].hist()\n",
    "_ = client.restart()"
   ]
  },
  {
   "cell_type": "markdown",
   "id": "130df223-1f71-4f2b-b782-47e6de55854b",
   "metadata": {},
   "source": [
    "Test multi-partition run"
   ]
  },
  {
   "cell_type": "code",
   "execution_count": 41,
   "id": "f83e762c-e3ff-44cc-b34a-f1fe170cdb2a",
   "metadata": {},
   "outputs": [
    {
     "name": "stderr",
     "output_type": "stream",
     "text": [
      "INFO:root:Running 1 partitions...\n",
      "INFO:root:n_partitions is smaller than n_per_run. Running all 1 partitions.\n",
      "INFO:root:18-Apr 21:30:17 Running batch: 0 to 0\n",
      "Downloading: 100%|██████████| 161k/161k [00:00<00:00, 410kiB/s] \n",
      "Downloading: 100%|██████████| 186k/186k [00:00<00:00, 428kiB/s] \n",
      "Downloading: 100%|██████████| 130k/130k [00:00<00:00, 361kiB/s] \n",
      "Downloading: 100%|██████████| 158k/158k [00:00<00:00, 388kiB/s] \n",
      "Downloading: 100%|██████████| 158k/158k [00:00<00:00, 399kiB/s] \n"
     ]
    }
   ],
   "source": [
    "n_per_run = featurization_config[\"dask\"][\"n_per_run\"]\n",
    "\n",
    "failed_ids = run_partitions(\n",
    "    partitions=partitions[:n_per_run],\n",
    "    satellite_config=satellite_config,\n",
    "    featurization_config=featurization_config,\n",
    "    model=model,\n",
    "    client=client,\n",
    "    mosaiks_folder_path=\"test\", #places files into \"playground/test/\"\n",
    "    partition_ids=None,\n",
    ")"
   ]
  },
  {
   "cell_type": "code",
   "execution_count": 46,
   "id": "cc930004-3a2d-4c19-99f5-04a1f693efb6",
   "metadata": {},
   "outputs": [
    {
     "data": {
      "text/plain": [
       "[]"
      ]
     },
     "execution_count": 46,
     "metadata": {},
     "output_type": "execute_result"
    }
   ],
   "source": [
    "failed_ids"
   ]
  },
  {
   "cell_type": "code",
   "execution_count": 45,
   "id": "091e4503",
   "metadata": {},
   "outputs": [
    {
     "data": {
      "text/html": [
       "<div>\n",
       "<style scoped>\n",
       "    .dataframe tbody tr th:only-of-type {\n",
       "        vertical-align: middle;\n",
       "    }\n",
       "\n",
       "    .dataframe tbody tr th {\n",
       "        vertical-align: top;\n",
       "    }\n",
       "\n",
       "    .dataframe thead th {\n",
       "        text-align: right;\n",
       "    }\n",
       "</style>\n",
       "<table border=\"1\" class=\"dataframe\">\n",
       "  <thead>\n",
       "    <tr style=\"text-align: right;\">\n",
       "      <th></th>\n",
       "      <th>mosaiks_0</th>\n",
       "      <th>mosaiks_1</th>\n",
       "      <th>mosaiks_2</th>\n",
       "      <th>mosaiks_3</th>\n",
       "      <th>mosaiks_4</th>\n",
       "      <th>mosaiks_5</th>\n",
       "      <th>mosaiks_6</th>\n",
       "      <th>mosaiks_7</th>\n",
       "      <th>mosaiks_8</th>\n",
       "      <th>mosaiks_9</th>\n",
       "      <th>...</th>\n",
       "      <th>mosaiks_3990</th>\n",
       "      <th>mosaiks_3991</th>\n",
       "      <th>mosaiks_3992</th>\n",
       "      <th>mosaiks_3993</th>\n",
       "      <th>mosaiks_3994</th>\n",
       "      <th>mosaiks_3995</th>\n",
       "      <th>mosaiks_3996</th>\n",
       "      <th>mosaiks_3997</th>\n",
       "      <th>mosaiks_3998</th>\n",
       "      <th>mosaiks_3999</th>\n",
       "    </tr>\n",
       "  </thead>\n",
       "  <tbody>\n",
       "    <tr>\n",
       "      <th>178377</th>\n",
       "      <td>0.628923</td>\n",
       "      <td>0.0</td>\n",
       "      <td>2.095599</td>\n",
       "      <td>0.000024</td>\n",
       "      <td>0.0</td>\n",
       "      <td>0.0</td>\n",
       "      <td>1.567544</td>\n",
       "      <td>0.001776</td>\n",
       "      <td>0.000133</td>\n",
       "      <td>0.0</td>\n",
       "      <td>...</td>\n",
       "      <td>1.366016</td>\n",
       "      <td>0.01393</td>\n",
       "      <td>0.773520</td>\n",
       "      <td>2.930562</td>\n",
       "      <td>1.147266</td>\n",
       "      <td>0.005764</td>\n",
       "      <td>0.024394</td>\n",
       "      <td>0.011586</td>\n",
       "      <td>1.114808</td>\n",
       "      <td>0.005275</td>\n",
       "    </tr>\n",
       "    <tr>\n",
       "      <th>167497</th>\n",
       "      <td>0.981828</td>\n",
       "      <td>0.0</td>\n",
       "      <td>2.171326</td>\n",
       "      <td>0.000000</td>\n",
       "      <td>0.0</td>\n",
       "      <td>0.0</td>\n",
       "      <td>2.297947</td>\n",
       "      <td>0.282649</td>\n",
       "      <td>0.000205</td>\n",
       "      <td>0.0</td>\n",
       "      <td>...</td>\n",
       "      <td>1.169873</td>\n",
       "      <td>0.00000</td>\n",
       "      <td>2.532082</td>\n",
       "      <td>2.539322</td>\n",
       "      <td>2.903116</td>\n",
       "      <td>0.000000</td>\n",
       "      <td>0.000000</td>\n",
       "      <td>0.000000</td>\n",
       "      <td>1.285883</td>\n",
       "      <td>0.000000</td>\n",
       "    </tr>\n",
       "    <tr>\n",
       "      <th>281910</th>\n",
       "      <td>NaN</td>\n",
       "      <td>NaN</td>\n",
       "      <td>NaN</td>\n",
       "      <td>NaN</td>\n",
       "      <td>NaN</td>\n",
       "      <td>NaN</td>\n",
       "      <td>NaN</td>\n",
       "      <td>NaN</td>\n",
       "      <td>NaN</td>\n",
       "      <td>NaN</td>\n",
       "      <td>...</td>\n",
       "      <td>NaN</td>\n",
       "      <td>NaN</td>\n",
       "      <td>NaN</td>\n",
       "      <td>NaN</td>\n",
       "      <td>NaN</td>\n",
       "      <td>NaN</td>\n",
       "      <td>NaN</td>\n",
       "      <td>NaN</td>\n",
       "      <td>NaN</td>\n",
       "      <td>NaN</td>\n",
       "    </tr>\n",
       "    <tr>\n",
       "      <th>226166</th>\n",
       "      <td>0.376054</td>\n",
       "      <td>0.0</td>\n",
       "      <td>3.174702</td>\n",
       "      <td>0.000000</td>\n",
       "      <td>0.0</td>\n",
       "      <td>0.0</td>\n",
       "      <td>2.723139</td>\n",
       "      <td>0.263828</td>\n",
       "      <td>0.000610</td>\n",
       "      <td>0.0</td>\n",
       "      <td>...</td>\n",
       "      <td>0.825116</td>\n",
       "      <td>0.00000</td>\n",
       "      <td>3.496540</td>\n",
       "      <td>3.462794</td>\n",
       "      <td>3.087507</td>\n",
       "      <td>0.000000</td>\n",
       "      <td>0.000000</td>\n",
       "      <td>0.000000</td>\n",
       "      <td>2.652125</td>\n",
       "      <td>0.000000</td>\n",
       "    </tr>\n",
       "    <tr>\n",
       "      <th>225184</th>\n",
       "      <td>1.528899</td>\n",
       "      <td>0.0</td>\n",
       "      <td>3.056922</td>\n",
       "      <td>0.000000</td>\n",
       "      <td>0.0</td>\n",
       "      <td>0.0</td>\n",
       "      <td>2.602498</td>\n",
       "      <td>0.004321</td>\n",
       "      <td>0.000098</td>\n",
       "      <td>0.0</td>\n",
       "      <td>...</td>\n",
       "      <td>1.415488</td>\n",
       "      <td>0.00000</td>\n",
       "      <td>0.806953</td>\n",
       "      <td>3.288050</td>\n",
       "      <td>1.463402</td>\n",
       "      <td>0.000000</td>\n",
       "      <td>0.000000</td>\n",
       "      <td>0.000000</td>\n",
       "      <td>0.851672</td>\n",
       "      <td>0.000182</td>\n",
       "    </tr>\n",
       "  </tbody>\n",
       "</table>\n",
       "<p>5 rows × 4000 columns</p>\n",
       "</div>"
      ],
      "text/plain": [
       "        mosaiks_0  mosaiks_1  mosaiks_2  mosaiks_3  mosaiks_4  mosaiks_5  \\\n",
       "178377   0.628923        0.0   2.095599   0.000024        0.0        0.0   \n",
       "167497   0.981828        0.0   2.171326   0.000000        0.0        0.0   \n",
       "281910        NaN        NaN        NaN        NaN        NaN        NaN   \n",
       "226166   0.376054        0.0   3.174702   0.000000        0.0        0.0   \n",
       "225184   1.528899        0.0   3.056922   0.000000        0.0        0.0   \n",
       "\n",
       "        mosaiks_6  mosaiks_7  mosaiks_8  mosaiks_9  ...  mosaiks_3990  \\\n",
       "178377   1.567544   0.001776   0.000133        0.0  ...      1.366016   \n",
       "167497   2.297947   0.282649   0.000205        0.0  ...      1.169873   \n",
       "281910        NaN        NaN        NaN        NaN  ...           NaN   \n",
       "226166   2.723139   0.263828   0.000610        0.0  ...      0.825116   \n",
       "225184   2.602498   0.004321   0.000098        0.0  ...      1.415488   \n",
       "\n",
       "        mosaiks_3991  mosaiks_3992  mosaiks_3993  mosaiks_3994  mosaiks_3995  \\\n",
       "178377       0.01393      0.773520      2.930562      1.147266      0.005764   \n",
       "167497       0.00000      2.532082      2.539322      2.903116      0.000000   \n",
       "281910           NaN           NaN           NaN           NaN           NaN   \n",
       "226166       0.00000      3.496540      3.462794      3.087507      0.000000   \n",
       "225184       0.00000      0.806953      3.288050      1.463402      0.000000   \n",
       "\n",
       "        mosaiks_3996  mosaiks_3997  mosaiks_3998  mosaiks_3999  \n",
       "178377      0.024394      0.011586      1.114808      0.005275  \n",
       "167497      0.000000      0.000000      1.285883      0.000000  \n",
       "281910           NaN           NaN           NaN           NaN  \n",
       "226166      0.000000      0.000000      2.652125      0.000000  \n",
       "225184      0.000000      0.000000      0.851672      0.000182  \n",
       "\n",
       "[5 rows x 4000 columns]"
      ]
     },
     "execution_count": 45,
     "metadata": {},
     "output_type": "execute_result"
    }
   ],
   "source": [
    "utl.load_dataframe(\"./test/df_features_000.parquet.gzip\")"
   ]
  },
  {
   "cell_type": "markdown",
   "id": "e9dba8a3-fb91-4fd1-9b29-e3a990387b37",
   "metadata": {
    "tags": []
   },
   "source": [
    "## Full run"
   ]
  },
  {
   "cell_type": "markdown",
   "id": "f97c5978-e9fc-4012-bc14-322376788e4d",
   "metadata": {
    "tags": []
   },
   "source": [
    "### Setup saving location"
   ]
  },
  {
   "cell_type": "code",
   "execution_count": null,
   "id": "e66fc957",
   "metadata": {},
   "outputs": [],
   "source": [
    "mosaiks_folder_path = utl.make_features_path_from_dict(featurization_config, featurization_config[\"coord_set_name\"])"
   ]
  },
  {
   "cell_type": "markdown",
   "id": "9909fc37-e699-4274-a881-8579618ed5af",
   "metadata": {
    "tags": []
   },
   "source": [
    "### Create features and save checkpoints to file"
   ]
  },
  {
   "cell_type": "code",
   "execution_count": null,
   "id": "7657daae-a2fc-4249-b0df-48adca87575c",
   "metadata": {
    "tags": []
   },
   "outputs": [],
   "source": [
    "failed_partition_ids = run_partitions(\n",
    "    partitions=partitions,\n",
    "    satellite_config=satellite_config,\n",
    "    featurization_config=featurization_config,\n",
    "    model=model,\n",
    "    client=client,\n",
    "    mosaiks_folder_path=mosaiks_folder_path\n",
    ")"
   ]
  },
  {
   "cell_type": "markdown",
   "id": "72982cdc-6475-44cc-9281-e15ba90df338",
   "metadata": {
    "tags": []
   },
   "source": [
    "## Re-run failed partitions\n",
    "\n",
    "Use this to just run partitions that failed"
   ]
  },
  {
   "cell_type": "code",
   "execution_count": null,
   "id": "1f72476f-804d-4892-82d3-5fe5c0c27006",
   "metadata": {},
   "outputs": [],
   "source": [
    "%%time\n",
    "\n",
    "# subset to partitions that failed\n",
    "failed_partitions = [partitions[i] for i in failed_partition_ids]\n",
    "\n",
    "failed_partition_ids_1 = run_partitions(\n",
    "    partitions=failed_partitions,\n",
    "    partition_ids=failed_partition_ids,\n",
    "    satellite_config=satellite_config,\n",
    "    featurization_config=featurization_config,\n",
    "    model=model,\n",
    "    client=client,\n",
    "    mosaiks_folder_path=mosaiks_folder_path,\n",
    ")\n",
    "\n",
    "failed_partition_ids_1"
   ]
  },
  {
   "cell_type": "markdown",
   "id": "436b7689-36ef-4713-ba0f-b37c34103b5c",
   "metadata": {
    "tags": []
   },
   "source": [
    "# Load checkpoint files and combine"
   ]
  },
  {
   "cell_type": "code",
   "execution_count": null,
   "id": "dd5377dc-4adc-45a5-8012-7fcc268048c1",
   "metadata": {},
   "outputs": [],
   "source": [
    "checkpoint_filenames = utl.get_filtered_filenames(\n",
    "        folder_path=mosaiks_folder_path, prefix=\"df_\"\n",
    "    )"
   ]
  },
  {
   "cell_type": "code",
   "execution_count": null,
   "id": "4b408846-8660-4cec-a093-02ffa1c76ff3",
   "metadata": {},
   "outputs": [],
   "source": [
    "combined_df = utl.load_and_combine_dataframes(\n",
    "    folder_path=mosaiks_folder_path, filenames=checkpoint_filenames\n",
    ")\n",
    "combined_df = combined_df.join(points_gdf[[\"Lat\", \"Lon\", \"shrid\"]])\n",
    "logging.info(\"Dataset size in memory (MB):\", combined_df.memory_usage().sum() / 1000000)"
   ]
  },
  {
   "cell_type": "code",
   "execution_count": null,
   "id": "699cbb28",
   "metadata": {},
   "outputs": [],
   "source": [
    "%%time\n",
    "combined_filename = \"features.parquet.gzip\"\n",
    "combined_filepath = mosaiks_folder_path / combined_filename\n",
    "utl.save_dataframe(\n",
    "    df=combined_df, file_path=combined_filepath\n",
    ")"
   ]
  }
 ],
 "metadata": {
  "kernelspec": {
   "display_name": "Python 3 (ipykernel)",
   "language": "python",
   "name": "python3"
  },
  "language_info": {
   "codemirror_mode": {
    "name": "ipython",
    "version": 3
   },
   "file_extension": ".py",
   "mimetype": "text/x-python",
   "name": "python",
   "nbconvert_exporter": "python",
   "pygments_lexer": "ipython3",
   "version": "3.10.0"
  }
 },
 "nbformat": 4,
 "nbformat_minor": 5
}
