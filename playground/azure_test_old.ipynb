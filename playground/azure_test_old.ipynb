{
 "cells": [
  {
   "cell_type": "code",
   "execution_count": null,
   "metadata": {},
   "outputs": [],
   "source": [
    "import mosaiks.utils as utl\n",
    "mosaiks_git_link = utl.get_mosaiks_package_link(\"update_unit_tests\")"
   ]
  },
  {
   "cell_type": "code",
   "execution_count": null,
   "metadata": {},
   "outputs": [],
   "source": [
    "mosaiks_git_link"
   ]
  },
  {
   "cell_type": "code",
   "execution_count": null,
   "metadata": {},
   "outputs": [],
   "source": [
    "from dask_cloudprovider.azure import AzureVMCluster\n",
    "cluster = AzureVMCluster(\n",
    "    resource_group=\"leaninnvoation\",\n",
    "    vnet=\"aks-vnet-mosaik\",\n",
    "    security_group=\"aks-sg-mosaik\",\n",
    "    location =\"westeurope\",\n",
    "    env_vars = {'EXTRA_PIP_PACKAGES':mosaiks_git_link},\n",
    "    n_workers=4\n",
    ")"
   ]
  },
  {
   "cell_type": "code",
   "execution_count": null,
   "metadata": {},
   "outputs": [],
   "source": [
    "# need py 3.10\n",
    "from dask.distributed import Client\n",
    "client = Client(cluster)\n",
    "client"
   ]
  },
  {
   "cell_type": "code",
   "execution_count": null,
   "metadata": {},
   "outputs": [],
   "source": [
    "import sys\n",
    "import os\n",
    "import warnings\n",
    "\n",
    "sys.path += [\"../\"]\n",
    "warnings.filterwarnings(\"ignore\")\n",
    "\n",
    "from pathlib import Path\n",
    "import src.mosaiks.utils as utl\n",
    "from mosaiks.featurize import RCF"
   ]
  },
  {
   "cell_type": "code",
   "execution_count": null,
   "metadata": {},
   "outputs": [],
   "source": [
    "rasterio_config = utl.load_yaml_config(\"rasterioc_config.yaml\")\n",
    "os.environ.update(rasterio_config)\n",
    "\n",
    "featurization_config = utl.load_yaml_config(\"featurisation.yaml\")\n",
    "\n",
    "satellite_config = utl.load_yaml_config(\"satellite_config.yaml\")\n",
    "satellite_config = satellite_config[\n",
    "    featurization_config[\"satellite_search_params\"][\"satellite_name\"]\n",
    "]"
   ]
  },
  {
   "cell_type": "code",
   "execution_count": null,
   "metadata": {},
   "outputs": [],
   "source": [
    "mosaiks_col_names = [\n",
    "    f\"mosaiks_{i}\" for i in range(featurization_config[\"model\"][\"num_features\"])\n",
    "]\n",
    "test_mosaiks_folder_path = Path(\"test_outputs\")"
   ]
  },
  {
   "cell_type": "code",
   "execution_count": null,
   "metadata": {},
   "outputs": [],
   "source": [
    "model = RCF(\n",
    "    featurization_config[\"model\"][\"num_features\"],\n",
    "    featurization_config[\"model\"][\"kernel_size\"],\n",
    "    len(satellite_config[\"bands\"]),\n",
    ")"
   ]
  },
  {
   "cell_type": "code",
   "execution_count": null,
   "metadata": {},
   "outputs": [],
   "source": [
    "request_points_gdf = utl.load_df_w_latlons_to_gdf(\n",
    "    dataset_name=featurization_config[\"coord_set\"][\"coord_set_name\"]\n",
    ")"
   ]
  },
  {
   "cell_type": "code",
   "execution_count": null,
   "metadata": {},
   "outputs": [],
   "source": [
    "points_gdf = request_points_gdf.iloc[:1000]\n",
    "test_points_gdf = points_gdf.iloc[1:2]"
   ]
  },
  {
   "cell_type": "code",
   "execution_count": null,
   "metadata": {},
   "outputs": [],
   "source": [
    "mosaiks_folder_path = Path(\"test_outputs\") #utl.make_output_folder_path(featurization_config)\n",
    "os.makedirs(mosaiks_folder_path, exist_ok=True)"
   ]
  },
  {
   "cell_type": "code",
   "execution_count": null,
   "metadata": {},
   "outputs": [],
   "source": [
    "from mosaiks.fetch import fetch_image_refs, create_data_loader\n",
    "from mosaiks.featurize import create_features, make_result_df\n",
    "import pandas as pd"
   ]
  },
  {
   "cell_type": "code",
   "execution_count": null,
   "metadata": {},
   "outputs": [],
   "source": [
    "%%time\n",
    "points_gdf_with_stac = fetch_image_refs(\n",
    "    test_points_gdf, \n",
    "    featurization_config['satellite_search_params']\n",
    ")\n"
   ]
  },
  {
   "cell_type": "code",
   "execution_count": null,
   "metadata": {},
   "outputs": [],
   "source": [
    "\n",
    "data_loader = create_data_loader(\n",
    "    points_gdf_with_stac=points_gdf_with_stac,\n",
    "    satellite_params=satellite_config,\n",
    "    batch_size=featurization_config[\"model\"][\"batch_size\"],\n",
    ")\n",
    "\n",
    "X_features = create_features(\n",
    "    dataloader=data_loader,\n",
    "    n_features=featurization_config[\"model\"][\"num_features\"],\n",
    "    model=model,\n",
    "    device=featurization_config[\"model\"][\"device\"],\n",
    "    min_image_edge=satellite_config[\"min_image_edge\"],\n",
    ")\n",
    "\n",
    "df = pd.DataFrame(\n",
    "    data=X_features, index=test_points_gdf.index, columns=mosaiks_col_names\n",
    ")\n",
    "\n",
    "utl.save_dataframe(\n",
    "    df=df, file_path=f\"{test_mosaiks_folder_path}/df_TEST2.csv\"\n",
    ")"
   ]
  },
  {
   "cell_type": "code",
   "execution_count": null,
   "metadata": {},
   "outputs": [],
   "source": [
    "from mosaiks.dask import run_queued_futures_pipeline"
   ]
  },
  {
   "cell_type": "code",
   "execution_count": null,
   "metadata": {},
   "outputs": [],
   "source": [
    "mosaiks_col_names = [\n",
    "    f\"mosaiks_{i}\" for i in range(featurization_config[\"model\"][\"num_features\"])\n",
    "]\n",
    "test_mosaiks_folder_path = Path(\"test_outputs\")"
   ]
  },
  {
   "cell_type": "code",
   "execution_count": null,
   "metadata": {},
   "outputs": [],
   "source": [
    "%%time\n",
    "\n",
    "# note that stopping this cell does not stop the dask cluster processing what\n",
    "# is currently submitted. Use client.restart().\n",
    "run_queued_futures_pipeline(\n",
    "    test_points_gdf,\n",
    "    client=client,\n",
    "    model=model,\n",
    "    featurization_config=featurization_config,\n",
    "    satellite_config=satellite_config,\n",
    "    col_names=mosaiks_col_names,\n",
    "    save_folder_path=mosaiks_folder_path,\n",
    ")"
   ]
  },
  {
   "cell_type": "code",
   "execution_count": null,
   "metadata": {},
   "outputs": [],
   "source": [
    "client.close()\n",
    "cluster.close()"
   ]
  }
 ],
 "metadata": {
  "kernelspec": {
   "display_name": "mosaiks",
   "language": "python",
   "name": "python3"
  },
  "language_info": {
   "codemirror_mode": {
    "name": "ipython",
    "version": 3
   },
   "file_extension": ".py",
   "mimetype": "text/x-python",
   "name": "python",
   "nbconvert_exporter": "python",
   "pygments_lexer": "ipython3",
   "version": "3.10.0"
  },
  "orig_nbformat": 4
 },
 "nbformat": 4,
 "nbformat_minor": 2
}
