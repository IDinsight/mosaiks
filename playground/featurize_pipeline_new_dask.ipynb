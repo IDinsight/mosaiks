{
 "cells": [
  {
   "attachments": {},
   "cell_type": "markdown",
   "id": "5bdaf559-42cf-49a2-b6b4-dfc4185c2c3f",
   "metadata": {},
   "source": [
    "### TODO\n",
    "\n",
    "- Simplify further?\n",
    "    - Stac search per point instead of the hilbert distances shenanigans\n",
    "    - Instead of 500 points per thread on a dataloader, just have each thread work on 1 point at a time\n",
    "- Add error catching to Queued Futures"
   ]
  },
  {
   "attachments": {},
   "cell_type": "markdown",
   "id": "cb8b2e2a-8dd2-49e4-a894-27a3a4794276",
   "metadata": {
    "tags": []
   },
   "source": [
    "# Notebook prep"
   ]
  },
  {
   "cell_type": "code",
   "execution_count": null,
   "id": "8a082089-9f4a-486e-a3a5-4b41cb161c5d",
   "metadata": {},
   "outputs": [],
   "source": [
    "%load_ext autoreload\n",
    "%autoreload 2"
   ]
  },
  {
   "attachments": {},
   "cell_type": "markdown",
   "id": "ee23c072",
   "metadata": {
    "tags": []
   },
   "source": [
    "## Install the mosaiks package"
   ]
  },
  {
   "cell_type": "code",
   "execution_count": null,
   "id": "e3d53a68-63c7-468b-9832-989942106d40",
   "metadata": {},
   "outputs": [],
   "source": [
    "# Locally\n",
    "# !pip install -e .. --upgrade"
   ]
  },
  {
   "cell_type": "code",
   "execution_count": null,
   "id": "dfacd35a",
   "metadata": {},
   "outputs": [],
   "source": [
    "# From github\n",
    "# 🚨 Make sure you update github token in the secrets file 🚨\n",
    "# import src.mosaiks.utils as utl\n",
    "# mosaiks_package_link = utl.get_mosaiks_package_link\n",
    "# !pip install {mosaiks_package_link} --upgrade"
   ]
  },
  {
   "attachments": {},
   "cell_type": "markdown",
   "id": "7ac2b0d2",
   "metadata": {
    "tags": []
   },
   "source": [
    "## Import packages"
   ]
  },
  {
   "cell_type": "code",
   "execution_count": null,
   "id": "3af5c18c-37d8-4a2b-9038-2987ed07a1d7",
   "metadata": {},
   "outputs": [],
   "source": [
    "import logging\n",
    "\n",
    "logger = logging.getLogger()\n",
    "logger.setLevel(logging.INFO)"
   ]
  },
  {
   "cell_type": "code",
   "execution_count": null,
   "id": "2a170fe7-063d-4f09-b01a-4aee0cf2ab77",
   "metadata": {},
   "outputs": [],
   "source": [
    "import sys\n",
    "import os\n",
    "import warnings\n",
    "\n",
    "sys.path += [\"../\"]\n",
    "warnings.filterwarnings(\"ignore\")"
   ]
  },
  {
   "cell_type": "code",
   "execution_count": null,
   "id": "c6a6f126",
   "metadata": {},
   "outputs": [],
   "source": [
    "from pathlib import Path\n",
    "import mosaiks.utils as utl\n",
    "from mosaiks.featurize import RCF"
   ]
  },
  {
   "attachments": {},
   "cell_type": "markdown",
   "id": "5a32e2ec",
   "metadata": {
    "tags": []
   },
   "source": [
    "## Setup Rasterio"
   ]
  },
  {
   "cell_type": "code",
   "execution_count": null,
   "id": "ed1c9adb",
   "metadata": {},
   "outputs": [],
   "source": [
    "rasterio_config = utl.load_yaml_config(\"rasterioc_config.yaml\")\n",
    "os.environ.update(rasterio_config)"
   ]
  },
  {
   "attachments": {},
   "cell_type": "markdown",
   "id": "3eeb924c-7f6c-429f-93fb-2a1eabe394e4",
   "metadata": {
    "tags": []
   },
   "source": [
    "# Load params + defaults"
   ]
  },
  {
   "cell_type": "code",
   "execution_count": null,
   "id": "0fb14555-bbba-4e63-a157-4a247e1af77a",
   "metadata": {},
   "outputs": [],
   "source": [
    "featurization_config = utl.load_yaml_config(\"featurisation.yaml\")\n",
    "\n",
    "satellite_config = utl.load_yaml_config(\"satellite_config.yaml\")\n",
    "satellite_config = satellite_config[\n",
    "    featurization_config[\"satellite_search_params\"][\"satellite_name\"]\n",
    "]"
   ]
  },
  {
   "cell_type": "code",
   "execution_count": null,
   "id": "c28afd9f-ad5e-4bae-b175-1542007419e9",
   "metadata": {},
   "outputs": [],
   "source": [
    "mosaiks_column_names = [\n",
    "    f\"mosaiks_{i}\" for i in range(featurization_config[\"model\"][\"num_features\"])\n",
    "]\n",
    "test_mosaiks_folder_path = Path(\"test_outputs\")"
   ]
  },
  {
   "cell_type": "code",
   "execution_count": null,
   "id": "5b47c54b-8f73-46bf-9be3-0036c522c441",
   "metadata": {},
   "outputs": [],
   "source": [
    "model = RCF(\n",
    "    featurization_config[\"model\"][\"num_features\"],\n",
    "    featurization_config[\"model\"][\"kernel_size\"],\n",
    "    len(satellite_config[\"bands\"]),\n",
    ")"
   ]
  },
  {
   "attachments": {},
   "cell_type": "markdown",
   "id": "34df2287-cc11-43b0-b20b-feef6f4d15ba",
   "metadata": {
    "tags": []
   },
   "source": [
    "# Load Data"
   ]
  },
  {
   "cell_type": "code",
   "execution_count": null,
   "id": "6a4b510b-ad70-4af3-89d7-64f0899ed88b",
   "metadata": {},
   "outputs": [],
   "source": [
    "request_points_gdf = utl.load_df_w_latlons_to_gdf(\n",
    "    dataset_name=featurization_config[\"coord_set_name\"]\n",
    ")"
   ]
  },
  {
   "cell_type": "code",
   "execution_count": null,
   "id": "7bb02df6-3c70-496c-bcff-364957b6e4d3",
   "metadata": {},
   "outputs": [],
   "source": [
    "points_gdf = request_points_gdf.iloc[\n",
    "    :1000\n",
    "]  # .sample(1000, random_state=0) # Select random 1000 points (for testing)"
   ]
  },
  {
   "cell_type": "code",
   "execution_count": null,
   "id": "fb667064-8caa-496d-938f-737498bf71ca",
   "metadata": {},
   "outputs": [],
   "source": [
    "test_points_gdf = points_gdf.iloc[1:2]"
   ]
  },
  {
   "attachments": {},
   "cell_type": "markdown",
   "id": "71866155-9072-4f21-8d6a-781d378b6d29",
   "metadata": {
    "tags": []
   },
   "source": [
    "# Simple non-dask run"
   ]
  },
  {
   "cell_type": "code",
   "execution_count": null,
   "id": "a148a3d3",
   "metadata": {},
   "outputs": [],
   "source": [
    "from mosaiks.featurize import fetch_image_refs, create_data_loader, create_features\n",
    "import pandas as pd"
   ]
  },
  {
   "cell_type": "code",
   "execution_count": null,
   "id": "1454d2c3",
   "metadata": {},
   "outputs": [],
   "source": [
    "%%time\n",
    "points_gdf_with_stac = fetch_image_refs(\n",
    "    test_points_gdf, \n",
    "    featurization_config['satellite_search_params']\n",
    ")\n",
    "\n",
    "data_loader = create_data_loader(\n",
    "    points_gdf_with_stac=points_gdf_with_stac,\n",
    "    satellite_params=satellite_config,\n",
    "    batch_size=featurization_config[\"model\"][\"batch_size\"],\n",
    ")\n",
    "\n",
    "X_features = create_features(\n",
    "    dataloader=data_loader,\n",
    "    n_features=featurization_config[\"model\"][\"num_features\"],\n",
    "    model=model,\n",
    "    device=featurization_config[\"model\"][\"device\"],\n",
    "    min_image_edge=satellite_config[\"min_image_edge\"],\n",
    ")\n",
    "\n",
    "df = pd.DataFrame(\n",
    "    data=X_features, index=test_points_gdf.index, columns=mosaiks_column_names\n",
    ")\n",
    "\n",
    "utl.save_dataframe(\n",
    "    df=df, file_path=f\"{test_mosaiks_folder_path}/df_TEST.csv\"\n",
    ")"
   ]
  },
  {
   "cell_type": "code",
   "execution_count": null,
   "id": "d78f17d9",
   "metadata": {},
   "outputs": [],
   "source": [
    "df"
   ]
  },
  {
   "attachments": {},
   "cell_type": "markdown",
   "id": "5f7dfd3e-da24-4081-a3d4-2d0ed4e3f8e3",
   "metadata": {
    "tags": []
   },
   "source": [
    "# Dask runs"
   ]
  },
  {
   "cell_type": "code",
   "execution_count": null,
   "id": "d856827f-710b-4765-979a-a23ed305dfdd",
   "metadata": {},
   "outputs": [],
   "source": [
    "from mosaiks.dask_run import get_local_dask_client"
   ]
  },
  {
   "cell_type": "code",
   "execution_count": null,
   "id": "4369b02d-729c-4abc-8568-8f952ee7cef2",
   "metadata": {},
   "outputs": [],
   "source": [
    "client = get_local_dask_client(\n",
    "    featurization_config[\"dask\"][\"n_workers\"],\n",
    "    featurization_config[\"dask\"][\"threads_per_worker\"],\n",
    ")\n",
    "client"
   ]
  },
  {
   "cell_type": "code",
   "execution_count": null,
   "id": "b20c8a93-1449-4998-b5e6-d8ff333e6e56",
   "metadata": {},
   "outputs": [],
   "source": [
    "mosaiks_folder_path = utl.make_output_folder_path(featurization_config)\n",
    "os.makedirs(mosaiks_folder_path, exist_ok=True)"
   ]
  },
  {
   "attachments": {},
   "cell_type": "markdown",
   "id": "ab735a9e-facd-498e-99f8-87bc9d10d876",
   "metadata": {
    "tags": []
   },
   "source": [
    "## Method 1 (Preferred) - Queued Futures"
   ]
  },
  {
   "cell_type": "code",
   "execution_count": null,
   "id": "4ac8029e",
   "metadata": {},
   "outputs": [],
   "source": [
    "from mosaiks.dask_run import run_queued_futures_pipeline"
   ]
  },
  {
   "cell_type": "code",
   "execution_count": null,
   "id": "eb638d47-e109-49cb-871d-272bb1c8eabb",
   "metadata": {
    "tags": []
   },
   "outputs": [],
   "source": [
    "%%time\n",
    "\n",
    "# note that stopping this cell does not stop the dask cluster processing what\n",
    "# is currently submitted. Use client.restart().\n",
    "run_queued_futures_pipeline(\n",
    "    points_gdf,\n",
    "    client=client,\n",
    "    model=model,\n",
    "    featurization_config=featurization_config,\n",
    "    satellite_config=satellite_config,\n",
    "    column_names=mosaiks_column_names,\n",
    "    save_folder_path=mosaiks_folder_path,\n",
    ")"
   ]
  },
  {
   "attachments": {},
   "cell_type": "markdown",
   "id": "1fbe95db",
   "metadata": {},
   "source": [
    "## Method 2 - Batched Delayed"
   ]
  },
  {
   "cell_type": "code",
   "execution_count": null,
   "id": "926e7055",
   "metadata": {},
   "outputs": [],
   "source": [
    "from mosaiks.dask_run import run_batched_delayed_pipeline"
   ]
  },
  {
   "cell_type": "code",
   "execution_count": null,
   "id": "69105f21",
   "metadata": {},
   "outputs": [],
   "source": [
    "%%time\n",
    "\n",
    "# note that stopping this cell does not stop the dask cluster processing what\n",
    "# is currently submitted. Use client.restart().\n",
    "run_batched_delayed_pipeline(\n",
    "    points_gdf,\n",
    "    client=client,\n",
    "    model=model,\n",
    "    featurization_config=featurization_config,\n",
    "    satellite_config=satellite_config,\n",
    "    column_names=mosaiks_column_names,\n",
    "    save_folder_path=mosaiks_folder_path,\n",
    ")"
   ]
  },
  {
   "attachments": {},
   "cell_type": "markdown",
   "id": "cdda7049",
   "metadata": {},
   "source": [
    "## Method 3 - Unbatched Delayed"
   ]
  },
  {
   "cell_type": "code",
   "execution_count": null,
   "id": "71dc79d1",
   "metadata": {},
   "outputs": [],
   "source": [
    "from mosaiks.dask_run import make_delayed_task, make_all_delayed_tasks,"
   ]
  },
  {
   "attachments": {},
   "cell_type": "markdown",
   "id": "4b68f9f9",
   "metadata": {},
   "source": [
    "### Single task"
   ]
  },
  {
   "cell_type": "code",
   "execution_count": null,
   "id": "5125931e",
   "metadata": {},
   "outputs": [],
   "source": [
    "delayed_task = make_delayed_task(\n",
    "    test_points_gdf,\n",
    "    model,\n",
    "    featurization_config,\n",
    "    satellite_config,\n",
    "    mosaiks_column_names,\n",
    "    test_mosaiks_folder_path,\n",
    "    \"TEST_dask_delayed.csv\",\n",
    ")"
   ]
  },
  {
   "cell_type": "code",
   "execution_count": null,
   "id": "9db73630",
   "metadata": {},
   "outputs": [],
   "source": [
    "delayed_task.visualize(filename=f\"{test_mosaiks_folder_path}/TEST_dask_graph.png\")"
   ]
  },
  {
   "cell_type": "code",
   "execution_count": null,
   "id": "333d7dbd",
   "metadata": {},
   "outputs": [],
   "source": [
    "delayed_task.compute()"
   ]
  },
  {
   "attachments": {},
   "cell_type": "markdown",
   "id": "7658c336",
   "metadata": {},
   "source": [
    "### Full run"
   ]
  },
  {
   "cell_type": "code",
   "execution_count": null,
   "id": "71368015",
   "metadata": {},
   "outputs": [],
   "source": [
    "from dask.distributed import progress"
   ]
  },
  {
   "cell_type": "code",
   "execution_count": null,
   "id": "de230a0a",
   "metadata": {},
   "outputs": [],
   "source": [
    "delayed_task_list = make_all_delayed_tasks(\n",
    "    points_gdf=points_gdf,\n",
    "    model=model,\n",
    "    featurization_config=featurization_config,\n",
    "    satellite_config=satellite_config,\n",
    "    save_folder_path=mosaiks_folder_path,\n",
    ")"
   ]
  },
  {
   "cell_type": "code",
   "execution_count": null,
   "id": "111e7eff",
   "metadata": {},
   "outputs": [],
   "source": [
    "persist_tasks = client.persist(delayed_task_list)\n",
    "progress(persist_tasks)"
   ]
  },
  {
   "attachments": {},
   "cell_type": "markdown",
   "id": "436b7689-36ef-4713-ba0f-b37c34103b5c",
   "metadata": {
    "tags": []
   },
   "source": [
    "# Load checkpoint files and combine"
   ]
  },
  {
   "cell_type": "code",
   "execution_count": null,
   "id": "ae18cf3f-45af-4577-a465-25cf0c3a18bf",
   "metadata": {},
   "outputs": [],
   "source": [
    "# simple test\n",
    "# data = utl.load_dataframe(mosaiks_folder_path / \"df_0.parquet.gzip\")\n",
    "# data"
   ]
  },
  {
   "cell_type": "code",
   "execution_count": null,
   "id": "f5810eb0-0db8-4a6c-85af-1eea2ad851af",
   "metadata": {},
   "outputs": [],
   "source": [
    "checkpoint_filenames = utl.get_filtered_filenames(\n",
    "    folder_path=mosaiks_folder_path, prefix=\"df_\"\n",
    ")\n",
    "\n",
    "combined_df = utl.load_and_combine_dataframes(\n",
    "    folder_path=mosaiks_folder_path, filenames=checkpoint_filenames\n",
    ")\n",
    "\n",
    "combined_df = combined_df.join(points_gdf[[\"Lat\", \"Lon\", \"shrid\"]])\n",
    "\n",
    "print(\"Dataset size in memory (MB):\", combined_df.memory_usage().sum() / 1000000)"
   ]
  }
 ],
 "metadata": {
  "kernelspec": {
   "display_name": "mosaiks",
   "language": "python",
   "name": "python3"
  },
  "language_info": {
   "codemirror_mode": {
    "name": "ipython",
    "version": 3
   },
   "file_extension": ".py",
   "mimetype": "text/x-python",
   "name": "python",
   "nbconvert_exporter": "python",
   "pygments_lexer": "ipython3",
   "version": "3.10.0"
  }
 },
 "nbformat": 4,
 "nbformat_minor": 5
}
