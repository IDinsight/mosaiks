{
 "cells": [
  {
   "attachments": {},
   "cell_type": "markdown",
   "id": "5bdaf559-42cf-49a2-b6b4-dfc4185c2c3f",
   "metadata": {},
   "source": [
    "### TODO\n",
    "\n",
    "- Simplify further?\n",
    "    - Stac search per point instead of the hilbert distances shenanigans\n",
    "    - Instead of 500 points per thread on a dataloader, just have each thread work on 1 point at a time\n",
    "- Add error catching to Queued Futures"
   ]
  },
  {
   "attachments": {},
   "cell_type": "markdown",
   "id": "cb8b2e2a-8dd2-49e4-a894-27a3a4794276",
   "metadata": {
    "tags": []
   },
   "source": [
    "# Notebook prep"
   ]
  },
  {
   "cell_type": "code",
   "execution_count": 1,
   "id": "8a082089-9f4a-486e-a3a5-4b41cb161c5d",
   "metadata": {
    "tags": []
   },
   "outputs": [],
   "source": [
    "%load_ext autoreload\n",
    "%autoreload 2"
   ]
  },
  {
   "attachments": {},
   "cell_type": "markdown",
   "id": "ee23c072",
   "metadata": {
    "tags": []
   },
   "source": [
    "## Install the mosaiks package"
   ]
  },
  {
   "cell_type": "code",
   "execution_count": 2,
   "id": "e3d53a68-63c7-468b-9832-989942106d40",
   "metadata": {
    "tags": []
   },
   "outputs": [],
   "source": [
    "# Locally\n",
    "# !pip install -e .. --upgrade"
   ]
  },
  {
   "cell_type": "code",
   "execution_count": 4,
   "id": "dfacd35a",
   "metadata": {
    "tags": []
   },
   "outputs": [],
   "source": [
    "# From github\n",
    "# 🚨 Make sure you update github token in the secrets file 🚨\n",
    "# import src.mosaiks.utils as utl\n",
    "# mosaiks_package_link = utl.get_mosaiks_package_link\n",
    "# !pip install {mosaiks_package_link} --upgrade"
   ]
  },
  {
   "attachments": {},
   "cell_type": "markdown",
   "id": "7ac2b0d2",
   "metadata": {
    "tags": []
   },
   "source": [
    "## Import packages"
   ]
  },
  {
   "cell_type": "code",
   "execution_count": 5,
   "id": "3af5c18c-37d8-4a2b-9038-2987ed07a1d7",
   "metadata": {
    "tags": []
   },
   "outputs": [],
   "source": [
    "import logging\n",
    "\n",
    "logger = logging.getLogger()\n",
    "logger.setLevel(logging.INFO)"
   ]
  },
  {
   "cell_type": "code",
   "execution_count": 6,
   "id": "2a170fe7-063d-4f09-b01a-4aee0cf2ab77",
   "metadata": {
    "tags": []
   },
   "outputs": [],
   "source": [
    "import sys\n",
    "import os\n",
    "import warnings\n",
    "\n",
    "sys.path += [\"../\"]\n",
    "warnings.filterwarnings(\"ignore\")"
   ]
  },
  {
   "cell_type": "code",
   "execution_count": 8,
   "id": "c6a6f126",
   "metadata": {
    "tags": []
   },
   "outputs": [],
   "source": [
    "from pathlib import Path\n",
    "import mosaiks.utils as utl\n",
    "from mosaiks.featurize import RCF"
   ]
  },
  {
   "attachments": {},
   "cell_type": "markdown",
   "id": "5a32e2ec",
   "metadata": {
    "tags": []
   },
   "source": [
    "## Setup Rasterio"
   ]
  },
  {
   "cell_type": "code",
   "execution_count": 9,
   "id": "ed1c9adb",
   "metadata": {
    "tags": []
   },
   "outputs": [],
   "source": [
    "rasterio_config = utl.load_yaml_config(\"rasterioc_config.yaml\")\n",
    "os.environ.update(rasterio_config)"
   ]
  },
  {
   "attachments": {},
   "cell_type": "markdown",
   "id": "3eeb924c-7f6c-429f-93fb-2a1eabe394e4",
   "metadata": {
    "tags": []
   },
   "source": [
    "# Load params + defaults"
   ]
  },
  {
   "cell_type": "code",
   "execution_count": 10,
   "id": "0fb14555-bbba-4e63-a157-4a247e1af77a",
   "metadata": {
    "tags": []
   },
   "outputs": [],
   "source": [
    "featurization_config = utl.load_yaml_config(\"featurisation.yaml\")\n",
    "\n",
    "satellite_config = utl.load_yaml_config(\"satellite_config.yaml\")\n",
    "satellite_config = satellite_config[\n",
    "    featurization_config[\"satellite_search_params\"][\"satellite_name\"]\n",
    "]"
   ]
  },
  {
   "cell_type": "code",
   "execution_count": 11,
   "id": "c28afd9f-ad5e-4bae-b175-1542007419e9",
   "metadata": {
    "tags": []
   },
   "outputs": [],
   "source": [
    "mosaiks_column_names = [\n",
    "    f\"mosaiks_{i}\" for i in range(featurization_config[\"model\"][\"num_features\"])\n",
    "]\n",
    "test_mosaiks_folder_path = Path(\"test_outputs\")"
   ]
  },
  {
   "cell_type": "code",
   "execution_count": 12,
   "id": "5b47c54b-8f73-46bf-9be3-0036c522c441",
   "metadata": {
    "tags": []
   },
   "outputs": [],
   "source": [
    "model = RCF(\n",
    "    featurization_config[\"model\"][\"num_features\"],\n",
    "    featurization_config[\"model\"][\"kernel_size\"],\n",
    "    len(satellite_config[\"bands\"]),\n",
    ")"
   ]
  },
  {
   "attachments": {},
   "cell_type": "markdown",
   "id": "34df2287-cc11-43b0-b20b-feef6f4d15ba",
   "metadata": {
    "tags": []
   },
   "source": [
    "# Load Data"
   ]
  },
  {
   "cell_type": "code",
   "execution_count": 13,
   "id": "6a4b510b-ad70-4af3-89d7-64f0899ed88b",
   "metadata": {
    "tags": []
   },
   "outputs": [],
   "source": [
    "request_points_gdf = utl.load_df_w_latlons_to_gdf(\n",
    "    dataset_name=featurization_config[\"coord_set_name\"]\n",
    ")"
   ]
  },
  {
   "cell_type": "code",
   "execution_count": 14,
   "id": "7bb02df6-3c70-496c-bcff-364957b6e4d3",
   "metadata": {
    "tags": []
   },
   "outputs": [],
   "source": [
    "# Select random 1000 points (for testing)\n",
    "points_gdf = request_points_gdf.iloc[:1000]"
   ]
  },
  {
   "attachments": {},
   "cell_type": "markdown",
   "id": "71866155-9072-4f21-8d6a-781d378b6d29",
   "metadata": {
    "tags": []
   },
   "source": [
    "# Simple non-Dask run"
   ]
  },
  {
   "cell_type": "code",
   "execution_count": 15,
   "id": "fb667064-8caa-496d-938f-737498bf71ca",
   "metadata": {
    "tags": []
   },
   "outputs": [],
   "source": [
    "test_points_gdf = points_gdf.iloc[1:2]"
   ]
  },
  {
   "attachments": {},
   "cell_type": "markdown",
   "id": "9860caef",
   "metadata": {},
   "source": [
    "### Check pipeline run"
   ]
  },
  {
   "cell_type": "code",
   "execution_count": 19,
   "id": "0c32fc8b",
   "metadata": {
    "tags": []
   },
   "outputs": [],
   "source": [
    "from mosaiks.run import full_pipeline"
   ]
  },
  {
   "cell_type": "code",
   "execution_count": 20,
   "id": "47307cec",
   "metadata": {
    "tags": []
   },
   "outputs": [
    {
     "name": "stdout",
     "output_type": "stream",
     "text": [
      "CPU times: user 810 ms, sys: 343 ms, total: 1.15 s\n",
      "Wall time: 4.77 s\n"
     ]
    },
    {
     "data": {
      "text/html": [
       "<div>\n",
       "<style scoped>\n",
       "    .dataframe tbody tr th:only-of-type {\n",
       "        vertical-align: middle;\n",
       "    }\n",
       "\n",
       "    .dataframe tbody tr th {\n",
       "        vertical-align: top;\n",
       "    }\n",
       "\n",
       "    .dataframe thead th {\n",
       "        text-align: right;\n",
       "    }\n",
       "</style>\n",
       "<table border=\"1\" class=\"dataframe\">\n",
       "  <thead>\n",
       "    <tr style=\"text-align: right;\">\n",
       "      <th></th>\n",
       "      <th>mosaiks_0</th>\n",
       "      <th>mosaiks_1</th>\n",
       "      <th>mosaiks_2</th>\n",
       "      <th>mosaiks_3</th>\n",
       "      <th>mosaiks_4</th>\n",
       "      <th>mosaiks_5</th>\n",
       "      <th>mosaiks_6</th>\n",
       "      <th>mosaiks_7</th>\n",
       "      <th>mosaiks_8</th>\n",
       "      <th>mosaiks_9</th>\n",
       "      <th>...</th>\n",
       "      <th>mosaiks_3990</th>\n",
       "      <th>mosaiks_3991</th>\n",
       "      <th>mosaiks_3992</th>\n",
       "      <th>mosaiks_3993</th>\n",
       "      <th>mosaiks_3994</th>\n",
       "      <th>mosaiks_3995</th>\n",
       "      <th>mosaiks_3996</th>\n",
       "      <th>mosaiks_3997</th>\n",
       "      <th>mosaiks_3998</th>\n",
       "      <th>mosaiks_3999</th>\n",
       "    </tr>\n",
       "  </thead>\n",
       "  <tbody>\n",
       "    <tr>\n",
       "      <th>319819</th>\n",
       "      <td>0.0</td>\n",
       "      <td>1.558916</td>\n",
       "      <td>0.0</td>\n",
       "      <td>0.0</td>\n",
       "      <td>2.178434</td>\n",
       "      <td>0.000568</td>\n",
       "      <td>1.242502</td>\n",
       "      <td>0.0</td>\n",
       "      <td>0.416308</td>\n",
       "      <td>1.785282</td>\n",
       "      <td>...</td>\n",
       "      <td>5.091598</td>\n",
       "      <td>0.0</td>\n",
       "      <td>3.155938</td>\n",
       "      <td>0.0</td>\n",
       "      <td>6.648976</td>\n",
       "      <td>1.588532</td>\n",
       "      <td>0.007068</td>\n",
       "      <td>2.786207</td>\n",
       "      <td>3.821659</td>\n",
       "      <td>0.000024</td>\n",
       "    </tr>\n",
       "  </tbody>\n",
       "</table>\n",
       "<p>1 rows × 4000 columns</p>\n",
       "</div>"
      ],
      "text/plain": [
       "        mosaiks_0  mosaiks_1  mosaiks_2  mosaiks_3  mosaiks_4  mosaiks_5  \\\n",
       "319819        0.0   1.558916        0.0        0.0   2.178434   0.000568   \n",
       "\n",
       "        mosaiks_6  mosaiks_7  mosaiks_8  mosaiks_9  ...  mosaiks_3990  \\\n",
       "319819   1.242502        0.0   0.416308   1.785282  ...      5.091598   \n",
       "\n",
       "        mosaiks_3991  mosaiks_3992  mosaiks_3993  mosaiks_3994  mosaiks_3995  \\\n",
       "319819           0.0      3.155938           0.0      6.648976      1.588532   \n",
       "\n",
       "        mosaiks_3996  mosaiks_3997  mosaiks_3998  mosaiks_3999  \n",
       "319819      0.007068      2.786207      3.821659      0.000024  \n",
       "\n",
       "[1 rows x 4000 columns]"
      ]
     },
     "execution_count": 20,
     "metadata": {},
     "output_type": "execute_result"
    }
   ],
   "source": [
    "%%time\n",
    "df_1 = full_pipeline(\n",
    "    test_points_gdf,\n",
    "    model,\n",
    "    featurization_config,\n",
    "    satellite_config,\n",
    "    column_names=mosaiks_column_names,\n",
    "    save_folder_path=test_mosaiks_folder_path,\n",
    "    save_filename=\"df_TEST.csv\",\n",
    "    return_df=True,\n",
    ")\n",
    "df_1"
   ]
  },
  {
   "attachments": {},
   "cell_type": "markdown",
   "id": "fce05576",
   "metadata": {},
   "source": [
    "### Check pipeline components"
   ]
  },
  {
   "cell_type": "code",
   "execution_count": 34,
   "id": "a148a3d3",
   "metadata": {
    "tags": []
   },
   "outputs": [],
   "source": [
    "from mosaiks.fetch import fetch_image_refs, create_data_loader\n",
    "from mosaiks.featurize import create_features\n",
    "import pandas as pd"
   ]
  },
  {
   "cell_type": "code",
   "execution_count": 23,
   "id": "1454d2c3",
   "metadata": {
    "tags": []
   },
   "outputs": [
    {
     "name": "stdout",
     "output_type": "stream",
     "text": [
      "CPU times: user 84.6 ms, sys: 4.22 ms, total: 88.8 ms\n",
      "Wall time: 1.1 s\n"
     ]
    }
   ],
   "source": [
    "%%time\n",
    "points_gdf_with_stac = fetch_image_refs(\n",
    "    test_points_gdf, \n",
    "    featurization_config['satellite_search_params']\n",
    ")"
   ]
  },
  {
   "cell_type": "code",
   "execution_count": 24,
   "id": "f4a91a66",
   "metadata": {},
   "outputs": [
    {
     "data": {
      "text/html": [
       "<div>\n",
       "<style scoped>\n",
       "    .dataframe tbody tr th:only-of-type {\n",
       "        vertical-align: middle;\n",
       "    }\n",
       "\n",
       "    .dataframe tbody tr th {\n",
       "        vertical-align: top;\n",
       "    }\n",
       "\n",
       "    .dataframe thead th {\n",
       "        text-align: right;\n",
       "    }\n",
       "</style>\n",
       "<table border=\"1\" class=\"dataframe\">\n",
       "  <thead>\n",
       "    <tr style=\"text-align: right;\">\n",
       "      <th></th>\n",
       "      <th>Lat</th>\n",
       "      <th>Lon</th>\n",
       "      <th>pc11_s_id</th>\n",
       "      <th>pc11_d_id</th>\n",
       "      <th>pc11_sd_id</th>\n",
       "      <th>pc11_tv_id</th>\n",
       "      <th>tv_name</th>\n",
       "      <th>is_urban</th>\n",
       "      <th>shrid</th>\n",
       "      <th>geometry</th>\n",
       "      <th>stac_item</th>\n",
       "    </tr>\n",
       "  </thead>\n",
       "  <tbody>\n",
       "    <tr>\n",
       "      <th>319819</th>\n",
       "      <td>34.554878</td>\n",
       "      <td>74.434486</td>\n",
       "      <td>1</td>\n",
       "      <td>1</td>\n",
       "      <td>1</td>\n",
       "      <td>16</td>\n",
       "      <td>Khurhama</td>\n",
       "      <td>0</td>\n",
       "      <td>11-01-000016</td>\n",
       "      <td>POINT (74.43449 34.55488)</td>\n",
       "      <td>&lt;Item id=LC08_L2SP_149036_20130518_02_T1&gt;</td>\n",
       "    </tr>\n",
       "  </tbody>\n",
       "</table>\n",
       "</div>"
      ],
      "text/plain": [
       "              Lat        Lon  pc11_s_id  pc11_d_id  pc11_sd_id  pc11_tv_id  \\\n",
       "319819  34.554878  74.434486          1          1           1          16   \n",
       "\n",
       "         tv_name  is_urban         shrid                   geometry  \\\n",
       "319819  Khurhama         0  11-01-000016  POINT (74.43449 34.55488)   \n",
       "\n",
       "                                        stac_item  \n",
       "319819  <Item id=LC08_L2SP_149036_20130518_02_T1>  "
      ]
     },
     "execution_count": 24,
     "metadata": {},
     "output_type": "execute_result"
    }
   ],
   "source": [
    "points_gdf_with_stac"
   ]
  },
  {
   "cell_type": "code",
   "execution_count": 25,
   "id": "a8d48226",
   "metadata": {},
   "outputs": [],
   "source": [
    "from mosaiks.fetch import fetch_image_crop, display_image"
   ]
  },
  {
   "cell_type": "code",
   "execution_count": 26,
   "id": "bd6b4876",
   "metadata": {},
   "outputs": [
    {
     "data": {
      "image/png": "[encoded data removed]",
      "text/plain": [
       "<Figure size 640x480 with 1 Axes>"
      ]
     },
     "metadata": {},
     "output_type": "display_data"
    }
   ],
   "source": [
    "image = fetch_image_crop(\n",
    "    lon=points_gdf_with_stac.iloc[0][\"Lon\"],\n",
    "    lat=points_gdf_with_stac.iloc[0][\"Lat\"],\n",
    "    stac_item=points_gdf_with_stac.iloc[0][\"stac_item\"],\n",
    "    buffer=satellite_config[\"buffer_distance\"],\n",
    "    bands=satellite_config[\"bands\"],\n",
    "    resolution=satellite_config[\"resolution\"],\n",
    "    dtype=satellite_config[\"dtype\"],\n",
    "    normalise=True,\n",
    ")\n",
    "\n",
    "display_image(image)"
   ]
  },
  {
   "cell_type": "code",
   "execution_count": 27,
   "id": "3a8fd4f4",
   "metadata": {},
   "outputs": [],
   "source": [
    "# for multiple images ######\n",
    "# for stac_item in points_gdf_with_stac.iloc[0][\"stac_item\"]:\n",
    "#     image = fetch_image_crop(\n",
    "#         lon=points_gdf_with_stac.iloc[0][\"Lon\"],\n",
    "#         lat=points_gdf_with_stac.iloc[0][\"Lat\"],\n",
    "#         stac_item=stac_item,\n",
    "#         buffer=satellite_config[\"buffer_distance\"],\n",
    "#         bands=satellite_config[\"bands\"],\n",
    "#         resolution=satellite_config[\"resolution\"],\n",
    "#         dtype=\"uint16\",\n",
    "#         normalise=True,\n",
    "#     )\n",
    "\n",
    "#     display_numpy_image(image)"
   ]
  },
  {
   "cell_type": "code",
   "execution_count": 28,
   "id": "91310ec6",
   "metadata": {
    "tags": []
   },
   "outputs": [
    {
     "name": "stdout",
     "output_type": "stream",
     "text": [
      "CPU times: user 1.37 ms, sys: 23 µs, total: 1.4 ms\n",
      "Wall time: 1.39 ms\n"
     ]
    }
   ],
   "source": [
    "%%time\n",
    "\n",
    "data_loader = create_data_loader(\n",
    "    points_gdf_with_stac=points_gdf_with_stac,\n",
    "    satellite_params=satellite_config,\n",
    "    batch_size=featurization_config[\"model\"][\"batch_size\"],\n",
    ")"
   ]
  },
  {
   "cell_type": "code",
   "execution_count": 29,
   "id": "dbe41321",
   "metadata": {
    "tags": []
   },
   "outputs": [
    {
     "name": "stdout",
     "output_type": "stream",
     "text": [
      "CPU times: user 218 ms, sys: 201 ms, total: 419 ms\n",
      "Wall time: 462 ms\n"
     ]
    }
   ],
   "source": [
    "%%time\n",
    "X_features = create_features(\n",
    "    dataloader=data_loader,\n",
    "    n_features=featurization_config[\"model\"][\"num_features\"],\n",
    "    model=model,\n",
    "    device=featurization_config[\"model\"][\"device\"],\n",
    "    min_image_edge=satellite_config[\"min_image_edge\"],\n",
    ")"
   ]
  },
  {
   "cell_type": "code",
   "execution_count": 30,
   "id": "67c6717d",
   "metadata": {
    "tags": []
   },
   "outputs": [
    {
     "name": "stdout",
     "output_type": "stream",
     "text": [
      "CPU times: user 438 µs, sys: 68 µs, total: 506 µs\n",
      "Wall time: 422 µs\n"
     ]
    },
    {
     "data": {
      "text/html": [
       "<div>\n",
       "<style scoped>\n",
       "    .dataframe tbody tr th:only-of-type {\n",
       "        vertical-align: middle;\n",
       "    }\n",
       "\n",
       "    .dataframe tbody tr th {\n",
       "        vertical-align: top;\n",
       "    }\n",
       "\n",
       "    .dataframe thead th {\n",
       "        text-align: right;\n",
       "    }\n",
       "</style>\n",
       "<table border=\"1\" class=\"dataframe\">\n",
       "  <thead>\n",
       "    <tr style=\"text-align: right;\">\n",
       "      <th></th>\n",
       "      <th>mosaiks_0</th>\n",
       "      <th>mosaiks_1</th>\n",
       "      <th>mosaiks_2</th>\n",
       "      <th>mosaiks_3</th>\n",
       "      <th>mosaiks_4</th>\n",
       "      <th>mosaiks_5</th>\n",
       "      <th>mosaiks_6</th>\n",
       "      <th>mosaiks_7</th>\n",
       "      <th>mosaiks_8</th>\n",
       "      <th>mosaiks_9</th>\n",
       "      <th>...</th>\n",
       "      <th>mosaiks_3990</th>\n",
       "      <th>mosaiks_3991</th>\n",
       "      <th>mosaiks_3992</th>\n",
       "      <th>mosaiks_3993</th>\n",
       "      <th>mosaiks_3994</th>\n",
       "      <th>mosaiks_3995</th>\n",
       "      <th>mosaiks_3996</th>\n",
       "      <th>mosaiks_3997</th>\n",
       "      <th>mosaiks_3998</th>\n",
       "      <th>mosaiks_3999</th>\n",
       "    </tr>\n",
       "  </thead>\n",
       "  <tbody>\n",
       "    <tr>\n",
       "      <th>319819</th>\n",
       "      <td>0.0</td>\n",
       "      <td>1.558916</td>\n",
       "      <td>0.0</td>\n",
       "      <td>0.0</td>\n",
       "      <td>2.178434</td>\n",
       "      <td>0.000568</td>\n",
       "      <td>1.242502</td>\n",
       "      <td>0.0</td>\n",
       "      <td>0.416308</td>\n",
       "      <td>1.785282</td>\n",
       "      <td>...</td>\n",
       "      <td>5.091598</td>\n",
       "      <td>0.0</td>\n",
       "      <td>3.155938</td>\n",
       "      <td>0.0</td>\n",
       "      <td>6.648976</td>\n",
       "      <td>1.588532</td>\n",
       "      <td>0.007068</td>\n",
       "      <td>2.786207</td>\n",
       "      <td>3.821659</td>\n",
       "      <td>0.000024</td>\n",
       "    </tr>\n",
       "  </tbody>\n",
       "</table>\n",
       "<p>1 rows × 4000 columns</p>\n",
       "</div>"
      ],
      "text/plain": [
       "        mosaiks_0  mosaiks_1  mosaiks_2  mosaiks_3  mosaiks_4  mosaiks_5  \\\n",
       "319819        0.0   1.558916        0.0        0.0   2.178434   0.000568   \n",
       "\n",
       "        mosaiks_6  mosaiks_7  mosaiks_8  mosaiks_9  ...  mosaiks_3990  \\\n",
       "319819   1.242502        0.0   0.416308   1.785282  ...      5.091598   \n",
       "\n",
       "        mosaiks_3991  mosaiks_3992  mosaiks_3993  mosaiks_3994  mosaiks_3995  \\\n",
       "319819           0.0      3.155938           0.0      6.648976      1.588532   \n",
       "\n",
       "        mosaiks_3996  mosaiks_3997  mosaiks_3998  mosaiks_3999  \n",
       "319819      0.007068      2.786207      3.821659      0.000024  \n",
       "\n",
       "[1 rows x 4000 columns]"
      ]
     },
     "execution_count": 30,
     "metadata": {},
     "output_type": "execute_result"
    }
   ],
   "source": [
    "%%time\n",
    "df = pd.DataFrame(\n",
    "    data=X_features, index=test_points_gdf.index, columns=mosaiks_column_names\n",
    ")\n",
    "df"
   ]
  },
  {
   "cell_type": "code",
   "execution_count": 31,
   "id": "ad6a4da8",
   "metadata": {
    "tags": []
   },
   "outputs": [
    {
     "name": "stdout",
     "output_type": "stream",
     "text": [
      "CPU times: user 9.93 ms, sys: 1.87 ms, total: 11.8 ms\n",
      "Wall time: 11.2 ms\n"
     ]
    }
   ],
   "source": [
    "%%time\n",
    "utl.save_dataframe(\n",
    "    df=df, file_path=f\"{test_mosaiks_folder_path}/df_TEST.csv\"\n",
    ")"
   ]
  },
  {
   "attachments": {},
   "cell_type": "markdown",
   "id": "5f7dfd3e-da24-4081-a3d4-2d0ed4e3f8e3",
   "metadata": {
    "tags": []
   },
   "source": [
    "# Dask runs"
   ]
  },
  {
   "cell_type": "code",
   "execution_count": 35,
   "id": "d856827f-710b-4765-979a-a23ed305dfdd",
   "metadata": {
    "tags": []
   },
   "outputs": [
    {
     "name": "stderr",
     "output_type": "stream",
     "text": [
      "INFO:root:http://127.0.0.1:8787/status\n"
     ]
    }
   ],
   "source": [
    "### Connect to LOCAL CLIENT\n",
    "from mosaiks.dask import get_local_dask_client\n",
    "client = get_local_dask_client(\n",
    "    featurization_config[\"dask\"][\"n_workers\"],\n",
    "    featurization_config[\"dask\"][\"threads_per_worker\"],\n",
    ")"
   ]
  },
  {
   "cell_type": "code",
   "execution_count": 36,
   "id": "c9299d43",
   "metadata": {
    "tags": []
   },
   "outputs": [],
   "source": [
    "### or connect to GATEWAY\n",
    "# from mosaiks.dask import get_gateway_cluster_client\n",
    "# cluster, client = get_gateway_cluster_client()\n",
    "# cluster"
   ]
  },
  {
   "cell_type": "code",
   "execution_count": 37,
   "id": "4369b02d-729c-4abc-8568-8f952ee7cef2",
   "metadata": {
    "tags": []
   },
   "outputs": [
    {
     "data": {
      "text/html": [
       "<div>\n",
       "    <div style=\"width: 24px; height: 24px; background-color: #e1e1e1; border: 3px solid #9D9D9D; border-radius: 5px; position: absolute;\"> </div>\n",
       "    <div style=\"margin-left: 48px;\">\n",
       "        <h3 style=\"margin-bottom: 0px;\">Client</h3>\n",
       "        <p style=\"color: #9D9D9D; margin-bottom: 0px;\">Client-f14bb08e-f639-11ed-8c82-a6ccc78df726</p>\n",
       "        <table style=\"width: 100%; text-align: left;\">\n",
       "\n",
       "        <tr>\n",
       "        \n",
       "            <td style=\"text-align: left;\"><strong>Connection method:</strong> Cluster object</td>\n",
       "            <td style=\"text-align: left;\"><strong>Cluster type:</strong> distributed.LocalCluster</td>\n",
       "        \n",
       "        </tr>\n",
       "\n",
       "        \n",
       "            <tr>\n",
       "                <td style=\"text-align: left;\">\n",
       "                    <strong>Dashboard: </strong> <a href=\"http://127.0.0.1:8787/status\" target=\"_blank\">http://127.0.0.1:8787/status</a>\n",
       "                </td>\n",
       "                <td style=\"text-align: left;\"></td>\n",
       "            </tr>\n",
       "        \n",
       "\n",
       "        </table>\n",
       "\n",
       "        \n",
       "\n",
       "        \n",
       "            <details>\n",
       "            <summary style=\"margin-bottom: 20px;\"><h3 style=\"display: inline;\">Cluster Info</h3></summary>\n",
       "            <div class=\"jp-RenderedHTMLCommon jp-RenderedHTML jp-mod-trusted jp-OutputArea-output\">\n",
       "    <div style=\"width: 24px; height: 24px; background-color: #e1e1e1; border: 3px solid #9D9D9D; border-radius: 5px; position: absolute;\">\n",
       "    </div>\n",
       "    <div style=\"margin-left: 48px;\">\n",
       "        <h3 style=\"margin-bottom: 0px; margin-top: 0px;\">LocalCluster</h3>\n",
       "        <p style=\"color: #9D9D9D; margin-bottom: 0px;\">307061b9</p>\n",
       "        <table style=\"width: 100%; text-align: left;\">\n",
       "            <tr>\n",
       "                <td style=\"text-align: left;\">\n",
       "                    <strong>Dashboard:</strong> <a href=\"http://127.0.0.1:8787/status\" target=\"_blank\">http://127.0.0.1:8787/status</a>\n",
       "                </td>\n",
       "                <td style=\"text-align: left;\">\n",
       "                    <strong>Workers:</strong> 4\n",
       "                </td>\n",
       "            </tr>\n",
       "            <tr>\n",
       "                <td style=\"text-align: left;\">\n",
       "                    <strong>Total threads:</strong> 16\n",
       "                </td>\n",
       "                <td style=\"text-align: left;\">\n",
       "                    <strong>Total memory:</strong> 16.00 GiB\n",
       "                </td>\n",
       "            </tr>\n",
       "            \n",
       "            <tr>\n",
       "    <td style=\"text-align: left;\"><strong>Status:</strong> running</td>\n",
       "    <td style=\"text-align: left;\"><strong>Using processes:</strong> True</td>\n",
       "</tr>\n",
       "\n",
       "            \n",
       "        </table>\n",
       "\n",
       "        <details>\n",
       "            <summary style=\"margin-bottom: 20px;\">\n",
       "                <h3 style=\"display: inline;\">Scheduler Info</h3>\n",
       "            </summary>\n",
       "\n",
       "            <div style=\"\">\n",
       "    <div>\n",
       "        <div style=\"width: 24px; height: 24px; background-color: #FFF7E5; border: 3px solid #FF6132; border-radius: 5px; position: absolute;\"> </div>\n",
       "        <div style=\"margin-left: 48px;\">\n",
       "            <h3 style=\"margin-bottom: 0px;\">Scheduler</h3>\n",
       "            <p style=\"color: #9D9D9D; margin-bottom: 0px;\">Scheduler-b9f9d987-010f-4d8e-ae96-ea58377c66be</p>\n",
       "            <table style=\"width: 100%; text-align: left;\">\n",
       "                <tr>\n",
       "                    <td style=\"text-align: left;\">\n",
       "                        <strong>Comm:</strong> tcp://127.0.0.1:53568\n",
       "                    </td>\n",
       "                    <td style=\"text-align: left;\">\n",
       "                        <strong>Workers:</strong> 4\n",
       "                    </td>\n",
       "                </tr>\n",
       "                <tr>\n",
       "                    <td style=\"text-align: left;\">\n",
       "                        <strong>Dashboard:</strong> <a href=\"http://127.0.0.1:8787/status\" target=\"_blank\">http://127.0.0.1:8787/status</a>\n",
       "                    </td>\n",
       "                    <td style=\"text-align: left;\">\n",
       "                        <strong>Total threads:</strong> 16\n",
       "                    </td>\n",
       "                </tr>\n",
       "                <tr>\n",
       "                    <td style=\"text-align: left;\">\n",
       "                        <strong>Started:</strong> Just now\n",
       "                    </td>\n",
       "                    <td style=\"text-align: left;\">\n",
       "                        <strong>Total memory:</strong> 16.00 GiB\n",
       "                    </td>\n",
       "                </tr>\n",
       "            </table>\n",
       "        </div>\n",
       "    </div>\n",
       "\n",
       "    <details style=\"margin-left: 48px;\">\n",
       "        <summary style=\"margin-bottom: 20px;\">\n",
       "            <h3 style=\"display: inline;\">Workers</h3>\n",
       "        </summary>\n",
       "\n",
       "        \n",
       "        <div style=\"margin-bottom: 20px;\">\n",
       "            <div style=\"width: 24px; height: 24px; background-color: #DBF5FF; border: 3px solid #4CC9FF; border-radius: 5px; position: absolute;\"> </div>\n",
       "            <div style=\"margin-left: 48px;\">\n",
       "            <details>\n",
       "                <summary>\n",
       "                    <h4 style=\"margin-bottom: 0px; display: inline;\">Worker: 0</h4>\n",
       "                </summary>\n",
       "                <table style=\"width: 100%; text-align: left;\">\n",
       "                    <tr>\n",
       "                        <td style=\"text-align: left;\">\n",
       "                            <strong>Comm: </strong> tcp://127.0.0.1:53582\n",
       "                        </td>\n",
       "                        <td style=\"text-align: left;\">\n",
       "                            <strong>Total threads: </strong> 4\n",
       "                        </td>\n",
       "                    </tr>\n",
       "                    <tr>\n",
       "                        <td style=\"text-align: left;\">\n",
       "                            <strong>Dashboard: </strong> <a href=\"http://127.0.0.1:53586/status\" target=\"_blank\">http://127.0.0.1:53586/status</a>\n",
       "                        </td>\n",
       "                        <td style=\"text-align: left;\">\n",
       "                            <strong>Memory: </strong> 4.00 GiB\n",
       "                        </td>\n",
       "                    </tr>\n",
       "                    <tr>\n",
       "                        <td style=\"text-align: left;\">\n",
       "                            <strong>Nanny: </strong> tcp://127.0.0.1:53571\n",
       "                        </td>\n",
       "                        <td style=\"text-align: left;\"></td>\n",
       "                    </tr>\n",
       "                    <tr>\n",
       "                        <td colspan=\"2\" style=\"text-align: left;\">\n",
       "                            <strong>Local directory: </strong> /var/folders/99/cwxq7sdx5d94rqxj57_crqbc0000gn/T/dask-scratch-space/worker-_241qz8d\n",
       "                        </td>\n",
       "                    </tr>\n",
       "\n",
       "                    \n",
       "\n",
       "                    \n",
       "\n",
       "                </table>\n",
       "            </details>\n",
       "            </div>\n",
       "        </div>\n",
       "        \n",
       "        <div style=\"margin-bottom: 20px;\">\n",
       "            <div style=\"width: 24px; height: 24px; background-color: #DBF5FF; border: 3px solid #4CC9FF; border-radius: 5px; position: absolute;\"> </div>\n",
       "            <div style=\"margin-left: 48px;\">\n",
       "            <details>\n",
       "                <summary>\n",
       "                    <h4 style=\"margin-bottom: 0px; display: inline;\">Worker: 1</h4>\n",
       "                </summary>\n",
       "                <table style=\"width: 100%; text-align: left;\">\n",
       "                    <tr>\n",
       "                        <td style=\"text-align: left;\">\n",
       "                            <strong>Comm: </strong> tcp://127.0.0.1:53580\n",
       "                        </td>\n",
       "                        <td style=\"text-align: left;\">\n",
       "                            <strong>Total threads: </strong> 4\n",
       "                        </td>\n",
       "                    </tr>\n",
       "                    <tr>\n",
       "                        <td style=\"text-align: left;\">\n",
       "                            <strong>Dashboard: </strong> <a href=\"http://127.0.0.1:53584/status\" target=\"_blank\">http://127.0.0.1:53584/status</a>\n",
       "                        </td>\n",
       "                        <td style=\"text-align: left;\">\n",
       "                            <strong>Memory: </strong> 4.00 GiB\n",
       "                        </td>\n",
       "                    </tr>\n",
       "                    <tr>\n",
       "                        <td style=\"text-align: left;\">\n",
       "                            <strong>Nanny: </strong> tcp://127.0.0.1:53572\n",
       "                        </td>\n",
       "                        <td style=\"text-align: left;\"></td>\n",
       "                    </tr>\n",
       "                    <tr>\n",
       "                        <td colspan=\"2\" style=\"text-align: left;\">\n",
       "                            <strong>Local directory: </strong> /var/folders/99/cwxq7sdx5d94rqxj57_crqbc0000gn/T/dask-scratch-space/worker-lxb6wcdo\n",
       "                        </td>\n",
       "                    </tr>\n",
       "\n",
       "                    \n",
       "\n",
       "                    \n",
       "\n",
       "                </table>\n",
       "            </details>\n",
       "            </div>\n",
       "        </div>\n",
       "        \n",
       "        <div style=\"margin-bottom: 20px;\">\n",
       "            <div style=\"width: 24px; height: 24px; background-color: #DBF5FF; border: 3px solid #4CC9FF; border-radius: 5px; position: absolute;\"> </div>\n",
       "            <div style=\"margin-left: 48px;\">\n",
       "            <details>\n",
       "                <summary>\n",
       "                    <h4 style=\"margin-bottom: 0px; display: inline;\">Worker: 2</h4>\n",
       "                </summary>\n",
       "                <table style=\"width: 100%; text-align: left;\">\n",
       "                    <tr>\n",
       "                        <td style=\"text-align: left;\">\n",
       "                            <strong>Comm: </strong> tcp://127.0.0.1:53581\n",
       "                        </td>\n",
       "                        <td style=\"text-align: left;\">\n",
       "                            <strong>Total threads: </strong> 4\n",
       "                        </td>\n",
       "                    </tr>\n",
       "                    <tr>\n",
       "                        <td style=\"text-align: left;\">\n",
       "                            <strong>Dashboard: </strong> <a href=\"http://127.0.0.1:53583/status\" target=\"_blank\">http://127.0.0.1:53583/status</a>\n",
       "                        </td>\n",
       "                        <td style=\"text-align: left;\">\n",
       "                            <strong>Memory: </strong> 4.00 GiB\n",
       "                        </td>\n",
       "                    </tr>\n",
       "                    <tr>\n",
       "                        <td style=\"text-align: left;\">\n",
       "                            <strong>Nanny: </strong> tcp://127.0.0.1:53573\n",
       "                        </td>\n",
       "                        <td style=\"text-align: left;\"></td>\n",
       "                    </tr>\n",
       "                    <tr>\n",
       "                        <td colspan=\"2\" style=\"text-align: left;\">\n",
       "                            <strong>Local directory: </strong> /var/folders/99/cwxq7sdx5d94rqxj57_crqbc0000gn/T/dask-scratch-space/worker-pz8nx1e2\n",
       "                        </td>\n",
       "                    </tr>\n",
       "\n",
       "                    \n",
       "\n",
       "                    \n",
       "\n",
       "                </table>\n",
       "            </details>\n",
       "            </div>\n",
       "        </div>\n",
       "        \n",
       "        <div style=\"margin-bottom: 20px;\">\n",
       "            <div style=\"width: 24px; height: 24px; background-color: #DBF5FF; border: 3px solid #4CC9FF; border-radius: 5px; position: absolute;\"> </div>\n",
       "            <div style=\"margin-left: 48px;\">\n",
       "            <details>\n",
       "                <summary>\n",
       "                    <h4 style=\"margin-bottom: 0px; display: inline;\">Worker: 3</h4>\n",
       "                </summary>\n",
       "                <table style=\"width: 100%; text-align: left;\">\n",
       "                    <tr>\n",
       "                        <td style=\"text-align: left;\">\n",
       "                            <strong>Comm: </strong> tcp://127.0.0.1:53579\n",
       "                        </td>\n",
       "                        <td style=\"text-align: left;\">\n",
       "                            <strong>Total threads: </strong> 4\n",
       "                        </td>\n",
       "                    </tr>\n",
       "                    <tr>\n",
       "                        <td style=\"text-align: left;\">\n",
       "                            <strong>Dashboard: </strong> <a href=\"http://127.0.0.1:53585/status\" target=\"_blank\">http://127.0.0.1:53585/status</a>\n",
       "                        </td>\n",
       "                        <td style=\"text-align: left;\">\n",
       "                            <strong>Memory: </strong> 4.00 GiB\n",
       "                        </td>\n",
       "                    </tr>\n",
       "                    <tr>\n",
       "                        <td style=\"text-align: left;\">\n",
       "                            <strong>Nanny: </strong> tcp://127.0.0.1:53574\n",
       "                        </td>\n",
       "                        <td style=\"text-align: left;\"></td>\n",
       "                    </tr>\n",
       "                    <tr>\n",
       "                        <td colspan=\"2\" style=\"text-align: left;\">\n",
       "                            <strong>Local directory: </strong> /var/folders/99/cwxq7sdx5d94rqxj57_crqbc0000gn/T/dask-scratch-space/worker-epgqtmds\n",
       "                        </td>\n",
       "                    </tr>\n",
       "\n",
       "                    \n",
       "\n",
       "                    \n",
       "\n",
       "                </table>\n",
       "            </details>\n",
       "            </div>\n",
       "        </div>\n",
       "        \n",
       "\n",
       "    </details>\n",
       "</div>\n",
       "\n",
       "        </details>\n",
       "    </div>\n",
       "</div>\n",
       "            </details>\n",
       "        \n",
       "\n",
       "    </div>\n",
       "</div>"
      ],
      "text/plain": [
       "<Client: 'tcp://127.0.0.1:53568' processes=4 threads=16, memory=16.00 GiB>"
      ]
     },
     "execution_count": 37,
     "metadata": {},
     "output_type": "execute_result"
    }
   ],
   "source": [
    "client"
   ]
  },
  {
   "cell_type": "code",
   "execution_count": 38,
   "id": "b20c8a93-1449-4998-b5e6-d8ff333e6e56",
   "metadata": {
    "tags": []
   },
   "outputs": [],
   "source": [
    "mosaiks_folder_path = Path(\"test_outputs\") #utl.make_output_folder_path(featurization_config)\n",
    "os.makedirs(mosaiks_folder_path, exist_ok=True)"
   ]
  },
  {
   "attachments": {},
   "cell_type": "markdown",
   "id": "ab735a9e-facd-498e-99f8-87bc9d10d876",
   "metadata": {
    "tags": []
   },
   "source": [
    "## Method 1 (Preferred) - Queued Futures"
   ]
  },
  {
   "cell_type": "code",
   "execution_count": 39,
   "id": "4ac8029e",
   "metadata": {
    "tags": []
   },
   "outputs": [],
   "source": [
    "from mosaiks.dask import run_queued_futures_pipeline"
   ]
  },
  {
   "cell_type": "code",
   "execution_count": 41,
   "id": "eb638d47-e109-49cb-871d-272bb1c8eabb",
   "metadata": {
    "tags": []
   },
   "outputs": [
    {
     "name": "stderr",
     "output_type": "stream",
     "text": [
      "INFO:root:19-May 17:10:50 Trying to kick off initial 8 partitions...\n",
      "/opt/miniconda3/envs/mosaiks/lib/python3.10/site-packages/dask_geopandas/hilbert_distance.py:110: RuntimeWarning: divide by zero encountered in double_scalars\n",
      "  res = (vals - val_range[0]) * (n / width)\n",
      "/opt/miniconda3/envs/mosaiks/lib/python3.10/site-packages/dask_geopandas/hilbert_distance.py:110: RuntimeWarning: invalid value encountered in multiply\n",
      "  res = (vals - val_range[0]) * (n / width)\n",
      "INFO:root:Distributing 1 points across 500-point partitions results in 1 partitions.\n",
      "INFO:root:There are less partitions than processors. All 1 partitions running.\n",
      "/opt/miniconda3/envs/mosaiks/lib/python3.10/site-packages/shapely/geometry/geo.py:123: ShapelyDeprecationWarning: GeometryTypeError will derive from ShapelyError and not TypeError or ValueError in Shapely 2.0.\n",
      "  raise GeometryTypeError(\"Unknown geometry type: %s\" % geom_type)\n",
      "INFO:root:19-May 17:10:58 Finished.\n"
     ]
    },
    {
     "name": "stdout",
     "output_type": "stream",
     "text": [
      "CPU times: user 325 ms, sys: 67.4 ms, total: 393 ms\n",
      "Wall time: 7.5 s\n"
     ]
    }
   ],
   "source": [
    "%%time\n",
    "\n",
    "# note that stopping this cell does not stop the dask cluster processing what\n",
    "# is currently submitted. Use client.restart().\n",
    "run_queued_futures_pipeline(\n",
    "    points_gdf,\n",
    "    client=client,\n",
    "    model=model,\n",
    "    featurization_config=featurization_config,\n",
    "    satellite_config=satellite_config,\n",
    "    column_names=mosaiks_column_names,\n",
    "    save_folder_path=mosaiks_folder_path,\n",
    ")"
   ]
  },
  {
   "attachments": {},
   "cell_type": "markdown",
   "id": "1fbe95db",
   "metadata": {},
   "source": [
    "## Method 2 - Batched Delayed"
   ]
  },
  {
   "cell_type": "code",
   "execution_count": 42,
   "id": "926e7055",
   "metadata": {
    "tags": []
   },
   "outputs": [],
   "source": [
    "from mosaiks.dask import run_batched_delayed_pipeline"
   ]
  },
  {
   "cell_type": "code",
   "execution_count": 43,
   "id": "69105f21",
   "metadata": {
    "tags": []
   },
   "outputs": [
    {
     "name": "stderr",
     "output_type": "stream",
     "text": [
      "/opt/miniconda3/envs/mosaiks/lib/python3.10/site-packages/dask_geopandas/hilbert_distance.py:110: RuntimeWarning: divide by zero encountered in double_scalars\n",
      "  res = (vals - val_range[0]) * (n / width)\n",
      "/opt/miniconda3/envs/mosaiks/lib/python3.10/site-packages/dask_geopandas/hilbert_distance.py:110: RuntimeWarning: invalid value encountered in multiply\n",
      "  res = (vals - val_range[0]) * (n / width)\n",
      "INFO:root:Distributing 1 points across 500-point partitions results in 1 partitions.\n",
      "INFO:root:n_partitions is smaller than n_concurrent. Running all 1 partitions.\n",
      "INFO:root:19-May 17:11:32 Running batch: 0 to 0\n",
      "/opt/miniconda3/envs/mosaiks/lib/python3.10/site-packages/shapely/geometry/geo.py:123: ShapelyDeprecationWarning: GeometryTypeError will derive from ShapelyError and not TypeError or ValueError in Shapely 2.0.\n",
      "  raise GeometryTypeError(\"Unknown geometry type: %s\" % geom_type)\n"
     ]
    },
    {
     "name": "stdout",
     "output_type": "stream",
     "text": [
      "CPU times: user 226 ms, sys: 46.9 ms, total: 273 ms\n",
      "Wall time: 4.24 s\n"
     ]
    },
    {
     "data": {
      "text/plain": [
       "[]"
      ]
     },
     "execution_count": 43,
     "metadata": {},
     "output_type": "execute_result"
    }
   ],
   "source": [
    "%%time\n",
    "\n",
    "# note that stopping this cell does not stop the dask cluster processing what\n",
    "# is currently submitted. Use client.restart().\n",
    "run_batched_delayed_pipeline(\n",
    "    points_gdf,\n",
    "    client=client,\n",
    "    model=model,\n",
    "    featurization_config=featurization_config,\n",
    "    satellite_config=satellite_config,\n",
    "    column_names=mosaiks_column_names,\n",
    "    save_folder_path=mosaiks_folder_path,\n",
    ")"
   ]
  },
  {
   "attachments": {},
   "cell_type": "markdown",
   "id": "cdda7049",
   "metadata": {},
   "source": [
    "## Method 3 - Unbatched Delayed"
   ]
  },
  {
   "cell_type": "code",
   "execution_count": 44,
   "id": "71dc79d1",
   "metadata": {
    "tags": []
   },
   "outputs": [],
   "source": [
    "from mosaiks.dask import delayed_pipeline, run_unbatched_delayed_pipeline"
   ]
  },
  {
   "attachments": {},
   "cell_type": "markdown",
   "id": "4b68f9f9",
   "metadata": {
    "tags": []
   },
   "source": [
    "### Single task"
   ]
  },
  {
   "cell_type": "code",
   "execution_count": 45,
   "id": "5125931e",
   "metadata": {
    "tags": []
   },
   "outputs": [],
   "source": [
    "delayed_task = delayed_pipeline(\n",
    "    test_points_gdf,\n",
    "    model,\n",
    "    featurization_config,\n",
    "    satellite_config,\n",
    "    mosaiks_column_names,\n",
    "    test_mosaiks_folder_path,\n",
    "    \"TEST_dask_delayed.csv\",\n",
    ")"
   ]
  },
  {
   "cell_type": "code",
   "execution_count": 46,
   "id": "9db73630",
   "metadata": {
    "tags": []
   },
   "outputs": [
    {
     "data": {
      "image/png": "[encoded data removed]",
      "text/plain": [
       "<IPython.core.display.Image object>"
      ]
     },
     "execution_count": 46,
     "metadata": {},
     "output_type": "execute_result"
    }
   ],
   "source": [
    "delayed_task.visualize(filename=f\"{test_mosaiks_folder_path}/TEST_dask_graph.png\")"
   ]
  },
  {
   "cell_type": "code",
   "execution_count": 47,
   "id": "333d7dbd",
   "metadata": {
    "tags": []
   },
   "outputs": [
    {
     "name": "stderr",
     "output_type": "stream",
     "text": [
      "/opt/miniconda3/envs/mosaiks/lib/python3.10/site-packages/shapely/geometry/geo.py:123: ShapelyDeprecationWarning: GeometryTypeError will derive from ShapelyError and not TypeError or ValueError in Shapely 2.0.\n",
      "  raise GeometryTypeError(\"Unknown geometry type: %s\" % geom_type)\n"
     ]
    }
   ],
   "source": [
    "delayed_task.compute()"
   ]
  },
  {
   "attachments": {},
   "cell_type": "markdown",
   "id": "7658c336",
   "metadata": {},
   "source": [
    "### Full run"
   ]
  },
  {
   "cell_type": "code",
   "execution_count": 48,
   "id": "de230a0a",
   "metadata": {
    "tags": []
   },
   "outputs": [
    {
     "name": "stderr",
     "output_type": "stream",
     "text": [
      "/opt/miniconda3/envs/mosaiks/lib/python3.10/site-packages/dask_geopandas/hilbert_distance.py:110: RuntimeWarning: divide by zero encountered in double_scalars\n",
      "  res = (vals - val_range[0]) * (n / width)\n",
      "/opt/miniconda3/envs/mosaiks/lib/python3.10/site-packages/dask_geopandas/hilbert_distance.py:110: RuntimeWarning: invalid value encountered in multiply\n",
      "  res = (vals - val_range[0]) * (n / width)\n",
      "INFO:root:Distributing 1 points across 500-point partitions results in 1 partitions.\n",
      "/opt/miniconda3/envs/mosaiks/lib/python3.10/site-packages/shapely/geometry/geo.py:123: ShapelyDeprecationWarning: GeometryTypeError will derive from ShapelyError and not TypeError or ValueError in Shapely 2.0.\n",
      "  raise GeometryTypeError(\"Unknown geometry type: %s\" % geom_type)\n"
     ]
    }
   ],
   "source": [
    "delayed_task_list = run_unbatched_delayed_pipeline(\n",
    "    points_gdf=test_points_gdf,\n",
    "    client=client,\n",
    "    model=model,\n",
    "    featurization_config=featurization_config,\n",
    "    satellite_config=satellite_config,\n",
    "    column_names=mosaiks_column_names,\n",
    "    save_folder_path=mosaiks_folder_path,\n",
    ")"
   ]
  },
  {
   "attachments": {},
   "cell_type": "markdown",
   "id": "436b7689-36ef-4713-ba0f-b37c34103b5c",
   "metadata": {
    "jp-MarkdownHeadingCollapsed": true,
    "tags": []
   },
   "source": [
    "# Load checkpoint files and combine"
   ]
  },
  {
   "cell_type": "code",
   "execution_count": 49,
   "id": "ae18cf3f-45af-4577-a465-25cf0c3a18bf",
   "metadata": {},
   "outputs": [],
   "source": [
    "# # simple test\n",
    "# data = utl.load_dataframe(mosaiks_folder_path / \"df_005.parquet.gzip\")\n",
    "# data"
   ]
  },
  {
   "cell_type": "code",
   "execution_count": 50,
   "id": "f5810eb0-0db8-4a6c-85af-1eea2ad851af",
   "metadata": {},
   "outputs": [
    {
     "name": "stdout",
     "output_type": "stream",
     "text": [
      "Dataset size in memory (MB): 1.50588\n"
     ]
    }
   ],
   "source": [
    "checkpoint_filenames = utl.get_filtered_filenames(\n",
    "    folder_path=mosaiks_folder_path, prefix=\"df_\"\n",
    ")\n",
    "\n",
    "combined_df = utl.load_and_combine_dataframes(\n",
    "    folder_path=mosaiks_folder_path, filenames=checkpoint_filenames\n",
    ")\n",
    "\n",
    "combined_df = combined_df.join(points_gdf[[\"Lat\", \"Lon\", \"shrid\"]])\n",
    "\n",
    "print(f\"Dataset size in memory (MB): {combined_df.memory_usage().sum() / 1000000}\")"
   ]
  },
  {
   "cell_type": "code",
   "execution_count": 51,
   "id": "f076e1ce-396a-49b2-a332-10102e45b45b",
   "metadata": {},
   "outputs": [],
   "source": [
    "combined_filepath = mosaiks_folder_path / \"combined_features.parquet.gzip\"\n",
    "utl.save_dataframe(df=combined_df, file_path=combined_filepath)"
   ]
  }
 ],
 "metadata": {
  "kernelspec": {
   "display_name": "Python 3 (ipykernel)",
   "language": "python",
   "name": "python3"
  },
  "language_info": {
   "codemirror_mode": {
    "name": "ipython",
    "version": 3
   },
   "file_extension": ".py",
   "mimetype": "text/x-python",
   "name": "python",
   "nbconvert_exporter": "python",
   "pygments_lexer": "ipython3",
   "version": "3.10.0"
  }
 },
 "nbformat": 4,
 "nbformat_minor": 5
}
