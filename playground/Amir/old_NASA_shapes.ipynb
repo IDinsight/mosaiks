{
 "cells": [
  {
   "cell_type": "code",
   "execution_count": null,
   "metadata": {},
   "outputs": [],
   "source": [
    "import pandas as pd\n",
    "import geopandas as gpd\n",
    "from pathlib import Path"
   ]
  },
  {
   "cell_type": "markdown",
   "metadata": {},
   "source": [
    "There are no shapefiles for SHRUG...\n",
    "\n",
    "\"The SHRUG does not include geographic data in the form of polygons or shapefiles because\n",
    "we have not yet found a sufficiently accurate data source with open sharing privileges. We are\n",
    "continuing to investigate sources of geographic data and may include shapefiles in a future version\n",
    "of the SHRUG. Users interested in obtaining geocodes or polygons for SHRUG units are advised\n",
    "to examine the open village maps offered by NASA-SEDAC at Columbia University. These can\n",
    "be directly merged to the 2001 Population Census SHRUG keys in shrug pc01r key.dta and\n",
    "shrug pc01u key.dta. Our own aggregate data was based on 2011 village polygons which we\n",
    "believe are slightly more accurate but are not made available with an open data license.\""
   ]
  },
  {
   "cell_type": "code",
   "execution_count": null,
   "metadata": {},
   "outputs": [],
   "source": [
    "from custom.utils import import_shapefiles, get_bounds, create_coords_list, coords_list_to_gdf"
   ]
  },
  {
   "cell_type": "markdown",
   "metadata": {},
   "source": [
    "## Load shapefiles (NASA-SEDAC)"
   ]
  },
  {
   "cell_type": "code",
   "execution_count": null,
   "metadata": {},
   "outputs": [],
   "source": [
    "dbf = import_shapefiles()"
   ]
  },
  {
   "cell_type": "code",
   "execution_count": null,
   "metadata": {},
   "outputs": [],
   "source": [
    "dbf.plot(figsize=(5, 5))"
   ]
  },
  {
   "cell_type": "code",
   "execution_count": null,
   "metadata": {},
   "outputs": [],
   "source": [
    "dbf.columns"
   ]
  },
  {
   "cell_type": "code",
   "execution_count": null,
   "metadata": {},
   "outputs": [],
   "source": [
    "dbf[\"SID\"].unique()"
   ]
  },
  {
   "cell_type": "markdown",
   "metadata": {},
   "source": [
    "### Create unique ID columns to match SHRUG keys"
   ]
  },
  {
   "cell_type": "code",
   "execution_count": null,
   "metadata": {},
   "outputs": [],
   "source": [
    "dbf[\"VILL_CODE\"].shape"
   ]
  },
  {
   "cell_type": "code",
   "execution_count": null,
   "metadata": {},
   "outputs": [],
   "source": [
    "# NOTE: Number of towns with no village code\n",
    "dbf.dropna(subset=[\"TOWN_VILL\"])[\"VILL_CODE\"].isna().sum()"
   ]
  },
  {
   "cell_type": "code",
   "execution_count": null,
   "metadata": {},
   "outputs": [],
   "source": [
    "# drop rows that are missing any identifiers \n",
    "dbf_clean = dbf.dropna(subset=[\"SID\", \"DID\", \"TID\", \"VILL_CODE\"]).copy()\n",
    "\n",
    "# remove the leading 0s\n",
    "for var in [\"SID\", \"DID\", \"TID\", \"VILL_CODE\"]:\n",
    "    dbf_clean[var] = dbf_clean[var].str.lstrip(\"0\")\n",
    "\n",
    "# create combined ID column\n",
    "dbf_clean[\"ID\"] = (\n",
    "    dbf_clean[\"SID\"] + \"-\"\n",
    "    + dbf_clean[\"DID\"] + \"-\"\n",
    "    + dbf_clean[\"TID\"] + \"-\"\n",
    "    + dbf_clean[\"VILL_CODE\"]\n",
    ")\n",
    "dbf_clean.sort_values(by=[\"ID\"], inplace=True)\n",
    "\n",
    "print(\"Number of unique IDs: \", dbf_clean[\"ID\"].nunique())"
   ]
  },
  {
   "cell_type": "code",
   "execution_count": null,
   "metadata": {},
   "outputs": [],
   "source": [
    "dbf_clean.plot(figsize=(5, 5))"
   ]
  },
  {
   "cell_type": "markdown",
   "metadata": {},
   "source": [
    "## Import SHRUG keys"
   ]
  },
  {
   "cell_type": "code",
   "execution_count": null,
   "metadata": {},
   "outputs": [],
   "source": [
    "### RURAL\n",
    "shrug_pc01r_key = pd.read_csv(\n",
    "    \"../data/SHRUG/shrug-v1.5.samosa-keys-csv/shrug_pc01r_key.csv\"\n",
    ")\n",
    "shrug_pc01r_key.head()\n",
    "\n",
    "### URBAN\n",
    "# shrug_pc01u_key = pd.read_csv(\n",
    "#     \"../data/SHRUG/shrug-v1.5.samosa-keys-csv/shrug_pc01u_key.csv\"\n",
    "# )\n",
    "# shrug_pc01u_key.head()"
   ]
  },
  {
   "cell_type": "markdown",
   "metadata": {},
   "source": [
    "### Create ID column to match IDs in NASA-SEDAC"
   ]
  },
  {
   "cell_type": "code",
   "execution_count": null,
   "metadata": {},
   "outputs": [],
   "source": [
    "shrug_pc01r_key_clean = shrug_pc01r_key.dropna(subset=[\"pc01_state_id\", \"pc01_district_id\", \"pc01_subdistrict_id\", \"pc01_village_id\"]).copy()\n",
    "\n",
    "shrug_pc01r_key_clean[\"ID\"] = (\n",
    "    shrug_pc01r_key_clean[\"pc01_state_id\"].astype(int).astype(str) + \"-\"\n",
    "    + shrug_pc01r_key_clean[\"pc01_district_id\"].astype(int).astype(str) + \"-\"\n",
    "    + shrug_pc01r_key_clean[\"pc01_subdistrict_id\"].astype(int).astype(str) + \"-\"\n",
    "    + shrug_pc01r_key_clean[\"pc01_village_id\"].astype(str)\n",
    ")"
   ]
  },
  {
   "cell_type": "markdown",
   "metadata": {},
   "source": [
    "## Match shapes to SHRUG"
   ]
  },
  {
   "cell_type": "code",
   "execution_count": null,
   "metadata": {},
   "outputs": [],
   "source": [
    "shrid_geom_df = pd.merge(dbf_clean[[\"geometry\", \"ID\"]], shrug_pc01r_key_clean, on=\"ID\", how=\"inner\")\n",
    "shrid_geom_df"
   ]
  },
  {
   "cell_type": "markdown",
   "metadata": {},
   "source": [
    "Note: multiple villages can be inside the same shrid ID - we can merge the shape of these villages."
   ]
  },
  {
   "cell_type": "code",
   "execution_count": null,
   "metadata": {},
   "outputs": [],
   "source": [
    "# example\n",
    "shrid_geom_df[shrid_geom_df[\"shrid\"]==\"11-28-803020\"]"
   ]
  },
  {
   "cell_type": "code",
   "execution_count": null,
   "metadata": {},
   "outputs": [],
   "source": [
    "shrid_geom_df = shrid_geom_df.dissolve(by='shrid', aggfunc='sum').reset_index()\n",
    "# Note: \"ID\" columns gets dropped here"
   ]
  },
  {
   "cell_type": "code",
   "execution_count": null,
   "metadata": {},
   "outputs": [],
   "source": [
    "shrid_geom_df.plot(figsize=(5, 5))"
   ]
  }
 ],
 "metadata": {
  "kernelspec": {
   "display_name": "Python 3.9.0 ('nudge_up')",
   "language": "python",
   "name": "python3"
  },
  "language_info": {
   "codemirror_mode": {
    "name": "ipython",
    "version": 3
   },
   "file_extension": ".py",
   "mimetype": "text/x-python",
   "name": "python",
   "nbconvert_exporter": "python",
   "pygments_lexer": "ipython3",
   "version": "3.9.0"
  },
  "orig_nbformat": 4,
  "vscode": {
   "interpreter": {
    "hash": "142c193bf060635deeb675579e1db6ca9d9f29c8a237f64acc594fb64723fb97"
   }
  }
 },
 "nbformat": 4,
 "nbformat_minor": 2
}
