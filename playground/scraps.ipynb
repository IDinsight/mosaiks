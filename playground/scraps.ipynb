{
 "cells": [
  {
   "cell_type": "code",
   "execution_count": null,
   "metadata": {},
   "outputs": [],
   "source": [
    "# only keep points in the focus states\n",
    "focus_states_id_dict = {\n",
    "    20: \"jharkhand\",\n",
    "    22: \"chhattisgarh\",\n",
    "    8: \"rajasthan\",\n",
    "    23: \"madhya pradesh\",\n",
    "    18: \"assam\",\n",
    "    16: \"tripura\",\n",
    "}\n",
    "\n",
    "focus_states_filter = request_points_gdf[\"pc11_s_id\"].isin(focus_states_id_dict.keys())\n",
    "points_gdf_focus = request_points_gdf[focus_states_filter]\n",
    "points_gdf_focus.shape"
   ]
  }
 ],
 "metadata": {
  "language_info": {
   "name": "python"
  },
  "orig_nbformat": 4
 },
 "nbformat": 4,
 "nbformat_minor": 2
}
