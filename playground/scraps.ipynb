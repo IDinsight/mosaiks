{
 "cells": [
  {
   "cell_type": "markdown",
   "metadata": {},
   "source": [
    "## Visualize NaNs"
   ]
  },
  {
   "cell_type": "code",
   "execution_count": null,
   "metadata": {},
   "outputs": [],
   "source": [
    "notnull = ~(mosaiks_features[\"1000\"].isnull())*1\n",
    "\n",
    "f, ax = plt.subplots(1,1)\n",
    "notnull.cumsum().plot(ax=ax)\n",
    "ax.plot([0,96167],[0,96167],c=\"r\")\n",
    "plt.show()"
   ]
  },
  {
   "cell_type": "markdown",
   "metadata": {},
   "source": [
    "## Load temp files, combine, and save"
   ]
  },
  {
   "cell_type": "code",
   "execution_count": null,
   "metadata": {},
   "outputs": [],
   "source": [
    "import glob\n",
    "\n",
    "filepaths = sorted(glob.glob(mosaiks_path+\"2021_*.parquet.gzip\"))\n",
    "\n",
    "filepaths\n",
    "\n",
    "temp = pd.read_parquet(\n",
    "    \"/home/jovyan/ds_nudge_up/data/01_preprocessed/mosaiks_features/2021_3km_v4000_L8_60000__0_to_36166.parquet.gzip\"\n",
    ")\n",
    "temp.index = range(60000, 96167)\n",
    "temp.to_parquet(\n",
    "    \"/home/jovyan/ds_nudge_up/data/01_preprocessed/mosaiks_features/2021_3km_v4000_L8_60000_to_96166.parquet.gzip\", \n",
    "    compression=\"gzip\"\n",
    ")"
   ]
  },
  {
   "cell_type": "code",
   "execution_count": null,
   "metadata": {},
   "outputs": [],
   "source": [
    "filename = '2021_3km_v4000_L8_0_to_96166.parquet.gzip'\n",
    "\n",
    "l_dfs = []\n",
    "for filepath in filepaths:\n",
    "    l_dfs.append(pd.read_parquet(filepath))\n",
    "\n",
    "mosaiks_features = pd.concat(l_dfs, axis=0)\n",
    "\n",
    "mosaiks_features.to_parquet(mosaiks_path+filename, compression=\"gzip\")"
   ]
  },
  {
   "cell_type": "code",
   "execution_count": null,
   "metadata": {},
   "outputs": [],
   "source": [
    "# filter points with buffer\n",
    "\n",
    "states = gpd.read_file(f\"{DATA_ROOT}/00_raw/SHRUG/geometries_shrug-v1.5.samosa-open-polygons-shp/state.shp\")\n",
    "states['zero_column'] = 0\n",
    "country = states.dissolve(by='zero_column')\n",
    "BUFFER_DISTANCE = 0.005\n",
    "points_gdf = filter_points_with_buffer(points_gdf, country, BUFFER_DISTANCE)"
   ]
  },
  {
   "cell_type": "markdown",
   "metadata": {},
   "source": [
    "## Load MOSAIKS features"
   ]
  },
  {
   "cell_type": "code",
   "execution_count": null,
   "metadata": {},
   "outputs": [],
   "source": [
    "# Load custom-made mosaiks features\n",
    "# data_label = \"3km_v1024_L8\"\n",
    "# filename = 'mosaiks_2013_L8_0.015b_all_points.parquet.gzip'\n",
    "\n",
    "# data_label = \"1km_v1024_L8\"\n",
    "# filename = 'mosaiks_2013_L8_0.005b_all_points.parquet.gzip'\n",
    "\n",
    "# lat_name, lon_name = \"lat\", \"lon\"\n",
    "\n",
    "# Load data\n",
    "# mosaiks_features = pd.read_parquet(mosaiks_path+filename)"
   ]
  },
  {
   "cell_type": "code",
   "execution_count": null,
   "metadata": {},
   "outputs": [],
   "source": [
    "# # OR using old data downloaded from the online API\n",
    "# data_label = \"old_v4000\"\n",
    "# filename = \"mosaiks_downloaded_old_features_rounded.csv\"\n",
    "# lat_name, lon_name = \"Lat\", \"Lon\"\n",
    "\n",
    "# # Load data\n",
    "# mosaiks_features = pd.read_csv(mosaiks_path+filename)"
   ]
  },
  {
   "cell_type": "code",
   "execution_count": null,
   "metadata": {},
   "outputs": [],
   "source": [
    "mosaiks_features_gdf = load_mosaiks_data(\"INDIA_SHRUG_Mosaiks_features.csv\")\n",
    "# mosaiks_features_gdf.head()"
   ]
  },
  {
   "cell_type": "code",
   "execution_count": null,
   "metadata": {},
   "outputs": [],
   "source": [
    "mosaiks_features_gdf.shape"
   ]
  },
  {
   "cell_type": "markdown",
   "metadata": {},
   "source": [
    "## Load preprocessed SHRUG keys with shapes"
   ]
  },
  {
   "cell_type": "code",
   "execution_count": null,
   "metadata": {},
   "outputs": [],
   "source": [
    "shrug_key_geoms = load_gdf(\"01_preprocessed/SHRUG/shrug_pc11r_key_with_shapes\", \"shrug_pc11r_key_with_shapes.shp\")\n",
    "# shrug_key_geoms.head()"
   ]
  },
  {
   "cell_type": "markdown",
   "metadata": {},
   "source": [
    "## Use SHRUG shapes to add `shrid`s to MOSAIKS features"
   ]
  },
  {
   "cell_type": "code",
   "execution_count": null,
   "metadata": {},
   "outputs": [],
   "source": [
    "mosaiks_features_gdf = add_shrid_to_mosaiks(mosaiks_features_gdf, shrug_key_geoms)"
   ]
  },
  {
   "cell_type": "markdown",
   "metadata": {},
   "source": [
    "## Import SHRUG SECC (target)"
   ]
  },
  {
   "cell_type": "code",
   "execution_count": null,
   "metadata": {},
   "outputs": [],
   "source": [
    "file_path = Path.cwd().parent / \"data\" / \"00_raw\" / \"SHRUG\" / \"shrug-v1.5.samosa-secc-csv\" / \"shrug_secc.csv\"\n",
    "shrug_secc = pd.read_csv(file_path)\n",
    "# shrug_secc.head()"
   ]
  },
  {
   "cell_type": "code",
   "execution_count": null,
   "metadata": {},
   "outputs": [],
   "source": [
    "shrug_secc.shape"
   ]
  },
  {
   "cell_type": "markdown",
   "metadata": {},
   "source": [
    "## Match target to features using `shrid`s"
   ]
  },
  {
   "cell_type": "code",
   "execution_count": null,
   "metadata": {},
   "outputs": [],
   "source": [
    "df = merge_mosaiks_and_secc(mosaiks_features_gdf, shrug_secc)\n",
    "# df.head()"
   ]
  },
  {
   "cell_type": "code",
   "execution_count": null,
   "metadata": {},
   "outputs": [],
   "source": [
    "df.shape"
   ]
  }
 ],
 "metadata": {
  "kernelspec": {
   "display_name": "Python 3 (ipykernel)",
   "language": "python",
   "name": "python3"
  },
  "language_info": {
   "codemirror_mode": {
    "name": "ipython",
    "version": 3
   },
   "file_extension": ".py",
   "mimetype": "text/x-python",
   "name": "python",
   "nbconvert_exporter": "python",
   "pygments_lexer": "ipython3"
  },
  "vscode": {
   "interpreter": {
    "hash": "31f2aee4e71d21fbe5cf8b01ff0e069b9275f58929596ceb00d14d90e3e16cd6"
   }
  }
 },
 "nbformat": 4,
 "nbformat_minor": 4
}
