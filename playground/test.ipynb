{
 "cells": [
  {
   "attachments": {},
   "cell_type": "markdown",
   "id": "cb8b2e2a-8dd2-49e4-a894-27a3a4794276",
   "metadata": {
    "tags": []
   },
   "source": [
    "# Notebook prep"
   ]
  },
  {
   "cell_type": "code",
   "execution_count": null,
   "id": "8a082089-9f4a-486e-a3a5-4b41cb161c5d",
   "metadata": {
    "tags": []
   },
   "outputs": [],
   "source": [
    "%load_ext autoreload\n",
    "%autoreload 2"
   ]
  },
  {
   "attachments": {},
   "cell_type": "markdown",
   "id": "7ac2b0d2",
   "metadata": {
    "tags": []
   },
   "source": [
    "## Import packages"
   ]
  },
  {
   "cell_type": "code",
   "execution_count": null,
   "id": "e02c0627",
   "metadata": {},
   "outputs": [],
   "source": [
    "# Set the below env var so that GeoPandas only uses Shapely.\n",
    "# This is to avoid a conflict between Shapely and PyGEOS. \n",
    "# NOTE: Must happen before geopandas import\n",
    "import os\n",
    "os.environ[\"USE_PYGEOS\"] = \"0\""
   ]
  },
  {
   "cell_type": "code",
   "execution_count": null,
   "id": "b1e350b7",
   "metadata": {},
   "outputs": [],
   "source": [
    "import logging\n",
    "\n",
    "# set logging level as info\n",
    "logging.basicConfig(level=logging.INFO)"
   ]
  },
  {
   "attachments": {},
   "cell_type": "markdown",
   "id": "34df2287-cc11-43b0-b20b-feef6f4d15ba",
   "metadata": {
    "tags": []
   },
   "source": [
    "# Load Data"
   ]
  },
  {
   "cell_type": "code",
   "execution_count": null,
   "id": "6a4b510b-ad70-4af3-89d7-64f0899ed88b",
   "metadata": {
    "tags": []
   },
   "outputs": [],
   "source": [
    "import pandas as pd"
   ]
  },
  {
   "cell_type": "code",
   "execution_count": null,
   "id": "7bb02df6-3c70-496c-bcff-364957b6e4d3",
   "metadata": {
    "tags": []
   },
   "outputs": [],
   "source": [
    "# Select random 1000 points (for testing)\n",
    "points_gdf = pd.read_csv(\"../tests/data/test_points.csv\")\n",
    "test_points_gdf = points_gdf.iloc[:2]"
   ]
  },
  {
   "attachments": {},
   "cell_type": "markdown",
   "id": "9860caef",
   "metadata": {
    "tags": []
   },
   "source": [
    "## Check pipeline run"
   ]
  },
  {
   "cell_type": "code",
   "execution_count": null,
   "id": "31433030",
   "metadata": {},
   "outputs": [],
   "source": [
    "from mosaiks import get_features"
   ]
  },
  {
   "cell_type": "code",
   "execution_count": 14,
   "id": "00262b58",
   "metadata": {},
   "outputs": [
    {
     "name": "stderr",
     "output_type": "stream",
     "text": [
      "INFO:root:Checking inputs...\n",
      "INFO:root:Formatting data and creating model...\n",
      "INFO:root:Getting MOSAIKS features...\n"
     ]
    },
    {
     "name": "stderr",
     "output_type": "stream",
     "text": [
      "/Users/amiremami/miniconda3/envs/mosaiks/lib/python3.11/site-packages/stackstac/prepare.py:364: UserWarning: The argument 'infer_datetime_format' is deprecated and will be removed in a future version. A strict version of it is now the default, see https://pandas.pydata.org/pdeps/0004-consistent-to-datetime-parsing.html. You can safely remove this argument.\n",
      "  times = pd.to_datetime(\n",
      "/Users/amiremami/miniconda3/envs/mosaiks/lib/python3.11/site-packages/stackstac/prepare.py:364: UserWarning: The argument 'infer_datetime_format' is deprecated and will be removed in a future version. A strict version of it is now the default, see https://pandas.pydata.org/pdeps/0004-consistent-to-datetime-parsing.html. You can safely remove this argument.\n",
      "  times = pd.to_datetime(\n"
     ]
    },
    {
     "data": {
      "text/html": [
       "<div>\n",
       "<style scoped>\n",
       "    .dataframe tbody tr th:only-of-type {\n",
       "        vertical-align: middle;\n",
       "    }\n",
       "\n",
       "    .dataframe tbody tr th {\n",
       "        vertical-align: top;\n",
       "    }\n",
       "\n",
       "    .dataframe thead th {\n",
       "        text-align: right;\n",
       "    }\n",
       "</style>\n",
       "<table border=\"1\" class=\"dataframe\">\n",
       "  <thead>\n",
       "    <tr style=\"text-align: right;\">\n",
       "      <th></th>\n",
       "      <th>mosaiks_0</th>\n",
       "      <th>mosaiks_1</th>\n",
       "      <th>mosaiks_2</th>\n",
       "      <th>mosaiks_3</th>\n",
       "      <th>mosaiks_4</th>\n",
       "      <th>mosaiks_5</th>\n",
       "      <th>mosaiks_6</th>\n",
       "      <th>mosaiks_7</th>\n",
       "      <th>mosaiks_8</th>\n",
       "      <th>mosaiks_9</th>\n",
       "      <th>...</th>\n",
       "      <th>mosaiks_3991</th>\n",
       "      <th>mosaiks_3992</th>\n",
       "      <th>mosaiks_3993</th>\n",
       "      <th>mosaiks_3994</th>\n",
       "      <th>mosaiks_3995</th>\n",
       "      <th>mosaiks_3996</th>\n",
       "      <th>mosaiks_3997</th>\n",
       "      <th>mosaiks_3998</th>\n",
       "      <th>mosaiks_3999</th>\n",
       "      <th>stac_id</th>\n",
       "    </tr>\n",
       "  </thead>\n",
       "  <tbody>\n",
       "    <tr>\n",
       "      <th>0</th>\n",
       "      <td>0.000001</td>\n",
       "      <td>0.013572</td>\n",
       "      <td>0.0</td>\n",
       "      <td>0.0</td>\n",
       "      <td>0.000554</td>\n",
       "      <td>1.545144</td>\n",
       "      <td>0.0</td>\n",
       "      <td>0.0</td>\n",
       "      <td>0.0</td>\n",
       "      <td>0.000829</td>\n",
       "      <td>...</td>\n",
       "      <td>3.565811</td>\n",
       "      <td>1.257177</td>\n",
       "      <td>0.949079</td>\n",
       "      <td>1.467782</td>\n",
       "      <td>1.438858</td>\n",
       "      <td>0.002822</td>\n",
       "      <td>5.129568</td>\n",
       "      <td>0.046132</td>\n",
       "      <td>4.810228</td>\n",
       "      <td>[LC08_L2SP_143046_20131218_02_T1, LC08_L2SP_14...</td>\n",
       "    </tr>\n",
       "    <tr>\n",
       "      <th>1</th>\n",
       "      <td>0.000000</td>\n",
       "      <td>0.135776</td>\n",
       "      <td>0.0</td>\n",
       "      <td>0.0</td>\n",
       "      <td>0.000180</td>\n",
       "      <td>2.170184</td>\n",
       "      <td>0.0</td>\n",
       "      <td>0.0</td>\n",
       "      <td>0.0</td>\n",
       "      <td>0.000986</td>\n",
       "      <td>...</td>\n",
       "      <td>3.589301</td>\n",
       "      <td>1.235628</td>\n",
       "      <td>0.398832</td>\n",
       "      <td>1.654489</td>\n",
       "      <td>1.635261</td>\n",
       "      <td>0.004644</td>\n",
       "      <td>5.783852</td>\n",
       "      <td>0.000017</td>\n",
       "      <td>5.540881</td>\n",
       "      <td>[LC08_L2SP_139044_20130426_02_T1, LC08_L2SP_13...</td>\n",
       "    </tr>\n",
       "  </tbody>\n",
       "</table>\n",
       "<p>2 rows × 4001 columns</p>\n",
       "</div>"
      ],
      "text/plain": [
       "   mosaiks_0  mosaiks_1  mosaiks_2  mosaiks_3  mosaiks_4  mosaiks_5  \\\n",
       "0   0.000001   0.013572        0.0        0.0   0.000554   1.545144   \n",
       "1   0.000000   0.135776        0.0        0.0   0.000180   2.170184   \n",
       "\n",
       "   mosaiks_6  mosaiks_7  mosaiks_8  mosaiks_9  ...  mosaiks_3991  \\\n",
       "0        0.0        0.0        0.0   0.000829  ...      3.565811   \n",
       "1        0.0        0.0        0.0   0.000986  ...      3.589301   \n",
       "\n",
       "   mosaiks_3992  mosaiks_3993  mosaiks_3994  mosaiks_3995  mosaiks_3996  \\\n",
       "0      1.257177      0.949079      1.467782      1.438858      0.002822   \n",
       "1      1.235628      0.398832      1.654489      1.635261      0.004644   \n",
       "\n",
       "   mosaiks_3997  mosaiks_3998  mosaiks_3999  \\\n",
       "0      5.129568      0.046132      4.810228   \n",
       "1      5.783852      0.000017      5.540881   \n",
       "\n",
       "                                             stac_id  \n",
       "0  [LC08_L2SP_143046_20131218_02_T1, LC08_L2SP_14...  \n",
       "1  [LC08_L2SP_139044_20130426_02_T1, LC08_L2SP_13...  \n",
       "\n",
       "[2 rows x 4001 columns]"
      ]
     },
     "execution_count": 14,
     "metadata": {},
     "output_type": "execute_result"
    }
   ],
   "source": [
    "# Run without parallelisation\n",
    "df = get_features(\n",
    "    test_points_gdf[\"Lat\"], test_points_gdf[\"Lon\"], parallelize=False\n",
    ")\n",
    "df"
   ]
  },
  {
   "cell_type": "code",
   "execution_count": 13,
   "id": "57760c56",
   "metadata": {},
   "outputs": [
    {
     "name": "stderr",
     "output_type": "stream",
     "text": [
      "INFO:root:Checking inputs...\n",
      "INFO:root:Formatting data and creating model...\n",
      "INFO:root:Getting MOSAIKS features...\n",
      "INFO:distributed.http.proxy:To route to workers diagnostics web server please install jupyter-server-proxy: python -m pip install jupyter-server-proxy\n",
      "/Users/amiremami/miniconda3/envs/mosaiks/lib/python3.11/site-packages/distributed/node.py:182: UserWarning: Port 8787 is already in use.\n",
      "Perhaps you already have a cluster running?\n",
      "Hosting the HTTP server on port 61748 instead\n",
      "  warnings.warn(\n",
      "INFO:distributed.scheduler:State start\n",
      "INFO:distributed.scheduler:  Scheduler at:     tcp://127.0.0.1:61749\n",
      "INFO:distributed.scheduler:  dashboard at:  http://127.0.0.1:61748/status\n",
      "INFO:distributed.nanny:        Start Nanny at: 'tcp://127.0.0.1:61752'\n",
      "INFO:distributed.nanny:        Start Nanny at: 'tcp://127.0.0.1:61753'\n",
      "INFO:distributed.nanny:        Start Nanny at: 'tcp://127.0.0.1:61754'\n",
      "INFO:distributed.nanny:        Start Nanny at: 'tcp://127.0.0.1:61755'\n",
      "INFO:distributed.scheduler:Register worker <WorkerState 'tcp://127.0.0.1:61761', name: 3, status: init, memory: 0, processing: 0>\n",
      "INFO:distributed.scheduler:Starting worker compute stream, tcp://127.0.0.1:61761\n",
      "INFO:distributed.core:Starting established connection to tcp://127.0.0.1:61771\n",
      "INFO:distributed.scheduler:Register worker <WorkerState 'tcp://127.0.0.1:61763', name: 0, status: init, memory: 0, processing: 0>\n",
      "INFO:distributed.scheduler:Starting worker compute stream, tcp://127.0.0.1:61763\n",
      "INFO:distributed.core:Starting established connection to tcp://127.0.0.1:61772\n",
      "INFO:distributed.scheduler:Register worker <WorkerState 'tcp://127.0.0.1:61764', name: 1, status: init, memory: 0, processing: 0>\n",
      "INFO:distributed.scheduler:Starting worker compute stream, tcp://127.0.0.1:61764\n",
      "INFO:distributed.core:Starting established connection to tcp://127.0.0.1:61770\n",
      "INFO:distributed.scheduler:Register worker <WorkerState 'tcp://127.0.0.1:61762', name: 2, status: init, memory: 0, processing: 0>\n",
      "INFO:distributed.scheduler:Starting worker compute stream, tcp://127.0.0.1:61762\n",
      "INFO:distributed.core:Starting established connection to tcp://127.0.0.1:61769\n",
      "INFO:distributed.scheduler:Receive client connection: Client-02ea07d4-2257-11ee-a5ca-a6ccc78df727\n",
      "INFO:distributed.core:Starting established connection to tcp://127.0.0.1:61774\n",
      "INFO:root:Dask client created. Dashboard link: http://127.0.0.1:61748/status\n",
      "Running featurization in parallel with:\n",
      "8 concurrent tasks running on\n",
      "4 workers\n",
      "4 threads per worker\n",
      "\n",
      "INFO:root:Distributing 2 points across 500-point partitions results in 1 partitions.\n",
      "INFO:root:n_partitions is smaller than n_concurrent. Running all 1 partitions.\n",
      "INFO:root:14-Jul 20:29:20 Running batch: 0 to 0\n",
      "/Users/amiremami/miniconda3/envs/mosaiks/lib/python3.11/site-packages/stackstac/prepare.py:364: UserWarning: The argument 'infer_datetime_format' is deprecated and will be removed in a future version. A strict version of it is now the default, see https://pandas.pydata.org/pdeps/0004-consistent-to-datetime-parsing.html. You can safely remove this argument.\n",
      "  times = pd.to_datetime(\n",
      "INFO:distributed.scheduler:Receive client connection: Client-worker-0788c316-2257-11ee-aea2-a6ccc78df727\n",
      "INFO:distributed.core:Starting established connection to tcp://127.0.0.1:61792\n",
      "/Users/amiremami/miniconda3/envs/mosaiks/lib/python3.11/site-packages/stackstac/prepare.py:364: UserWarning: The argument 'infer_datetime_format' is deprecated and will be removed in a future version. A strict version of it is now the default, see https://pandas.pydata.org/pdeps/0004-consistent-to-datetime-parsing.html. You can safely remove this argument.\n",
      "  times = pd.to_datetime(\n",
      "INFO:distributed.scheduler:Remove client Client-02ea07d4-2257-11ee-a5ca-a6ccc78df727\n",
      "INFO:distributed.core:Received 'close-stream' from tcp://127.0.0.1:61774; closing.\n",
      "INFO:distributed.scheduler:Remove client Client-02ea07d4-2257-11ee-a5ca-a6ccc78df727\n",
      "INFO:distributed.scheduler:Close client connection: Client-02ea07d4-2257-11ee-a5ca-a6ccc78df727\n",
      "INFO:distributed.nanny:Closing Nanny at 'tcp://127.0.0.1:61752'. Reason: nanny-close\n",
      "INFO:distributed.nanny:Nanny asking worker to close. Reason: nanny-close\n",
      "INFO:distributed.nanny:Closing Nanny at 'tcp://127.0.0.1:61753'. Reason: nanny-close\n",
      "INFO:distributed.nanny:Nanny asking worker to close. Reason: nanny-close\n",
      "INFO:distributed.nanny:Closing Nanny at 'tcp://127.0.0.1:61754'. Reason: nanny-close\n",
      "INFO:distributed.nanny:Nanny asking worker to close. Reason: nanny-close\n",
      "INFO:distributed.nanny:Closing Nanny at 'tcp://127.0.0.1:61755'. Reason: nanny-close\n",
      "INFO:distributed.nanny:Nanny asking worker to close. Reason: nanny-close\n",
      "INFO:distributed.core:Received 'close-stream' from tcp://127.0.0.1:61772; closing.\n",
      "INFO:distributed.core:Received 'close-stream' from tcp://127.0.0.1:61770; closing.\n",
      "INFO:distributed.scheduler:Remove worker <WorkerState 'tcp://127.0.0.1:61763', name: 0, status: closing, memory: 0, processing: 0>\n",
      "INFO:distributed.core:Removing comms to tcp://127.0.0.1:61763\n",
      "INFO:distributed.scheduler:Remove worker <WorkerState 'tcp://127.0.0.1:61764', name: 1, status: closing, memory: 0, processing: 0>\n",
      "INFO:distributed.core:Removing comms to tcp://127.0.0.1:61764\n",
      "INFO:distributed.scheduler:Remove client Client-worker-0788c316-2257-11ee-aea2-a6ccc78df727\n",
      "INFO:distributed.core:Received 'close-stream' from tcp://127.0.0.1:61792; closing.\n",
      "INFO:distributed.scheduler:Remove client Client-worker-0788c316-2257-11ee-aea2-a6ccc78df727\n",
      "INFO:distributed.core:Received 'close-stream' from tcp://127.0.0.1:61771; closing.\n",
      "INFO:distributed.scheduler:Remove worker <WorkerState 'tcp://127.0.0.1:61761', name: 3, status: closing, memory: 0, processing: 0>\n",
      "INFO:distributed.core:Removing comms to tcp://127.0.0.1:61761\n",
      "INFO:distributed.core:Received 'close-stream' from tcp://127.0.0.1:61769; closing.\n",
      "INFO:distributed.scheduler:Close client connection: Client-worker-0788c316-2257-11ee-aea2-a6ccc78df727\n",
      "INFO:distributed.scheduler:Remove worker <WorkerState 'tcp://127.0.0.1:61762', name: 2, status: closing, memory: 0, processing: 0>\n",
      "INFO:distributed.core:Removing comms to tcp://127.0.0.1:61762\n",
      "INFO:distributed.scheduler:Lost all workers\n",
      "INFO:distributed.scheduler:Scheduler closing...\n",
      "INFO:distributed.scheduler:Scheduler closing all comms\n",
      "INFO:root:Loading and combining checkpoint files...\n"
     ]
    },
    {
     "data": {
      "text/html": [
       "<div>\n",
       "<style scoped>\n",
       "    .dataframe tbody tr th:only-of-type {\n",
       "        vertical-align: middle;\n",
       "    }\n",
       "\n",
       "    .dataframe tbody tr th {\n",
       "        vertical-align: top;\n",
       "    }\n",
       "\n",
       "    .dataframe thead th {\n",
       "        text-align: right;\n",
       "    }\n",
       "</style>\n",
       "<table border=\"1\" class=\"dataframe\">\n",
       "  <thead>\n",
       "    <tr style=\"text-align: right;\">\n",
       "      <th></th>\n",
       "      <th>mosaiks_0</th>\n",
       "      <th>mosaiks_1</th>\n",
       "      <th>mosaiks_2</th>\n",
       "      <th>mosaiks_3</th>\n",
       "      <th>mosaiks_4</th>\n",
       "      <th>mosaiks_5</th>\n",
       "      <th>mosaiks_6</th>\n",
       "      <th>mosaiks_7</th>\n",
       "      <th>mosaiks_8</th>\n",
       "      <th>mosaiks_9</th>\n",
       "      <th>...</th>\n",
       "      <th>mosaiks_3991</th>\n",
       "      <th>mosaiks_3992</th>\n",
       "      <th>mosaiks_3993</th>\n",
       "      <th>mosaiks_3994</th>\n",
       "      <th>mosaiks_3995</th>\n",
       "      <th>mosaiks_3996</th>\n",
       "      <th>mosaiks_3997</th>\n",
       "      <th>mosaiks_3998</th>\n",
       "      <th>mosaiks_3999</th>\n",
       "      <th>stac_id</th>\n",
       "    </tr>\n",
       "  </thead>\n",
       "  <tbody>\n",
       "    <tr>\n",
       "      <th>0</th>\n",
       "      <td>0.000001</td>\n",
       "      <td>0.013572</td>\n",
       "      <td>0.0</td>\n",
       "      <td>0.0</td>\n",
       "      <td>0.000554</td>\n",
       "      <td>1.545144</td>\n",
       "      <td>0.0</td>\n",
       "      <td>0.0</td>\n",
       "      <td>0.0</td>\n",
       "      <td>0.000829</td>\n",
       "      <td>...</td>\n",
       "      <td>3.565811</td>\n",
       "      <td>1.257177</td>\n",
       "      <td>0.949079</td>\n",
       "      <td>1.467782</td>\n",
       "      <td>1.438858</td>\n",
       "      <td>0.002822</td>\n",
       "      <td>5.129568</td>\n",
       "      <td>0.046132</td>\n",
       "      <td>4.810228</td>\n",
       "      <td>[LC08_L2SP_143046_20131218_02_T1, LC08_L2SP_14...</td>\n",
       "    </tr>\n",
       "    <tr>\n",
       "      <th>1</th>\n",
       "      <td>0.000000</td>\n",
       "      <td>0.135776</td>\n",
       "      <td>0.0</td>\n",
       "      <td>0.0</td>\n",
       "      <td>0.000180</td>\n",
       "      <td>2.170184</td>\n",
       "      <td>0.0</td>\n",
       "      <td>0.0</td>\n",
       "      <td>0.0</td>\n",
       "      <td>0.000986</td>\n",
       "      <td>...</td>\n",
       "      <td>3.589301</td>\n",
       "      <td>1.235628</td>\n",
       "      <td>0.398832</td>\n",
       "      <td>1.654489</td>\n",
       "      <td>1.635261</td>\n",
       "      <td>0.004644</td>\n",
       "      <td>5.783852</td>\n",
       "      <td>0.000017</td>\n",
       "      <td>5.540881</td>\n",
       "      <td>[LC08_L2SP_139044_20130426_02_T1, LC08_L2SP_13...</td>\n",
       "    </tr>\n",
       "  </tbody>\n",
       "</table>\n",
       "<p>2 rows × 4001 columns</p>\n",
       "</div>"
      ],
      "text/plain": [
       "   mosaiks_0  mosaiks_1  mosaiks_2  mosaiks_3  mosaiks_4  mosaiks_5  \\\n",
       "0   0.000001   0.013572        0.0        0.0   0.000554   1.545144   \n",
       "1   0.000000   0.135776        0.0        0.0   0.000180   2.170184   \n",
       "\n",
       "   mosaiks_6  mosaiks_7  mosaiks_8  mosaiks_9  ...  mosaiks_3991  \\\n",
       "0        0.0        0.0        0.0   0.000829  ...      3.565811   \n",
       "1        0.0        0.0        0.0   0.000986  ...      3.589301   \n",
       "\n",
       "   mosaiks_3992  mosaiks_3993  mosaiks_3994  mosaiks_3995  mosaiks_3996  \\\n",
       "0      1.257177      0.949079      1.467782      1.438858      0.002822   \n",
       "1      1.235628      0.398832      1.654489      1.635261      0.004644   \n",
       "\n",
       "   mosaiks_3997  mosaiks_3998  mosaiks_3999  \\\n",
       "0      5.129568      0.046132      4.810228   \n",
       "1      5.783852      0.000017      5.540881   \n",
       "\n",
       "                                             stac_id  \n",
       "0  [LC08_L2SP_143046_20131218_02_T1, LC08_L2SP_14...  \n",
       "1  [LC08_L2SP_139044_20130426_02_T1, LC08_L2SP_13...  \n",
       "\n",
       "[2 rows x 4001 columns]"
      ]
     },
     "execution_count": 13,
     "metadata": {},
     "output_type": "execute_result"
    }
   ],
   "source": [
    "# Run with parallelisation\n",
    "df = get_features(\n",
    "    test_points_gdf[\"Lat\"], test_points_gdf[\"Lon\"], parallelize=True\n",
    ")\n",
    "df"
   ]
  },
  {
   "cell_type": "code",
   "execution_count": 15,
   "id": "a74b672f",
   "metadata": {},
   "outputs": [
    {
     "name": "stderr",
     "output_type": "stream",
     "text": [
      "INFO:root:Checking inputs...\n",
      "INFO:root:Formatting data and creating model...\n",
      "INFO:root:Getting MOSAIKS features...\n",
      "/Users/amiremami/miniconda3/envs/mosaiks/lib/python3.11/site-packages/stackstac/prepare.py:364: UserWarning: The argument 'infer_datetime_format' is deprecated and will be removed in a future version. A strict version of it is now the default, see https://pandas.pydata.org/pdeps/0004-consistent-to-datetime-parsing.html. You can safely remove this argument.\n",
      "  times = pd.to_datetime(\n",
      "/Users/amiremami/miniconda3/envs/mosaiks/lib/python3.11/site-packages/stackstac/prepare.py:364: UserWarning: The argument 'infer_datetime_format' is deprecated and will be removed in a future version. A strict version of it is now the default, see https://pandas.pydata.org/pdeps/0004-consistent-to-datetime-parsing.html. You can safely remove this argument.\n",
      "  times = pd.to_datetime(\n",
      "/Users/amiremami/miniconda3/envs/mosaiks/lib/python3.11/site-packages/stackstac/prepare.py:364: UserWarning: The argument 'infer_datetime_format' is deprecated and will be removed in a future version. A strict version of it is now the default, see https://pandas.pydata.org/pdeps/0004-consistent-to-datetime-parsing.html. You can safely remove this argument.\n",
      "  times = pd.to_datetime(\n",
      "/Users/amiremami/miniconda3/envs/mosaiks/lib/python3.11/site-packages/stackstac/prepare.py:364: UserWarning: The argument 'infer_datetime_format' is deprecated and will be removed in a future version. A strict version of it is now the default, see https://pandas.pydata.org/pdeps/0004-consistent-to-datetime-parsing.html. You can safely remove this argument.\n",
      "  times = pd.to_datetime(\n",
      "/Users/amiremami/miniconda3/envs/mosaiks/lib/python3.11/site-packages/stackstac/prepare.py:364: UserWarning: The argument 'infer_datetime_format' is deprecated and will be removed in a future version. A strict version of it is now the default, see https://pandas.pydata.org/pdeps/0004-consistent-to-datetime-parsing.html. You can safely remove this argument.\n",
      "  times = pd.to_datetime(\n",
      "/Users/amiremami/IDinsight Repos/mosaiks/src/mosaiks/fetch/images.py:134: RuntimeWarning: overflow encountered in scalar subtract\n",
      "  return (image - img_min) / (img_max - img_min)\n",
      "/Users/amiremami/miniconda3/envs/mosaiks/lib/python3.11/site-packages/stackstac/prepare.py:364: UserWarning: The argument 'infer_datetime_format' is deprecated and will be removed in a future version. A strict version of it is now the default, see https://pandas.pydata.org/pdeps/0004-consistent-to-datetime-parsing.html. You can safely remove this argument.\n",
      "  times = pd.to_datetime(\n",
      "/Users/amiremami/miniconda3/envs/mosaiks/lib/python3.11/site-packages/stackstac/prepare.py:364: UserWarning: The argument 'infer_datetime_format' is deprecated and will be removed in a future version. A strict version of it is now the default, see https://pandas.pydata.org/pdeps/0004-consistent-to-datetime-parsing.html. You can safely remove this argument.\n",
      "  times = pd.to_datetime(\n",
      "/Users/amiremami/miniconda3/envs/mosaiks/lib/python3.11/site-packages/stackstac/prepare.py:364: UserWarning: The argument 'infer_datetime_format' is deprecated and will be removed in a future version. A strict version of it is now the default, see https://pandas.pydata.org/pdeps/0004-consistent-to-datetime-parsing.html. You can safely remove this argument.\n",
      "  times = pd.to_datetime(\n",
      "/Users/amiremami/miniconda3/envs/mosaiks/lib/python3.11/site-packages/stackstac/prepare.py:364: UserWarning: The argument 'infer_datetime_format' is deprecated and will be removed in a future version. A strict version of it is now the default, see https://pandas.pydata.org/pdeps/0004-consistent-to-datetime-parsing.html. You can safely remove this argument.\n",
      "  times = pd.to_datetime(\n",
      "/Users/amiremami/miniconda3/envs/mosaiks/lib/python3.11/site-packages/stackstac/prepare.py:364: UserWarning: The argument 'infer_datetime_format' is deprecated and will be removed in a future version. A strict version of it is now the default, see https://pandas.pydata.org/pdeps/0004-consistent-to-datetime-parsing.html. You can safely remove this argument.\n",
      "  times = pd.to_datetime(\n",
      "/Users/amiremami/miniconda3/envs/mosaiks/lib/python3.11/site-packages/stackstac/prepare.py:364: UserWarning: The argument 'infer_datetime_format' is deprecated and will be removed in a future version. A strict version of it is now the default, see https://pandas.pydata.org/pdeps/0004-consistent-to-datetime-parsing.html. You can safely remove this argument.\n",
      "  times = pd.to_datetime(\n",
      "/Users/amiremami/miniconda3/envs/mosaiks/lib/python3.11/site-packages/stackstac/prepare.py:364: UserWarning: The argument 'infer_datetime_format' is deprecated and will be removed in a future version. A strict version of it is now the default, see https://pandas.pydata.org/pdeps/0004-consistent-to-datetime-parsing.html. You can safely remove this argument.\n",
      "  times = pd.to_datetime(\n"
     ]
    }
   ],
   "source": [
    "# Check wrapper function\n",
    "from mosaiks.extras import load_and_save_features\n",
    "\n",
    "load_and_save_features(\n",
    "    input_file_path=\"../tests/data/test_points.csv\",\n",
    "    path_to_save_data=\"../tests/data/test_features.csv\",\n",
    "    context_cols_to_keep_from_input=[\"Lat\", \"Lon\"],\n",
    ")"
   ]
  },
  {
   "cell_type": "code",
   "execution_count": null,
   "id": "08340109",
   "metadata": {},
   "outputs": [],
   "source": []
  }
 ],
 "metadata": {
  "kernelspec": {
   "display_name": "mosaiks",
   "language": "python",
   "name": "python3"
  },
  "language_info": {
   "codemirror_mode": {
    "name": "ipython",
    "version": 3
   },
   "file_extension": ".py",
   "mimetype": "text/x-python",
   "name": "python",
   "nbconvert_exporter": "python",
   "pygments_lexer": "ipython3",
   "version": "3.11.0"
  }
 },
 "nbformat": 4,
 "nbformat_minor": 5
}
