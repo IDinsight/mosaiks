{
 "cells": [
  {
   "cell_type": "code",
   "execution_count": 1,
   "id": "33726051-67e7-444f-832d-e2f4e304f311",
   "metadata": {},
   "outputs": [],
   "source": [
    "%load_ext autoreload\n",
    "%autoreload 2"
   ]
  },
  {
   "cell_type": "code",
   "execution_count": 2,
   "id": "c91f9b6e-ebe2-4b07-abd5-1959670f36a7",
   "metadata": {},
   "outputs": [
    {
     "name": "stdout",
     "output_type": "stream",
     "text": [
      "/home/sid/ds_nudge_up/playground\n"
     ]
    }
   ],
   "source": [
    "!pwd"
   ]
  },
  {
   "cell_type": "code",
   "execution_count": 3,
   "id": "3b574b68-d565-448f-8d37-d7619c10353d",
   "metadata": {},
   "outputs": [],
   "source": [
    "import sys\n",
    "sys.path += [\"/home/sid/ds_nudge_up\"]\n",
    "\n",
    "import os\n",
    "os.environ['USE_PYGEOS'] = '0'"
   ]
  },
  {
   "cell_type": "code",
   "execution_count": 4,
   "id": "93389af1-087a-4ee6-87e0-818e8b317f68",
   "metadata": {},
   "outputs": [],
   "source": [
    "from src.preprocess import *\n",
    "import src.utils as utl"
   ]
  },
  {
   "cell_type": "code",
   "execution_count": 5,
   "id": "dde587f6-b54a-4e37-9a0b-d8463375a429",
   "metadata": {},
   "outputs": [],
   "source": [
    "import src.preprocess.mosaiks_points as cmp"
   ]
  },
  {
   "cell_type": "code",
   "execution_count": 8,
   "id": "59c3ec26-aeae-4153-83d2-a97f3a16b693",
   "metadata": {},
   "outputs": [],
   "source": [
    "preprocessing_config = utl.load_yaml_config(\"preprocessing.yaml\")"
   ]
  },
  {
   "cell_type": "code",
   "execution_count": 9,
   "id": "59f6126f-a08d-4642-8582-4026f9824e75",
   "metadata": {},
   "outputs": [
    {
     "name": "stderr",
     "output_type": "stream",
     "text": [
      "INFO:root: >>> Starting preprocess_shape_files ... \n",
      "INFO:root: <<< Exiting preprocess_shape_files in 82.48 secs ... \n",
      "INFO:root: >>> Starting preprocess_rural_keys ... \n",
      "INFO:root: <<< Exiting preprocess_rural_keys in 0.53 secs ... \n",
      "INFO:root: >>> Starting preprocess_urban_keys ... \n",
      "INFO:root: <<< Exiting preprocess_urban_keys in 0.01 secs ... \n",
      "INFO:root: >>> Starting merge_shapes_and_keys ... \n",
      "INFO:root: <<< Exiting merge_shapes_and_keys in 0.65 secs ... \n",
      "INFO:root:Created shape file with keys\n"
     ]
    },
    {
     "name": "stdout",
     "output_type": "stream",
     "text": [
      "CPU times: user 5min 34s, sys: 9.55 s, total: 5min 43s\n",
      "Wall time: 5min 43s\n"
     ]
    }
   ],
   "source": [
    "%%time\n",
    "\n",
    "create_shapefile_w_keys(preprocessing_config['geographic_level'])"
   ]
  },
  {
   "cell_type": "code",
   "execution_count": 10,
   "id": "8ce1ce6f-b2e1-4601-8b9e-51187461b600",
   "metadata": {},
   "outputs": [
    {
     "name": "stderr",
     "output_type": "stream",
     "text": [
      "INFO:root: >>> Starting create_mosaiks_points ... \n",
      "INFO:root: >>> Starting load_shrug_keys_w_shape ... \n",
      "INFO:root: <<< Exiting load_shrug_keys_w_shape in 81.67 secs ... \n",
      "INFO:root: >>> Starting create_gdf_of_enclosed_points ... \n",
      "INFO:root:Note: Using pre-calculated bounds for india.\n",
      "INFO:root:Number of point coords in grid:330625\n",
      "INFO:root:Number of point coords selected:99897\n",
      "INFO:root: <<< Exiting create_gdf_of_enclosed_points in 2.92 secs ... \n",
      "INFO:root: <<< Exiting create_mosaiks_points in 85.60 secs ... \n"
     ]
    },
    {
     "name": "stdout",
     "output_type": "stream",
     "text": [
      "CPU times: user 1min 24s, sys: 1.48 s, total: 1min 25s\n",
      "Wall time: 1min 25s\n"
     ]
    }
   ],
   "source": [
    "%%time\n",
    "\n",
    "point_coords = preprocessing_config['point_coordinates']\n",
    "create_mosaiks_points(\n",
    "    point_coords[\"step\"], point_coords[\"pre_calc_bounds\"]\n",
    ")"
   ]
  }
 ],
 "metadata": {
  "kernelspec": {
   "display_name": "Python 3 (ipykernel)",
   "language": "python",
   "name": "python3"
  },
  "language_info": {
   "codemirror_mode": {
    "name": "ipython",
    "version": 3
   },
   "file_extension": ".py",
   "mimetype": "text/x-python",
   "name": "python",
   "nbconvert_exporter": "python",
   "pygments_lexer": "ipython3",
   "version": "3.10.8"
  }
 },
 "nbformat": 4,
 "nbformat_minor": 5
}
