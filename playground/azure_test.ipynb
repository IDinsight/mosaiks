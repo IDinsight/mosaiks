{
 "cells": [
  {
   "cell_type": "code",
   "execution_count": null,
   "metadata": {},
   "outputs": [],
   "source": [
    "# reloads\n",
    "%load_ext autoreload\n",
    "%autoreload 2"
   ]
  },
  {
   "cell_type": "code",
   "execution_count": null,
   "metadata": {},
   "outputs": [],
   "source": [
    "import sys\n",
    "import os\n",
    "import warnings\n",
    "from pathlib import Path\n",
    "\n",
    "sys.path += [\"../\"]\n",
    "warnings.filterwarnings(\"ignore\")\n",
    "os.environ[\"USE_PYGEOS\"] = \"0\""
   ]
  },
  {
   "cell_type": "code",
   "execution_count": null,
   "metadata": {},
   "outputs": [],
   "source": [
    "import src.mosaiks.utils as utl\n",
    "from mosaiks.featurize import RCF"
   ]
  },
  {
   "attachments": {},
   "cell_type": "markdown",
   "metadata": {},
   "source": [
    "## Params and input data"
   ]
  },
  {
   "cell_type": "code",
   "execution_count": null,
   "metadata": {},
   "outputs": [],
   "source": [
    "rasterio_config = utl.load_yaml_config(\"rasterioc_config.yaml\")\n",
    "os.environ.update(rasterio_config)\n",
    "\n",
    "featurization_config = utl.load_yaml_config(\"featurisation.yaml\")\n",
    "\n",
    "satellite_config = utl.load_yaml_config(\"satellite_config.yaml\")\n",
    "satellite_config = satellite_config[\n",
    "    featurization_config[\"satellite_search_params\"][\"satellite_name\"]\n",
    "]"
   ]
  },
  {
   "cell_type": "code",
   "execution_count": null,
   "metadata": {},
   "outputs": [],
   "source": [
    "mosaiks_col_names = [\n",
    "    f\"mosaiks_{i}\" for i in range(featurization_config[\"model\"][\"num_features\"])\n",
    "]"
   ]
  },
  {
   "cell_type": "code",
   "execution_count": null,
   "metadata": {},
   "outputs": [],
   "source": [
    "model = RCF(\n",
    "    featurization_config[\"model\"][\"num_features\"],\n",
    "    featurization_config[\"model\"][\"kernel_size\"],\n",
    "    len(satellite_config[\"bands\"]),\n",
    ")"
   ]
  },
  {
   "cell_type": "code",
   "execution_count": null,
   "metadata": {},
   "outputs": [],
   "source": [
    "request_points_gdf = utl.load_df_w_latlons_to_gdf(\n",
    "    dataset_name=featurization_config[\"coord_set\"][\"coord_set_name\"]\n",
    ")\n",
    "test_points_gdf = request_points_gdf.iloc[1:2]"
   ]
  },
  {
   "cell_type": "code",
   "execution_count": null,
   "metadata": {},
   "outputs": [],
   "source": [
    "local_folder_path = Path(\"test_outputs\") #utl.make_output_folder_path(featurization_config)\n",
    "s3_bucket_path = \"s3://gs-test-then-delete/test_mosaiks_df.parquet.gzip\""
   ]
  },
  {
   "attachments": {},
   "cell_type": "markdown",
   "metadata": {},
   "source": [
    "## Local test run"
   ]
  },
  {
   "cell_type": "code",
   "execution_count": null,
   "metadata": {},
   "outputs": [],
   "source": [
    "from mosaiks.fetch import fetch_image_refs, create_data_loader\n",
    "from mosaiks.featurize import create_features, make_result_df"
   ]
  },
  {
   "cell_type": "code",
   "execution_count": null,
   "metadata": {},
   "outputs": [],
   "source": [
    "%%time\n",
    "points_gdf_with_stac = fetch_image_refs(\n",
    "    test_points_gdf, \n",
    "    featurization_config['satellite_search_params']\n",
    ")\n",
    "\n",
    "data_loader = create_data_loader(\n",
    "    points_gdf_with_stac=points_gdf_with_stac,\n",
    "    satellite_params=satellite_config,\n",
    "    batch_size=featurization_config[\"model\"][\"batch_size\"],\n",
    ")\n",
    "\n",
    "X_features = create_features(\n",
    "    dataloader=data_loader,\n",
    "    n_features=featurization_config[\"model\"][\"num_features\"],\n",
    "    model=model,\n",
    "    device=featurization_config[\"model\"][\"device\"],\n",
    "    min_image_edge=satellite_config[\"min_image_edge\"],\n",
    ")\n",
    "\n",
    "result_df = make_result_df(\n",
    "    features=X_features,\n",
    "    mosaiks_col_names=mosaiks_col_names,\n",
    "    context_gdf=points_gdf_with_stac,\n",
    "    context_cols_to_keep=featurization_config[\"coord_set\"][\"context_cols_to_keep\"],\n",
    ")\n",
    "result_df"
   ]
  },
  {
   "cell_type": "code",
   "execution_count": null,
   "metadata": {},
   "outputs": [],
   "source": [
    "utl.save_dataframe(\n",
    "    df=result_df, file_path=f\"{local_folder_path}/df_TEST.csv\"\n",
    ")"
   ]
  },
  {
   "cell_type": "code",
   "execution_count": null,
   "metadata": {},
   "outputs": [],
   "source": [
    "secrets = utl.load_yaml_config(\"secrets.yaml\")\n",
    "os.environ[\"AWS_ACCESS_KEY_ID\"] = secrets[\"AWS_ACCESS_KEY_ID\"]\n",
    "os.environ[\"AWS_SECRET_ACCESS_KEY\"] = secrets[\"AWS_SECRET_ACCESS_KEY\"]\n",
    "\n",
    "utl.save_dataframe(\n",
    "    df=result_df, \n",
    "    file_path=s3_bucket_path,\n",
    ")"
   ]
  },
  {
   "attachments": {},
   "cell_type": "markdown",
   "metadata": {},
   "source": [
    "## Cloud run"
   ]
  },
  {
   "cell_type": "code",
   "execution_count": null,
   "metadata": {},
   "outputs": [],
   "source": [
    "from dask_cloudprovider.azure import AzureVMCluster"
   ]
  },
  {
   "cell_type": "code",
   "execution_count": null,
   "metadata": {},
   "outputs": [],
   "source": [
    "mosaiks_git_link = utl.get_mosaiks_package_link(\"main\")"
   ]
  },
  {
   "cell_type": "code",
   "execution_count": null,
   "metadata": {},
   "outputs": [],
   "source": [
    "cluster = AzureVMCluster(\n",
    "    resource_group=\"leaninnvoation\",\n",
    "    vnet=\"aks-vnet-mosaik\",\n",
    "    security_group=\"aks-sg-mosaik\",\n",
    "    location=\"westeurope\",\n",
    "    env_vars={\n",
    "        \"EXTRA_PIP_PACKAGES\": mosaiks_git_link,\n",
    "        \"USE_PYGEOS\": \"0\",\n",
    "        \"AWS_ACCESS_KEY_ID\": secrets[\"AWS_ACCESS_KEY_ID\"],\n",
    "        \"AWS_SECRET_ACCESS_KEY\": secrets[\"AWS_SECRET_ACCESS_KEY\"],\n",
    "    },\n",
    "    n_workers=4,\n",
    ")"
   ]
  },
  {
   "cell_type": "code",
   "execution_count": null,
   "metadata": {},
   "outputs": [],
   "source": [
    "# need py 3.10\n",
    "from dask.distributed import Client\n",
    "client = Client(cluster)\n",
    "client"
   ]
  },
  {
   "cell_type": "code",
   "execution_count": null,
   "metadata": {},
   "outputs": [],
   "source": [
    "from mosaiks.dask import run_queued_futures_pipeline, run_batched_delayed_pipeline"
   ]
  },
  {
   "cell_type": "code",
   "execution_count": null,
   "metadata": {},
   "outputs": [],
   "source": [
    "%%time\n",
    "\n",
    "run_queued_futures_pipeline(\n",
    "    test_points_gdf,\n",
    "    client=client,\n",
    "    model=model,\n",
    "    featurization_config=featurization_config,\n",
    "    satellite_config=satellite_config,\n",
    "    col_names=mosaiks_col_names,\n",
    "    save_folder_path=s3_bucket_path,\n",
    ")"
   ]
  },
  {
   "cell_type": "code",
   "execution_count": null,
   "metadata": {},
   "outputs": [],
   "source": [
    "%%time\n",
    "\n",
    "run_batched_delayed_pipeline(\n",
    "    test_points_gdf,\n",
    "    client=client,\n",
    "    model=model,\n",
    "    featurization_config=featurization_config,\n",
    "    satellite_config=satellite_config,\n",
    "    col_names=mosaiks_col_names,\n",
    "    save_folder_path=s3_bucket_path,\n",
    ")"
   ]
  },
  {
   "cell_type": "code",
   "execution_count": null,
   "metadata": {},
   "outputs": [],
   "source": [
    "client.close()\n",
    "cluster.close()"
   ]
  },
  {
   "cell_type": "code",
   "execution_count": null,
   "metadata": {},
   "outputs": [],
   "source": []
  }
 ],
 "metadata": {
  "kernelspec": {
   "display_name": "mosaiks",
   "language": "python",
   "name": "python3"
  },
  "language_info": {
   "codemirror_mode": {
    "name": "ipython",
    "version": 3
   },
   "file_extension": ".py",
   "mimetype": "text/x-python",
   "name": "python",
   "nbconvert_exporter": "python",
   "pygments_lexer": "ipython3",
   "version": "3.10.0"
  },
  "orig_nbformat": 4
 },
 "nbformat": 4,
 "nbformat_minor": 2
}
