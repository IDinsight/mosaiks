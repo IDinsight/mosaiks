{
 "cells": [
  {
   "cell_type": "code",
   "execution_count": 91,
   "id": "8a082089-9f4a-486e-a3a5-4b41cb161c5d",
   "metadata": {},
   "outputs": [
    {
     "name": "stdout",
     "output_type": "stream",
     "text": [
      "The autoreload extension is already loaded. To reload it, use:\n",
      "  %reload_ext autoreload\n"
     ]
    }
   ],
   "source": [
    "%load_ext autoreload\n",
    "%autoreload 2"
   ]
  },
  {
   "cell_type": "code",
   "execution_count": 92,
   "id": "546f7847-1b99-4d22-a2ff-fde69ba0aaac",
   "metadata": {},
   "outputs": [
    {
     "name": "stdout",
     "output_type": "stream",
     "text": [
      "/home/sid/ds_nudge_up/playground\n"
     ]
    }
   ],
   "source": [
    "!pwd"
   ]
  },
  {
   "cell_type": "code",
   "execution_count": 93,
   "id": "e95c0402-0e75-4dac-a70e-30c765ef48c7",
   "metadata": {},
   "outputs": [],
   "source": [
    "import matplotlib.pyplot as plt"
   ]
  },
  {
   "cell_type": "code",
   "execution_count": 94,
   "id": "e9b78741-7185-48f7-865a-39183d432914",
   "metadata": {},
   "outputs": [],
   "source": [
    "import sys\n",
    "sys.path += [\"../\"]"
   ]
  },
  {
   "cell_type": "code",
   "execution_count": 95,
   "id": "4be87050-5c3a-4d51-a6de-7b36ad118aea",
   "metadata": {},
   "outputs": [],
   "source": [
    "import os\n",
    "import src.utils as utl\n",
    "rasterio_config = utl.load_yaml_config(\"rasterioc_config.yaml\")\n",
    "os.environ.update(rasterio_config)"
   ]
  },
  {
   "cell_type": "code",
   "execution_count": 96,
   "id": "413f69a5-5ed3-4938-bc83-9bfe618418dd",
   "metadata": {},
   "outputs": [],
   "source": [
    "from src.featurize import *"
   ]
  },
  {
   "cell_type": "code",
   "execution_count": 97,
   "id": "0fb14555-bbba-4e63-a157-4a247e1af77a",
   "metadata": {},
   "outputs": [],
   "source": [
    "featurization_params = utl.load_yaml_config(\"featurisation.yaml\")\n",
    "satellite_config = utl.load_yaml_config(\"satellite_config.yaml\")\n",
    "satellite_config = satellite_config[featurization_params['satellite_image_params']['satellite_name']]\n",
    "data_sources = utl.load_yaml_config('data_catalog.yaml')"
   ]
  },
  {
   "cell_type": "code",
   "execution_count": 98,
   "id": "6a4b510b-ad70-4af3-89d7-64f0899ed88b",
   "metadata": {},
   "outputs": [],
   "source": [
    "points_gdf = utl.load_points_gdf(**data_sources['request_points'])"
   ]
  },
  {
   "cell_type": "code",
   "execution_count": 99,
   "id": "7119647d-9445-4b79-9047-e6f0fcd1c17a",
   "metadata": {},
   "outputs": [
    {
     "name": "stderr",
     "output_type": "stream",
     "text": [
      "/home/sid/miniconda3/envs/nudge_up/lib/python3.10/site-packages/geopandas/geodataframe.py:1443: SettingWithCopyWarning: \n",
      "A value is trying to be set on a copy of a slice from a DataFrame.\n",
      "Try using .loc[row_indexer,col_indexer] = value instead\n",
      "\n",
      "See the caveats in the documentation: https://pandas.pydata.org/pandas-docs/stable/user_guide/indexing.html#returning-a-view-versus-a-copy\n",
      "  super().__setitem__(key, value)\n"
     ]
    },
    {
     "name": "stdout",
     "output_type": "stream",
     "text": [
      "CPU times: user 866 ms, sys: 40.5 ms, total: 907 ms\n",
      "Wall time: 2.25 s\n"
     ]
    }
   ],
   "source": [
    "%%time\n",
    "points_gdf_with_stac = fetch_image_refs(points_gdf.loc[:20, :], featurization_params['dask']['n_partitions'], \n",
    "                                        featurization_params['satellite_image_params'])"
   ]
  },
  {
   "cell_type": "code",
   "execution_count": 100,
   "id": "75595537-6c1e-4c6d-b894-43520b4419dc",
   "metadata": {},
   "outputs": [],
   "source": [
    "mini_stac_gdf = points_gdf_with_stac[:10]"
   ]
  },
  {
   "cell_type": "code",
   "execution_count": 101,
   "id": "eb41eb49-5665-4f2c-9a99-5b9109e631eb",
   "metadata": {},
   "outputs": [],
   "source": [
    "data_loader = create_data_loader(mini_stac_gdf, satellite_config, featurization_params['batch_size'])"
   ]
  },
  {
   "cell_type": "code",
   "execution_count": 102,
   "id": "126121ce-ba3d-46cf-9f9b-69a66ab76cdf",
   "metadata": {},
   "outputs": [],
   "source": [
    "model = RCF(featurization_params['num_features'], featurization_params['kernel_size'], len(satellite_config['bands']))"
   ]
  },
  {
   "cell_type": "code",
   "execution_count": 103,
   "id": "a15781c9-77be-456e-8499-5eb9868d83c4",
   "metadata": {},
   "outputs": [
    {
     "data": {
      "text/plain": [
       "{'satellite_image_params': {'satellite_name': 'sentinel-2-l2a',\n",
       "  'search_start': '2021-04-01',\n",
       "  'search_end': '2022-03-31',\n",
       "  'stac_output': 'least_cloudy',\n",
       "  'stac_api': 'planetary-compute'},\n",
       " 'num_features': 500,\n",
       " 'kernel_size': 3,\n",
       " 'batch_size': 5,\n",
       " 'device': 'cpu',\n",
       " 'dask': {'n_partitions': 12}}"
      ]
     },
     "execution_count": 103,
     "metadata": {},
     "output_type": "execute_result"
    }
   ],
   "source": [
    "featurization_params"
   ]
  },
  {
   "cell_type": "code",
   "execution_count": 104,
   "id": "f4df39e6-ef57-4eac-b3a3-1124a81d10c5",
   "metadata": {},
   "outputs": [
    {
     "name": "stderr",
     "output_type": "stream",
     "text": [
      "  0%|                                                                           | 0/2 [00:00<?, ?it/s]\n",
      "0it [00:00, ?it/s]\u001b[A\n",
      " 50%|█████████████████████████████████▌                                 | 1/2 [00:53<00:53, 53.41s/it]\n",
      "0it [00:00, ?it/s]\u001b[A\n",
      "100%|███████████████████████████████████████████████████████████████████| 2/2 [01:35<00:00, 47.77s/it]\n"
     ]
    }
   ],
   "source": [
    "X_features = create_features(data_loader, featurization_params['num_features'], len(mini_stac_gdf), \n",
    "                             model, featurization_params['device'], satellite_config['min_image_edge'])"
   ]
  },
  {
   "cell_type": "code",
   "execution_count": 105,
   "id": "a6664d90-5ac0-4c69-9b6f-6471b1cdcbcb",
   "metadata": {},
   "outputs": [
    {
     "data": {
      "text/plain": [
       "array([[1.09272471e-04, 5.34631603e-04, 3.45778018e-02, ...,\n",
       "        8.76617253e-01, 3.42695594e-01, 8.57008457e-01],\n",
       "       [6.75072515e-05, 1.00113072e-01, 1.07603788e-01, ...,\n",
       "        8.00987422e-01, 3.28515947e-01, 8.57559383e-01],\n",
       "       [7.99814643e-06, 7.69513696e-02, 2.79357195e-01, ...,\n",
       "        7.83863008e-01, 1.80771410e-01, 7.95646191e-01],\n",
       "       ...,\n",
       "       [4.18336094e-05, 2.65610088e-02, 2.01380104e-01, ...,\n",
       "        8.71932685e-01, 1.27040088e-01, 8.07325482e-01],\n",
       "       [0.00000000e+00, 1.09042097e-02, 1.62996724e-02, ...,\n",
       "        9.12571073e-01, 5.58667898e-01, 9.44035292e-01],\n",
       "       [5.50447339e-06, 1.56248599e-01, 3.57094228e-01, ...,\n",
       "        7.71559715e-01, 1.72310799e-01, 7.87246406e-01]])"
      ]
     },
     "execution_count": 105,
     "metadata": {},
     "output_type": "execute_result"
    }
   ],
   "source": [
    "X_features"
   ]
  }
 ],
 "metadata": {
  "kernelspec": {
   "display_name": "Python 3 (ipykernel)",
   "language": "python",
   "name": "python3"
  },
  "language_info": {
   "codemirror_mode": {
    "name": "ipython",
    "version": 3
   },
   "file_extension": ".py",
   "mimetype": "text/x-python",
   "name": "python",
   "nbconvert_exporter": "python",
   "pygments_lexer": "ipython3",
   "version": "3.10.8"
  }
 },
 "nbformat": 4,
 "nbformat_minor": 5
}
