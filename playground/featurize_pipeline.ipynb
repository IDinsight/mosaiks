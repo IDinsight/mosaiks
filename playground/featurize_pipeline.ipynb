{
 "cells": [
  {
   "cell_type": "markdown",
   "id": "49247120-9199-4700-ae89-2fb4f2df2682",
   "metadata": {
    "jp-MarkdownHeadingCollapsed": true,
    "tags": []
   },
   "source": [
    "# Notebook Setup"
   ]
  },
  {
   "cell_type": "code",
   "execution_count": 1,
   "id": "8a082089-9f4a-486e-a3a5-4b41cb161c5d",
   "metadata": {},
   "outputs": [],
   "source": [
    "%load_ext autoreload\n",
    "%autoreload 2"
   ]
  },
  {
   "cell_type": "code",
   "execution_count": 2,
   "id": "2a170fe7-063d-4f09-b01a-4aee0cf2ab77",
   "metadata": {},
   "outputs": [],
   "source": [
    "import sys\n",
    "sys.path += [\"../\"]"
   ]
  },
  {
   "cell_type": "code",
   "execution_count": 3,
   "id": "95dcf18a-5538-41b1-84e0-d985355ac387",
   "metadata": {},
   "outputs": [],
   "source": [
    "import warnings\n",
    "warnings.filterwarnings(\"ignore\")"
   ]
  },
  {
   "cell_type": "markdown",
   "id": "b35c5b76-3a9c-42f1-860d-21761969bdd3",
   "metadata": {},
   "source": [
    "Note that we are using the local ds_nudge_up repo only for loading the utils.\n",
    "The rest is done using the pip installed library."
   ]
  },
  {
   "cell_type": "code",
   "execution_count": 4,
   "id": "4be87050-5c3a-4d51-a6de-7b36ad118aea",
   "metadata": {},
   "outputs": [],
   "source": [
    "import os\n",
    "import src.mosaiks.utils as utl\n",
    "rasterio_config = utl.load_yaml_config(\"rasterioc_config.yaml\")\n",
    "os.environ.update(rasterio_config)"
   ]
  },
  {
   "cell_type": "code",
   "execution_count": 5,
   "id": "c7309d0b-5049-455f-a16a-c943000e603d",
   "metadata": {},
   "outputs": [
    {
     "data": {
      "text/plain": [
       "'/home/jovyan/mosaiks/playground'"
      ]
     },
     "execution_count": 5,
     "metadata": {},
     "output_type": "execute_result"
    }
   ],
   "source": [
    "os.getcwd()"
   ]
  },
  {
   "cell_type": "code",
   "execution_count": 6,
   "id": "55637d2d-2d0a-454f-835e-ec7c3b176db1",
   "metadata": {},
   "outputs": [
    {
     "name": "stdout",
     "output_type": "stream",
     "text": [
      "Obtaining file:///home/jovyan/mosaiks\n",
      "  Installing build dependencies ... \u001b[?25ldone\n",
      "\u001b[?25h  Checking if build backend supports build_editable ... \u001b[?25ldone\n",
      "\u001b[?25h  Getting requirements to build editable ... \u001b[?25ldone\n",
      "\u001b[?25h  Installing backend dependencies ... \u001b[?25ldone\n",
      "\u001b[?25h  Preparing editable metadata (pyproject.toml) ... \u001b[?25ldone\n",
      "\u001b[?25hRequirement already satisfied: matplotlib>=3.3.3 in /srv/conda/envs/notebook/lib/python3.9/site-packages (from mosaiks==0.0.1rc0) (3.5.3)\n",
      "Requirement already satisfied: seaborn>=0.11.0 in /srv/conda/envs/notebook/lib/python3.9/site-packages (from mosaiks==0.0.1rc0) (0.12.0)\n",
      "Requirement already satisfied: cycler>=0.10 in /srv/conda/envs/notebook/lib/python3.9/site-packages (from matplotlib>=3.3.3->mosaiks==0.0.1rc0) (0.11.0)\n",
      "Requirement already satisfied: kiwisolver>=1.0.1 in /srv/conda/envs/notebook/lib/python3.9/site-packages (from matplotlib>=3.3.3->mosaiks==0.0.1rc0) (1.4.4)\n",
      "Requirement already satisfied: python-dateutil>=2.7 in /srv/conda/envs/notebook/lib/python3.9/site-packages (from matplotlib>=3.3.3->mosaiks==0.0.1rc0) (2.8.2)\n",
      "Requirement already satisfied: packaging>=20.0 in /srv/conda/envs/notebook/lib/python3.9/site-packages (from matplotlib>=3.3.3->mosaiks==0.0.1rc0) (21.3)\n",
      "Requirement already satisfied: numpy>=1.17 in /srv/conda/envs/notebook/lib/python3.9/site-packages (from matplotlib>=3.3.3->mosaiks==0.0.1rc0) (1.23.3)\n",
      "Requirement already satisfied: pyparsing>=2.2.1 in /srv/conda/envs/notebook/lib/python3.9/site-packages (from matplotlib>=3.3.3->mosaiks==0.0.1rc0) (3.0.9)\n",
      "Requirement already satisfied: pillow>=6.2.0 in /srv/conda/envs/notebook/lib/python3.9/site-packages (from matplotlib>=3.3.3->mosaiks==0.0.1rc0) (9.2.0)\n",
      "Requirement already satisfied: fonttools>=4.22.0 in /srv/conda/envs/notebook/lib/python3.9/site-packages (from matplotlib>=3.3.3->mosaiks==0.0.1rc0) (4.37.2)\n",
      "Requirement already satisfied: pandas>=0.25 in /srv/conda/envs/notebook/lib/python3.9/site-packages (from seaborn>=0.11.0->mosaiks==0.0.1rc0) (1.4.4)\n",
      "Requirement already satisfied: pytz>=2020.1 in /srv/conda/envs/notebook/lib/python3.9/site-packages (from pandas>=0.25->seaborn>=0.11.0->mosaiks==0.0.1rc0) (2022.2.1)\n",
      "Requirement already satisfied: six>=1.5 in /srv/conda/envs/notebook/lib/python3.9/site-packages (from python-dateutil>=2.7->matplotlib>=3.3.3->mosaiks==0.0.1rc0) (1.16.0)\n",
      "Building wheels for collected packages: mosaiks\n",
      "  Building editable for mosaiks (pyproject.toml) ... \u001b[?25ldone\n",
      "\u001b[?25h  Created wheel for mosaiks: filename=mosaiks-0.0.1rc0-0.editable-py3-none-any.whl size=1786 sha256=572209c6773ac7935ccdbe82641b55c35fea9dea1be63df61402ce579867ccae\n",
      "  Stored in directory: /tmp/pip-ephem-wheel-cache-mvzmt7ps/wheels/8c/b8/09/ac86a95e312dc7e48173fa88b434bf7660e68925ca07d32c2c\n",
      "Successfully built mosaiks\n",
      "Installing collected packages: mosaiks\n",
      "Successfully installed mosaiks-0.0.1rc0\n"
     ]
    }
   ],
   "source": [
    "!pip install -e .."
   ]
  },
  {
   "cell_type": "code",
   "execution_count": 7,
   "id": "12aa385e-0d92-45c1-ab67-99778c09a24c",
   "metadata": {},
   "outputs": [],
   "source": [
    "# !pip uninstall mosaiks -y"
   ]
  },
  {
   "cell_type": "markdown",
   "id": "21f5c520-3a16-4a1d-8118-3f8dc0192a32",
   "metadata": {},
   "source": [
    "🚨🚨 **Make sure you update github token in the secrets file** 🚨🚨 "
   ]
  },
  {
   "cell_type": "code",
   "execution_count": 8,
   "id": "e3d53a68-63c7-468b-9832-989942106d40",
   "metadata": {},
   "outputs": [],
   "source": [
    "# secrets = utl.load_yaml_config(\"../config/secrets.yml\")\n",
    "# GITHUB_TOKEN = secrets[\"GITHUB_TOKEN\"]\n",
    "# mosaiks_package_link = f\"git+https://{GITHUB_TOKEN}@github.com/IDinsight/ds_nudge_up@as-package\""
   ]
  },
  {
   "cell_type": "code",
   "execution_count": 9,
   "id": "4e5aad8c-aa40-463b-b8bd-775321cc9393",
   "metadata": {
    "tags": []
   },
   "outputs": [],
   "source": [
    "# !pip install {mosaiks_package_link} --upgrade"
   ]
  },
  {
   "cell_type": "markdown",
   "id": "3237a534-1c05-4455-8685-f1aef6686f95",
   "metadata": {
    "jp-MarkdownHeadingCollapsed": true,
    "tags": []
   },
   "source": [
    "# Setup Dask Cluster and Client"
   ]
  },
  {
   "cell_type": "markdown",
   "id": "72152acf-a27d-416e-84ce-893fe3651598",
   "metadata": {
    "tags": []
   },
   "source": [
    "## Local Cluster"
   ]
  },
  {
   "cell_type": "markdown",
   "id": "d1438e38-662f-4edc-a137-905895ef5f59",
   "metadata": {},
   "source": [
    "4 workers with 4 threads each seem to work best. A lot of time a thread is waiting on data to load so CPU is underutilized."
   ]
  },
  {
   "cell_type": "code",
   "execution_count": 6,
   "id": "55239c8c-df3e-45ec-ba3d-3dda44ab41b6",
   "metadata": {},
   "outputs": [
    {
     "name": "stderr",
     "output_type": "stream",
     "text": [
      "2023-03-03 09:46:59,596 - distributed.diskutils - INFO - Found stale lock file and directory '/home/jovyan/mosaiks/playground/dask-worker-space/worker-8zk5doj7', purging\n",
      "2023-03-03 09:46:59,596 - distributed.diskutils - INFO - Found stale lock file and directory '/home/jovyan/mosaiks/playground/dask-worker-space/worker-3ipq485y', purging\n",
      "2023-03-03 09:46:59,597 - distributed.diskutils - INFO - Found stale lock file and directory '/home/jovyan/mosaiks/playground/dask-worker-space/worker-o7i1747e', purging\n",
      "2023-03-03 09:46:59,597 - distributed.diskutils - INFO - Found stale lock file and directory '/home/jovyan/mosaiks/playground/dask-worker-space/worker-vwzq3wn2', purging\n"
     ]
    },
    {
     "data": {
      "text/html": [
       "<div>\n",
       "    <div style=\"width: 24px; height: 24px; background-color: #e1e1e1; border: 3px solid #9D9D9D; border-radius: 5px; position: absolute;\"> </div>\n",
       "    <div style=\"margin-left: 48px;\">\n",
       "        <h3 style=\"margin-bottom: 0px;\">Client</h3>\n",
       "        <p style=\"color: #9D9D9D; margin-bottom: 0px;\">Client-58037323-b9a8-11ed-8864-9606d5ea96a5</p>\n",
       "        <table style=\"width: 100%; text-align: left;\">\n",
       "\n",
       "        <tr>\n",
       "        \n",
       "            <td style=\"text-align: left;\"><strong>Connection method:</strong> Cluster object</td>\n",
       "            <td style=\"text-align: left;\"><strong>Cluster type:</strong> distributed.LocalCluster</td>\n",
       "        \n",
       "        </tr>\n",
       "\n",
       "        \n",
       "            <tr>\n",
       "                <td style=\"text-align: left;\">\n",
       "                    <strong>Dashboard: </strong> <a href=\"/user/amirali1376@gmail.com/proxy/8787/status\" target=\"_blank\">/user/amirali1376@gmail.com/proxy/8787/status</a>\n",
       "                </td>\n",
       "                <td style=\"text-align: left;\"></td>\n",
       "            </tr>\n",
       "        \n",
       "\n",
       "        </table>\n",
       "\n",
       "        \n",
       "            <details>\n",
       "            <summary style=\"margin-bottom: 20px;\"><h3 style=\"display: inline;\">Cluster Info</h3></summary>\n",
       "            <div class=\"jp-RenderedHTMLCommon jp-RenderedHTML jp-mod-trusted jp-OutputArea-output\">\n",
       "    <div style=\"width: 24px; height: 24px; background-color: #e1e1e1; border: 3px solid #9D9D9D; border-radius: 5px; position: absolute;\">\n",
       "    </div>\n",
       "    <div style=\"margin-left: 48px;\">\n",
       "        <h3 style=\"margin-bottom: 0px; margin-top: 0px;\">LocalCluster</h3>\n",
       "        <p style=\"color: #9D9D9D; margin-bottom: 0px;\">71578090</p>\n",
       "        <table style=\"width: 100%; text-align: left;\">\n",
       "            <tr>\n",
       "                <td style=\"text-align: left;\">\n",
       "                    <strong>Dashboard:</strong> <a href=\"/user/amirali1376@gmail.com/proxy/8787/status\" target=\"_blank\">/user/amirali1376@gmail.com/proxy/8787/status</a>\n",
       "                </td>\n",
       "                <td style=\"text-align: left;\">\n",
       "                    <strong>Workers:</strong> 4\n",
       "                </td>\n",
       "            </tr>\n",
       "            <tr>\n",
       "                <td style=\"text-align: left;\">\n",
       "                    <strong>Total threads:</strong> 16\n",
       "                </td>\n",
       "                <td style=\"text-align: left;\">\n",
       "                    <strong>Total memory:</strong> 27.00 GiB\n",
       "                </td>\n",
       "            </tr>\n",
       "            \n",
       "            <tr>\n",
       "    <td style=\"text-align: left;\"><strong>Status:</strong> running</td>\n",
       "    <td style=\"text-align: left;\"><strong>Using processes:</strong> True</td>\n",
       "</tr>\n",
       "\n",
       "            \n",
       "        </table>\n",
       "\n",
       "        <details>\n",
       "            <summary style=\"margin-bottom: 20px;\">\n",
       "                <h3 style=\"display: inline;\">Scheduler Info</h3>\n",
       "            </summary>\n",
       "\n",
       "            <div style=\"\">\n",
       "    <div>\n",
       "        <div style=\"width: 24px; height: 24px; background-color: #FFF7E5; border: 3px solid #FF6132; border-radius: 5px; position: absolute;\"> </div>\n",
       "        <div style=\"margin-left: 48px;\">\n",
       "            <h3 style=\"margin-bottom: 0px;\">Scheduler</h3>\n",
       "            <p style=\"color: #9D9D9D; margin-bottom: 0px;\">Scheduler-f1f809d0-8964-42c1-b100-7ab6d99a13b5</p>\n",
       "            <table style=\"width: 100%; text-align: left;\">\n",
       "                <tr>\n",
       "                    <td style=\"text-align: left;\">\n",
       "                        <strong>Comm:</strong> tcp://127.0.0.1:43545\n",
       "                    </td>\n",
       "                    <td style=\"text-align: left;\">\n",
       "                        <strong>Workers:</strong> 4\n",
       "                    </td>\n",
       "                </tr>\n",
       "                <tr>\n",
       "                    <td style=\"text-align: left;\">\n",
       "                        <strong>Dashboard:</strong> <a href=\"/user/amirali1376@gmail.com/proxy/8787/status\" target=\"_blank\">/user/amirali1376@gmail.com/proxy/8787/status</a>\n",
       "                    </td>\n",
       "                    <td style=\"text-align: left;\">\n",
       "                        <strong>Total threads:</strong> 16\n",
       "                    </td>\n",
       "                </tr>\n",
       "                <tr>\n",
       "                    <td style=\"text-align: left;\">\n",
       "                        <strong>Started:</strong> Just now\n",
       "                    </td>\n",
       "                    <td style=\"text-align: left;\">\n",
       "                        <strong>Total memory:</strong> 27.00 GiB\n",
       "                    </td>\n",
       "                </tr>\n",
       "            </table>\n",
       "        </div>\n",
       "    </div>\n",
       "\n",
       "    <details style=\"margin-left: 48px;\">\n",
       "        <summary style=\"margin-bottom: 20px;\">\n",
       "            <h3 style=\"display: inline;\">Workers</h3>\n",
       "        </summary>\n",
       "\n",
       "        \n",
       "        <div style=\"margin-bottom: 20px;\">\n",
       "            <div style=\"width: 24px; height: 24px; background-color: #DBF5FF; border: 3px solid #4CC9FF; border-radius: 5px; position: absolute;\"> </div>\n",
       "            <div style=\"margin-left: 48px;\">\n",
       "            <details>\n",
       "                <summary>\n",
       "                    <h4 style=\"margin-bottom: 0px; display: inline;\">Worker: 0</h4>\n",
       "                </summary>\n",
       "                <table style=\"width: 100%; text-align: left;\">\n",
       "                    <tr>\n",
       "                        <td style=\"text-align: left;\">\n",
       "                            <strong>Comm: </strong> tcp://127.0.0.1:40373\n",
       "                        </td>\n",
       "                        <td style=\"text-align: left;\">\n",
       "                            <strong>Total threads: </strong> 4\n",
       "                        </td>\n",
       "                    </tr>\n",
       "                    <tr>\n",
       "                        <td style=\"text-align: left;\">\n",
       "                            <strong>Dashboard: </strong> <a href=\"/user/amirali1376@gmail.com/proxy/44281/status\" target=\"_blank\">/user/amirali1376@gmail.com/proxy/44281/status</a>\n",
       "                        </td>\n",
       "                        <td style=\"text-align: left;\">\n",
       "                            <strong>Memory: </strong> 6.75 GiB\n",
       "                        </td>\n",
       "                    </tr>\n",
       "                    <tr>\n",
       "                        <td style=\"text-align: left;\">\n",
       "                            <strong>Nanny: </strong> tcp://127.0.0.1:36253\n",
       "                        </td>\n",
       "                        <td style=\"text-align: left;\"></td>\n",
       "                    </tr>\n",
       "                    <tr>\n",
       "                        <td colspan=\"2\" style=\"text-align: left;\">\n",
       "                            <strong>Local directory: </strong> /home/jovyan/mosaiks/playground/dask-worker-space/worker-dsxpwdrz\n",
       "                        </td>\n",
       "                    </tr>\n",
       "\n",
       "                    \n",
       "                    <tr>\n",
       "                        <td style=\"text-align: left;\">\n",
       "                            <strong>GPU: </strong>Tesla T4\n",
       "                        </td>\n",
       "                        <td style=\"text-align: left;\">\n",
       "                            <strong>GPU memory: </strong> 16.00 GiB\n",
       "                        </td>\n",
       "                    </tr>\n",
       "                    \n",
       "\n",
       "                    \n",
       "\n",
       "                </table>\n",
       "            </details>\n",
       "            </div>\n",
       "        </div>\n",
       "        \n",
       "        <div style=\"margin-bottom: 20px;\">\n",
       "            <div style=\"width: 24px; height: 24px; background-color: #DBF5FF; border: 3px solid #4CC9FF; border-radius: 5px; position: absolute;\"> </div>\n",
       "            <div style=\"margin-left: 48px;\">\n",
       "            <details>\n",
       "                <summary>\n",
       "                    <h4 style=\"margin-bottom: 0px; display: inline;\">Worker: 1</h4>\n",
       "                </summary>\n",
       "                <table style=\"width: 100%; text-align: left;\">\n",
       "                    <tr>\n",
       "                        <td style=\"text-align: left;\">\n",
       "                            <strong>Comm: </strong> tcp://127.0.0.1:39481\n",
       "                        </td>\n",
       "                        <td style=\"text-align: left;\">\n",
       "                            <strong>Total threads: </strong> 4\n",
       "                        </td>\n",
       "                    </tr>\n",
       "                    <tr>\n",
       "                        <td style=\"text-align: left;\">\n",
       "                            <strong>Dashboard: </strong> <a href=\"/user/amirali1376@gmail.com/proxy/40495/status\" target=\"_blank\">/user/amirali1376@gmail.com/proxy/40495/status</a>\n",
       "                        </td>\n",
       "                        <td style=\"text-align: left;\">\n",
       "                            <strong>Memory: </strong> 6.75 GiB\n",
       "                        </td>\n",
       "                    </tr>\n",
       "                    <tr>\n",
       "                        <td style=\"text-align: left;\">\n",
       "                            <strong>Nanny: </strong> tcp://127.0.0.1:41681\n",
       "                        </td>\n",
       "                        <td style=\"text-align: left;\"></td>\n",
       "                    </tr>\n",
       "                    <tr>\n",
       "                        <td colspan=\"2\" style=\"text-align: left;\">\n",
       "                            <strong>Local directory: </strong> /home/jovyan/mosaiks/playground/dask-worker-space/worker-nswnqn4q\n",
       "                        </td>\n",
       "                    </tr>\n",
       "\n",
       "                    \n",
       "                    <tr>\n",
       "                        <td style=\"text-align: left;\">\n",
       "                            <strong>GPU: </strong>Tesla T4\n",
       "                        </td>\n",
       "                        <td style=\"text-align: left;\">\n",
       "                            <strong>GPU memory: </strong> 16.00 GiB\n",
       "                        </td>\n",
       "                    </tr>\n",
       "                    \n",
       "\n",
       "                    \n",
       "\n",
       "                </table>\n",
       "            </details>\n",
       "            </div>\n",
       "        </div>\n",
       "        \n",
       "        <div style=\"margin-bottom: 20px;\">\n",
       "            <div style=\"width: 24px; height: 24px; background-color: #DBF5FF; border: 3px solid #4CC9FF; border-radius: 5px; position: absolute;\"> </div>\n",
       "            <div style=\"margin-left: 48px;\">\n",
       "            <details>\n",
       "                <summary>\n",
       "                    <h4 style=\"margin-bottom: 0px; display: inline;\">Worker: 2</h4>\n",
       "                </summary>\n",
       "                <table style=\"width: 100%; text-align: left;\">\n",
       "                    <tr>\n",
       "                        <td style=\"text-align: left;\">\n",
       "                            <strong>Comm: </strong> tcp://127.0.0.1:40713\n",
       "                        </td>\n",
       "                        <td style=\"text-align: left;\">\n",
       "                            <strong>Total threads: </strong> 4\n",
       "                        </td>\n",
       "                    </tr>\n",
       "                    <tr>\n",
       "                        <td style=\"text-align: left;\">\n",
       "                            <strong>Dashboard: </strong> <a href=\"/user/amirali1376@gmail.com/proxy/43979/status\" target=\"_blank\">/user/amirali1376@gmail.com/proxy/43979/status</a>\n",
       "                        </td>\n",
       "                        <td style=\"text-align: left;\">\n",
       "                            <strong>Memory: </strong> 6.75 GiB\n",
       "                        </td>\n",
       "                    </tr>\n",
       "                    <tr>\n",
       "                        <td style=\"text-align: left;\">\n",
       "                            <strong>Nanny: </strong> tcp://127.0.0.1:43297\n",
       "                        </td>\n",
       "                        <td style=\"text-align: left;\"></td>\n",
       "                    </tr>\n",
       "                    <tr>\n",
       "                        <td colspan=\"2\" style=\"text-align: left;\">\n",
       "                            <strong>Local directory: </strong> /home/jovyan/mosaiks/playground/dask-worker-space/worker-vkcfudzy\n",
       "                        </td>\n",
       "                    </tr>\n",
       "\n",
       "                    \n",
       "                    <tr>\n",
       "                        <td style=\"text-align: left;\">\n",
       "                            <strong>GPU: </strong>Tesla T4\n",
       "                        </td>\n",
       "                        <td style=\"text-align: left;\">\n",
       "                            <strong>GPU memory: </strong> 16.00 GiB\n",
       "                        </td>\n",
       "                    </tr>\n",
       "                    \n",
       "\n",
       "                    \n",
       "\n",
       "                </table>\n",
       "            </details>\n",
       "            </div>\n",
       "        </div>\n",
       "        \n",
       "        <div style=\"margin-bottom: 20px;\">\n",
       "            <div style=\"width: 24px; height: 24px; background-color: #DBF5FF; border: 3px solid #4CC9FF; border-radius: 5px; position: absolute;\"> </div>\n",
       "            <div style=\"margin-left: 48px;\">\n",
       "            <details>\n",
       "                <summary>\n",
       "                    <h4 style=\"margin-bottom: 0px; display: inline;\">Worker: 3</h4>\n",
       "                </summary>\n",
       "                <table style=\"width: 100%; text-align: left;\">\n",
       "                    <tr>\n",
       "                        <td style=\"text-align: left;\">\n",
       "                            <strong>Comm: </strong> tcp://127.0.0.1:46773\n",
       "                        </td>\n",
       "                        <td style=\"text-align: left;\">\n",
       "                            <strong>Total threads: </strong> 4\n",
       "                        </td>\n",
       "                    </tr>\n",
       "                    <tr>\n",
       "                        <td style=\"text-align: left;\">\n",
       "                            <strong>Dashboard: </strong> <a href=\"/user/amirali1376@gmail.com/proxy/40685/status\" target=\"_blank\">/user/amirali1376@gmail.com/proxy/40685/status</a>\n",
       "                        </td>\n",
       "                        <td style=\"text-align: left;\">\n",
       "                            <strong>Memory: </strong> 6.75 GiB\n",
       "                        </td>\n",
       "                    </tr>\n",
       "                    <tr>\n",
       "                        <td style=\"text-align: left;\">\n",
       "                            <strong>Nanny: </strong> tcp://127.0.0.1:33923\n",
       "                        </td>\n",
       "                        <td style=\"text-align: left;\"></td>\n",
       "                    </tr>\n",
       "                    <tr>\n",
       "                        <td colspan=\"2\" style=\"text-align: left;\">\n",
       "                            <strong>Local directory: </strong> /home/jovyan/mosaiks/playground/dask-worker-space/worker-7ehpl60o\n",
       "                        </td>\n",
       "                    </tr>\n",
       "\n",
       "                    \n",
       "                    <tr>\n",
       "                        <td style=\"text-align: left;\">\n",
       "                            <strong>GPU: </strong>Tesla T4\n",
       "                        </td>\n",
       "                        <td style=\"text-align: left;\">\n",
       "                            <strong>GPU memory: </strong> 16.00 GiB\n",
       "                        </td>\n",
       "                    </tr>\n",
       "                    \n",
       "\n",
       "                    \n",
       "\n",
       "                </table>\n",
       "            </details>\n",
       "            </div>\n",
       "        </div>\n",
       "        \n",
       "\n",
       "    </details>\n",
       "</div>\n",
       "\n",
       "        </details>\n",
       "    </div>\n",
       "</div>\n",
       "            </details>\n",
       "        \n",
       "\n",
       "    </div>\n",
       "</div>"
      ],
      "text/plain": [
       "<Client: 'tcp://127.0.0.1:43545' processes=4 threads=16, memory=27.00 GiB>"
      ]
     },
     "execution_count": 6,
     "metadata": {},
     "output_type": "execute_result"
    }
   ],
   "source": [
    "import logging\n",
    "from dask.distributed import Client, LocalCluster\n",
    "\n",
    "cluster = LocalCluster(n_workers=4, processes=True, threads_per_worker=4, silence_logs=logging.ERROR)\n",
    "client = Client(cluster)\n",
    "client"
   ]
  },
  {
   "cell_type": "markdown",
   "id": "810aae99-6eba-4c02-987d-5261696fc74d",
   "metadata": {
    "tags": []
   },
   "source": [
    "## Gateway cluster"
   ]
  },
  {
   "cell_type": "code",
   "execution_count": 11,
   "id": "cb0f8fa2-932f-4dfc-ac81-b0f1ed39cd84",
   "metadata": {},
   "outputs": [],
   "source": [
    "# from dask_gateway import Gateway\n",
    "# import dask_gateway\n",
    "# from dask.distributed import PipInstall\n",
    "\n",
    "# gateway = Gateway()\n",
    "# options = gateway.cluster_options()\n",
    "# options"
   ]
  },
  {
   "cell_type": "code",
   "execution_count": 12,
   "id": "23d33283-1345-4864-9058-15cd5dcf1a80",
   "metadata": {},
   "outputs": [],
   "source": [
    "# from dask.distributed import PipInstall\n",
    "\n",
    "# cluster = gateway.new_cluster(options)\n",
    "# client = cluster.get_client()\n",
    "# print(cluster.dashboard_link)\n",
    "\n",
    "# plugin = PipInstall(packages=[mosaiks_package_link], pip_options=[\"--upgrade\"], restart=False)\n",
    "# client.register_worker_plugin(plugin)\n",
    "\n",
    "# cluster.scale(10)"
   ]
  },
  {
   "cell_type": "code",
   "execution_count": 13,
   "id": "a728e259-2140-4a39-b241-c3e64d97bd22",
   "metadata": {},
   "outputs": [],
   "source": [
    "# cluster.shutdown()"
   ]
  },
  {
   "cell_type": "markdown",
   "id": "3eeb924c-7f6c-429f-93fb-2a1eabe394e4",
   "metadata": {
    "jp-MarkdownHeadingCollapsed": true,
    "tags": []
   },
   "source": [
    "# Load params"
   ]
  },
  {
   "cell_type": "code",
   "execution_count": 7,
   "id": "413f69a5-5ed3-4938-bc83-9bfe618418dd",
   "metadata": {},
   "outputs": [],
   "source": [
    "from mosaiks.featurize import *\n",
    "\n",
    "from dask import delayed\n",
    "from dask.distributed import as_completed\n",
    "from time import sleep\n",
    "import pandas as pd\n",
    "import numpy as np"
   ]
  },
  {
   "cell_type": "code",
   "execution_count": 8,
   "id": "0fb14555-bbba-4e63-a157-4a247e1af77a",
   "metadata": {},
   "outputs": [],
   "source": [
    "featurization_params = utl.load_yaml_config(\"featurisation.yaml\")\n",
    "satellite_config = utl.load_yaml_config(\"satellite_config.yaml\")\n",
    "satellite_config = satellite_config[featurization_params['satellite_search_params']['satellite_name']]\n",
    "data_sources = utl.load_yaml_config('data_catalog.yaml')"
   ]
  },
  {
   "cell_type": "markdown",
   "id": "34df2287-cc11-43b0-b20b-feef6f4d15ba",
   "metadata": {
    "jp-MarkdownHeadingCollapsed": true,
    "tags": []
   },
   "source": [
    "# Load point coords"
   ]
  },
  {
   "cell_type": "code",
   "execution_count": 9,
   "id": "6a4b510b-ad70-4af3-89d7-64f0899ed88b",
   "metadata": {},
   "outputs": [],
   "source": [
    "centroid_points_gdf = utl.load_points_gdf(**data_sources['request_points_centroids'])"
   ]
  },
  {
   "cell_type": "code",
   "execution_count": 10,
   "id": "2c66cbd3-eee6-4634-b656-8088e66aeb30",
   "metadata": {},
   "outputs": [
    {
     "data": {
      "text/plain": [
       "(179716, 9)"
      ]
     },
     "execution_count": 10,
     "metadata": {},
     "output_type": "execute_result"
    }
   ],
   "source": [
    "# only keep points in the focus states\n",
    "focus_states_id_dict = {\n",
    "    20:\"jharkhand\",\n",
    "    22:\"chhattisgarh\",\n",
    "    8:\"rajasthan\",\n",
    "    23:\"madhya pradesh\",\n",
    "    18:\"assam\",\n",
    "    16:\"tripura\",\n",
    "}\n",
    "\n",
    "focus_states_filter = centroid_points_gdf[\"pc11_s_id\"].isin(focus_states_id_dict.keys())\n",
    "points_gdf_focus = centroid_points_gdf[focus_states_filter]\n",
    "points_gdf_focus.shape"
   ]
  },
  {
   "cell_type": "code",
   "execution_count": 11,
   "id": "7bb02df6-3c70-496c-bcff-364957b6e4d3",
   "metadata": {},
   "outputs": [],
   "source": [
    "points_gdf = points_gdf_focus  #.sample(200, random_state=0) # Select random 200 points (for testing)"
   ]
  },
  {
   "cell_type": "markdown",
   "id": "bb467c22-2812-473d-ad0e-ffd26f75dc13",
   "metadata": {
    "jp-MarkdownHeadingCollapsed": true,
    "tags": []
   },
   "source": [
    "# Fetch image stac refs"
   ]
  },
  {
   "cell_type": "markdown",
   "id": "38b097a3-490c-48e4-85e9-24a24cd95c00",
   "metadata": {},
   "source": [
    "`fetch_image_refs` now returns a dask dataframe and is not yet computed. So it finishes quite quickly."
   ]
  },
  {
   "cell_type": "markdown",
   "id": "547fe8ac-4ddd-416a-97f7-4999fa620152",
   "metadata": {},
   "source": [
    "🌱 **SUGGESTION:** Change `n_partitions` parameter to `n_per_partition` and calculate `n_partitions` here? This will ensure each partition takes a similar amount of time to process even across differing point-set sizes."
   ]
  },
  {
   "cell_type": "code",
   "execution_count": 23,
   "id": "7119647d-9445-4b79-9047-e6f0fcd1c17a",
   "metadata": {},
   "outputs": [
    {
     "name": "stdout",
     "output_type": "stream",
     "text": [
      "CPU times: user 2.24 s, sys: 151 ms, total: 2.39 s\n",
      "Wall time: 8.21 s\n"
     ]
    }
   ],
   "source": [
    "%%time\n",
    "points_gdf_with_stac = fetch_image_refs(\n",
    "    points_gdf, \n",
    "    featurization_params['dask']['n_partitions'],\n",
    "    featurization_params['satellite_search_params']\n",
    ")"
   ]
  },
  {
   "cell_type": "markdown",
   "id": "e6f3464f-1c3e-4b57-96af-2a1736b79676",
   "metadata": {
    "jp-MarkdownHeadingCollapsed": true,
    "tags": []
   },
   "source": [
    "# Define delayed objects"
   ]
  },
  {
   "cell_type": "markdown",
   "id": "a0fc8b02-7c2e-4767-bc19-ec31ff86e9c8",
   "metadata": {},
   "source": [
    "We use the `delayed` decorator to turn our function into a delayed function. This means it will not run immediately when called but instead return a delayed object that can be run later"
   ]
  },
  {
   "cell_type": "code",
   "execution_count": 24,
   "id": "08e0da56-abb4-4aff-8639-a58a42b34fce",
   "metadata": {},
   "outputs": [],
   "source": [
    "@delayed\n",
    "def partition_run(df, satellite_config, featurization_params, model, device):\n",
    "    \n",
    "    data_loader = create_data_loader(df, satellite_config, featurization_params['batch_size'])\n",
    "    X_features = create_features(data_loader, featurization_params['num_features'], len(df), \n",
    "                             model, device, satellite_config['min_image_edge'])\n",
    "    \n",
    "    df = pd.DataFrame(X_features, index=df.index.copy())\n",
    "    \n",
    "    return df"
   ]
  },
  {
   "cell_type": "markdown",
   "id": "3a177bfc-4be1-4954-99c2-3dd3648be50c",
   "metadata": {},
   "source": [
    "We want to convert our dask dataframe into \"delayed\" objects. Each partition is now a delayed pandas dataframe and can be passed to our delayed function above"
   ]
  },
  {
   "cell_type": "code",
   "execution_count": 25,
   "id": "29d0e28d-d900-4c40-a90b-18bcab88eb87",
   "metadata": {},
   "outputs": [],
   "source": [
    "partitions = points_gdf_with_stac.to_delayed()"
   ]
  },
  {
   "cell_type": "code",
   "execution_count": 26,
   "id": "d856d586-8a84-4dde-b0ff-55ab39e11cbb",
   "metadata": {},
   "outputs": [],
   "source": [
    "model = RCF(featurization_params['num_features'], \n",
    "            featurization_params['kernel_size'], \n",
    "            len(satellite_config['bands']))"
   ]
  },
  {
   "cell_type": "markdown",
   "id": "422261e7-35b3-4df0-a319-0db3b65d72d2",
   "metadata": {},
   "source": [
    "Batch size of 10 seems to be optimal balance between maximally using the CPU and not blowing up the memory"
   ]
  },
  {
   "cell_type": "code",
   "execution_count": 27,
   "id": "c05e5fd7-3c94-4b3b-85a1-ee1c88877ea9",
   "metadata": {},
   "outputs": [
    {
     "data": {
      "text/plain": [
       "10"
      ]
     },
     "execution_count": 27,
     "metadata": {},
     "output_type": "execute_result"
    }
   ],
   "source": [
    "featurization_params['batch_size']"
   ]
  },
  {
   "cell_type": "markdown",
   "id": "71866155-9072-4f21-8d6a-781d378b6d29",
   "metadata": {
    "tags": []
   },
   "source": [
    "# Run in parallel"
   ]
  },
  {
   "cell_type": "markdown",
   "id": "9b3d470e-3bd8-4fdf-aa7f-cb1521f67b44",
   "metadata": {
    "tags": []
   },
   "source": [
    "## Trial run\n",
    "\n",
    "The cell below will only run it for 8 of the partitions. That seems to be about how many we can do in parallel on a local cluster. We may be able to do more on a Gateway Cluster once that is working.\n",
    "\n",
    "There are also better schemes. For example, kick off another partitions whenever one finishes. That might be a better use of resources."
   ]
  },
  {
   "cell_type": "code",
   "execution_count": null,
   "id": "94ed8c64-3d07-43c9-abda-9dd8ac653b01",
   "metadata": {
    "tags": []
   },
   "outputs": [],
   "source": [
    "%%time\n",
    "\n",
    "i = 0\n",
    "p = partitions[i]\n",
    "f = partition_run(p, satellite_config, featurization_params, model, 'cuda', dask_key_name=f'run_{i}')\n",
    "df_future = client.compute(f)\n",
    "for f in as_completed([df_future]):\n",
    "    df = f.result()"
   ]
  },
  {
   "cell_type": "code",
   "execution_count": null,
   "id": "d9bcdd8c-9fe6-4037-bc7e-863fb9edd863",
   "metadata": {},
   "outputs": [],
   "source": [
    "df"
   ]
  },
  {
   "cell_type": "code",
   "execution_count": null,
   "id": "fa2e4190",
   "metadata": {},
   "outputs": [],
   "source": [
    "print(\"Average feature value:\", df.mean().mean())\n",
    "df.iloc[0].hist()\n",
    "_ = client.restart()"
   ]
  },
  {
   "cell_type": "markdown",
   "id": "8b8aab56-344b-486e-a9a4-00b653ab9a8c",
   "metadata": {},
   "source": [
    "With 100k points and 200 partitions, 8 partitions should take ~7-8 minutes on an MPC GPU instance. So that's <1 minute per partition. If nothing goes wrong, the whole job should finish in <4 hours."
   ]
  },
  {
   "cell_type": "markdown",
   "id": "6a25b464-6ea9-440e-ada5-46f110141dd6",
   "metadata": {},
   "source": [
    "In theory, objects should get garbage collected once there are no references to them. But it seems to take forever (or never!) for python to do that. Possibly since we have a lot of nested things and a model object that we are still holding a reference to.\n",
    "\n",
    "Restarting the cluster seems to be the sure way of clearing worker memory."
   ]
  },
  {
   "cell_type": "code",
   "execution_count": null,
   "id": "e8779ebe-592d-4702-beaa-2c5788d5bf33",
   "metadata": {},
   "outputs": [],
   "source": [
    "_ = client.restart()"
   ]
  },
  {
   "cell_type": "markdown",
   "id": "e9dba8a3-fb91-4fd1-9b29-e3a990387b37",
   "metadata": {
    "jp-MarkdownHeadingCollapsed": true,
    "tags": []
   },
   "source": [
    "## Full run"
   ]
  },
  {
   "cell_type": "markdown",
   "id": "c442d12d-4c13-4758-84b1-3c5b3f1e02dc",
   "metadata": {},
   "source": [
    "This is going to create 200 dataframes - one for each partition. If any fail, we can always just rerun that single component."
   ]
  },
  {
   "cell_type": "code",
   "execution_count": null,
   "id": "5fd70661-7475-425a-a091-d67f8c116b48",
   "metadata": {},
   "outputs": [],
   "source": [
    "from datetime import datetime"
   ]
  },
  {
   "cell_type": "code",
   "execution_count": null,
   "id": "584cde42-fdf9-4b11-ade6-521871e9ecc6",
   "metadata": {},
   "outputs": [],
   "source": [
    "N_PARTITIONS = len(partitions)\n",
    "N_PER_RUN = 8\n",
    "START_IDX = 0\n",
    "str_column_names = [str(i) for i in range(featurization_params['num_features'])]\n",
    "\n",
    "folder_name = \"2021_l8_centroids\"\n",
    "path_to_folder = \"../data/01_preprocessed/mosaiks_features/\"+folder_name\n",
    "if not os.path.exists(path_to_folder):\n",
    "    os.makedirs(path_to_folder)"
   ]
  },
  {
   "cell_type": "code",
   "execution_count": null,
   "id": "7657daae-a2fc-4249-b0df-48adca87575c",
   "metadata": {},
   "outputs": [],
   "source": [
    "p_ids = np.arange(START_IDX, N_PARTITIONS + N_PER_RUN, N_PER_RUN)\n",
    "\n",
    "failed_list = []\n",
    "for p_start_id, p_end_id in zip(p_ids[:-1], p_ids[1:]):\n",
    "    now = datetime.now().strftime(\"%d-%b %H:%M:%S\")\n",
    "    print(f\"{now} Running batch: \", p_start_id, \"to\", p_end_id-1)\n",
    "    \n",
    "    delayed_dfs = []\n",
    "    for i, p in enumerate(partitions[p_start_id:p_end_id]):\n",
    "        f = partition_run(\n",
    "            p, \n",
    "            satellite_config, \n",
    "            featurization_params, \n",
    "            model, \n",
    "            featurization_params['device'], \n",
    "            dask_key_name=f'features_{p_start_id + i}'\n",
    "        )\n",
    "        delayed_dfs.append(f)\n",
    "    futures_dfs = client.compute(delayed_dfs)\n",
    "    \n",
    "    for f in as_completed(futures_dfs):\n",
    "        try:\n",
    "            df = f.result()\n",
    "            df.columns = str_column_names\n",
    "            df.to_parquet(f'{path_to_folder}/df_{f.key}.parquet.gzip', compression='gzip')\n",
    "\n",
    "        except Exception as e:\n",
    "            f_key = f.key\n",
    "            partition_id = int(f_key.split(\"features_\")[1])\n",
    "            print(f\"Partition {partition_id} failed. Error:\", e)\n",
    "            failed_list.append(partition_id)\n",
    "        \n",
    "    client.restart()\n",
    "    sleep(5)"
   ]
  },
  {
   "cell_type": "code",
   "execution_count": null,
   "id": "0db4863d-9579-4d88-bd7c-5461dd5b08dd",
   "metadata": {},
   "outputs": [],
   "source": [
    "# client.shutdown()"
   ]
  },
  {
   "cell_type": "markdown",
   "id": "72982cdc-6475-44cc-9281-e15ba90df338",
   "metadata": {
    "jp-MarkdownHeadingCollapsed": true,
    "tags": []
   },
   "source": [
    "## Re-run failed partitions\n",
    "\n",
    "Use this to just run partitions that failed"
   ]
  },
  {
   "cell_type": "code",
   "execution_count": null,
   "id": "1f72476f-804d-4892-82d3-5fe5c0c27006",
   "metadata": {},
   "outputs": [],
   "source": [
    "%%time\n",
    "\n",
    "FAILED_IDX = failed_list #[44]\n",
    "\n",
    "delayed_dfs = []\n",
    "failed_list_1 = []\n",
    "for i in FAILED_IDX:\n",
    "    p = partitions[i]\n",
    "    f = partition_run(\n",
    "        p, \n",
    "        satellite_config, \n",
    "        featurization_params, model, \n",
    "        featurization_params['device'], \n",
    "        dask_key_name=f'features_{i}'\n",
    "    )\n",
    "    delayed_dfs.append(f)\n",
    "    futures_dfs = client.compute(delayed_dfs)\n",
    "    \n",
    "    for f in as_completed(futures_dfs):\n",
    "        try:\n",
    "            df = f.result()\n",
    "            df.columns = str_column_names\n",
    "            df.to_parquet(f'{path_to_folder}/df_{f.key}.parquet.gzip', compression='gzip')\n",
    "        except Exception as e:\n",
    "            print(f\"Partition {f.key} failed. Error:\", e)\n",
    "            failed_list_1.append(f.key)"
   ]
  },
  {
   "cell_type": "code",
   "execution_count": null,
   "id": "4346620c-362e-49ad-acb4-d25eebf6166f",
   "metadata": {},
   "outputs": [],
   "source": [
    "# _ = client.restart()"
   ]
  },
  {
   "cell_type": "markdown",
   "id": "436b7689-36ef-4713-ba0f-b37c34103b5c",
   "metadata": {
    "jp-MarkdownHeadingCollapsed": true,
    "tags": []
   },
   "source": [
    "# Load checkpoint files and combine"
   ]
  },
  {
   "cell_type": "code",
   "execution_count": null,
   "id": "8a823bd5-c513-42b4-9dd4-8f91a6aa5a94",
   "metadata": {},
   "outputs": [],
   "source": [
    "all_files = os.listdir(path_to_folder)\n",
    "parquet_files = sorted([file for file in all_files if file.endswith('.gzip')])\n",
    "pd.Series(parquet_files).to_csv(f\"{path_to_folder}/file_list.csv\")\n",
    "# parquet_files"
   ]
  },
  {
   "cell_type": "code",
   "execution_count": null,
   "id": "5b89d980-1c5b-4e03-9480-124eabce7dab",
   "metadata": {},
   "outputs": [],
   "source": [
    "dfs = []\n",
    "for filename in parquet_files:\n",
    "    df = pd.read_parquet(path_to_folder+\"/\"+filename)\n",
    "    dfs.append(df)\n",
    "\n",
    "combined_df = pd.concat(dfs, axis=0)\n",
    "combined_df.sort_index(inplace=True)\n",
    "\n",
    "# add LatLons\n",
    "combined_df = combined_df.join(points_gdf[[\"Lat\",\"Lon\"]])\n",
    "\n",
    "print(\"Dataset size in memory (MB):\", combined_df.memory_usage().sum() / 1000000)"
   ]
  },
  {
   "cell_type": "code",
   "execution_count": null,
   "id": "ee4652ca-f34b-48e4-bbd1-f926c181a4a1",
   "metadata": {},
   "outputs": [],
   "source": [
    "combined_df.to_parquet(path_to_folder+\"/combined.parquet.gzip\", compression=\"gzip\")"
   ]
  },
  {
   "cell_type": "code",
   "execution_count": null,
   "id": "f3ac8021-c203-434f-aedf-10f34eeb4d7a",
   "metadata": {},
   "outputs": [],
   "source": [
    "# combined_df_deduped = combined_df.drop_duplicates(subset=[\"Lat\", \"Lon\", \"0\"])"
   ]
  },
  {
   "cell_type": "code",
   "execution_count": null,
   "id": "9aca2ba6-e128-4363-b539-fa2fd266b29e",
   "metadata": {},
   "outputs": [],
   "source": [
    "# df = pd.read_parquet(path_to_folder+\"/combined.parquet.gzip\")\n",
    "# df"
   ]
  }
 ],
 "metadata": {
  "kernelspec": {
   "display_name": "Python [conda env:notebook] *",
   "language": "python",
   "name": "conda-env-notebook-py"
  },
  "language_info": {
   "codemirror_mode": {
    "name": "ipython",
    "version": 3
   },
   "file_extension": ".py",
   "mimetype": "text/x-python",
   "name": "python",
   "nbconvert_exporter": "python",
   "pygments_lexer": "ipython3",
   "version": "3.9.13"
  }
 },
 "nbformat": 4,
 "nbformat_minor": 5
}
