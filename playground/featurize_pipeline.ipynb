{
 "cells": [
  {
   "cell_type": "code",
   "execution_count": null,
   "id": "8a082089-9f4a-486e-a3a5-4b41cb161c5d",
   "metadata": {},
   "outputs": [],
   "source": [
    "%load_ext autoreload\n",
    "%autoreload 2"
   ]
  },
  {
   "cell_type": "code",
   "execution_count": null,
   "id": "2a170fe7-063d-4f09-b01a-4aee0cf2ab77",
   "metadata": {},
   "outputs": [],
   "source": [
    "import sys\n",
    "import os\n",
    "import warnings\n",
    "import logging\n",
    "\n",
    "sys.path += [\"../\"]\n",
    "warnings.filterwarnings(\"ignore\")\n",
    "\n",
    "# dask\n",
    "from dask.distributed import Client, LocalCluster, as_completed\n",
    "from dask import delayed\n",
    "\n",
    "from datetime import datetime\n",
    "from time import sleep\n",
    "import pandas as pd\n",
    "import numpy as np\n"
   ]
  },
  {
   "cell_type": "markdown",
   "id": "b89293df",
   "metadata": {
    "jp-MarkdownHeadingCollapsed": true,
    "tags": []
   },
   "source": [
    "# Install 'mosaiks' package"
   ]
  },
  {
   "cell_type": "markdown",
   "id": "5527bc27",
   "metadata": {
    "jp-MarkdownHeadingCollapsed": true,
    "tags": []
   },
   "source": [
    "### Install locally"
   ]
  },
  {
   "cell_type": "code",
   "execution_count": null,
   "id": "12aa385e-0d92-45c1-ab67-99778c09a24c",
   "metadata": {},
   "outputs": [],
   "source": [
    "# !pip uninstall mosaiks -y"
   ]
  },
  {
   "cell_type": "code",
   "execution_count": null,
   "id": "f6d57853-5677-4172-9bdb-69edd8d9d318",
   "metadata": {
    "collapsed": true,
    "jupyter": {
     "outputs_hidden": true
    },
    "tags": []
   },
   "outputs": [],
   "source": [
    "!pip install -e .."
   ]
  },
  {
   "cell_type": "code",
   "execution_count": null,
   "id": "bcdc3910-60b0-4842-acd7-566393c842c8",
   "metadata": {},
   "outputs": [],
   "source": [
    "from mosaiks.featurize import *\n",
    "import mosaiks.utils as utl"
   ]
  },
  {
   "cell_type": "markdown",
   "id": "c1499d78",
   "metadata": {
    "jp-MarkdownHeadingCollapsed": true,
    "tags": []
   },
   "source": [
    "### Install from GitHub (outdated, maybe install from main?)"
   ]
  },
  {
   "cell_type": "markdown",
   "id": "21f5c520-3a16-4a1d-8118-3f8dc0192a32",
   "metadata": {},
   "source": [
    "🚨🚨 **Make sure you update github token in the secrets file** 🚨🚨 "
   ]
  },
  {
   "cell_type": "code",
   "execution_count": null,
   "id": "e3d53a68-63c7-468b-9832-989942106d40",
   "metadata": {},
   "outputs": [],
   "source": [
    "# import src.mosaiks.utils as utl\n",
    "# secrets = utl.load_yaml_config(\"../config/secrets.yml\")\n",
    "# GITHUB_TOKEN = secrets[\"GITHUB_TOKEN\"]\n",
    "# mosaiks_package_link = f\"git+https://{GITHUB_TOKEN}@github.com/IDinsight/mosaiks@as-package\""
   ]
  },
  {
   "cell_type": "code",
   "execution_count": null,
   "id": "4e5aad8c-aa40-463b-b8bd-775321cc9393",
   "metadata": {
    "tags": []
   },
   "outputs": [],
   "source": [
    "# !pip install {mosaiks_package_link} --upgrade\n",
    "# from mosaiks.featurize import *\n",
    "# import mosaiks.utils as utl"
   ]
  },
  {
   "cell_type": "markdown",
   "id": "5a32e2ec",
   "metadata": {
    "jp-MarkdownHeadingCollapsed": true,
    "tags": []
   },
   "source": [
    "# Setup Rasterio"
   ]
  },
  {
   "cell_type": "code",
   "execution_count": null,
   "id": "ed1c9adb",
   "metadata": {},
   "outputs": [],
   "source": [
    "rasterio_config = utl.load_yaml_config(\"rasterioc_config.yaml\")\n",
    "os.environ.update(rasterio_config)"
   ]
  },
  {
   "cell_type": "markdown",
   "id": "3237a534-1c05-4455-8685-f1aef6686f95",
   "metadata": {
    "jp-MarkdownHeadingCollapsed": true,
    "tags": []
   },
   "source": [
    "# Setup Dask Cluster and Client"
   ]
  },
  {
   "cell_type": "markdown",
   "id": "72152acf-a27d-416e-84ce-893fe3651598",
   "metadata": {
    "jp-MarkdownHeadingCollapsed": true,
    "tags": []
   },
   "source": [
    "### Local Cluster"
   ]
  },
  {
   "cell_type": "markdown",
   "id": "d1438e38-662f-4edc-a137-905895ef5f59",
   "metadata": {},
   "source": [
    "4 workers with 4 threads each seem to work best. A lot of time a thread is waiting on data to load so CPU is underutilized."
   ]
  },
  {
   "cell_type": "code",
   "execution_count": null,
   "id": "55239c8c-df3e-45ec-ba3d-3dda44ab41b6",
   "metadata": {},
   "outputs": [],
   "source": [
    "cluster = LocalCluster(\n",
    "    n_workers=4, processes=True, threads_per_worker=4, silence_logs=logging.ERROR\n",
    ")\n",
    "client = Client(cluster)\n",
    "client\n"
   ]
  },
  {
   "cell_type": "markdown",
   "id": "810aae99-6eba-4c02-987d-5261696fc74d",
   "metadata": {
    "tags": []
   },
   "source": [
    "### Gateway cluster"
   ]
  },
  {
   "cell_type": "code",
   "execution_count": null,
   "id": "cb0f8fa2-932f-4dfc-ac81-b0f1ed39cd84",
   "metadata": {},
   "outputs": [],
   "source": [
    "# from dask_gateway import Gateway\n",
    "# import dask_gateway\n",
    "# from dask.distributed import PipInstall\n",
    "\n",
    "# gateway = Gateway()\n",
    "# options = gateway.cluster_options()\n",
    "# options\n"
   ]
  },
  {
   "cell_type": "code",
   "execution_count": null,
   "id": "23d33283-1345-4864-9058-15cd5dcf1a80",
   "metadata": {},
   "outputs": [],
   "source": [
    "# cluster = gateway.new_cluster(options)\n",
    "# client = cluster.get_client()\n",
    "# print(cluster.dashboard_link)\n",
    "\n",
    "# plugin = PipInstall(packages=[mosaiks_package_link], pip_options=[\"--upgrade\"], restart=False)\n",
    "# client.register_worker_plugin(plugin)\n",
    "\n",
    "# cluster.scale(10)"
   ]
  },
  {
   "cell_type": "markdown",
   "id": "3eeb924c-7f6c-429f-93fb-2a1eabe394e4",
   "metadata": {
    "jp-MarkdownHeadingCollapsed": true,
    "tags": []
   },
   "source": [
    "# Load params"
   ]
  },
  {
   "cell_type": "code",
   "execution_count": null,
   "id": "0fb14555-bbba-4e63-a157-4a247e1af77a",
   "metadata": {},
   "outputs": [],
   "source": [
    "featurization_params = utl.load_yaml_config(\"featurisation.yaml\")\n",
    "satellite_config = utl.load_yaml_config(\"satellite_config.yaml\")\n",
    "satellite_config = satellite_config[\n",
    "    featurization_params[\"satellite_search_params\"][\"satellite_name\"]\n",
    "]\n",
    "coord_set_name = \"request_points_centroids\""
   ]
  },
  {
   "cell_type": "markdown",
   "id": "34df2287-cc11-43b0-b20b-feef6f4d15ba",
   "metadata": {
    "jp-MarkdownHeadingCollapsed": true,
    "tags": []
   },
   "source": [
    "# Load point coords"
   ]
  },
  {
   "cell_type": "code",
   "execution_count": null,
   "id": "6a4b510b-ad70-4af3-89d7-64f0899ed88b",
   "metadata": {},
   "outputs": [],
   "source": [
    "request_points_gdf = utl.load_df_w_latlons_to_gdf(dataset_name=coord_set_name)"
   ]
  },
  {
   "cell_type": "code",
   "execution_count": null,
   "id": "2c66cbd3-eee6-4634-b656-8088e66aeb30",
   "metadata": {},
   "outputs": [],
   "source": [
    "# only keep points in the focus states\n",
    "focus_states_id_dict = {\n",
    "    20: \"jharkhand\",\n",
    "    22: \"chhattisgarh\",\n",
    "    8: \"rajasthan\",\n",
    "    23: \"madhya pradesh\",\n",
    "    18: \"assam\",\n",
    "    16: \"tripura\",\n",
    "}\n",
    "\n",
    "focus_states_filter = request_points_gdf[\"pc11_s_id\"].isin(focus_states_id_dict.keys())\n",
    "points_gdf_focus = request_points_gdf[focus_states_filter]\n",
    "points_gdf_focus.shape"
   ]
  },
  {
   "cell_type": "code",
   "execution_count": null,
   "id": "7bb02df6-3c70-496c-bcff-364957b6e4d3",
   "metadata": {},
   "outputs": [],
   "source": [
    "points_gdf = points_gdf_focus  # .sample(200, random_state=0) # Select random 200 points (for testing)"
   ]
  },
  {
   "cell_type": "markdown",
   "id": "bb467c22-2812-473d-ad0e-ffd26f75dc13",
   "metadata": {
    "jp-MarkdownHeadingCollapsed": true,
    "tags": []
   },
   "source": [
    "# Fetch image stac refs"
   ]
  },
  {
   "cell_type": "markdown",
   "id": "38b097a3-490c-48e4-85e9-24a24cd95c00",
   "metadata": {},
   "source": [
    "`fetch_image_refs` now returns a dask dataframe and is not yet computed. So it finishes quite quickly."
   ]
  },
  {
   "cell_type": "markdown",
   "id": "547fe8ac-4ddd-416a-97f7-4999fa620152",
   "metadata": {},
   "source": [
    "🌱 **SUGGESTION:** Change `n_partitions` parameter to `n_per_partition` and calculate `n_partitions` here? This will ensure each partition takes a similar amount of time to process even across differing point-set sizes."
   ]
  },
  {
   "cell_type": "code",
   "execution_count": null,
   "id": "7119647d-9445-4b79-9047-e6f0fcd1c17a",
   "metadata": {},
   "outputs": [],
   "source": [
    "%%time\n",
    "points_gdf_with_stac = fetch_image_refs(\n",
    "    points_gdf, \n",
    "    featurization_params['dask']['n_partitions'],\n",
    "    featurization_params['satellite_search_params']\n",
    ")"
   ]
  },
  {
   "cell_type": "markdown",
   "id": "e6f3464f-1c3e-4b57-96af-2a1736b79676",
   "metadata": {
    "jp-MarkdownHeadingCollapsed": true,
    "tags": []
   },
   "source": [
    "# Define delayed objects"
   ]
  },
  {
   "cell_type": "markdown",
   "id": "a0fc8b02-7c2e-4767-bc19-ec31ff86e9c8",
   "metadata": {},
   "source": [
    "We use the `delayed` decorator to turn our function into a delayed function. This means it will not run immediately when called but instead return a delayed object that can be run later"
   ]
  },
  {
   "cell_type": "code",
   "execution_count": null,
   "id": "4fef7d20-5b6d-45e0-8455-fa7402b68715",
   "metadata": {},
   "outputs": [],
   "source": [
    "mosaiks_column_names = [f\"mosaiks_{i}\" for i in range(featurization_params[\"num_features\"])]"
   ]
  },
  {
   "cell_type": "code",
   "execution_count": null,
   "id": "08e0da56-abb4-4aff-8639-a58a42b34fce",
   "metadata": {},
   "outputs": [],
   "source": [
    "@delayed\n",
    "def partition_run(df, satellite_config, featurization_params, model, device):\n",
    "\n",
    "    data_loader = create_data_loader(\n",
    "        df, satellite_config, featurization_params[\"batch_size\"]\n",
    "    )\n",
    "    X_features = create_features(\n",
    "        data_loader,\n",
    "        featurization_params[\"num_features\"],\n",
    "        len(df),\n",
    "        model,\n",
    "        device,\n",
    "        satellite_config[\"min_image_edge\"],\n",
    "    )\n",
    "\n",
    "    df = pd.DataFrame(X_features, index=df.index.copy(), columns=mosaiks_column_names)\n",
    "\n",
    "    return df"
   ]
  },
  {
   "cell_type": "markdown",
   "id": "3a177bfc-4be1-4954-99c2-3dd3648be50c",
   "metadata": {},
   "source": [
    "We want to convert our dask dataframe into \"delayed\" objects. Each partition is now a delayed pandas dataframe and can be passed to our delayed function above"
   ]
  },
  {
   "cell_type": "code",
   "execution_count": null,
   "id": "29d0e28d-d900-4c40-a90b-18bcab88eb87",
   "metadata": {},
   "outputs": [],
   "source": [
    "partitions = points_gdf_with_stac.to_delayed()"
   ]
  },
  {
   "cell_type": "code",
   "execution_count": null,
   "id": "d856d586-8a84-4dde-b0ff-55ab39e11cbb",
   "metadata": {},
   "outputs": [],
   "source": [
    "model = RCF(\n",
    "    featurization_params[\"num_features\"],\n",
    "    featurization_params[\"kernel_size\"],\n",
    "    len(satellite_config[\"bands\"]),\n",
    ")"
   ]
  },
  {
   "cell_type": "markdown",
   "id": "71866155-9072-4f21-8d6a-781d378b6d29",
   "metadata": {
    "tags": []
   },
   "source": [
    "# Run in parallel"
   ]
  },
  {
   "cell_type": "markdown",
   "id": "9b3d470e-3bd8-4fdf-aa7f-cb1521f67b44",
   "metadata": {
    "tags": []
   },
   "source": [
    "## Trial run\n",
    "\n",
    "The cell below will only run it for 8 of the partitions. That seems to be about how many we can do in parallel on a local cluster. We may be able to do more on a Gateway Cluster once that is working.\n",
    "\n",
    "There are also better schemes. For example, kick off another partitions whenever one finishes. That might be a better use of resources."
   ]
  },
  {
   "cell_type": "code",
   "execution_count": null,
   "id": "94ed8c64-3d07-43c9-abda-9dd8ac653b01",
   "metadata": {
    "tags": []
   },
   "outputs": [],
   "source": [
    "%%time\n",
    "\n",
    "i = 0\n",
    "p = partitions[i]\n",
    "f = partition_run(p, satellite_config, featurization_params, model, 'cuda', dask_key_name=f'run_{i}')\n",
    "df_future = client.compute(f)\n",
    "for f in as_completed([df_future]):\n",
    "    df = f.result()"
   ]
  },
  {
   "cell_type": "code",
   "execution_count": null,
   "id": "fa2e4190",
   "metadata": {},
   "outputs": [],
   "source": [
    "print(\"Average feature value:\", df.mean().mean())\n",
    "df.iloc[0].hist()\n",
    "_ = client.restart()"
   ]
  },
  {
   "cell_type": "code",
   "execution_count": null,
   "id": "f83e762c-e3ff-44cc-b34a-f1fe170cdb2a",
   "metadata": {},
   "outputs": [],
   "source": [
    "# %%time\n",
    "\n",
    "# for i in range(4):\n",
    "#     p = partitions[i]\n",
    "#     f = partition_run(p, satellite_config, featurization_params, model, 'cuda', dask_key_name=f'run_{i}')\n",
    "#     df_future = client.compute(f)\n",
    "#     for f in as_completed([df_future]):\n",
    "#         df = f.result()\n"
   ]
  },
  {
   "cell_type": "markdown",
   "id": "e9dba8a3-fb91-4fd1-9b29-e3a990387b37",
   "metadata": {
    "tags": []
   },
   "source": [
    "## Full run"
   ]
  },
  {
   "cell_type": "markdown",
   "id": "c442d12d-4c13-4758-84b1-3c5b3f1e02dc",
   "metadata": {},
   "source": [
    "This is going to create 200 dataframes - one for each partition. If any fail, we can always just rerun that single component."
   ]
  },
  {
   "cell_type": "markdown",
   "id": "f97c5978-e9fc-4012-bc14-322376788e4d",
   "metadata": {
    "tags": []
   },
   "source": [
    "### Setup saving location"
   ]
  },
  {
   "cell_type": "code",
   "execution_count": null,
   "id": "e66fc957",
   "metadata": {},
   "outputs": [],
   "source": [
    "satellite = featurization_params[\"satellite_search_params\"][\"satellite_name\"]\n",
    "year = featurization_params[\"satellite_search_params\"][\"search_start\"].split(\"-\")[0]\n",
    "coord_set_name = coord_set_name\n",
    "n_features = str(featurization_params[\"num_features\"])\n",
    "\n",
    "mosaiks_folder_path = utl.make_features_path(\n",
    "    satellite,\n",
    "    year,\n",
    "    coord_set_name,\n",
    "    n_features,\n",
    "    filename=None,\n",
    ")\n",
    "\n",
    "os.makedirs(mosaiks_folder_path, exist_ok=True)"
   ]
  },
  {
   "cell_type": "markdown",
   "id": "9909fc37-e699-4274-a881-8579618ed5af",
   "metadata": {
    "jp-MarkdownHeadingCollapsed": true,
    "tags": []
   },
   "source": [
    "### Create features and save checkpoints to file"
   ]
  },
  {
   "cell_type": "code",
   "execution_count": null,
   "id": "584cde42-fdf9-4b11-ade6-521871e9ecc6",
   "metadata": {},
   "outputs": [],
   "source": [
    "N_PARTITIONS = len(partitions)\n",
    "N_PER_RUN = 8\n",
    "START_IDX = 0"
   ]
  },
  {
   "cell_type": "code",
   "execution_count": null,
   "id": "7657daae-a2fc-4249-b0df-48adca87575c",
   "metadata": {
    "collapsed": true,
    "jupyter": {
     "outputs_hidden": true
    },
    "tags": []
   },
   "outputs": [],
   "source": [
    "p_ids = np.arange(START_IDX, N_PARTITIONS + N_PER_RUN, N_PER_RUN)\n",
    "\n",
    "failed_list = []\n",
    "for p_start_id, p_end_id in zip(p_ids[:-1], p_ids[1:]):\n",
    "    now = datetime.now().strftime(\"%d-%b %H:%M:%S\")\n",
    "    print(f\"{now} Running batch: \", p_start_id, \"to\", p_end_id - 1)\n",
    "\n",
    "    delayed_dfs = []\n",
    "    for i, p in enumerate(partitions[p_start_id:p_end_id]):\n",
    "        \n",
    "        str_i = str(p_start_id + i).zfill(3) # makes 1 into '001'\n",
    "        f = partition_run(\n",
    "            p,\n",
    "            satellite_config,\n",
    "            featurization_params,\n",
    "            model,\n",
    "            featurization_params[\"device\"],\n",
    "            dask_key_name=f\"features_{str_i}\",\n",
    "        )\n",
    "        delayed_dfs.append(f)\n",
    "    futures_dfs = client.compute(delayed_dfs)\n",
    "\n",
    "    for f in as_completed(futures_dfs):\n",
    "        try:\n",
    "            df = f.result()\n",
    "            df.to_parquet(f\"{mosaiks_folder_path}/df_{f.key}.parquet.gzip\")\n",
    "\n",
    "        except Exception as e:\n",
    "            f_key = f.key\n",
    "            partition_id = int(f_key.split(\"features_\")[1])\n",
    "            print(f\"Partition {partition_id} failed. Error:\", e)\n",
    "            failed_list.append(partition_id)\n",
    "\n",
    "    client.restart()\n",
    "    sleep(5)\n"
   ]
  },
  {
   "cell_type": "markdown",
   "id": "72982cdc-6475-44cc-9281-e15ba90df338",
   "metadata": {
    "jp-MarkdownHeadingCollapsed": true,
    "tags": []
   },
   "source": [
    "## Re-run failed partitions\n",
    "\n",
    "Use this to just run partitions that failed"
   ]
  },
  {
   "cell_type": "code",
   "execution_count": null,
   "id": "1f72476f-804d-4892-82d3-5fe5c0c27006",
   "metadata": {},
   "outputs": [],
   "source": [
    "%%time\n",
    "\n",
    "FAILED_IDX = failed_list #[44]\n",
    "\n",
    "delayed_dfs = []\n",
    "failed_list_1 = []\n",
    "for i in FAILED_IDX:\n",
    "    p = partitions[i]\n",
    "    str_i = str(i).zfill(3)\n",
    "    f = partition_run(\n",
    "        p, \n",
    "        satellite_config, \n",
    "        featurization_params, model, \n",
    "        featurization_params['device'], \n",
    "        dask_key_name=f'features_{str_i}'\n",
    "    )\n",
    "    delayed_dfs.append(f)\n",
    "    futures_dfs = client.compute(delayed_dfs)\n",
    "    \n",
    "    for f in as_completed(futures_dfs):\n",
    "        try:\n",
    "            df = f.result()\n",
    "            df.to_parquet(f\"{mosaiks_folder_path}/df_{f.key}.parquet.gzip\")\n",
    "        except Exception as e:\n",
    "            print(f\"Partition {f.key} failed. Error:\", e)\n",
    "            failed_list_1.append(f.key)"
   ]
  },
  {
   "cell_type": "markdown",
   "id": "436b7689-36ef-4713-ba0f-b37c34103b5c",
   "metadata": {
    "jp-MarkdownHeadingCollapsed": true,
    "tags": []
   },
   "source": [
    "# Load checkpoint files and combine"
   ]
  },
  {
   "cell_type": "code",
   "execution_count": null,
   "id": "dd5377dc-4adc-45a5-8012-7fcc268048c1",
   "metadata": {},
   "outputs": [],
   "source": [
    "checkpoint_filenames = utl.get_filtered_filenames(mosaiks_folder_path, prefix=\"df_\")"
   ]
  },
  {
   "cell_type": "code",
   "execution_count": null,
   "id": "4b408846-8660-4cec-a093-02ffa1c76ff3",
   "metadata": {},
   "outputs": [],
   "source": [
    "combined_df = utl.load_and_combine_dataframes(mosaiks_folder_path, checkpoint_filenames)\n",
    "combined_df = combined_df.join(points_gdf[[\"Lat\", \"Lon\", \"shrid\"]])\n",
    "\n",
    "print(\"Dataset size in memory (MB):\", combined_df.memory_usage().sum() / 1000000)"
   ]
  },
  {
   "cell_type": "code",
   "execution_count": null,
   "id": "699cbb28",
   "metadata": {},
   "outputs": [],
   "source": [
    "%%time\n",
    "combined_filename = \"features.parquet.gzip\"\n",
    "utl.save_dataframe(combined_df, file_path=mosaiks_folder_path / combined_filename)"
   ]
  }
 ],
 "metadata": {
  "kernelspec": {
   "display_name": "Python [conda env:notebook] *",
   "language": "python",
   "name": "conda-env-notebook-py"
  },
  "language_info": {
   "codemirror_mode": {
    "name": "ipython",
    "version": 3
   },
   "file_extension": ".py",
   "mimetype": "text/x-python",
   "name": "python",
   "nbconvert_exporter": "python",
   "pygments_lexer": "ipython3",
   "version": "3.9.13"
  }
 },
 "nbformat": 4,
 "nbformat_minor": 5
}
