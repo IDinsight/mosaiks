{
 "cells": [
  {
   "cell_type": "code",
   "execution_count": 1,
   "id": "8a082089-9f4a-486e-a3a5-4b41cb161c5d",
   "metadata": {},
   "outputs": [],
   "source": [
    "%load_ext autoreload\n",
    "%autoreload 2"
   ]
  },
  {
   "cell_type": "code",
   "execution_count": 2,
   "id": "546f7847-1b99-4d22-a2ff-fde69ba0aaac",
   "metadata": {},
   "outputs": [
    {
     "name": "stdout",
     "output_type": "stream",
     "text": [
      "/home/sid/ds_nudge_up/playground\n"
     ]
    }
   ],
   "source": [
    "!pwd"
   ]
  },
  {
   "cell_type": "code",
   "execution_count": 3,
   "id": "e95c0402-0e75-4dac-a70e-30c765ef48c7",
   "metadata": {},
   "outputs": [],
   "source": [
    "import matplotlib.pyplot as plt"
   ]
  },
  {
   "cell_type": "code",
   "execution_count": 4,
   "id": "e9b78741-7185-48f7-865a-39183d432914",
   "metadata": {},
   "outputs": [],
   "source": [
    "import sys\n",
    "sys.path += [\"../\"]"
   ]
  },
  {
   "cell_type": "code",
   "execution_count": 5,
   "id": "4be87050-5c3a-4d51-a6de-7b36ad118aea",
   "metadata": {},
   "outputs": [],
   "source": [
    "import os\n",
    "import src.utils as utl\n",
    "rasterio_config = utl.load_yaml_config(\"rasterioc_config.yaml\")\n",
    "os.environ.update(rasterio_config)"
   ]
  },
  {
   "cell_type": "code",
   "execution_count": 66,
   "id": "413f69a5-5ed3-4938-bc83-9bfe618418dd",
   "metadata": {},
   "outputs": [],
   "source": [
    "from src.featurize import *\n",
    "from src.nn_forward_pass import *"
   ]
  },
  {
   "cell_type": "code",
   "execution_count": 78,
   "id": "0fb14555-bbba-4e63-a157-4a247e1af77a",
   "metadata": {},
   "outputs": [],
   "source": [
    "featurization_params = utl.load_yaml_config(\"featurisation.yaml\")\n",
    "satellite_config = utl.load_yaml_config(\"satellite_config.yaml\")\n",
    "satellite_config = satellite_config[featurization_params['satellite_image_params']['satellite_name']]\n",
    "data_sources = utl.load_yaml_config('data_catalog.yaml')"
   ]
  },
  {
   "cell_type": "code",
   "execution_count": 72,
   "id": "a1363730-0eaa-4c7b-af8d-19bf8aeb1038",
   "metadata": {},
   "outputs": [
    {
     "data": {
      "text/plain": [
       "{'resolution': 60,\n",
       " 'bands': ['B02', 'B03', 'B04', 'B05', 'B06', 'B07', 'B08', 'B11', 'B12'],\n",
       " 'buffer_distance': 1200,\n",
       " 'min_image_edge': 90}"
      ]
     },
     "execution_count": 72,
     "metadata": {},
     "output_type": "execute_result"
    }
   ],
   "source": [
    "satellite_config"
   ]
  },
  {
   "cell_type": "code",
   "execution_count": 13,
   "id": "6a4b510b-ad70-4af3-89d7-64f0899ed88b",
   "metadata": {},
   "outputs": [],
   "source": [
    "points_gdf = utl.load_points_gdf(**data_sources['request_points'])"
   ]
  },
  {
   "cell_type": "code",
   "execution_count": 14,
   "id": "7119647d-9445-4b79-9047-e6f0fcd1c17a",
   "metadata": {},
   "outputs": [
    {
     "name": "stdout",
     "output_type": "stream",
     "text": [
      "CPU times: user 81.6 ms, sys: 19.3 ms, total: 101 ms\n",
      "Wall time: 100 ms\n"
     ]
    }
   ],
   "source": [
    "%%time\n",
    "points_gdf_with_stac = fetch_image_refs(points_gdf, featurization_params['dask']['n_partitions'], \n",
    "                                        featurization_params['satellite_image_params'])"
   ]
  },
  {
   "cell_type": "code",
   "execution_count": 15,
   "id": "74b3c0d8-e5fb-4871-8ae5-3a2025cbab9c",
   "metadata": {},
   "outputs": [],
   "source": [
    "points_gdf_with_stac = points_gdf_with_stac.compute()"
   ]
  },
  {
   "cell_type": "code",
   "execution_count": 16,
   "id": "75595537-6c1e-4c6d-b894-43520b4419dc",
   "metadata": {},
   "outputs": [],
   "source": [
    "mini_stac_gdf = points_gdf_with_stac[:10]"
   ]
  },
  {
   "cell_type": "code",
   "execution_count": 64,
   "id": "eb41eb49-5665-4f2c-9a99-5b9109e631eb",
   "metadata": {},
   "outputs": [],
   "source": [
    "data_loader = create_data_loader(mini_stac_gdf, satellite_config, featurization_params['batch_size'])"
   ]
  },
  {
   "cell_type": "code",
   "execution_count": 87,
   "id": "126121ce-ba3d-46cf-9f9b-69a66ab76cdf",
   "metadata": {},
   "outputs": [],
   "source": [
    "model = RCF(featurization_params['num_features'], featurization_params['kernel_size'], len(satellite_config['bands']))\n",
    "device = torch.device('cpu') "
   ]
  },
  {
   "cell_type": "code",
   "execution_count": 79,
   "id": "f4df39e6-ef57-4eac-b3a3-1124a81d10c5",
   "metadata": {},
   "outputs": [
    {
     "name": "stderr",
     "output_type": "stream",
     "text": [
      "  0%|                                                                                             | 0/2 [00:00<?, ?it/s]\n",
      "0it [00:00, ?it/s]\u001b[A\n",
      " 50%|██████████████████████████████████████████                                          | 1/2 [04:43<04:43, 283.10s/it]\n",
      "0it [00:00, ?it/s]\u001b[A\n",
      "100%|████████████████████████████████████████████████████████████████████████████████████| 2/2 [05:35<00:00, 167.69s/it]\n"
     ]
    }
   ],
   "source": [
    "X_features = create_features(data_loader, featurization_params['num_features'], len(mini_stac_gdf), \n",
    "                             model, device, satellite_config['min_image_edge'])"
   ]
  },
  {
   "cell_type": "code",
   "execution_count": 80,
   "id": "889d7a17-4b36-4130-a974-0e8035a28563",
   "metadata": {},
   "outputs": [
    {
     "data": {
      "text/plain": [
       "array([[nan, nan, nan, ..., nan, nan, nan],\n",
       "       [nan, nan, nan, ..., nan, nan, nan],\n",
       "       [nan, nan, nan, ..., nan, nan, nan],\n",
       "       ...,\n",
       "       [nan, nan, nan, ..., nan, nan, nan],\n",
       "       [nan, nan, nan, ..., nan, nan, nan],\n",
       "       [nan, nan, nan, ..., nan, nan, nan]])"
      ]
     },
     "execution_count": 80,
     "metadata": {},
     "output_type": "execute_result"
    }
   ],
   "source": [
    "X_features"
   ]
  },
  {
   "cell_type": "code",
   "execution_count": 83,
   "id": "ade03c81-c218-445b-a5fd-efbaca11259e",
   "metadata": {},
   "outputs": [],
   "source": [
    "images = next(iter(data_loader))"
   ]
  },
  {
   "cell_type": "code",
   "execution_count": 84,
   "id": "1a173f2d-2601-4e3c-b680-9ba554b5fde1",
   "metadata": {},
   "outputs": [],
   "source": [
    "image = images[0]"
   ]
  },
  {
   "cell_type": "code",
   "execution_count": 88,
   "id": "1af0f3cb-93e7-448b-a841-d3d0fdff6d77",
   "metadata": {},
   "outputs": [],
   "source": [
    "mosaiks_features = featurize(image, model, device)"
   ]
  },
  {
   "cell_type": "code",
   "execution_count": null,
   "id": "5efd554d-25d9-46f3-af46-e037999d3238",
   "metadata": {},
   "outputs": [],
   "source": []
  }
 ],
 "metadata": {
  "kernelspec": {
   "display_name": "Python 3 (ipykernel)",
   "language": "python",
   "name": "python3"
  },
  "language_info": {
   "codemirror_mode": {
    "name": "ipython",
    "version": 3
   },
   "file_extension": ".py",
   "mimetype": "text/x-python",
   "name": "python",
   "nbconvert_exporter": "python",
   "pygments_lexer": "ipython3",
   "version": "3.10.8"
  }
 },
 "nbformat": 4,
 "nbformat_minor": 5
}
