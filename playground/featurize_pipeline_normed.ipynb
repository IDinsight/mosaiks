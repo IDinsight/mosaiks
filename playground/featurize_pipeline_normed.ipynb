{
 "cells": [
  {
   "cell_type": "markdown",
   "id": "49247120-9199-4700-ae89-2fb4f2df2682",
   "metadata": {
    "tags": []
   },
   "source": [
    "# Notebook Setup"
   ]
  },
  {
   "cell_type": "code",
   "execution_count": 1,
   "id": "8a082089-9f4a-486e-a3a5-4b41cb161c5d",
   "metadata": {},
   "outputs": [],
   "source": [
    "%load_ext autoreload\n",
    "%autoreload 2"
   ]
  },
  {
   "cell_type": "code",
   "execution_count": 2,
   "id": "2a170fe7-063d-4f09-b01a-4aee0cf2ab77",
   "metadata": {},
   "outputs": [],
   "source": [
    "import sys\n",
    "sys.path += [\"../\"]"
   ]
  },
  {
   "cell_type": "code",
   "execution_count": 3,
   "id": "95dcf18a-5538-41b1-84e0-d985355ac387",
   "metadata": {},
   "outputs": [],
   "source": [
    "import warnings\n",
    "warnings.filterwarnings(\"ignore\")"
   ]
  },
  {
   "cell_type": "markdown",
   "id": "b35c5b76-3a9c-42f1-860d-21761969bdd3",
   "metadata": {},
   "source": [
    "Note that we are using the local ds_nudge_up repo only for loading the utils.\n",
    "The rest is done using the pip installed library."
   ]
  },
  {
   "cell_type": "code",
   "execution_count": 4,
   "id": "4be87050-5c3a-4d51-a6de-7b36ad118aea",
   "metadata": {},
   "outputs": [],
   "source": [
    "import os\n",
    "import src.mosaiks.utils as utl\n",
    "rasterio_config = utl.load_yaml_config(\"rasterioc_config.yaml\")\n",
    "os.environ.update(rasterio_config)"
   ]
  },
  {
   "cell_type": "code",
   "execution_count": 5,
   "id": "c7309d0b-5049-455f-a16a-c943000e603d",
   "metadata": {},
   "outputs": [
    {
     "data": {
      "text/plain": [
       "'/home/jovyan/ds_nudge_up/playground'"
      ]
     },
     "execution_count": 5,
     "metadata": {},
     "output_type": "execute_result"
    }
   ],
   "source": [
    "os.getcwd()"
   ]
  },
  {
   "cell_type": "code",
   "execution_count": 6,
   "id": "55637d2d-2d0a-454f-835e-ec7c3b176db1",
   "metadata": {},
   "outputs": [
    {
     "name": "stdout",
     "output_type": "stream",
     "text": [
      "Obtaining file:///home/jovyan/ds_nudge_up\n",
      "  Installing build dependencies ... \u001b[?25ldone\n",
      "\u001b[?25h  Checking if build backend supports build_editable ... \u001b[?25ldone\n",
      "\u001b[?25h  Getting requirements to build editable ... \u001b[?25ldone\n",
      "\u001b[?25h  Installing backend dependencies ... \u001b[?25ldone\n",
      "\u001b[?25h  Preparing editable metadata (pyproject.toml) ... \u001b[?25ldone\n",
      "\u001b[?25hRequirement already satisfied: seaborn>=0.11.0 in /srv/conda/envs/notebook/lib/python3.9/site-packages (from mosaiks==0.0.1rc0) (0.12.0)\n",
      "Requirement already satisfied: matplotlib>=3.3.3 in /srv/conda/envs/notebook/lib/python3.9/site-packages (from mosaiks==0.0.1rc0) (3.5.3)\n",
      "Requirement already satisfied: kiwisolver>=1.0.1 in /srv/conda/envs/notebook/lib/python3.9/site-packages (from matplotlib>=3.3.3->mosaiks==0.0.1rc0) (1.4.4)\n",
      "Requirement already satisfied: packaging>=20.0 in /srv/conda/envs/notebook/lib/python3.9/site-packages (from matplotlib>=3.3.3->mosaiks==0.0.1rc0) (21.3)\n",
      "Requirement already satisfied: pyparsing>=2.2.1 in /srv/conda/envs/notebook/lib/python3.9/site-packages (from matplotlib>=3.3.3->mosaiks==0.0.1rc0) (3.0.9)\n",
      "Requirement already satisfied: cycler>=0.10 in /srv/conda/envs/notebook/lib/python3.9/site-packages (from matplotlib>=3.3.3->mosaiks==0.0.1rc0) (0.11.0)\n",
      "Requirement already satisfied: numpy>=1.17 in /srv/conda/envs/notebook/lib/python3.9/site-packages (from matplotlib>=3.3.3->mosaiks==0.0.1rc0) (1.23.3)\n",
      "Requirement already satisfied: fonttools>=4.22.0 in /srv/conda/envs/notebook/lib/python3.9/site-packages (from matplotlib>=3.3.3->mosaiks==0.0.1rc0) (4.37.2)\n",
      "Requirement already satisfied: pillow>=6.2.0 in /srv/conda/envs/notebook/lib/python3.9/site-packages (from matplotlib>=3.3.3->mosaiks==0.0.1rc0) (9.2.0)\n",
      "Requirement already satisfied: python-dateutil>=2.7 in /srv/conda/envs/notebook/lib/python3.9/site-packages (from matplotlib>=3.3.3->mosaiks==0.0.1rc0) (2.8.2)\n",
      "Requirement already satisfied: pandas>=0.25 in /srv/conda/envs/notebook/lib/python3.9/site-packages (from seaborn>=0.11.0->mosaiks==0.0.1rc0) (1.4.4)\n",
      "Requirement already satisfied: pytz>=2020.1 in /srv/conda/envs/notebook/lib/python3.9/site-packages (from pandas>=0.25->seaborn>=0.11.0->mosaiks==0.0.1rc0) (2022.2.1)\n",
      "Requirement already satisfied: six>=1.5 in /srv/conda/envs/notebook/lib/python3.9/site-packages (from python-dateutil>=2.7->matplotlib>=3.3.3->mosaiks==0.0.1rc0) (1.16.0)\n",
      "Building wheels for collected packages: mosaiks\n",
      "  Building editable for mosaiks (pyproject.toml) ... \u001b[?25ldone\n",
      "\u001b[?25h  Created wheel for mosaiks: filename=mosaiks-0.0.1rc0-0.editable-py3-none-any.whl size=2238 sha256=68bc0263678e56ebef9fec5ed3204bfcf4b4f21295e7055d0ab8832a998ef91f\n",
      "  Stored in directory: /tmp/pip-ephem-wheel-cache-yzs8uadj/wheels/b9/af/5e/752b683d2cb159d37a03ef74be9f004303ccd51e4ee80d1e9c\n",
      "Successfully built mosaiks\n",
      "Installing collected packages: mosaiks\n",
      "  Attempting uninstall: mosaiks\n",
      "    Found existing installation: mosaiks 0.0.1rc0\n",
      "    Uninstalling mosaiks-0.0.1rc0:\n",
      "      Successfully uninstalled mosaiks-0.0.1rc0\n",
      "Successfully installed mosaiks-0.0.1rc0\n"
     ]
    }
   ],
   "source": [
    "!pip install -e .."
   ]
  },
  {
   "cell_type": "code",
   "execution_count": 7,
   "id": "12aa385e-0d92-45c1-ab67-99778c09a24c",
   "metadata": {},
   "outputs": [],
   "source": [
    "# !pip uninstall mosaiks -y"
   ]
  },
  {
   "cell_type": "markdown",
   "id": "21f5c520-3a16-4a1d-8118-3f8dc0192a32",
   "metadata": {},
   "source": [
    "🚨🚨 **Make sure you update github token in the secrets file** 🚨🚨 "
   ]
  },
  {
   "cell_type": "code",
   "execution_count": 8,
   "id": "e3d53a68-63c7-468b-9832-989942106d40",
   "metadata": {},
   "outputs": [],
   "source": [
    "# secrets = utl.load_yaml_config(\"../config/secrets.yml\")\n",
    "# GITHUB_TOKEN = secrets[\"GITHUB_TOKEN\"]\n",
    "# mosaiks_package_link = f\"git+https://{GITHUB_TOKEN}@github.com/IDinsight/ds_nudge_up@as-package\""
   ]
  },
  {
   "cell_type": "code",
   "execution_count": 9,
   "id": "4e5aad8c-aa40-463b-b8bd-775321cc9393",
   "metadata": {
    "tags": []
   },
   "outputs": [],
   "source": [
    "# !pip install {mosaiks_package_link} --upgrade"
   ]
  },
  {
   "cell_type": "markdown",
   "id": "3237a534-1c05-4455-8685-f1aef6686f95",
   "metadata": {
    "tags": []
   },
   "source": [
    "# Setup Dask Cluster and Client"
   ]
  },
  {
   "cell_type": "markdown",
   "id": "72152acf-a27d-416e-84ce-893fe3651598",
   "metadata": {
    "tags": []
   },
   "source": [
    "## Local Cluster"
   ]
  },
  {
   "cell_type": "markdown",
   "id": "d1438e38-662f-4edc-a137-905895ef5f59",
   "metadata": {},
   "source": [
    "4 workers with 4 threads each seem to work best. A lot of time a thread is waiting on data to load so CPU is underutilized."
   ]
  },
  {
   "cell_type": "code",
   "execution_count": 10,
   "id": "55239c8c-df3e-45ec-ba3d-3dda44ab41b6",
   "metadata": {},
   "outputs": [
    {
     "data": {
      "text/html": [
       "<div>\n",
       "    <div style=\"width: 24px; height: 24px; background-color: #e1e1e1; border: 3px solid #9D9D9D; border-radius: 5px; position: absolute;\"> </div>\n",
       "    <div style=\"margin-left: 48px;\">\n",
       "        <h3 style=\"margin-bottom: 0px;\">Client</h3>\n",
       "        <p style=\"color: #9D9D9D; margin-bottom: 0px;\">Client-ab1ecccf-b7fb-11ed-b291-fa90e1e8bdbb</p>\n",
       "        <table style=\"width: 100%; text-align: left;\">\n",
       "\n",
       "        <tr>\n",
       "        \n",
       "            <td style=\"text-align: left;\"><strong>Connection method:</strong> Cluster object</td>\n",
       "            <td style=\"text-align: left;\"><strong>Cluster type:</strong> distributed.LocalCluster</td>\n",
       "        \n",
       "        </tr>\n",
       "\n",
       "        \n",
       "            <tr>\n",
       "                <td style=\"text-align: left;\">\n",
       "                    <strong>Dashboard: </strong> <a href=\"/user/amirali1376@gmail.com/proxy/8787/status\" target=\"_blank\">/user/amirali1376@gmail.com/proxy/8787/status</a>\n",
       "                </td>\n",
       "                <td style=\"text-align: left;\"></td>\n",
       "            </tr>\n",
       "        \n",
       "\n",
       "        </table>\n",
       "\n",
       "        \n",
       "            <details>\n",
       "            <summary style=\"margin-bottom: 20px;\"><h3 style=\"display: inline;\">Cluster Info</h3></summary>\n",
       "            <div class=\"jp-RenderedHTMLCommon jp-RenderedHTML jp-mod-trusted jp-OutputArea-output\">\n",
       "    <div style=\"width: 24px; height: 24px; background-color: #e1e1e1; border: 3px solid #9D9D9D; border-radius: 5px; position: absolute;\">\n",
       "    </div>\n",
       "    <div style=\"margin-left: 48px;\">\n",
       "        <h3 style=\"margin-bottom: 0px; margin-top: 0px;\">LocalCluster</h3>\n",
       "        <p style=\"color: #9D9D9D; margin-bottom: 0px;\">48e786bc</p>\n",
       "        <table style=\"width: 100%; text-align: left;\">\n",
       "            <tr>\n",
       "                <td style=\"text-align: left;\">\n",
       "                    <strong>Dashboard:</strong> <a href=\"/user/amirali1376@gmail.com/proxy/8787/status\" target=\"_blank\">/user/amirali1376@gmail.com/proxy/8787/status</a>\n",
       "                </td>\n",
       "                <td style=\"text-align: left;\">\n",
       "                    <strong>Workers:</strong> 4\n",
       "                </td>\n",
       "            </tr>\n",
       "            <tr>\n",
       "                <td style=\"text-align: left;\">\n",
       "                    <strong>Total threads:</strong> 16\n",
       "                </td>\n",
       "                <td style=\"text-align: left;\">\n",
       "                    <strong>Total memory:</strong> 27.00 GiB\n",
       "                </td>\n",
       "            </tr>\n",
       "            \n",
       "            <tr>\n",
       "    <td style=\"text-align: left;\"><strong>Status:</strong> running</td>\n",
       "    <td style=\"text-align: left;\"><strong>Using processes:</strong> True</td>\n",
       "</tr>\n",
       "\n",
       "            \n",
       "        </table>\n",
       "\n",
       "        <details>\n",
       "            <summary style=\"margin-bottom: 20px;\">\n",
       "                <h3 style=\"display: inline;\">Scheduler Info</h3>\n",
       "            </summary>\n",
       "\n",
       "            <div style=\"\">\n",
       "    <div>\n",
       "        <div style=\"width: 24px; height: 24px; background-color: #FFF7E5; border: 3px solid #FF6132; border-radius: 5px; position: absolute;\"> </div>\n",
       "        <div style=\"margin-left: 48px;\">\n",
       "            <h3 style=\"margin-bottom: 0px;\">Scheduler</h3>\n",
       "            <p style=\"color: #9D9D9D; margin-bottom: 0px;\">Scheduler-c87ce509-24ac-4f12-aae9-69f1fd8d78e5</p>\n",
       "            <table style=\"width: 100%; text-align: left;\">\n",
       "                <tr>\n",
       "                    <td style=\"text-align: left;\">\n",
       "                        <strong>Comm:</strong> tcp://127.0.0.1:43963\n",
       "                    </td>\n",
       "                    <td style=\"text-align: left;\">\n",
       "                        <strong>Workers:</strong> 4\n",
       "                    </td>\n",
       "                </tr>\n",
       "                <tr>\n",
       "                    <td style=\"text-align: left;\">\n",
       "                        <strong>Dashboard:</strong> <a href=\"/user/amirali1376@gmail.com/proxy/8787/status\" target=\"_blank\">/user/amirali1376@gmail.com/proxy/8787/status</a>\n",
       "                    </td>\n",
       "                    <td style=\"text-align: left;\">\n",
       "                        <strong>Total threads:</strong> 16\n",
       "                    </td>\n",
       "                </tr>\n",
       "                <tr>\n",
       "                    <td style=\"text-align: left;\">\n",
       "                        <strong>Started:</strong> Just now\n",
       "                    </td>\n",
       "                    <td style=\"text-align: left;\">\n",
       "                        <strong>Total memory:</strong> 27.00 GiB\n",
       "                    </td>\n",
       "                </tr>\n",
       "            </table>\n",
       "        </div>\n",
       "    </div>\n",
       "\n",
       "    <details style=\"margin-left: 48px;\">\n",
       "        <summary style=\"margin-bottom: 20px;\">\n",
       "            <h3 style=\"display: inline;\">Workers</h3>\n",
       "        </summary>\n",
       "\n",
       "        \n",
       "        <div style=\"margin-bottom: 20px;\">\n",
       "            <div style=\"width: 24px; height: 24px; background-color: #DBF5FF; border: 3px solid #4CC9FF; border-radius: 5px; position: absolute;\"> </div>\n",
       "            <div style=\"margin-left: 48px;\">\n",
       "            <details>\n",
       "                <summary>\n",
       "                    <h4 style=\"margin-bottom: 0px; display: inline;\">Worker: 0</h4>\n",
       "                </summary>\n",
       "                <table style=\"width: 100%; text-align: left;\">\n",
       "                    <tr>\n",
       "                        <td style=\"text-align: left;\">\n",
       "                            <strong>Comm: </strong> tcp://127.0.0.1:45357\n",
       "                        </td>\n",
       "                        <td style=\"text-align: left;\">\n",
       "                            <strong>Total threads: </strong> 4\n",
       "                        </td>\n",
       "                    </tr>\n",
       "                    <tr>\n",
       "                        <td style=\"text-align: left;\">\n",
       "                            <strong>Dashboard: </strong> <a href=\"/user/amirali1376@gmail.com/proxy/38645/status\" target=\"_blank\">/user/amirali1376@gmail.com/proxy/38645/status</a>\n",
       "                        </td>\n",
       "                        <td style=\"text-align: left;\">\n",
       "                            <strong>Memory: </strong> 6.75 GiB\n",
       "                        </td>\n",
       "                    </tr>\n",
       "                    <tr>\n",
       "                        <td style=\"text-align: left;\">\n",
       "                            <strong>Nanny: </strong> tcp://127.0.0.1:36073\n",
       "                        </td>\n",
       "                        <td style=\"text-align: left;\"></td>\n",
       "                    </tr>\n",
       "                    <tr>\n",
       "                        <td colspan=\"2\" style=\"text-align: left;\">\n",
       "                            <strong>Local directory: </strong> /home/jovyan/ds_nudge_up/playground/dask-worker-space/worker-62mfl9y7\n",
       "                        </td>\n",
       "                    </tr>\n",
       "\n",
       "                    \n",
       "                    <tr>\n",
       "                        <td style=\"text-align: left;\">\n",
       "                            <strong>GPU: </strong>Tesla T4\n",
       "                        </td>\n",
       "                        <td style=\"text-align: left;\">\n",
       "                            <strong>GPU memory: </strong> 15.00 GiB\n",
       "                        </td>\n",
       "                    </tr>\n",
       "                    \n",
       "\n",
       "                    \n",
       "\n",
       "                </table>\n",
       "            </details>\n",
       "            </div>\n",
       "        </div>\n",
       "        \n",
       "        <div style=\"margin-bottom: 20px;\">\n",
       "            <div style=\"width: 24px; height: 24px; background-color: #DBF5FF; border: 3px solid #4CC9FF; border-radius: 5px; position: absolute;\"> </div>\n",
       "            <div style=\"margin-left: 48px;\">\n",
       "            <details>\n",
       "                <summary>\n",
       "                    <h4 style=\"margin-bottom: 0px; display: inline;\">Worker: 1</h4>\n",
       "                </summary>\n",
       "                <table style=\"width: 100%; text-align: left;\">\n",
       "                    <tr>\n",
       "                        <td style=\"text-align: left;\">\n",
       "                            <strong>Comm: </strong> tcp://127.0.0.1:34447\n",
       "                        </td>\n",
       "                        <td style=\"text-align: left;\">\n",
       "                            <strong>Total threads: </strong> 4\n",
       "                        </td>\n",
       "                    </tr>\n",
       "                    <tr>\n",
       "                        <td style=\"text-align: left;\">\n",
       "                            <strong>Dashboard: </strong> <a href=\"/user/amirali1376@gmail.com/proxy/38347/status\" target=\"_blank\">/user/amirali1376@gmail.com/proxy/38347/status</a>\n",
       "                        </td>\n",
       "                        <td style=\"text-align: left;\">\n",
       "                            <strong>Memory: </strong> 6.75 GiB\n",
       "                        </td>\n",
       "                    </tr>\n",
       "                    <tr>\n",
       "                        <td style=\"text-align: left;\">\n",
       "                            <strong>Nanny: </strong> tcp://127.0.0.1:39327\n",
       "                        </td>\n",
       "                        <td style=\"text-align: left;\"></td>\n",
       "                    </tr>\n",
       "                    <tr>\n",
       "                        <td colspan=\"2\" style=\"text-align: left;\">\n",
       "                            <strong>Local directory: </strong> /home/jovyan/ds_nudge_up/playground/dask-worker-space/worker-jb4zd1x8\n",
       "                        </td>\n",
       "                    </tr>\n",
       "\n",
       "                    \n",
       "                    <tr>\n",
       "                        <td style=\"text-align: left;\">\n",
       "                            <strong>GPU: </strong>Tesla T4\n",
       "                        </td>\n",
       "                        <td style=\"text-align: left;\">\n",
       "                            <strong>GPU memory: </strong> 15.00 GiB\n",
       "                        </td>\n",
       "                    </tr>\n",
       "                    \n",
       "\n",
       "                    \n",
       "\n",
       "                </table>\n",
       "            </details>\n",
       "            </div>\n",
       "        </div>\n",
       "        \n",
       "        <div style=\"margin-bottom: 20px;\">\n",
       "            <div style=\"width: 24px; height: 24px; background-color: #DBF5FF; border: 3px solid #4CC9FF; border-radius: 5px; position: absolute;\"> </div>\n",
       "            <div style=\"margin-left: 48px;\">\n",
       "            <details>\n",
       "                <summary>\n",
       "                    <h4 style=\"margin-bottom: 0px; display: inline;\">Worker: 2</h4>\n",
       "                </summary>\n",
       "                <table style=\"width: 100%; text-align: left;\">\n",
       "                    <tr>\n",
       "                        <td style=\"text-align: left;\">\n",
       "                            <strong>Comm: </strong> tcp://127.0.0.1:36371\n",
       "                        </td>\n",
       "                        <td style=\"text-align: left;\">\n",
       "                            <strong>Total threads: </strong> 4\n",
       "                        </td>\n",
       "                    </tr>\n",
       "                    <tr>\n",
       "                        <td style=\"text-align: left;\">\n",
       "                            <strong>Dashboard: </strong> <a href=\"/user/amirali1376@gmail.com/proxy/33269/status\" target=\"_blank\">/user/amirali1376@gmail.com/proxy/33269/status</a>\n",
       "                        </td>\n",
       "                        <td style=\"text-align: left;\">\n",
       "                            <strong>Memory: </strong> 6.75 GiB\n",
       "                        </td>\n",
       "                    </tr>\n",
       "                    <tr>\n",
       "                        <td style=\"text-align: left;\">\n",
       "                            <strong>Nanny: </strong> tcp://127.0.0.1:45371\n",
       "                        </td>\n",
       "                        <td style=\"text-align: left;\"></td>\n",
       "                    </tr>\n",
       "                    <tr>\n",
       "                        <td colspan=\"2\" style=\"text-align: left;\">\n",
       "                            <strong>Local directory: </strong> /home/jovyan/ds_nudge_up/playground/dask-worker-space/worker-fhldjayl\n",
       "                        </td>\n",
       "                    </tr>\n",
       "\n",
       "                    \n",
       "                    <tr>\n",
       "                        <td style=\"text-align: left;\">\n",
       "                            <strong>GPU: </strong>Tesla T4\n",
       "                        </td>\n",
       "                        <td style=\"text-align: left;\">\n",
       "                            <strong>GPU memory: </strong> 15.00 GiB\n",
       "                        </td>\n",
       "                    </tr>\n",
       "                    \n",
       "\n",
       "                    \n",
       "\n",
       "                </table>\n",
       "            </details>\n",
       "            </div>\n",
       "        </div>\n",
       "        \n",
       "        <div style=\"margin-bottom: 20px;\">\n",
       "            <div style=\"width: 24px; height: 24px; background-color: #DBF5FF; border: 3px solid #4CC9FF; border-radius: 5px; position: absolute;\"> </div>\n",
       "            <div style=\"margin-left: 48px;\">\n",
       "            <details>\n",
       "                <summary>\n",
       "                    <h4 style=\"margin-bottom: 0px; display: inline;\">Worker: 3</h4>\n",
       "                </summary>\n",
       "                <table style=\"width: 100%; text-align: left;\">\n",
       "                    <tr>\n",
       "                        <td style=\"text-align: left;\">\n",
       "                            <strong>Comm: </strong> tcp://127.0.0.1:38031\n",
       "                        </td>\n",
       "                        <td style=\"text-align: left;\">\n",
       "                            <strong>Total threads: </strong> 4\n",
       "                        </td>\n",
       "                    </tr>\n",
       "                    <tr>\n",
       "                        <td style=\"text-align: left;\">\n",
       "                            <strong>Dashboard: </strong> <a href=\"/user/amirali1376@gmail.com/proxy/38679/status\" target=\"_blank\">/user/amirali1376@gmail.com/proxy/38679/status</a>\n",
       "                        </td>\n",
       "                        <td style=\"text-align: left;\">\n",
       "                            <strong>Memory: </strong> 6.75 GiB\n",
       "                        </td>\n",
       "                    </tr>\n",
       "                    <tr>\n",
       "                        <td style=\"text-align: left;\">\n",
       "                            <strong>Nanny: </strong> tcp://127.0.0.1:39793\n",
       "                        </td>\n",
       "                        <td style=\"text-align: left;\"></td>\n",
       "                    </tr>\n",
       "                    <tr>\n",
       "                        <td colspan=\"2\" style=\"text-align: left;\">\n",
       "                            <strong>Local directory: </strong> /home/jovyan/ds_nudge_up/playground/dask-worker-space/worker-50bbxp9r\n",
       "                        </td>\n",
       "                    </tr>\n",
       "\n",
       "                    \n",
       "                    <tr>\n",
       "                        <td style=\"text-align: left;\">\n",
       "                            <strong>GPU: </strong>Tesla T4\n",
       "                        </td>\n",
       "                        <td style=\"text-align: left;\">\n",
       "                            <strong>GPU memory: </strong> 15.00 GiB\n",
       "                        </td>\n",
       "                    </tr>\n",
       "                    \n",
       "\n",
       "                    \n",
       "\n",
       "                </table>\n",
       "            </details>\n",
       "            </div>\n",
       "        </div>\n",
       "        \n",
       "\n",
       "    </details>\n",
       "</div>\n",
       "\n",
       "        </details>\n",
       "    </div>\n",
       "</div>\n",
       "            </details>\n",
       "        \n",
       "\n",
       "    </div>\n",
       "</div>"
      ],
      "text/plain": [
       "<Client: 'tcp://127.0.0.1:43963' processes=4 threads=16, memory=27.00 GiB>"
      ]
     },
     "execution_count": 10,
     "metadata": {},
     "output_type": "execute_result"
    }
   ],
   "source": [
    "import logging\n",
    "from dask.distributed import Client, LocalCluster\n",
    "\n",
    "cluster = LocalCluster(n_workers=4, processes=True, threads_per_worker=4, silence_logs=logging.ERROR)\n",
    "client = Client(cluster)\n",
    "client"
   ]
  },
  {
   "cell_type": "markdown",
   "id": "810aae99-6eba-4c02-987d-5261696fc74d",
   "metadata": {
    "tags": []
   },
   "source": [
    "## Gateway cluster"
   ]
  },
  {
   "cell_type": "code",
   "execution_count": 11,
   "id": "cb0f8fa2-932f-4dfc-ac81-b0f1ed39cd84",
   "metadata": {},
   "outputs": [],
   "source": [
    "# from dask_gateway import Gateway\n",
    "# import dask_gateway\n",
    "# from dask.distributed import PipInstall\n",
    "\n",
    "# gateway = Gateway()\n",
    "# options = gateway.cluster_options()\n",
    "# options"
   ]
  },
  {
   "cell_type": "code",
   "execution_count": 12,
   "id": "23d33283-1345-4864-9058-15cd5dcf1a80",
   "metadata": {},
   "outputs": [],
   "source": [
    "# from dask.distributed import PipInstall\n",
    "\n",
    "# cluster = gateway.new_cluster(options)\n",
    "# client = cluster.get_client()\n",
    "# print(cluster.dashboard_link)\n",
    "\n",
    "# plugin = PipInstall(packages=[mosaiks_package_link], pip_options=[\"--upgrade\"], restart=False)\n",
    "# client.register_worker_plugin(plugin)\n",
    "\n",
    "# cluster.scale(10)"
   ]
  },
  {
   "cell_type": "code",
   "execution_count": 13,
   "id": "a728e259-2140-4a39-b241-c3e64d97bd22",
   "metadata": {},
   "outputs": [],
   "source": [
    "# cluster.shutdown()"
   ]
  },
  {
   "cell_type": "markdown",
   "id": "3eeb924c-7f6c-429f-93fb-2a1eabe394e4",
   "metadata": {
    "tags": []
   },
   "source": [
    "# Load params"
   ]
  },
  {
   "cell_type": "code",
   "execution_count": 14,
   "id": "413f69a5-5ed3-4938-bc83-9bfe618418dd",
   "metadata": {},
   "outputs": [],
   "source": [
    "from mosaiks.featurize import *\n",
    "\n",
    "from dask import delayed\n",
    "from dask.distributed import as_completed\n",
    "from time import sleep\n",
    "import pandas as pd\n",
    "import numpy as np"
   ]
  },
  {
   "cell_type": "code",
   "execution_count": 15,
   "id": "0fb14555-bbba-4e63-a157-4a247e1af77a",
   "metadata": {},
   "outputs": [],
   "source": [
    "featurization_params = utl.load_yaml_config(\"featurisation.yaml\")\n",
    "satellite_config = utl.load_yaml_config(\"satellite_config.yaml\")\n",
    "satellite_config = satellite_config[featurization_params['satellite_search_params']['satellite_name']]\n",
    "data_sources = utl.load_yaml_config('data_catalog.yaml')"
   ]
  },
  {
   "cell_type": "markdown",
   "id": "34df2287-cc11-43b0-b20b-feef6f4d15ba",
   "metadata": {
    "tags": []
   },
   "source": [
    "# Load point coords"
   ]
  },
  {
   "cell_type": "code",
   "execution_count": 16,
   "id": "2c66cbd3-eee6-4634-b656-8088e66aeb30",
   "metadata": {},
   "outputs": [],
   "source": [
    "# centroid_points_gdf = utl.load_points_gdf(**data_sources['request_points_centroids'])\n",
    "\n",
    "# # only keep points in the focus states\n",
    "# focus_states_id_dict = {\n",
    "#     20:\"jharkhand\",\n",
    "#     22:\"chhattisgarh\",\n",
    "#     8:\"rajasthan\",\n",
    "#     23:\"madhya pradesh\",\n",
    "#     18:\"assam\",\n",
    "#     16:\"tripura\",\n",
    "# }\n",
    "\n",
    "# focus_states_filter = centroid_points_gdf[\"pc11_s_id\"].isin(focus_states_id_dict.keys())\n",
    "# points_gdf_focus = centroid_points_gdf[focus_states_filter]\n",
    "# points_gdf_focus.shape\n",
    "\n",
    "# points_gdf = points_gdf_focus  #.sample(200, random_state=0) # Select random 200 points (for testing)"
   ]
  },
  {
   "cell_type": "code",
   "execution_count": 17,
   "id": "04a6b176-5b98-4455-8ffa-b5ad6f8a4063",
   "metadata": {},
   "outputs": [],
   "source": [
    "points_gdf = utl.load_points_gdf(**data_sources['request_points_centroids'])"
   ]
  },
  {
   "cell_type": "markdown",
   "id": "bb467c22-2812-473d-ad0e-ffd26f75dc13",
   "metadata": {
    "tags": []
   },
   "source": [
    "# Fetch image stac refs"
   ]
  },
  {
   "cell_type": "markdown",
   "id": "38b097a3-490c-48e4-85e9-24a24cd95c00",
   "metadata": {},
   "source": [
    "`fetch_image_refs` now returns a dask dataframe and is not yet computed. So it finishes quite quickly."
   ]
  },
  {
   "cell_type": "markdown",
   "id": "547fe8ac-4ddd-416a-97f7-4999fa620152",
   "metadata": {},
   "source": [
    "🌱 **SUGGESTION:** Change `n_partitions` parameter to `n_per_partition` and calculate `n_partitions` here? This will ensure each partition takes a similar amount of time to process even across differing point-set sizes."
   ]
  },
  {
   "cell_type": "code",
   "execution_count": 18,
   "id": "7119647d-9445-4b79-9047-e6f0fcd1c17a",
   "metadata": {},
   "outputs": [
    {
     "name": "stdout",
     "output_type": "stream",
     "text": [
      "CPU times: user 7.86 s, sys: 776 ms, total: 8.64 s\n",
      "Wall time: 27.5 s\n"
     ]
    }
   ],
   "source": [
    "%%time\n",
    "points_gdf_with_stac = fetch_image_refs(\n",
    "    points_gdf, \n",
    "    featurization_params['dask']['n_partitions'],\n",
    "    featurization_params['satellite_search_params']\n",
    ")"
   ]
  },
  {
   "cell_type": "markdown",
   "id": "e6f3464f-1c3e-4b57-96af-2a1736b79676",
   "metadata": {
    "tags": []
   },
   "source": [
    "# Define delayed objects"
   ]
  },
  {
   "cell_type": "markdown",
   "id": "a0fc8b02-7c2e-4767-bc19-ec31ff86e9c8",
   "metadata": {},
   "source": [
    "We use the `delayed` decorator to turn our function into a delayed function. This means it will not run immediately when called but instead return a delayed object that can be run later"
   ]
  },
  {
   "cell_type": "code",
   "execution_count": 19,
   "id": "08e0da56-abb4-4aff-8639-a58a42b34fce",
   "metadata": {},
   "outputs": [],
   "source": [
    "@delayed\n",
    "def partition_run(df, satellite_config, featurization_params, model, device):\n",
    "    \n",
    "    data_loader = create_data_loader(df, satellite_config, featurization_params['batch_size'])\n",
    "    X_features = create_features(\n",
    "        data_loader, \n",
    "        featurization_params['num_features'], \n",
    "        len(df), \n",
    "        model, \n",
    "        device, \n",
    "        satellite_config['min_image_edge']\n",
    "    )\n",
    "    \n",
    "    df = pd.DataFrame(X_features, index=df.index.copy())\n",
    "    \n",
    "    return df"
   ]
  },
  {
   "cell_type": "markdown",
   "id": "3a177bfc-4be1-4954-99c2-3dd3648be50c",
   "metadata": {},
   "source": [
    "We want to convert our dask dataframe into \"delayed\" objects. Each partition is now a delayed pandas dataframe and can be passed to our delayed function above"
   ]
  },
  {
   "cell_type": "code",
   "execution_count": 20,
   "id": "29d0e28d-d900-4c40-a90b-18bcab88eb87",
   "metadata": {},
   "outputs": [],
   "source": [
    "partitions = points_gdf_with_stac.to_delayed()"
   ]
  },
  {
   "cell_type": "code",
   "execution_count": 21,
   "id": "d856d586-8a84-4dde-b0ff-55ab39e11cbb",
   "metadata": {},
   "outputs": [],
   "source": [
    "model = RCF(featurization_params['num_features'], \n",
    "            featurization_params['kernel_size'], \n",
    "            len(satellite_config['bands']))"
   ]
  },
  {
   "cell_type": "markdown",
   "id": "422261e7-35b3-4df0-a319-0db3b65d72d2",
   "metadata": {},
   "source": [
    "Batch size of 10 seems to be optimal balance between maximally using the CPU and not blowing up the memory"
   ]
  },
  {
   "cell_type": "code",
   "execution_count": 22,
   "id": "c05e5fd7-3c94-4b3b-85a1-ee1c88877ea9",
   "metadata": {},
   "outputs": [
    {
     "data": {
      "text/plain": [
       "10"
      ]
     },
     "execution_count": 22,
     "metadata": {},
     "output_type": "execute_result"
    }
   ],
   "source": [
    "featurization_params['batch_size']"
   ]
  },
  {
   "cell_type": "markdown",
   "id": "71866155-9072-4f21-8d6a-781d378b6d29",
   "metadata": {
    "tags": []
   },
   "source": [
    "# Run in parallel"
   ]
  },
  {
   "cell_type": "markdown",
   "id": "9b3d470e-3bd8-4fdf-aa7f-cb1521f67b44",
   "metadata": {
    "tags": []
   },
   "source": [
    "## Trial run\n",
    "\n",
    "The cell below will only run it for 8 of the partitions. That seems to be about how many we can do in parallel on a local cluster. We may be able to do more on a Gateway Cluster once that is working.\n",
    "\n",
    "There are also better schemes. For example, kick off another partitions whenever one finishes. That might be a better use of resources."
   ]
  },
  {
   "cell_type": "code",
   "execution_count": 23,
   "id": "94ed8c64-3d07-43c9-abda-9dd8ac653b01",
   "metadata": {
    "tags": []
   },
   "outputs": [
    {
     "name": "stdout",
     "output_type": "stream",
     "text": [
      "CPU times: user 1min 36s, sys: 21.8 s, total: 1min 58s\n",
      "Wall time: 7min 56s\n"
     ]
    }
   ],
   "source": [
    "%%time\n",
    "\n",
    "dfs = []\n",
    "for i, p in enumerate(partitions[:1]):\n",
    "    f = partition_run(p, satellite_config, featurization_params, model, 'cuda', dask_key_name=f'run_{i}')\n",
    "    dfs.append(f)\n",
    "dfs = client.compute(dfs, )\n",
    "\n",
    "df_list = []\n",
    "for f in as_completed(dfs[:2]):\n",
    "    df_list.append(f.result())"
   ]
  },
  {
   "cell_type": "code",
   "execution_count": 24,
   "id": "5c2cec0b-a546-4a2f-9bf1-e7bf8659dfb9",
   "metadata": {},
   "outputs": [
    {
     "data": {
      "text/html": [
       "<div>\n",
       "<style scoped>\n",
       "    .dataframe tbody tr th:only-of-type {\n",
       "        vertical-align: middle;\n",
       "    }\n",
       "\n",
       "    .dataframe tbody tr th {\n",
       "        vertical-align: top;\n",
       "    }\n",
       "\n",
       "    .dataframe thead th {\n",
       "        text-align: right;\n",
       "    }\n",
       "</style>\n",
       "<table border=\"1\" class=\"dataframe\">\n",
       "  <thead>\n",
       "    <tr style=\"text-align: right;\">\n",
       "      <th></th>\n",
       "      <th>0</th>\n",
       "      <th>1</th>\n",
       "      <th>2</th>\n",
       "      <th>3</th>\n",
       "      <th>4</th>\n",
       "      <th>5</th>\n",
       "      <th>6</th>\n",
       "      <th>7</th>\n",
       "      <th>8</th>\n",
       "      <th>9</th>\n",
       "      <th>...</th>\n",
       "      <th>3990</th>\n",
       "      <th>3991</th>\n",
       "      <th>3992</th>\n",
       "      <th>3993</th>\n",
       "      <th>3994</th>\n",
       "      <th>3995</th>\n",
       "      <th>3996</th>\n",
       "      <th>3997</th>\n",
       "      <th>3998</th>\n",
       "      <th>3999</th>\n",
       "    </tr>\n",
       "  </thead>\n",
       "  <tbody>\n",
       "    <tr>\n",
       "      <th>623652</th>\n",
       "      <td>0.0</td>\n",
       "      <td>1.743787</td>\n",
       "      <td>0.0</td>\n",
       "      <td>0.0</td>\n",
       "      <td>2.884346</td>\n",
       "      <td>0.000110</td>\n",
       "      <td>1.770842</td>\n",
       "      <td>0.000000</td>\n",
       "      <td>0.084646</td>\n",
       "      <td>1.261963</td>\n",
       "      <td>...</td>\n",
       "      <td>3.121850</td>\n",
       "      <td>0.261250</td>\n",
       "      <td>2.056214</td>\n",
       "      <td>0.000895</td>\n",
       "      <td>5.877407</td>\n",
       "      <td>2.139980</td>\n",
       "      <td>0.013218</td>\n",
       "      <td>2.082803</td>\n",
       "      <td>1.143130</td>\n",
       "      <td>0.000000</td>\n",
       "    </tr>\n",
       "    <tr>\n",
       "      <th>623661</th>\n",
       "      <td>0.0</td>\n",
       "      <td>0.844259</td>\n",
       "      <td>0.0</td>\n",
       "      <td>0.0</td>\n",
       "      <td>1.238577</td>\n",
       "      <td>0.001782</td>\n",
       "      <td>0.523993</td>\n",
       "      <td>0.000000</td>\n",
       "      <td>0.019060</td>\n",
       "      <td>0.692979</td>\n",
       "      <td>...</td>\n",
       "      <td>2.422239</td>\n",
       "      <td>0.799767</td>\n",
       "      <td>1.700916</td>\n",
       "      <td>0.102297</td>\n",
       "      <td>4.034412</td>\n",
       "      <td>1.804642</td>\n",
       "      <td>0.000000</td>\n",
       "      <td>1.767805</td>\n",
       "      <td>1.750991</td>\n",
       "      <td>0.000000</td>\n",
       "    </tr>\n",
       "    <tr>\n",
       "      <th>623662</th>\n",
       "      <td>0.0</td>\n",
       "      <td>0.852489</td>\n",
       "      <td>0.0</td>\n",
       "      <td>0.0</td>\n",
       "      <td>1.689520</td>\n",
       "      <td>0.001054</td>\n",
       "      <td>0.578646</td>\n",
       "      <td>0.000000</td>\n",
       "      <td>0.074234</td>\n",
       "      <td>0.330670</td>\n",
       "      <td>...</td>\n",
       "      <td>2.646355</td>\n",
       "      <td>0.575597</td>\n",
       "      <td>1.625605</td>\n",
       "      <td>0.000555</td>\n",
       "      <td>4.306748</td>\n",
       "      <td>2.207318</td>\n",
       "      <td>0.000599</td>\n",
       "      <td>2.095250</td>\n",
       "      <td>1.169220</td>\n",
       "      <td>0.000000</td>\n",
       "    </tr>\n",
       "    <tr>\n",
       "      <th>623656</th>\n",
       "      <td>0.0</td>\n",
       "      <td>1.505864</td>\n",
       "      <td>0.0</td>\n",
       "      <td>0.0</td>\n",
       "      <td>2.535293</td>\n",
       "      <td>0.001951</td>\n",
       "      <td>0.883273</td>\n",
       "      <td>0.000000</td>\n",
       "      <td>0.097106</td>\n",
       "      <td>0.690966</td>\n",
       "      <td>...</td>\n",
       "      <td>2.753911</td>\n",
       "      <td>1.236984</td>\n",
       "      <td>1.522913</td>\n",
       "      <td>0.066520</td>\n",
       "      <td>4.954687</td>\n",
       "      <td>3.066687</td>\n",
       "      <td>0.000000</td>\n",
       "      <td>2.606335</td>\n",
       "      <td>1.318218</td>\n",
       "      <td>0.000000</td>\n",
       "    </tr>\n",
       "    <tr>\n",
       "      <th>623660</th>\n",
       "      <td>0.0</td>\n",
       "      <td>1.187283</td>\n",
       "      <td>0.0</td>\n",
       "      <td>0.0</td>\n",
       "      <td>2.062685</td>\n",
       "      <td>0.002156</td>\n",
       "      <td>0.685949</td>\n",
       "      <td>0.000000</td>\n",
       "      <td>0.049573</td>\n",
       "      <td>0.548838</td>\n",
       "      <td>...</td>\n",
       "      <td>2.275028</td>\n",
       "      <td>1.528296</td>\n",
       "      <td>1.304119</td>\n",
       "      <td>0.240880</td>\n",
       "      <td>4.379772</td>\n",
       "      <td>2.920174</td>\n",
       "      <td>0.000000</td>\n",
       "      <td>2.420344</td>\n",
       "      <td>1.349473</td>\n",
       "      <td>0.000000</td>\n",
       "    </tr>\n",
       "    <tr>\n",
       "      <th>...</th>\n",
       "      <td>...</td>\n",
       "      <td>...</td>\n",
       "      <td>...</td>\n",
       "      <td>...</td>\n",
       "      <td>...</td>\n",
       "      <td>...</td>\n",
       "      <td>...</td>\n",
       "      <td>...</td>\n",
       "      <td>...</td>\n",
       "      <td>...</td>\n",
       "      <td>...</td>\n",
       "      <td>...</td>\n",
       "      <td>...</td>\n",
       "      <td>...</td>\n",
       "      <td>...</td>\n",
       "      <td>...</td>\n",
       "      <td>...</td>\n",
       "      <td>...</td>\n",
       "      <td>...</td>\n",
       "      <td>...</td>\n",
       "      <td>...</td>\n",
       "    </tr>\n",
       "    <tr>\n",
       "      <th>614412</th>\n",
       "      <td>0.0</td>\n",
       "      <td>0.977472</td>\n",
       "      <td>0.0</td>\n",
       "      <td>0.0</td>\n",
       "      <td>0.902752</td>\n",
       "      <td>0.000057</td>\n",
       "      <td>0.777393</td>\n",
       "      <td>0.000161</td>\n",
       "      <td>0.023812</td>\n",
       "      <td>1.625078</td>\n",
       "      <td>...</td>\n",
       "      <td>3.907075</td>\n",
       "      <td>0.000000</td>\n",
       "      <td>2.899287</td>\n",
       "      <td>0.000000</td>\n",
       "      <td>5.065322</td>\n",
       "      <td>0.648902</td>\n",
       "      <td>0.031024</td>\n",
       "      <td>1.807150</td>\n",
       "      <td>3.853646</td>\n",
       "      <td>0.000118</td>\n",
       "    </tr>\n",
       "    <tr>\n",
       "      <th>614413</th>\n",
       "      <td>0.0</td>\n",
       "      <td>1.314524</td>\n",
       "      <td>0.0</td>\n",
       "      <td>0.0</td>\n",
       "      <td>1.197196</td>\n",
       "      <td>0.000988</td>\n",
       "      <td>1.079925</td>\n",
       "      <td>0.000184</td>\n",
       "      <td>0.035115</td>\n",
       "      <td>2.097835</td>\n",
       "      <td>...</td>\n",
       "      <td>4.365802</td>\n",
       "      <td>0.000000</td>\n",
       "      <td>3.228405</td>\n",
       "      <td>0.000000</td>\n",
       "      <td>5.754263</td>\n",
       "      <td>0.569248</td>\n",
       "      <td>0.029427</td>\n",
       "      <td>1.896221</td>\n",
       "      <td>4.346093</td>\n",
       "      <td>0.000011</td>\n",
       "    </tr>\n",
       "    <tr>\n",
       "      <th>614377</th>\n",
       "      <td>0.0</td>\n",
       "      <td>0.794881</td>\n",
       "      <td>0.0</td>\n",
       "      <td>0.0</td>\n",
       "      <td>0.789399</td>\n",
       "      <td>0.000231</td>\n",
       "      <td>0.584897</td>\n",
       "      <td>0.000000</td>\n",
       "      <td>0.063254</td>\n",
       "      <td>1.241639</td>\n",
       "      <td>...</td>\n",
       "      <td>3.624172</td>\n",
       "      <td>0.005294</td>\n",
       "      <td>2.647934</td>\n",
       "      <td>0.001475</td>\n",
       "      <td>4.607974</td>\n",
       "      <td>0.803947</td>\n",
       "      <td>0.121337</td>\n",
       "      <td>1.804333</td>\n",
       "      <td>3.414632</td>\n",
       "      <td>0.017684</td>\n",
       "    </tr>\n",
       "    <tr>\n",
       "      <th>614366</th>\n",
       "      <td>0.0</td>\n",
       "      <td>0.826406</td>\n",
       "      <td>0.0</td>\n",
       "      <td>0.0</td>\n",
       "      <td>0.622652</td>\n",
       "      <td>0.000000</td>\n",
       "      <td>0.628063</td>\n",
       "      <td>0.000003</td>\n",
       "      <td>0.009908</td>\n",
       "      <td>1.502084</td>\n",
       "      <td>...</td>\n",
       "      <td>3.542678</td>\n",
       "      <td>0.000000</td>\n",
       "      <td>2.747881</td>\n",
       "      <td>0.000000</td>\n",
       "      <td>4.693815</td>\n",
       "      <td>0.576313</td>\n",
       "      <td>0.053121</td>\n",
       "      <td>1.614317</td>\n",
       "      <td>3.754932</td>\n",
       "      <td>0.000953</td>\n",
       "    </tr>\n",
       "    <tr>\n",
       "      <th>623808</th>\n",
       "      <td>0.0</td>\n",
       "      <td>1.053804</td>\n",
       "      <td>0.0</td>\n",
       "      <td>0.0</td>\n",
       "      <td>0.925347</td>\n",
       "      <td>0.000000</td>\n",
       "      <td>0.800513</td>\n",
       "      <td>0.000117</td>\n",
       "      <td>0.006681</td>\n",
       "      <td>1.705904</td>\n",
       "      <td>...</td>\n",
       "      <td>3.854352</td>\n",
       "      <td>0.005870</td>\n",
       "      <td>2.899314</td>\n",
       "      <td>0.003964</td>\n",
       "      <td>5.065830</td>\n",
       "      <td>0.642163</td>\n",
       "      <td>0.037024</td>\n",
       "      <td>1.749640</td>\n",
       "      <td>3.850306</td>\n",
       "      <td>0.008121</td>\n",
       "    </tr>\n",
       "  </tbody>\n",
       "</table>\n",
       "<p>1608 rows × 4000 columns</p>\n",
       "</div>"
      ],
      "text/plain": [
       "        0         1     2     3         4         5         6         7     \\\n",
       "623652   0.0  1.743787   0.0   0.0  2.884346  0.000110  1.770842  0.000000   \n",
       "623661   0.0  0.844259   0.0   0.0  1.238577  0.001782  0.523993  0.000000   \n",
       "623662   0.0  0.852489   0.0   0.0  1.689520  0.001054  0.578646  0.000000   \n",
       "623656   0.0  1.505864   0.0   0.0  2.535293  0.001951  0.883273  0.000000   \n",
       "623660   0.0  1.187283   0.0   0.0  2.062685  0.002156  0.685949  0.000000   \n",
       "...      ...       ...   ...   ...       ...       ...       ...       ...   \n",
       "614412   0.0  0.977472   0.0   0.0  0.902752  0.000057  0.777393  0.000161   \n",
       "614413   0.0  1.314524   0.0   0.0  1.197196  0.000988  1.079925  0.000184   \n",
       "614377   0.0  0.794881   0.0   0.0  0.789399  0.000231  0.584897  0.000000   \n",
       "614366   0.0  0.826406   0.0   0.0  0.622652  0.000000  0.628063  0.000003   \n",
       "623808   0.0  1.053804   0.0   0.0  0.925347  0.000000  0.800513  0.000117   \n",
       "\n",
       "            8         9     ...      3990      3991      3992      3993  \\\n",
       "623652  0.084646  1.261963  ...  3.121850  0.261250  2.056214  0.000895   \n",
       "623661  0.019060  0.692979  ...  2.422239  0.799767  1.700916  0.102297   \n",
       "623662  0.074234  0.330670  ...  2.646355  0.575597  1.625605  0.000555   \n",
       "623656  0.097106  0.690966  ...  2.753911  1.236984  1.522913  0.066520   \n",
       "623660  0.049573  0.548838  ...  2.275028  1.528296  1.304119  0.240880   \n",
       "...          ...       ...  ...       ...       ...       ...       ...   \n",
       "614412  0.023812  1.625078  ...  3.907075  0.000000  2.899287  0.000000   \n",
       "614413  0.035115  2.097835  ...  4.365802  0.000000  3.228405  0.000000   \n",
       "614377  0.063254  1.241639  ...  3.624172  0.005294  2.647934  0.001475   \n",
       "614366  0.009908  1.502084  ...  3.542678  0.000000  2.747881  0.000000   \n",
       "623808  0.006681  1.705904  ...  3.854352  0.005870  2.899314  0.003964   \n",
       "\n",
       "            3994      3995      3996      3997      3998      3999  \n",
       "623652  5.877407  2.139980  0.013218  2.082803  1.143130  0.000000  \n",
       "623661  4.034412  1.804642  0.000000  1.767805  1.750991  0.000000  \n",
       "623662  4.306748  2.207318  0.000599  2.095250  1.169220  0.000000  \n",
       "623656  4.954687  3.066687  0.000000  2.606335  1.318218  0.000000  \n",
       "623660  4.379772  2.920174  0.000000  2.420344  1.349473  0.000000  \n",
       "...          ...       ...       ...       ...       ...       ...  \n",
       "614412  5.065322  0.648902  0.031024  1.807150  3.853646  0.000118  \n",
       "614413  5.754263  0.569248  0.029427  1.896221  4.346093  0.000011  \n",
       "614377  4.607974  0.803947  0.121337  1.804333  3.414632  0.017684  \n",
       "614366  4.693815  0.576313  0.053121  1.614317  3.754932  0.000953  \n",
       "623808  5.065830  0.642163  0.037024  1.749640  3.850306  0.008121  \n",
       "\n",
       "[1608 rows x 4000 columns]"
      ]
     },
     "execution_count": 24,
     "metadata": {},
     "output_type": "execute_result"
    }
   ],
   "source": [
    "df_list[0]"
   ]
  },
  {
   "cell_type": "code",
   "execution_count": 25,
   "id": "af1040a3-5f2b-473c-bb0b-9dafffcec564",
   "metadata": {},
   "outputs": [
    {
     "data": {
      "text/plain": [
       "0.9609073540960744"
      ]
     },
     "execution_count": 25,
     "metadata": {},
     "output_type": "execute_result"
    }
   ],
   "source": [
    "df_list[0].mean().mean()"
   ]
  },
  {
   "cell_type": "code",
   "execution_count": 26,
   "id": "032091dd-1dab-4e92-9529-84f82671b480",
   "metadata": {},
   "outputs": [
    {
     "data": {
      "text/plain": [
       "<AxesSubplot:>"
      ]
     },
     "execution_count": 26,
     "metadata": {},
     "output_type": "execute_result"
    },
    {
     "data": {
      "image/png": "[encoded data removed]",
      "text/plain": [
       "<Figure size 640x480 with 1 Axes>"
      ]
     },
     "metadata": {},
     "output_type": "display_data"
    }
   ],
   "source": [
    "df_list[0].iloc[0].hist()"
   ]
  },
  {
   "cell_type": "markdown",
   "id": "8b8aab56-344b-486e-a9a4-00b653ab9a8c",
   "metadata": {},
   "source": [
    "With 100k points and 200 partitions, 8 partitions should take ~7-8 minutes on an MPC GPU instance. So that's <1 minute per partition. If nothing goes wrong, the whole job should finish in <4 hours."
   ]
  },
  {
   "cell_type": "markdown",
   "id": "6a25b464-6ea9-440e-ada5-46f110141dd6",
   "metadata": {},
   "source": [
    "In theory, objects should get garbage collected once there are no references to them. But it seems to take forever (or never!) for python to do that. Possibly since we have a lot of nested things and a model object that we are still holding a reference to.\n",
    "\n",
    "Restarting the cluster seems to be the sure way of clearing worker memory."
   ]
  },
  {
   "cell_type": "code",
   "execution_count": 27,
   "id": "e8779ebe-592d-4702-beaa-2c5788d5bf33",
   "metadata": {},
   "outputs": [],
   "source": [
    "_ = client.restart()"
   ]
  },
  {
   "cell_type": "markdown",
   "id": "e9dba8a3-fb91-4fd1-9b29-e3a990387b37",
   "metadata": {
    "tags": []
   },
   "source": [
    "## Full run"
   ]
  },
  {
   "cell_type": "markdown",
   "id": "c442d12d-4c13-4758-84b1-3c5b3f1e02dc",
   "metadata": {},
   "source": [
    "This is going to create 200 dataframes - one for each partition. If any fail, we can always just rerun that single component."
   ]
  },
  {
   "cell_type": "code",
   "execution_count": 28,
   "id": "5fd70661-7475-425a-a091-d67f8c116b48",
   "metadata": {},
   "outputs": [],
   "source": [
    "from datetime import datetime"
   ]
  },
  {
   "cell_type": "code",
   "execution_count": 29,
   "id": "584cde42-fdf9-4b11-ade6-521871e9ecc6",
   "metadata": {},
   "outputs": [],
   "source": [
    "N_PARTITIONS = len(partitions)\n",
    "N_PER_RUN = 8\n",
    "START_IDX = 0\n",
    "str_column_names = [str(i) for i in range(featurization_params['num_features'])]\n",
    "\n",
    "folder_name = \"L8_2013_centroid_focus_states_uint16_normed_dask\"\n",
    "path_to_folder = \"../data/01_preprocessed/mosaiks_features/\"+folder_name\n",
    "if not os.path.exists(path_to_folder):\n",
    "    os.makedirs(path_to_folder)"
   ]
  },
  {
   "cell_type": "code",
   "execution_count": 30,
   "id": "7657daae-a2fc-4249-b0df-48adca87575c",
   "metadata": {},
   "outputs": [
    {
     "name": "stdout",
     "output_type": "stream",
     "text": [
      "01-Mar 06:47:14 Running batch:  0 to 7\n",
      "01-Mar 07:12:31 Running batch:  8 to 15\n",
      "01-Mar 07:37:04 Running batch:  16 to 23\n",
      "01-Mar 08:01:54 Running batch:  24 to 31\n",
      "01-Mar 08:28:28 Running batch:  32 to 39\n",
      "01-Mar 08:53:50 Running batch:  40 to 47\n",
      "01-Mar 09:20:32 Running batch:  48 to 55\n",
      "01-Mar 09:45:28 Running batch:  56 to 63\n"
     ]
    },
    {
     "ename": "KeyboardInterrupt",
     "evalue": "",
     "output_type": "error",
     "traceback": [
      "\u001b[0;31m---------------------------------------------------------------------------\u001b[0m",
      "\u001b[0;31mKeyboardInterrupt\u001b[0m                         Traceback (most recent call last)",
      "Cell \u001b[0;32mIn [30], line 21\u001b[0m\n\u001b[1;32m     18\u001b[0m     delayed_dfs\u001b[38;5;241m.\u001b[39mappend(f)\n\u001b[1;32m     19\u001b[0m futures_dfs \u001b[38;5;241m=\u001b[39m client\u001b[38;5;241m.\u001b[39mcompute(delayed_dfs)\n\u001b[0;32m---> 21\u001b[0m \u001b[38;5;28;01mfor\u001b[39;00m f \u001b[38;5;129;01min\u001b[39;00m as_completed(futures_dfs):\n\u001b[1;32m     22\u001b[0m     \u001b[38;5;28;01mtry\u001b[39;00m:\n\u001b[1;32m     23\u001b[0m         df \u001b[38;5;241m=\u001b[39m f\u001b[38;5;241m.\u001b[39mresult()\n",
      "File \u001b[0;32m/srv/conda/envs/notebook/lib/python3.9/site-packages/distributed/client.py:5047\u001b[0m, in \u001b[0;36mas_completed.__next__\u001b[0;34m(self)\u001b[0m\n\u001b[1;32m   5045\u001b[0m         \u001b[38;5;28;01mraise\u001b[39;00m \u001b[38;5;167;01mStopIteration\u001b[39;00m()\n\u001b[1;32m   5046\u001b[0m     \u001b[38;5;28;01mwith\u001b[39;00m \u001b[38;5;28mself\u001b[39m\u001b[38;5;241m.\u001b[39mthread_condition:\n\u001b[0;32m-> 5047\u001b[0m         \u001b[38;5;28;43mself\u001b[39;49m\u001b[38;5;241;43m.\u001b[39;49m\u001b[43mthread_condition\u001b[49m\u001b[38;5;241;43m.\u001b[39;49m\u001b[43mwait\u001b[49m\u001b[43m(\u001b[49m\u001b[43mtimeout\u001b[49m\u001b[38;5;241;43m=\u001b[39;49m\u001b[38;5;241;43m0.100\u001b[39;49m\u001b[43m)\u001b[49m\n\u001b[1;32m   5048\u001b[0m \u001b[38;5;28;01mreturn\u001b[39;00m \u001b[38;5;28mself\u001b[39m\u001b[38;5;241m.\u001b[39m_get_and_raise()\n",
      "File \u001b[0;32m/srv/conda/envs/notebook/lib/python3.9/threading.py:316\u001b[0m, in \u001b[0;36mCondition.wait\u001b[0;34m(self, timeout)\u001b[0m\n\u001b[1;32m    314\u001b[0m \u001b[38;5;28;01melse\u001b[39;00m:\n\u001b[1;32m    315\u001b[0m     \u001b[38;5;28;01mif\u001b[39;00m timeout \u001b[38;5;241m>\u001b[39m \u001b[38;5;241m0\u001b[39m:\n\u001b[0;32m--> 316\u001b[0m         gotit \u001b[38;5;241m=\u001b[39m \u001b[43mwaiter\u001b[49m\u001b[38;5;241;43m.\u001b[39;49m\u001b[43macquire\u001b[49m\u001b[43m(\u001b[49m\u001b[38;5;28;43;01mTrue\u001b[39;49;00m\u001b[43m,\u001b[49m\u001b[43m \u001b[49m\u001b[43mtimeout\u001b[49m\u001b[43m)\u001b[49m\n\u001b[1;32m    317\u001b[0m     \u001b[38;5;28;01melse\u001b[39;00m:\n\u001b[1;32m    318\u001b[0m         gotit \u001b[38;5;241m=\u001b[39m waiter\u001b[38;5;241m.\u001b[39macquire(\u001b[38;5;28;01mFalse\u001b[39;00m)\n",
      "\u001b[0;31mKeyboardInterrupt\u001b[0m: "
     ]
    }
   ],
   "source": [
    "p_ids = np.arange(START_IDX, N_PARTITIONS + N_PER_RUN, N_PER_RUN)\n",
    "\n",
    "failed_list = []\n",
    "for p_start_id, p_end_id in zip(p_ids[:-1], p_ids[1:]):\n",
    "    now = datetime.now().strftime(\"%d-%b %H:%M:%S\")\n",
    "    print(f\"{now} Running batch: \", p_start_id, \"to\", p_end_id-1)\n",
    "    \n",
    "    delayed_dfs = []\n",
    "    for i, p in enumerate(partitions[p_start_id:p_end_id]):\n",
    "        f = partition_run(\n",
    "            p, \n",
    "            satellite_config, \n",
    "            featurization_params, \n",
    "            model, \n",
    "            featurization_params['device'], \n",
    "            dask_key_name=f'features_{p_start_id + i}'\n",
    "        )\n",
    "        delayed_dfs.append(f)\n",
    "    futures_dfs = client.compute(delayed_dfs)\n",
    "    \n",
    "    for f in as_completed(futures_dfs):\n",
    "        try:\n",
    "            df = f.result()\n",
    "            df.columns = str_column_names\n",
    "            df.to_parquet(f'{path_to_folder}/df_{f.key}.parquet.gzip', compression='gzip')\n",
    "\n",
    "        except Exception as e:\n",
    "            f_key = f.key\n",
    "            partition_id = int(f_key.split(\"features_\")[1])\n",
    "            print(f\"Partition {partition_id} failed. Error:\", e)\n",
    "            failed_list.append(partition_id)\n",
    "        \n",
    "    client.restart()\n",
    "    sleep(5)"
   ]
  },
  {
   "cell_type": "code",
   "execution_count": 31,
   "id": "0db4863d-9579-4d88-bd7c-5461dd5b08dd",
   "metadata": {},
   "outputs": [],
   "source": [
    "client.shutdown()"
   ]
  },
  {
   "cell_type": "markdown",
   "id": "72982cdc-6475-44cc-9281-e15ba90df338",
   "metadata": {
    "tags": []
   },
   "source": [
    "## Re-run failed partitions\n",
    "\n",
    "Use this to just run partitions that failed"
   ]
  },
  {
   "cell_type": "code",
   "execution_count": null,
   "id": "1f72476f-804d-4892-82d3-5fe5c0c27006",
   "metadata": {},
   "outputs": [],
   "source": [
    "%%time\n",
    "\n",
    "FAILED_IDX = failed_list #[44]\n",
    "\n",
    "delayed_dfs = []\n",
    "failed_list_1 = []\n",
    "for i in FAILED_IDX:\n",
    "    p = partitions[i]\n",
    "    f = partition_run(\n",
    "        p, \n",
    "        satellite_config, \n",
    "        featurization_params, model, \n",
    "        featurization_params['device'], \n",
    "        dask_key_name=f'features_{i}'\n",
    "    )\n",
    "    delayed_dfs.append(f)\n",
    "    futures_dfs = client.compute(delayed_dfs)\n",
    "    \n",
    "    for f in as_completed(futures_dfs):\n",
    "        try:\n",
    "            df = f.result()\n",
    "            df.columns = str_column_names\n",
    "            df.to_parquet(f'{path_to_folder}/df_{f.key}.parquet.gzip', compression='gzip')\n",
    "        except Exception as e:\n",
    "            print(f\"Partition {f.key} failed. Error:\", e)\n",
    "            failed_list_1.append(f.key)"
   ]
  },
  {
   "cell_type": "code",
   "execution_count": null,
   "id": "4346620c-362e-49ad-acb4-d25eebf6166f",
   "metadata": {},
   "outputs": [],
   "source": [
    "# _ = client.restart()"
   ]
  },
  {
   "cell_type": "markdown",
   "id": "436b7689-36ef-4713-ba0f-b37c34103b5c",
   "metadata": {
    "tags": []
   },
   "source": [
    "# Load checkpoint files and combine"
   ]
  },
  {
   "cell_type": "code",
   "execution_count": null,
   "id": "8a823bd5-c513-42b4-9dd4-8f91a6aa5a94",
   "metadata": {},
   "outputs": [],
   "source": [
    "all_files = os.listdir(path_to_folder)\n",
    "parquet_files = sorted([file for file in all_files if file.endswith('.gzip')])\n",
    "pd.Series(parquet_files).to_csv(f\"{path_to_folder}/file_list.csv\")\n",
    "# parquet_files"
   ]
  },
  {
   "cell_type": "code",
   "execution_count": null,
   "id": "5b89d980-1c5b-4e03-9480-124eabce7dab",
   "metadata": {},
   "outputs": [],
   "source": [
    "dfs = []\n",
    "for filename in parquet_files:\n",
    "    df = pd.read_parquet(path_to_folder+\"/\"+filename)\n",
    "    dfs.append(df)\n",
    "\n",
    "combined_df = pd.concat(dfs, axis=0)\n",
    "combined_df.sort_index(inplace=True)\n",
    "\n",
    "# add LatLons\n",
    "combined_df = combined_df.join(points_gdf[[\"Lat\",\"Lon\", \"shrid\"]])\n",
    "\n",
    "print(\"Dataset size in memory (MB):\", combined_df.memory_usage().sum() / 1000000)"
   ]
  },
  {
   "cell_type": "code",
   "execution_count": null,
   "id": "ee4652ca-f34b-48e4-bbd1-f926c181a4a1",
   "metadata": {},
   "outputs": [],
   "source": [
    "combined_df.to_parquet(path_to_folder + \"/\" + folder_name + \".parquet.gzip\", compression=\"gzip\")"
   ]
  },
  {
   "cell_type": "code",
   "execution_count": null,
   "id": "f3ac8021-c203-434f-aedf-10f34eeb4d7a",
   "metadata": {},
   "outputs": [],
   "source": [
    "# combined_df_deduped = combined_df.drop_duplicates(subset=[\"Lat\", \"Lon\", \"0\"])"
   ]
  },
  {
   "cell_type": "code",
   "execution_count": null,
   "id": "9aca2ba6-e128-4363-b539-fa2fd266b29e",
   "metadata": {},
   "outputs": [],
   "source": [
    "# df = pd.read_parquet(path_to_folder+\"/combined.parquet.gzip\")\n",
    "# df"
   ]
  }
 ],
 "metadata": {
  "kernelspec": {
   "display_name": "Python [conda env:notebook] *",
   "language": "python",
   "name": "conda-env-notebook-py"
  },
  "language_info": {
   "codemirror_mode": {
    "name": "ipython",
    "version": 3
   },
   "file_extension": ".py",
   "mimetype": "text/x-python",
   "name": "python",
   "nbconvert_exporter": "python",
   "pygments_lexer": "ipython3",
   "version": "3.9.13"
  }
 },
 "nbformat": 4,
 "nbformat_minor": 5
}
