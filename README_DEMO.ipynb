{
 "cells": [
  {
   "cell_type": "markdown",
   "metadata": {},
   "source": [
    "## 1. Import Dependencies"
   ]
  },
  {
   "cell_type": "code",
   "execution_count": null,
   "metadata": {},
   "outputs": [],
   "source": [
    "import os\n",
    "\n",
    "# Resolves a conflict in Geopandas. Improves speed. Slower otherwise\n",
    "os.environ[\"USE_PYGEOS\"] = \"0\""
   ]
  },
  {
   "cell_type": "markdown",
   "metadata": {},
   "source": [
    "## 2. Import test data. In this case, we are creating random GPS coordinates"
   ]
  },
  {
   "cell_type": "code",
   "execution_count": null,
   "metadata": {},
   "outputs": [],
   "source": [
    "import pandas as pd\n",
    "import numpy as np\n",
    "\n",
    "# Create a dataframe with 10 rows of random lats and longs in Uttar Pradesh, India\n",
    "df = pd.DataFrame(np.random.rand(10, 2)/10 + [26.5, 80.5], columns=['lat', 'lon'])"
   ]
  },
  {
   "cell_type": "markdown",
   "metadata": {},
   "source": [
    "## 3. Execute a default run of the `get_features` function:"
   ]
  },
  {
   "cell_type": "code",
   "execution_count": null,
   "metadata": {},
   "outputs": [],
   "source": [
    "from mosaiks import get_features\n",
    "\n",
    "df_featurised = get_features(\n",
    "    df['lat'].values,\n",
    "    df['lon'].values\n",
    ")\n",
    "\n",
    "df_featurised"
   ]
  },
  {
   "cell_type": "markdown",
   "metadata": {},
   "source": [
    "## 4. Run get_features without dask\n",
    "It is possible that you want to implement your own parallelisation without dask. For that, you could do a non-parallelised run of the function across your own paralllelisation logic (through code or cloud):"
   ]
  },
  {
   "cell_type": "code",
   "execution_count": null,
   "metadata": {},
   "outputs": [],
   "source": [
    "df_featurised = get_features(\n",
    "    df[\"lat\"].values,\n",
    "    df[\"lon\"].values,\n",
    "    parallelize=False\n",
    ")\n",
    "\n",
    "df_featurised"
   ]
  },
  {
   "cell_type": "markdown",
   "metadata": {},
   "source": [
    "## 5. Run Utility function to load data and save features\n",
    "In situations where you want to load data, run featurisation, and save features on disk, quietly, you can use the load_and_save_features:"
   ]
  },
  {
   "cell_type": "code",
   "execution_count": null,
   "metadata": {},
   "outputs": [],
   "source": [
    "# Create and Save test data\n",
    "df = pd.DataFrame(np.random.rand(10, 2)/10 + [26.5, 80.5], columns=[\"lat\", \"lon\"])\n",
    "df.to_csv(\"test_data.csv\")\n",
    "\n",
    "# Run the load and save function\n",
    "from mosaiks.extras import load_and_save_features\n",
    "\n",
    "pd.read_csv(\"test_data.csv\")\n",
    "\n",
    "load_and_save_features(input_file_path=\"test_data.csv\",\n",
    "                       path_to_save_data=\"test_features.csv\",\n",
    "                       lat_col=\"lat\",\n",
    "                       lon_col=\"lon\")"
   ]
  }
 ],
 "metadata": {
  "kernelspec": {
   "display_name": "mosaiks",
   "language": "python",
   "name": "python3"
  },
  "language_info": {
   "codemirror_mode": {
    "name": "ipython",
    "version": 3
   },
   "file_extension": ".py",
   "mimetype": "text/x-python",
   "name": "python",
   "nbconvert_exporter": "python",
   "pygments_lexer": "ipython3",
   "version": "3.10.0"
  },
  "orig_nbformat": 4
 },
 "nbformat": 4,
 "nbformat_minor": 2
}
