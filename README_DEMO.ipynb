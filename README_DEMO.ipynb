{
 "cells": [
  {
   "cell_type": "markdown",
   "metadata": {},
   "source": [
    "## 1. Import Dependencies"
   ]
  },
  {
   "cell_type": "code",
   "execution_count": null,
   "metadata": {},
   "outputs": [],
   "source": [
    "import os\n",
    "\n",
    "# Resolves a conflict in Geopandas. Improves speed. Slower otherwise\n",
    "os.environ[\"USE_PYGEOS\"] = \"0\""
   ]
  },
  {
   "cell_type": "code",
   "execution_count": null,
   "metadata": {},
   "outputs": [],
   "source": [
    "# you may also wish to see the logs (parallelise logs include link to Dask cluster dashboard)\n",
    "\n",
    "# import logging\n",
    "# logging.basicConfig(level=logging.INFO)"
   ]
  },
  {
   "cell_type": "markdown",
   "metadata": {},
   "source": [
    "## 2. Import test data. \n",
    "In this case, we are creating random GPS coordinates"
   ]
  },
  {
   "cell_type": "code",
   "execution_count": null,
   "metadata": {},
   "outputs": [],
   "source": [
    "# Example: Select 5 coordinates in Uttar Pradesh, India\n",
    "lats = [26.51268717, 26.55187804, 26.54949092, 26.54105597, 26.54843896]\n",
    "lons = [80.51489844, 80.54864309, 80.57813289, 80.51412136, 80.52254959]"
   ]
  },
  {
   "cell_type": "markdown",
   "metadata": {},
   "source": [
    "## 3. Execute a default run of the `get_features` function"
   ]
  },
  {
   "cell_type": "code",
   "execution_count": null,
   "metadata": {},
   "outputs": [],
   "source": [
    "from mosaiks import get_features\n",
    "df_featurised = get_features(\n",
    "    lats,\n",
    "    lons,\n",
    "    datetime=\"2017\", # or [\"2013-01-1-01\", \"2018-01-06\"] or ...\n",
    "    image_width=3000,\n",
    ")\n",
    "\n",
    "df_featurised"
   ]
  },
  {
   "cell_type": "markdown",
   "metadata": {},
   "source": [
    "## 4. Run `get_features` with Dask parallelization\n",
    "\n",
    "To run the code with the built-in Dask parallelization, set `parallelize` to `True` and `dask_chunksize` to a suitable integer given the size of your dataset."
   ]
  },
  {
   "cell_type": "code",
   "execution_count": null,
   "metadata": {},
   "outputs": [],
   "source": [
    "df_featurised = get_features(\n",
    "    lats,\n",
    "    lons,\n",
    "    datetime=\"2017\", # or [\"2013-01-1-01\", \"2018-01-06\"] or ...\n",
    "    image_width=3000,\n",
    "    parallelize=True,\n",
    "    dask_chunksize=100,\n",
    ")\n",
    "\n",
    "df_featurised"
   ]
  }
 ],
 "metadata": {
  "kernelspec": {
   "display_name": "mosaiks",
   "language": "python",
   "name": "python3"
  },
  "language_info": {
   "codemirror_mode": {
    "name": "ipython",
    "version": 3
   },
   "file_extension": ".py",
   "mimetype": "text/x-python",
   "name": "python",
   "nbconvert_exporter": "python",
   "pygments_lexer": "ipython3",
   "version": "3.11.0"
  },
  "orig_nbformat": 4
 },
 "nbformat": 4,
 "nbformat_minor": 2
}
