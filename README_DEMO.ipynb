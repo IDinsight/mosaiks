{
 "cells": [
  {
   "cell_type": "markdown",
   "metadata": {},
   "source": [
    "## 1. Import Dependencies"
   ]
  },
  {
   "cell_type": "code",
   "execution_count": 1,
   "metadata": {},
   "outputs": [],
   "source": [
    "import os\n",
    "\n",
    "# Resolves a conflict in Geopandas. Improves speed. Slower otherwise\n",
    "os.environ[\"USE_PYGEOS\"] = \"0\""
   ]
  },
  {
   "cell_type": "markdown",
   "metadata": {},
   "source": [
    "## 2. Import test data. In this case, we are creating random GPS coordinates"
   ]
  },
  {
   "cell_type": "code",
   "execution_count": 2,
   "metadata": {},
   "outputs": [],
   "source": [
    "# Example: Select 5 coordinates in Uttar Pradesh, India\n",
    "lats = [26.51268717, 26.55187804, 26.54949092, 26.54105597, 26.54843896]\n",
    "lons = [80.51489844, 80.54864309, 80.57813289, 80.51412136, 80.52254959]"
   ]
  },
  {
   "cell_type": "markdown",
   "metadata": {},
   "source": [
    "## 3. Execute a default run of the `get_features` function:"
   ]
  },
  {
   "cell_type": "code",
   "execution_count": 3,
   "metadata": {},
   "outputs": [
    {
     "name": "stderr",
     "output_type": "stream",
     "text": [
      "2023-07-14 14:17:26,465 - distributed.diskutils - INFO - Found stale lock file and directory '/home/poornima/IDinsight/MOSAIKS/mosaiks/dask-worker-space/worker-uk17yk6n', purging\n",
      "2023-07-14 14:17:26,465 - distributed.diskutils - INFO - Found stale lock file and directory '/home/poornima/IDinsight/MOSAIKS/mosaiks/dask-worker-space/worker-65sbm77e', purging\n",
      "2023-07-14 14:17:26,465 - distributed.diskutils - INFO - Found stale lock file and directory '/home/poornima/IDinsight/MOSAIKS/mosaiks/dask-worker-space/worker-73fm5b2n', purging\n",
      "2023-07-14 14:17:26,465 - distributed.diskutils - INFO - Found stale lock file and directory '/home/poornima/IDinsight/MOSAIKS/mosaiks/dask-worker-space/worker-k__ry0fe', purging\n",
      "WARNING:root:HTTPSConnectionPool(host='planetarycomputer.microsoft.com', port=443): Max retries exceeded with url: /api/stac/v1 (Caused by NameResolutionError(\"<urllib3.connection.HTTPSConnection object at 0x7fe2f0b4fe20>: Failed to resolve 'planetarycomputer.microsoft.com' ([Errno -3] Temporary failure in name resolution)\"))\n"
     ]
    },
    {
     "ename": "ValueError",
     "evalue": "No objects to concatenate",
     "output_type": "error",
     "traceback": [
      "\u001b[0;31m---------------------------------------------------------------------------\u001b[0m",
      "\u001b[0;31mValueError\u001b[0m                                Traceback (most recent call last)",
      "Cell \u001b[0;32mIn[3], line 3\u001b[0m\n\u001b[1;32m      1\u001b[0m \u001b[39mfrom\u001b[39;00m \u001b[39mmosaiks\u001b[39;00m \u001b[39mimport\u001b[39;00m get_features\n\u001b[0;32m----> 3\u001b[0m df_featurised \u001b[39m=\u001b[39m get_features(\n\u001b[1;32m      4\u001b[0m     lats,\n\u001b[1;32m      5\u001b[0m     lons,\n\u001b[1;32m      6\u001b[0m     datetime\u001b[39m=\u001b[39;49m\u001b[39m\"\u001b[39;49m\u001b[39m2017\u001b[39;49m\u001b[39m\"\u001b[39;49m, \u001b[39m# or [\"2013-01-01\", \"2013-12-31\"] or ...\u001b[39;49;00m\n\u001b[1;32m      7\u001b[0m     image_width\u001b[39m=\u001b[39;49m\u001b[39m3000\u001b[39;49m,\n\u001b[1;32m      8\u001b[0m )\n\u001b[1;32m     10\u001b[0m df_featurised\n",
      "File \u001b[0;32m~/IDinsight/MOSAIKS/mosaiks/src/mosaiks/pipeline.py:201\u001b[0m, in \u001b[0;36mget_features\u001b[0;34m(latitudes, longitudes, datetime, parallelize, satellite_name, image_resolution, image_dtype, image_bands, image_width, min_image_edge, sort_points_by_hilbert_distance, seasonal, year, image_composite_method, stac_api, n_mosaiks_features, mosaiks_kernel_size, mosaiks_batch_size, mosaiks_random_seed_for_filters, model_device, dask_client_type, dask_n_concurrent_tasks, dask_chunksize, dask_n_workers, dask_threads_per_worker, dask_worker_cores, dask_worker_memory, dask_pip_install, mosaiks_col_names, setup_rasterio_env)\u001b[0m\n\u001b[1;32m    197\u001b[0m logging\u001b[39m.\u001b[39minfo(\u001b[39m\"\u001b[39m\u001b[39mLoading and combining checkpoint files...\u001b[39m\u001b[39m\"\u001b[39m)\n\u001b[1;32m    198\u001b[0m checkpoint_filenames \u001b[39m=\u001b[39m utl\u001b[39m.\u001b[39mget_filtered_filenames(\n\u001b[1;32m    199\u001b[0m     folder_path\u001b[39m=\u001b[39msave_folder_path_temp, prefix\u001b[39m=\u001b[39m\u001b[39m\"\u001b[39m\u001b[39mdf_\u001b[39m\u001b[39m\"\u001b[39m\n\u001b[1;32m    200\u001b[0m )\n\u001b[0;32m--> 201\u001b[0m combined_df \u001b[39m=\u001b[39m utl\u001b[39m.\u001b[39;49mload_and_combine_dataframes(\n\u001b[1;32m    202\u001b[0m     folder_path\u001b[39m=\u001b[39;49msave_folder_path_temp, filenames\u001b[39m=\u001b[39;49mcheckpoint_filenames\n\u001b[1;32m    203\u001b[0m )\n\u001b[1;32m    204\u001b[0m logging\u001b[39m.\u001b[39minfo(\n\u001b[1;32m    205\u001b[0m     \u001b[39mf\u001b[39m\u001b[39m\"\u001b[39m\u001b[39mDataset size in memory (MB): \u001b[39m\u001b[39m{\u001b[39;00mcombined_df\u001b[39m.\u001b[39mmemory_usage()\u001b[39m.\u001b[39msum()\u001b[39m \u001b[39m\u001b[39m/\u001b[39m\u001b[39m \u001b[39m\u001b[39m1000000\u001b[39m\u001b[39m}\u001b[39;00m\u001b[39m\"\u001b[39m\n\u001b[1;32m    206\u001b[0m )\n\u001b[1;32m    208\u001b[0m \u001b[39m# Return combined df\u001b[39;00m\n",
      "File \u001b[0;32m~/IDinsight/MOSAIKS/mosaiks/src/mosaiks/utils.py:44\u001b[0m, in \u001b[0;36mload_and_combine_dataframes\u001b[0;34m(folder_path, filenames)\u001b[0m\n\u001b[1;32m     41\u001b[0m     df \u001b[39m=\u001b[39m load_dataframe(file_path\u001b[39m=\u001b[39mfolder_path \u001b[39m/\u001b[39m filename)\n\u001b[1;32m     42\u001b[0m     dfs\u001b[39m.\u001b[39mappend(df)\n\u001b[0;32m---> 44\u001b[0m combined_df \u001b[39m=\u001b[39m pd\u001b[39m.\u001b[39;49mconcat(dfs, axis\u001b[39m=\u001b[39;49m\u001b[39m0\u001b[39;49m)\n\u001b[1;32m     45\u001b[0m combined_df\u001b[39m.\u001b[39msort_index(inplace\u001b[39m=\u001b[39m\u001b[39mTrue\u001b[39;00m)\n\u001b[1;32m     47\u001b[0m \u001b[39mreturn\u001b[39;00m combined_df\n",
      "File \u001b[0;32m~/miniconda3/envs/mosaiks/lib/python3.10/site-packages/pandas/util/_decorators.py:311\u001b[0m, in \u001b[0;36mdeprecate_nonkeyword_arguments.<locals>.decorate.<locals>.wrapper\u001b[0;34m(*args, **kwargs)\u001b[0m\n\u001b[1;32m    305\u001b[0m \u001b[39mif\u001b[39;00m \u001b[39mlen\u001b[39m(args) \u001b[39m>\u001b[39m num_allow_args:\n\u001b[1;32m    306\u001b[0m     warnings\u001b[39m.\u001b[39mwarn(\n\u001b[1;32m    307\u001b[0m         msg\u001b[39m.\u001b[39mformat(arguments\u001b[39m=\u001b[39marguments),\n\u001b[1;32m    308\u001b[0m         \u001b[39mFutureWarning\u001b[39;00m,\n\u001b[1;32m    309\u001b[0m         stacklevel\u001b[39m=\u001b[39mstacklevel,\n\u001b[1;32m    310\u001b[0m     )\n\u001b[0;32m--> 311\u001b[0m \u001b[39mreturn\u001b[39;00m func(\u001b[39m*\u001b[39;49margs, \u001b[39m*\u001b[39;49m\u001b[39m*\u001b[39;49mkwargs)\n",
      "File \u001b[0;32m~/miniconda3/envs/mosaiks/lib/python3.10/site-packages/pandas/core/reshape/concat.py:347\u001b[0m, in \u001b[0;36mconcat\u001b[0;34m(objs, axis, join, ignore_index, keys, levels, names, verify_integrity, sort, copy)\u001b[0m\n\u001b[1;32m    143\u001b[0m \u001b[39m@deprecate_nonkeyword_arguments\u001b[39m(version\u001b[39m=\u001b[39m\u001b[39mNone\u001b[39;00m, allowed_args\u001b[39m=\u001b[39m[\u001b[39m\"\u001b[39m\u001b[39mobjs\u001b[39m\u001b[39m\"\u001b[39m])\n\u001b[1;32m    144\u001b[0m \u001b[39mdef\u001b[39;00m \u001b[39mconcat\u001b[39m(\n\u001b[1;32m    145\u001b[0m     objs: Iterable[NDFrame] \u001b[39m|\u001b[39m Mapping[Hashable, NDFrame],\n\u001b[0;32m   (...)\u001b[0m\n\u001b[1;32m    154\u001b[0m     copy: \u001b[39mbool\u001b[39m \u001b[39m=\u001b[39m \u001b[39mTrue\u001b[39;00m,\n\u001b[1;32m    155\u001b[0m ) \u001b[39m-\u001b[39m\u001b[39m>\u001b[39m DataFrame \u001b[39m|\u001b[39m Series:\n\u001b[1;32m    156\u001b[0m \u001b[39m    \u001b[39m\u001b[39m\"\"\"\u001b[39;00m\n\u001b[1;32m    157\u001b[0m \u001b[39m    Concatenate pandas objects along a particular axis with optional set logic\u001b[39;00m\n\u001b[1;32m    158\u001b[0m \u001b[39m    along the other axes.\u001b[39;00m\n\u001b[0;32m   (...)\u001b[0m\n\u001b[1;32m    345\u001b[0m \u001b[39m    ValueError: Indexes have overlapping values: ['a']\u001b[39;00m\n\u001b[1;32m    346\u001b[0m \u001b[39m    \"\"\"\u001b[39;00m\n\u001b[0;32m--> 347\u001b[0m     op \u001b[39m=\u001b[39m _Concatenator(\n\u001b[1;32m    348\u001b[0m         objs,\n\u001b[1;32m    349\u001b[0m         axis\u001b[39m=\u001b[39;49maxis,\n\u001b[1;32m    350\u001b[0m         ignore_index\u001b[39m=\u001b[39;49mignore_index,\n\u001b[1;32m    351\u001b[0m         join\u001b[39m=\u001b[39;49mjoin,\n\u001b[1;32m    352\u001b[0m         keys\u001b[39m=\u001b[39;49mkeys,\n\u001b[1;32m    353\u001b[0m         levels\u001b[39m=\u001b[39;49mlevels,\n\u001b[1;32m    354\u001b[0m         names\u001b[39m=\u001b[39;49mnames,\n\u001b[1;32m    355\u001b[0m         verify_integrity\u001b[39m=\u001b[39;49mverify_integrity,\n\u001b[1;32m    356\u001b[0m         copy\u001b[39m=\u001b[39;49mcopy,\n\u001b[1;32m    357\u001b[0m         sort\u001b[39m=\u001b[39;49msort,\n\u001b[1;32m    358\u001b[0m     )\n\u001b[1;32m    360\u001b[0m     \u001b[39mreturn\u001b[39;00m op\u001b[39m.\u001b[39mget_result()\n",
      "File \u001b[0;32m~/miniconda3/envs/mosaiks/lib/python3.10/site-packages/pandas/core/reshape/concat.py:404\u001b[0m, in \u001b[0;36m_Concatenator.__init__\u001b[0;34m(self, objs, axis, join, keys, levels, names, ignore_index, verify_integrity, copy, sort)\u001b[0m\n\u001b[1;32m    401\u001b[0m     objs \u001b[39m=\u001b[39m \u001b[39mlist\u001b[39m(objs)\n\u001b[1;32m    403\u001b[0m \u001b[39mif\u001b[39;00m \u001b[39mlen\u001b[39m(objs) \u001b[39m==\u001b[39m \u001b[39m0\u001b[39m:\n\u001b[0;32m--> 404\u001b[0m     \u001b[39mraise\u001b[39;00m \u001b[39mValueError\u001b[39;00m(\u001b[39m\"\u001b[39m\u001b[39mNo objects to concatenate\u001b[39m\u001b[39m\"\u001b[39m)\n\u001b[1;32m    406\u001b[0m \u001b[39mif\u001b[39;00m keys \u001b[39mis\u001b[39;00m \u001b[39mNone\u001b[39;00m:\n\u001b[1;32m    407\u001b[0m     objs \u001b[39m=\u001b[39m \u001b[39mlist\u001b[39m(com\u001b[39m.\u001b[39mnot_none(\u001b[39m*\u001b[39mobjs))\n",
      "\u001b[0;31mValueError\u001b[0m: No objects to concatenate"
     ]
    }
   ],
   "source": [
    "from mosaiks import get_features\n",
    "\n",
    "df_featurised = get_features(\n",
    "    lats,\n",
    "    lons,\n",
    "    datetime=\"2017\", # or [\"2013-01-01\", \"2013-12-31\"] or ...\n",
    "    image_width=3000,\n",
    ")\n",
    "\n",
    "df_featurised"
   ]
  },
  {
   "cell_type": "markdown",
   "metadata": {},
   "source": [
    "## 4. Run get_features without dask\n",
    "It is possible that you want to implement your own parallelisation without dask. For that, you could do a non-parallelised run of the function across your own paralllelisation logic (through code or cloud):"
   ]
  },
  {
   "cell_type": "code",
   "execution_count": null,
   "metadata": {},
   "outputs": [],
   "source": [
    "df_featurised = get_features(\n",
    "    lats,\n",
    "    lons,\n",
    "    datetime=\"2017\"\n",
    "    image_width=3000,\n",
    "    parallelize=False,\n",
    ")\n",
    "\n",
    "df_featurised"
   ]
  },
  {
   "cell_type": "markdown",
   "metadata": {},
   "source": [
    "## 5. Run Utility function to load data and save features\n",
    "In situations where you want to load data, run featurisation, and save features on disk, quietly, you can use the load_and_save_features:"
   ]
  },
  {
   "cell_type": "code",
   "execution_count": null,
   "metadata": {},
   "outputs": [],
   "source": [
    "# Save test data to file to load later\n",
    "import pandas as pd\n",
    "\n",
    "df = pd.DataFrame({\"lat\": lats, \"lon\": lons})\n",
    "df.to_csv(\"test_data.csv\")"
   ]
  },
  {
   "cell_type": "code",
   "execution_count": null,
   "metadata": {},
   "outputs": [],
   "source": [
    "from mosaiks.extras import load_and_save_features\n",
    "\n",
    "load_and_save_features(\n",
    "    input_file_path=\"test_data.csv\",\n",
    "    lat_col=\"lat\",\n",
    "    lon_col=\"lon\",\n",
    "    path_to_save_data=\"test_features.csv\",\n",
    "    datetime=\"2017\"\n",
    "    image_width=3000,\n",
    "    context_cols_to_keep_from_input=[\"lat\", \"lon\"],\n",
    ")"
   ]
  }
 ],
 "metadata": {
  "kernelspec": {
   "display_name": "mosaiks",
   "language": "python",
   "name": "python3"
  },
  "language_info": {
   "codemirror_mode": {
    "name": "ipython",
    "version": 3
   },
   "file_extension": ".py",
   "mimetype": "text/x-python",
   "name": "python",
   "nbconvert_exporter": "python",
   "pygments_lexer": "ipython3",
   "version": "3.10.11"
  },
  "orig_nbformat": 4
 },
 "nbformat": 4,
 "nbformat_minor": 2
}
