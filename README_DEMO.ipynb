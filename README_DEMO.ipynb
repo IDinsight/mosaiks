{
 "cells": [
  {
   "cell_type": "markdown",
   "metadata": {},
   "source": [
    "## 1. Import Dependencies"
   ]
  },
  {
   "cell_type": "code",
   "execution_count": null,
   "metadata": {},
   "outputs": [],
   "source": [
    "import os\n",
    "\n",
    "# Resolves a conflict in Geopandas. Improves speed. Slower otherwise\n",
    "os.environ[\"USE_PYGEOS\"] = \"0\""
   ]
  },
  {
   "cell_type": "markdown",
   "metadata": {},
   "source": [
    "## 2. Import test data. In this case, we are creating random GPS coordinates"
   ]
  },
  {
   "cell_type": "code",
   "execution_count": null,
   "metadata": {},
   "outputs": [],
   "source": [
    "# Example: Select 5 coordinates in Uttar Pradesh, India\n",
    "lats = [26.51268717, 26.55187804, 26.54949092, 26.54105597, 26.54843896]\n",
    "lons = [80.51489844, 80.54864309, 80.57813289, 80.51412136, 80.52254959]"
   ]
  },
  {
   "cell_type": "markdown",
   "metadata": {},
   "source": [
    "## 3. Execute a default run of the `get_features` function:"
   ]
  },
  {
   "cell_type": "code",
   "execution_count": null,
   "metadata": {},
   "outputs": [],
   "source": [
    "from mosaiks import get_features\n",
    "\n",
    "df_featurised = get_features(\n",
    "    lats,\n",
    "    lons,\n",
    "    image_width=3000,\n",
    "    search_start=\"2013-01-01\",\n",
    "    search_end=\"2013-12-31\",\n",
    ")\n",
    "\n",
    "df_featurised"
   ]
  },
  {
   "cell_type": "markdown",
   "metadata": {},
   "source": [
    "## 4. Run get_features without dask\n",
    "It is possible that you want to implement your own parallelisation without dask. For that, you could do a non-parallelised run of the function across your own paralllelisation logic (through code or cloud):"
   ]
  },
  {
   "cell_type": "code",
   "execution_count": null,
   "metadata": {},
   "outputs": [],
   "source": [
    "df_featurised = get_features(\n",
    "    lats,\n",
    "    lons,\n",
    "    image_width=3000,\n",
    "    search_start=\"2013-01-01\",\n",
    "    search_end=\"2013-12-31\",\n",
    "    parallelize=False,\n",
    ")\n",
    "\n",
    "df_featurised"
   ]
  },
  {
   "cell_type": "markdown",
   "metadata": {},
   "source": [
    "## 5. Run Utility function to load data and save features\n",
    "In situations where you want to load data, run featurisation, and save features on disk, quietly, you can use the load_and_save_features:"
   ]
  },
  {
   "cell_type": "code",
   "execution_count": null,
   "metadata": {},
   "outputs": [],
   "source": [
    "# Save test data to file to load later\n",
    "import pandas as pd\n",
    "\n",
    "df = pd.DataFrame({\"lat\": lats, \"lon\": lons})\n",
    "df.to_csv(\"test_data.csv\")"
   ]
  },
  {
   "cell_type": "code",
   "execution_count": null,
   "metadata": {},
   "outputs": [],
   "source": [
    "from mosaiks.extras import load_and_save_features\n",
    "\n",
    "load_and_save_features(\n",
    "    input_file_path=\"test_data.csv\",\n",
    "    lat_col=\"lat\",\n",
    "    lon_col=\"lon\",\n",
    "    output_folderpath=\"test_features.csv\",\n",
    "    image_width=3000,\n",
    "    search_start=\"2013-01-01\",\n",
    "    search_end=\"2013-12-31\",\n",
    "    context_cols_to_keep_from_input=[\"lat\", \"lon\"],\n",
    ")"
   ]
  }
 ],
 "metadata": {
  "kernelspec": {
   "display_name": "mosaiks",
   "language": "python",
   "name": "python3"
  },
  "language_info": {
   "codemirror_mode": {
    "name": "ipython",
    "version": 3
   },
   "file_extension": ".py",
   "mimetype": "text/x-python",
   "name": "python",
   "nbconvert_exporter": "python",
   "pygments_lexer": "ipython3",
   "version": "3.11.0"
  },
  "orig_nbformat": 4
 },
 "nbformat": 4,
 "nbformat_minor": 2
}
